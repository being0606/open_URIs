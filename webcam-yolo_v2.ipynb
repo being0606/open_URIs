{
 "cells": [
  {
   "cell_type": "code",
   "execution_count": 1,
   "metadata": {},
   "outputs": [],
   "source": [
    "# !pip install opencv-python"
   ]
  },
  {
   "cell_type": "code",
   "execution_count": 2,
   "metadata": {},
   "outputs": [],
   "source": [
    "def webcamTest():\n",
    "    import cv2\n",
    "\n",
    "    cap = cv2.VideoCapture(0)\n",
    "    cap.set(3, 640)\n",
    "    cap.set(4, 480)\n",
    "\n",
    "    while True:\n",
    "        ret, img= cap.read()\n",
    "        cv2.imshow('Webcam', img)\n",
    "\n",
    "        if cv2.waitKey(1) == ord('q'):\n",
    "            break\n",
    "\n",
    "    cap.release()\n",
    "    cv2.destroyAllWindows()"
   ]
  },
  {
   "cell_type": "code",
   "execution_count": 3,
   "metadata": {},
   "outputs": [],
   "source": [
    "# !pip3 install ultralytics"
   ]
  },
  {
   "cell_type": "code",
   "execution_count": 4,
   "metadata": {},
   "outputs": [
    {
     "name": "stderr",
     "output_type": "stream",
     "text": [
      "2023-11-07 00:10:04.834 Python[45456:2244827] WARNING: AVCaptureDeviceTypeExternal is deprecated for Continuity Cameras. Please use AVCaptureDeviceTypeContinuityCamera and add NSCameraUseContinuityCameraDeviceType to your Info.plist.\n",
      "PRO TIP 💡 Replace 'model=yolo-Weights/yolov5n.pt' with new 'model=yolo-Weights/yolov5nu.pt'.\n",
      "YOLOv5 'u' models are trained with https://github.com/ultralytics/ultralytics and feature improved performance vs standard YOLOv5 models trained with https://github.com/ultralytics/yolov5.\n",
      "\n",
      "Downloading https://github.com/ultralytics/assets/releases/download/v0.0.0/yolov5nu.pt to 'yolo-Weights/yolov5nu.pt'...\n",
      "100%|██████████| 5.27M/5.27M [00:00<00:00, 11.2MB/s]\n",
      "\n",
      "0: 480x640 (no detections), 87.8ms\n",
      "Speed: 5.4ms preprocess, 87.8ms inference, 9.6ms postprocess per image at shape (1, 3, 480, 640)\n",
      "2023-11-07 00:10:09.536 Python[45456:2244827] WARNING: Secure coding is automatically enabled for restorable state! However, not on all supported macOS versions of this application. Opt-in to secure coding explicitly by implementing NSApplicationDelegate.applicationSupportsSecureRestorableState:.\n",
      "\n",
      "0: 480x640 (no detections), 61.7ms\n",
      "Speed: 1.0ms preprocess, 61.7ms inference, 0.4ms postprocess per image at shape (1, 3, 480, 640)\n",
      "\n",
      "0: 480x640 (no detections), 53.1ms\n",
      "Speed: 0.9ms preprocess, 53.1ms inference, 0.3ms postprocess per image at shape (1, 3, 480, 640)\n",
      "\n",
      "0: 480x640 (no detections), 51.8ms\n",
      "Speed: 0.8ms preprocess, 51.8ms inference, 0.3ms postprocess per image at shape (1, 3, 480, 640)\n",
      "\n",
      "0: 480x640 (no detections), 50.3ms\n",
      "Speed: 0.9ms preprocess, 50.3ms inference, 0.4ms postprocess per image at shape (1, 3, 480, 640)\n",
      "\n",
      "0: 480x640 (no detections), 59.0ms\n",
      "Speed: 1.4ms preprocess, 59.0ms inference, 0.5ms postprocess per image at shape (1, 3, 480, 640)\n",
      "\n",
      "0: 480x640 (no detections), 73.0ms\n",
      "Speed: 21.1ms preprocess, 73.0ms inference, 0.4ms postprocess per image at shape (1, 3, 480, 640)\n",
      "\n",
      "0: 480x640 (no detections), 66.0ms\n",
      "Speed: 1.0ms preprocess, 66.0ms inference, 0.3ms postprocess per image at shape (1, 3, 480, 640)\n",
      "\n",
      "0: 480x640 (no detections), 50.5ms\n",
      "Speed: 1.0ms preprocess, 50.5ms inference, 0.3ms postprocess per image at shape (1, 3, 480, 640)\n",
      "\n",
      "0: 480x640 (no detections), 50.2ms\n",
      "Speed: 0.9ms preprocess, 50.2ms inference, 0.3ms postprocess per image at shape (1, 3, 480, 640)\n",
      "\n",
      "0: 480x640 (no detections), 52.4ms\n",
      "Speed: 0.8ms preprocess, 52.4ms inference, 0.2ms postprocess per image at shape (1, 3, 480, 640)\n",
      "\n",
      "0: 480x640 (no detections), 51.1ms\n",
      "Speed: 0.9ms preprocess, 51.1ms inference, 0.3ms postprocess per image at shape (1, 3, 480, 640)\n",
      "\n",
      "0: 480x640 (no detections), 55.2ms\n",
      "Speed: 0.8ms preprocess, 55.2ms inference, 0.3ms postprocess per image at shape (1, 3, 480, 640)\n",
      "\n",
      "0: 480x640 (no detections), 50.9ms\n",
      "Speed: 0.9ms preprocess, 50.9ms inference, 0.3ms postprocess per image at shape (1, 3, 480, 640)\n",
      "\n",
      "0: 480x640 (no detections), 50.9ms\n",
      "Speed: 1.0ms preprocess, 50.9ms inference, 0.3ms postprocess per image at shape (1, 3, 480, 640)\n",
      "\n",
      "0: 480x640 (no detections), 51.0ms\n",
      "Speed: 1.0ms preprocess, 51.0ms inference, 0.3ms postprocess per image at shape (1, 3, 480, 640)\n",
      "\n",
      "0: 480x640 (no detections), 50.8ms\n",
      "Speed: 1.0ms preprocess, 50.8ms inference, 0.3ms postprocess per image at shape (1, 3, 480, 640)\n",
      "\n",
      "0: 480x640 (no detections), 49.6ms\n",
      "Speed: 0.8ms preprocess, 49.6ms inference, 0.3ms postprocess per image at shape (1, 3, 480, 640)\n",
      "\n",
      "0: 480x640 (no detections), 50.3ms\n",
      "Speed: 1.1ms preprocess, 50.3ms inference, 0.3ms postprocess per image at shape (1, 3, 480, 640)\n",
      "\n",
      "0: 480x640 1 fork, 52.2ms\n",
      "Speed: 0.8ms preprocess, 52.2ms inference, 11.5ms postprocess per image at shape (1, 3, 480, 640)\n",
      "\n",
      "0: 480x640 (no detections), 50.6ms\n",
      "Speed: 1.0ms preprocess, 50.6ms inference, 0.3ms postprocess per image at shape (1, 3, 480, 640)\n",
      "\n",
      "0: 480x640 3 carrots, 59.8ms\n",
      "Speed: 1.6ms preprocess, 59.8ms inference, 0.5ms postprocess per image at shape (1, 3, 480, 640)\n",
      "\n",
      "0: 480x640 (no detections), 51.4ms\n",
      "Speed: 0.9ms preprocess, 51.4ms inference, 0.3ms postprocess per image at shape (1, 3, 480, 640)\n",
      "\n",
      "0: 480x640 (no detections), 51.4ms\n",
      "Speed: 0.8ms preprocess, 51.4ms inference, 0.3ms postprocess per image at shape (1, 3, 480, 640)\n",
      "\n",
      "0: 480x640 (no detections), 49.7ms\n",
      "Speed: 1.1ms preprocess, 49.7ms inference, 0.2ms postprocess per image at shape (1, 3, 480, 640)\n",
      "\n",
      "0: 480x640 (no detections), 51.8ms\n",
      "Speed: 0.9ms preprocess, 51.8ms inference, 0.3ms postprocess per image at shape (1, 3, 480, 640)\n",
      "\n",
      "0: 480x640 (no detections), 51.7ms\n",
      "Speed: 1.0ms preprocess, 51.7ms inference, 0.3ms postprocess per image at shape (1, 3, 480, 640)\n",
      "\n",
      "0: 480x640 (no detections), 55.5ms\n",
      "Speed: 0.9ms preprocess, 55.5ms inference, 0.3ms postprocess per image at shape (1, 3, 480, 640)\n",
      "\n",
      "0: 480x640 (no detections), 56.1ms\n",
      "Speed: 0.8ms preprocess, 56.1ms inference, 0.3ms postprocess per image at shape (1, 3, 480, 640)\n",
      "\n",
      "0: 480x640 (no detections), 55.1ms\n",
      "Speed: 0.8ms preprocess, 55.1ms inference, 0.3ms postprocess per image at shape (1, 3, 480, 640)\n",
      "\n",
      "0: 480x640 1 person, 71.3ms\n",
      "Speed: 1.0ms preprocess, 71.3ms inference, 0.5ms postprocess per image at shape (1, 3, 480, 640)\n",
      "\n",
      "0: 480x640 1 person, 74.1ms\n",
      "Speed: 1.6ms preprocess, 74.1ms inference, 0.6ms postprocess per image at shape (1, 3, 480, 640)\n",
      "\n"
     ]
    },
    {
     "name": "stdout",
     "output_type": "stream",
     "text": [
      "Confidence ---> 0.36\n",
      "Confidence ---> 0.73\n"
     ]
    },
    {
     "name": "stderr",
     "output_type": "stream",
     "text": [
      "0: 480x640 1 person, 70.6ms\n",
      "Speed: 1.7ms preprocess, 70.6ms inference, 0.7ms postprocess per image at shape (1, 3, 480, 640)\n",
      "\n",
      "0: 480x640 1 cat, 69.0ms\n",
      "Speed: 1.2ms preprocess, 69.0ms inference, 0.5ms postprocess per image at shape (1, 3, 480, 640)\n",
      "\n"
     ]
    },
    {
     "name": "stdout",
     "output_type": "stream",
     "text": [
      "Confidence ---> 0.83\n"
     ]
    },
    {
     "name": "stderr",
     "output_type": "stream",
     "text": [
      "0: 480x640 1 person, 65.6ms\n",
      "Speed: 1.2ms preprocess, 65.6ms inference, 0.6ms postprocess per image at shape (1, 3, 480, 640)\n",
      "\n",
      "0: 480x640 1 person, 82.7ms\n",
      "Speed: 1.5ms preprocess, 82.7ms inference, 0.4ms postprocess per image at shape (1, 3, 480, 640)\n",
      "\n"
     ]
    },
    {
     "name": "stdout",
     "output_type": "stream",
     "text": [
      "Confidence ---> 0.67\n",
      "Confidence ---> 0.58\n"
     ]
    },
    {
     "name": "stderr",
     "output_type": "stream",
     "text": [
      "0: 480x640 1 person, 70.0ms\n",
      "Speed: 1.0ms preprocess, 70.0ms inference, 0.5ms postprocess per image at shape (1, 3, 480, 640)\n",
      "\n",
      "0: 480x640 2 persons, 63.3ms\n",
      "Speed: 1.4ms preprocess, 63.3ms inference, 0.4ms postprocess per image at shape (1, 3, 480, 640)\n",
      "\n",
      "0: 480x640 1 person, 52.9ms\n",
      "Speed: 1.0ms preprocess, 52.9ms inference, 0.4ms postprocess per image at shape (1, 3, 480, 640)\n"
     ]
    },
    {
     "name": "stdout",
     "output_type": "stream",
     "text": [
      "Confidence ---> 0.67\n",
      "Confidence ---> 0.78\n",
      "Confidence ---> 0.51\n",
      "Confidence ---> 0.91\n"
     ]
    },
    {
     "name": "stderr",
     "output_type": "stream",
     "text": [
      "\n",
      "0: 480x640 1 person, 54.3ms\n",
      "Speed: 0.8ms preprocess, 54.3ms inference, 0.4ms postprocess per image at shape (1, 3, 480, 640)\n",
      "\n",
      "0: 480x640 1 person, 67.6ms\n",
      "Speed: 1.2ms preprocess, 67.6ms inference, 0.5ms postprocess per image at shape (1, 3, 480, 640)\n",
      "\n",
      "0: 480x640 1 person, 53.5ms\n",
      "Speed: 0.8ms preprocess, 53.5ms inference, 0.5ms postprocess per image at shape (1, 3, 480, 640)\n"
     ]
    },
    {
     "name": "stdout",
     "output_type": "stream",
     "text": [
      "Confidence ---> 0.86\n",
      "Confidence ---> 0.89\n",
      "Confidence ---> 0.87\n"
     ]
    },
    {
     "name": "stderr",
     "output_type": "stream",
     "text": [
      "\n",
      "0: 480x640 1 person, 55.3ms\n",
      "Speed: 1.0ms preprocess, 55.3ms inference, 0.5ms postprocess per image at shape (1, 3, 480, 640)\n",
      "\n",
      "0: 480x640 1 person, 51.6ms\n",
      "Speed: 0.9ms preprocess, 51.6ms inference, 0.4ms postprocess per image at shape (1, 3, 480, 640)\n",
      "\n",
      "0: 480x640 1 person, 51.7ms\n",
      "Speed: 0.8ms preprocess, 51.7ms inference, 0.5ms postprocess per image at shape (1, 3, 480, 640)\n"
     ]
    },
    {
     "name": "stdout",
     "output_type": "stream",
     "text": [
      "Confidence ---> 0.82\n",
      "Confidence ---> 0.83\n",
      "Confidence ---> 0.83\n"
     ]
    },
    {
     "name": "stderr",
     "output_type": "stream",
     "text": [
      "\n",
      "0: 480x640 1 person, 56.2ms\n",
      "Speed: 1.1ms preprocess, 56.2ms inference, 0.4ms postprocess per image at shape (1, 3, 480, 640)\n",
      "\n",
      "0: 480x640 1 person, 58.3ms\n",
      "Speed: 1.0ms preprocess, 58.3ms inference, 0.6ms postprocess per image at shape (1, 3, 480, 640)\n",
      "\n",
      "0: 480x640 2 persons, 51.5ms\n",
      "Speed: 0.8ms preprocess, 51.5ms inference, 0.4ms postprocess per image at shape (1, 3, 480, 640)\n",
      "\n"
     ]
    },
    {
     "name": "stdout",
     "output_type": "stream",
     "text": [
      "Confidence ---> 0.86\n",
      "Confidence ---> 0.84\n",
      "Confidence ---> 0.8\n",
      "Confidence ---> 0.26\n"
     ]
    },
    {
     "name": "stderr",
     "output_type": "stream",
     "text": [
      "0: 480x640 1 person, 54.2ms\n",
      "Speed: 0.9ms preprocess, 54.2ms inference, 0.4ms postprocess per image at shape (1, 3, 480, 640)\n",
      "\n",
      "0: 480x640 1 person, 54.9ms\n",
      "Speed: 0.9ms preprocess, 54.9ms inference, 0.5ms postprocess per image at shape (1, 3, 480, 640)\n",
      "\n",
      "0: 480x640 1 person, 52.0ms\n",
      "Speed: 0.9ms preprocess, 52.0ms inference, 0.4ms postprocess per image at shape (1, 3, 480, 640)\n",
      "\n"
     ]
    },
    {
     "name": "stdout",
     "output_type": "stream",
     "text": [
      "Confidence ---> 0.81\n",
      "Confidence ---> 0.78\n",
      "Confidence ---> 0.8\n"
     ]
    },
    {
     "name": "stderr",
     "output_type": "stream",
     "text": [
      "0: 480x640 1 person, 52.7ms\n",
      "Speed: 0.8ms preprocess, 52.7ms inference, 0.4ms postprocess per image at shape (1, 3, 480, 640)\n",
      "\n",
      "0: 480x640 1 person, 53.4ms\n",
      "Speed: 1.0ms preprocess, 53.4ms inference, 0.4ms postprocess per image at shape (1, 3, 480, 640)\n",
      "\n",
      "0: 480x640 1 person, 52.1ms\n",
      "Speed: 0.9ms preprocess, 52.1ms inference, 0.5ms postprocess per image at shape (1, 3, 480, 640)\n",
      "\n"
     ]
    },
    {
     "name": "stdout",
     "output_type": "stream",
     "text": [
      "Confidence ---> 0.78\n",
      "Confidence ---> 0.82\n",
      "Confidence ---> 0.83\n"
     ]
    },
    {
     "name": "stderr",
     "output_type": "stream",
     "text": [
      "0: 480x640 1 person, 55.4ms\n",
      "Speed: 1.0ms preprocess, 55.4ms inference, 0.6ms postprocess per image at shape (1, 3, 480, 640)\n",
      "\n",
      "0: 480x640 1 person, 54.3ms\n",
      "Speed: 0.9ms preprocess, 54.3ms inference, 0.4ms postprocess per image at shape (1, 3, 480, 640)\n",
      "\n",
      "0: 480x640 1 person, 49.9ms\n",
      "Speed: 0.8ms preprocess, 49.9ms inference, 0.4ms postprocess per image at shape (1, 3, 480, 640)\n",
      "\n"
     ]
    },
    {
     "name": "stdout",
     "output_type": "stream",
     "text": [
      "Confidence ---> 0.76\n",
      "Confidence ---> 0.82\n",
      "Confidence ---> 0.8\n"
     ]
    },
    {
     "name": "stderr",
     "output_type": "stream",
     "text": [
      "0: 480x640 1 person, 56.5ms\n",
      "Speed: 0.8ms preprocess, 56.5ms inference, 0.4ms postprocess per image at shape (1, 3, 480, 640)\n",
      "\n",
      "0: 480x640 1 person, 51.8ms\n",
      "Speed: 0.9ms preprocess, 51.8ms inference, 0.6ms postprocess per image at shape (1, 3, 480, 640)\n",
      "\n",
      "0: 480x640 1 person, 49.8ms\n",
      "Speed: 0.7ms preprocess, 49.8ms inference, 0.4ms postprocess per image at shape (1, 3, 480, 640)\n",
      "\n"
     ]
    },
    {
     "name": "stdout",
     "output_type": "stream",
     "text": [
      "Confidence ---> 0.79\n",
      "Confidence ---> 0.87\n",
      "Confidence ---> 0.82\n"
     ]
    },
    {
     "name": "stderr",
     "output_type": "stream",
     "text": [
      "0: 480x640 1 person, 53.6ms\n",
      "Speed: 0.8ms preprocess, 53.6ms inference, 0.4ms postprocess per image at shape (1, 3, 480, 640)\n",
      "\n",
      "0: 480x640 1 person, 1 toothbrush, 58.1ms\n",
      "Speed: 1.1ms preprocess, 58.1ms inference, 0.5ms postprocess per image at shape (1, 3, 480, 640)\n",
      "\n",
      "0: 480x640 1 person, 1 cell phone, 53.0ms\n",
      "Speed: 1.2ms preprocess, 53.0ms inference, 0.4ms postprocess per image at shape (1, 3, 480, 640)\n",
      "\n"
     ]
    },
    {
     "name": "stdout",
     "output_type": "stream",
     "text": [
      "Confidence ---> 0.85\n",
      "Confidence ---> 0.9\n",
      "Confidence ---> 0.89\n"
     ]
    },
    {
     "name": "stderr",
     "output_type": "stream",
     "text": [
      "0: 480x640 1 person, 58.5ms\n",
      "Speed: 1.0ms preprocess, 58.5ms inference, 0.5ms postprocess per image at shape (1, 3, 480, 640)\n",
      "\n",
      "0: 480x640 2 persons, 52.4ms\n",
      "Speed: 1.0ms preprocess, 52.4ms inference, 0.4ms postprocess per image at shape (1, 3, 480, 640)\n",
      "\n",
      "0: 480x640 1 person, 52.5ms\n",
      "Speed: 0.8ms preprocess, 52.5ms inference, 0.4ms postprocess per image at shape (1, 3, 480, 640)\n",
      "\n"
     ]
    },
    {
     "name": "stdout",
     "output_type": "stream",
     "text": [
      "Confidence ---> 0.87\n",
      "Confidence ---> 0.87\n",
      "Confidence ---> 0.32\n",
      "Confidence ---> 0.84\n"
     ]
    },
    {
     "name": "stderr",
     "output_type": "stream",
     "text": [
      "0: 480x640 1 person, 52.3ms\n",
      "Speed: 1.1ms preprocess, 52.3ms inference, 0.5ms postprocess per image at shape (1, 3, 480, 640)\n",
      "\n",
      "0: 480x640 1 person, 53.2ms\n",
      "Speed: 0.9ms preprocess, 53.2ms inference, 0.4ms postprocess per image at shape (1, 3, 480, 640)\n",
      "\n",
      "0: 480x640 1 person, 1 dog, 51.2ms\n",
      "Speed: 1.1ms preprocess, 51.2ms inference, 0.4ms postprocess per image at shape (1, 3, 480, 640)\n",
      "\n"
     ]
    },
    {
     "name": "stdout",
     "output_type": "stream",
     "text": [
      "Confidence ---> 0.85\n",
      "Confidence ---> 0.83\n",
      "Confidence ---> 0.78\n"
     ]
    },
    {
     "name": "stderr",
     "output_type": "stream",
     "text": [
      "0: 480x640 1 person, 1 cat, 52.8ms\n",
      "Speed: 0.8ms preprocess, 52.8ms inference, 0.4ms postprocess per image at shape (1, 3, 480, 640)\n",
      "\n",
      "0: 480x640 1 person, 1 cat, 53.0ms\n",
      "Speed: 0.9ms preprocess, 53.0ms inference, 0.5ms postprocess per image at shape (1, 3, 480, 640)\n",
      "\n",
      "0: 480x640 2 persons, 51.6ms\n",
      "Speed: 1.0ms preprocess, 51.6ms inference, 0.4ms postprocess per image at shape (1, 3, 480, 640)\n",
      "\n"
     ]
    },
    {
     "name": "stdout",
     "output_type": "stream",
     "text": [
      "Confidence ---> 0.44\n",
      "Confidence ---> 0.79\n",
      "Confidence ---> 0.71\n",
      "Confidence ---> 0.44\n"
     ]
    },
    {
     "name": "stderr",
     "output_type": "stream",
     "text": [
      "0: 480x640 1 person, 1 dining table, 56.9ms\n",
      "Speed: 0.8ms preprocess, 56.9ms inference, 0.4ms postprocess per image at shape (1, 3, 480, 640)\n",
      "\n",
      "0: 480x640 1 person, 1 chair, 1 dining table, 52.0ms\n",
      "Speed: 0.9ms preprocess, 52.0ms inference, 0.4ms postprocess per image at shape (1, 3, 480, 640)\n",
      "\n",
      "0: 480x640 1 person, 52.1ms\n",
      "Speed: 1.0ms preprocess, 52.1ms inference, 0.4ms postprocess per image at shape (1, 3, 480, 640)\n",
      "\n"
     ]
    },
    {
     "name": "stdout",
     "output_type": "stream",
     "text": [
      "Confidence ---> 0.82\n",
      "Confidence ---> 0.84\n",
      "Confidence ---> 0.72\n"
     ]
    },
    {
     "name": "stderr",
     "output_type": "stream",
     "text": [
      "0: 480x640 1 person, 55.7ms\n",
      "Speed: 0.9ms preprocess, 55.7ms inference, 0.4ms postprocess per image at shape (1, 3, 480, 640)\n",
      "\n",
      "0: 480x640 1 person, 54.0ms\n",
      "Speed: 1.0ms preprocess, 54.0ms inference, 0.5ms postprocess per image at shape (1, 3, 480, 640)\n",
      "\n",
      "0: 480x640 2 persons, 51.4ms\n",
      "Speed: 0.8ms preprocess, 51.4ms inference, 0.4ms postprocess per image at shape (1, 3, 480, 640)\n",
      "\n"
     ]
    },
    {
     "name": "stdout",
     "output_type": "stream",
     "text": [
      "Confidence ---> 0.8\n",
      "Confidence ---> 0.78\n",
      "Confidence ---> 0.76\n",
      "Confidence ---> 0.39\n"
     ]
    },
    {
     "name": "stderr",
     "output_type": "stream",
     "text": [
      "0: 480x640 2 persons, 1 laptop, 52.7ms\n",
      "Speed: 0.9ms preprocess, 52.7ms inference, 0.4ms postprocess per image at shape (1, 3, 480, 640)\n",
      "\n",
      "0: 480x640 3 persons, 1 laptop, 52.4ms\n",
      "Speed: 0.9ms preprocess, 52.4ms inference, 0.4ms postprocess per image at shape (1, 3, 480, 640)\n",
      "\n",
      "0: 480x640 1 person, 51.9ms\n",
      "Speed: 1.0ms preprocess, 51.9ms inference, 0.4ms postprocess per image at shape (1, 3, 480, 640)\n",
      "\n"
     ]
    },
    {
     "name": "stdout",
     "output_type": "stream",
     "text": [
      "Confidence ---> 0.72\n",
      "Confidence ---> 0.66\n",
      "Confidence ---> 0.8\n",
      "Confidence ---> 0.7\n",
      "Confidence ---> 0.31\n",
      "Confidence ---> 0.87\n"
     ]
    },
    {
     "name": "stderr",
     "output_type": "stream",
     "text": [
      "0: 480x640 1 person, 78.7ms\n",
      "Speed: 1.1ms preprocess, 78.7ms inference, 0.4ms postprocess per image at shape (1, 3, 480, 640)\n",
      "\n",
      "0: 480x640 1 person, 1 oven, 52.1ms\n",
      "Speed: 0.8ms preprocess, 52.1ms inference, 0.4ms postprocess per image at shape (1, 3, 480, 640)\n",
      "\n",
      "0: 480x640 1 person, 52.1ms\n",
      "Speed: 0.9ms preprocess, 52.1ms inference, 0.4ms postprocess per image at shape (1, 3, 480, 640)\n",
      "\n"
     ]
    },
    {
     "name": "stdout",
     "output_type": "stream",
     "text": [
      "Confidence ---> 0.86\n",
      "Confidence ---> 0.89\n",
      "Confidence ---> 0.8\n"
     ]
    },
    {
     "name": "stderr",
     "output_type": "stream",
     "text": [
      "0: 480x640 1 person, 1 oven, 53.9ms\n",
      "Speed: 0.8ms preprocess, 53.9ms inference, 0.4ms postprocess per image at shape (1, 3, 480, 640)\n",
      "\n",
      "0: 480x640 1 person, 1 bowl, 1 dining table, 53.9ms\n",
      "Speed: 1.1ms preprocess, 53.9ms inference, 0.4ms postprocess per image at shape (1, 3, 480, 640)\n",
      "\n",
      "0: 480x640 1 person, 1 dining table, 52.5ms\n",
      "Speed: 0.8ms preprocess, 52.5ms inference, 0.5ms postprocess per image at shape (1, 3, 480, 640)\n",
      "\n"
     ]
    },
    {
     "name": "stdout",
     "output_type": "stream",
     "text": [
      "Confidence ---> 0.86\n",
      "Confidence ---> 0.85\n",
      "Confidence ---> 0.89\n"
     ]
    },
    {
     "name": "stderr",
     "output_type": "stream",
     "text": [
      "0: 480x640 1 person, 52.8ms\n",
      "Speed: 0.8ms preprocess, 52.8ms inference, 0.5ms postprocess per image at shape (1, 3, 480, 640)\n",
      "\n",
      "0: 480x640 1 person, 51.9ms\n",
      "Speed: 0.8ms preprocess, 51.9ms inference, 0.5ms postprocess per image at shape (1, 3, 480, 640)\n",
      "\n",
      "0: 480x640 1 person, 53.2ms\n",
      "Speed: 0.9ms preprocess, 53.2ms inference, 0.5ms postprocess per image at shape (1, 3, 480, 640)\n",
      "\n"
     ]
    },
    {
     "name": "stdout",
     "output_type": "stream",
     "text": [
      "Confidence ---> 0.85\n",
      "Confidence ---> 0.82\n",
      "Confidence ---> 0.83\n"
     ]
    },
    {
     "name": "stderr",
     "output_type": "stream",
     "text": [
      "0: 480x640 1 person, 1 laptop, 71.2ms\n",
      "Speed: 1.4ms preprocess, 71.2ms inference, 0.5ms postprocess per image at shape (1, 3, 480, 640)\n",
      "\n",
      "0: 480x640 2 persons, 1 dining table, 1 laptop, 52.5ms\n",
      "Speed: 1.0ms preprocess, 52.5ms inference, 0.4ms postprocess per image at shape (1, 3, 480, 640)\n",
      "\n",
      "0: 480x640 1 person, 1 laptop, 52.3ms\n",
      "Speed: 0.8ms preprocess, 52.3ms inference, 0.4ms postprocess per image at shape (1, 3, 480, 640)\n"
     ]
    },
    {
     "name": "stdout",
     "output_type": "stream",
     "text": [
      "Confidence ---> 0.84\n",
      "Confidence ---> 0.82\n",
      "Confidence ---> 0.26\n",
      "Confidence ---> 0.85\n"
     ]
    },
    {
     "name": "stderr",
     "output_type": "stream",
     "text": [
      "\n",
      "0: 480x640 2 persons, 54.2ms\n",
      "Speed: 1.1ms preprocess, 54.2ms inference, 0.4ms postprocess per image at shape (1, 3, 480, 640)\n",
      "\n",
      "0: 480x640 2 persons, 1 laptop, 52.8ms\n",
      "Speed: 0.9ms preprocess, 52.8ms inference, 0.4ms postprocess per image at shape (1, 3, 480, 640)\n",
      "\n",
      "0: 480x640 3 persons, 1 laptop, 52.2ms\n",
      "Speed: 0.7ms preprocess, 52.2ms inference, 0.4ms postprocess per image at shape (1, 3, 480, 640)\n",
      "\n"
     ]
    },
    {
     "name": "stdout",
     "output_type": "stream",
     "text": [
      "Confidence ---> 0.85\n",
      "Confidence ---> 0.67\n",
      "Confidence ---> 0.82\n",
      "Confidence ---> 0.79\n",
      "Confidence ---> 0.82\n",
      "Confidence ---> 0.75\n",
      "Confidence ---> 0.27\n"
     ]
    },
    {
     "name": "stderr",
     "output_type": "stream",
     "text": [
      "0: 480x640 2 persons, 1 laptop, 81.9ms\n",
      "Speed: 0.9ms preprocess, 81.9ms inference, 0.6ms postprocess per image at shape (1, 3, 480, 640)\n",
      "\n",
      "0: 480x640 2 persons, 1 laptop, 81.3ms\n",
      "Speed: 1.4ms preprocess, 81.3ms inference, 0.6ms postprocess per image at shape (1, 3, 480, 640)\n",
      "\n"
     ]
    },
    {
     "name": "stdout",
     "output_type": "stream",
     "text": [
      "Confidence ---> 0.83\n",
      "Confidence ---> 0.82\n",
      "Confidence ---> 0.85\n",
      "Confidence ---> 0.83\n"
     ]
    },
    {
     "name": "stderr",
     "output_type": "stream",
     "text": [
      "0: 480x640 2 persons, 68.7ms\n",
      "Speed: 1.4ms preprocess, 68.7ms inference, 0.5ms postprocess per image at shape (1, 3, 480, 640)\n",
      "\n",
      "0: 480x640 2 persons, 64.6ms\n",
      "Speed: 1.7ms preprocess, 64.6ms inference, 0.6ms postprocess per image at shape (1, 3, 480, 640)\n",
      "\n"
     ]
    },
    {
     "name": "stdout",
     "output_type": "stream",
     "text": [
      "Confidence ---> 0.84\n",
      "Confidence ---> 0.8\n",
      "Confidence ---> 0.87\n",
      "Confidence ---> 0.82\n"
     ]
    },
    {
     "name": "stderr",
     "output_type": "stream",
     "text": [
      "0: 480x640 2 persons, 71.9ms\n",
      "Speed: 1.5ms preprocess, 71.9ms inference, 0.6ms postprocess per image at shape (1, 3, 480, 640)\n",
      "\n",
      "0: 480x640 1 person, 1 chair, 53.2ms\n",
      "Speed: 1.7ms preprocess, 53.2ms inference, 0.5ms postprocess per image at shape (1, 3, 480, 640)\n",
      "\n",
      "0: 480x640 1 person, 1 chair, 51.8ms\n",
      "Speed: 0.8ms preprocess, 51.8ms inference, 0.5ms postprocess per image at shape (1, 3, 480, 640)\n"
     ]
    },
    {
     "name": "stdout",
     "output_type": "stream",
     "text": [
      "Confidence ---> 0.84\n",
      "Confidence ---> 0.78\n",
      "Confidence ---> 0.82\n",
      "Confidence ---> 0.83\n"
     ]
    },
    {
     "name": "stderr",
     "output_type": "stream",
     "text": [
      "\n",
      "0: 480x640 1 person, 1 chair, 55.0ms\n",
      "Speed: 0.9ms preprocess, 55.0ms inference, 0.4ms postprocess per image at shape (1, 3, 480, 640)\n",
      "\n",
      "0: 480x640 1 person, 1 chair, 90.6ms\n",
      "Speed: 0.9ms preprocess, 90.6ms inference, 0.5ms postprocess per image at shape (1, 3, 480, 640)\n",
      "\n",
      "0: 480x640 1 person, 51.5ms\n",
      "Speed: 0.9ms preprocess, 51.5ms inference, 0.5ms postprocess per image at shape (1, 3, 480, 640)\n"
     ]
    },
    {
     "name": "stdout",
     "output_type": "stream",
     "text": [
      "Confidence ---> 0.82\n",
      "Confidence ---> 0.83\n",
      "Confidence ---> 0.83\n"
     ]
    },
    {
     "name": "stderr",
     "output_type": "stream",
     "text": [
      "\n",
      "0: 480x640 1 person, 61.3ms\n",
      "Speed: 1.4ms preprocess, 61.3ms inference, 0.4ms postprocess per image at shape (1, 3, 480, 640)\n",
      "\n",
      "0: 480x640 1 person, 1 chair, 51.5ms\n",
      "Speed: 1.0ms preprocess, 51.5ms inference, 0.4ms postprocess per image at shape (1, 3, 480, 640)\n",
      "\n",
      "0: 480x640 1 person, 1 chair, 51.8ms\n",
      "Speed: 0.9ms preprocess, 51.8ms inference, 0.4ms postprocess per image at shape (1, 3, 480, 640)\n",
      "\n"
     ]
    },
    {
     "name": "stdout",
     "output_type": "stream",
     "text": [
      "Confidence ---> 0.82\n",
      "Confidence ---> 0.84\n",
      "Confidence ---> 0.81\n"
     ]
    },
    {
     "name": "stderr",
     "output_type": "stream",
     "text": [
      "0: 480x640 1 person, 1 chair, 54.5ms\n",
      "Speed: 0.9ms preprocess, 54.5ms inference, 0.4ms postprocess per image at shape (1, 3, 480, 640)\n",
      "\n",
      "0: 480x640 1 person, 53.4ms\n",
      "Speed: 1.1ms preprocess, 53.4ms inference, 0.4ms postprocess per image at shape (1, 3, 480, 640)\n",
      "\n",
      "0: 480x640 1 person, 1 chair, 1 laptop, 60.3ms\n",
      "Speed: 1.0ms preprocess, 60.3ms inference, 0.4ms postprocess per image at shape (1, 3, 480, 640)\n",
      "\n"
     ]
    },
    {
     "name": "stdout",
     "output_type": "stream",
     "text": [
      "Confidence ---> 0.81\n",
      "Confidence ---> 0.78\n",
      "Confidence ---> 0.81\n"
     ]
    },
    {
     "name": "stderr",
     "output_type": "stream",
     "text": [
      "0: 480x640 1 person, 53.6ms\n",
      "Speed: 1.0ms preprocess, 53.6ms inference, 0.5ms postprocess per image at shape (1, 3, 480, 640)\n",
      "\n",
      "0: 480x640 1 person, 53.9ms\n",
      "Speed: 0.8ms preprocess, 53.9ms inference, 0.4ms postprocess per image at shape (1, 3, 480, 640)\n",
      "\n",
      "0: 480x640 2 persons, 52.9ms\n",
      "Speed: 0.8ms preprocess, 52.9ms inference, 0.4ms postprocess per image at shape (1, 3, 480, 640)\n",
      "\n"
     ]
    },
    {
     "name": "stdout",
     "output_type": "stream",
     "text": [
      "Confidence ---> 0.81\n",
      "Confidence ---> 0.86\n",
      "Confidence ---> 0.88\n",
      "Confidence ---> 0.34\n"
     ]
    },
    {
     "name": "stderr",
     "output_type": "stream",
     "text": [
      "0: 480x640 1 person, 1 laptop, 54.9ms\n",
      "Speed: 0.8ms preprocess, 54.9ms inference, 0.4ms postprocess per image at shape (1, 3, 480, 640)\n",
      "\n",
      "0: 480x640 2 persons, 52.7ms\n",
      "Speed: 1.1ms preprocess, 52.7ms inference, 0.5ms postprocess per image at shape (1, 3, 480, 640)\n",
      "\n",
      "0: 480x640 2 persons, 52.8ms\n",
      "Speed: 1.1ms preprocess, 52.8ms inference, 0.4ms postprocess per image at shape (1, 3, 480, 640)\n",
      "\n"
     ]
    },
    {
     "name": "stdout",
     "output_type": "stream",
     "text": [
      "Confidence ---> 0.88\n",
      "Confidence ---> 0.8\n",
      "Confidence ---> 0.44\n",
      "Confidence ---> 0.87\n",
      "Confidence ---> 0.69\n"
     ]
    },
    {
     "name": "stderr",
     "output_type": "stream",
     "text": [
      "0: 480x640 2 persons, 1 laptop, 53.7ms\n",
      "Speed: 0.8ms preprocess, 53.7ms inference, 0.4ms postprocess per image at shape (1, 3, 480, 640)\n",
      "\n",
      "0: 480x640 1 person, 1 chair, 1 laptop, 56.6ms\n",
      "Speed: 1.0ms preprocess, 56.6ms inference, 0.4ms postprocess per image at shape (1, 3, 480, 640)\n",
      "\n",
      "0: 480x640 1 person, 1 chair, 1 laptop, 52.3ms\n",
      "Speed: 0.8ms preprocess, 52.3ms inference, 0.5ms postprocess per image at shape (1, 3, 480, 640)\n",
      "\n"
     ]
    },
    {
     "name": "stdout",
     "output_type": "stream",
     "text": [
      "Confidence ---> 0.82\n",
      "Confidence ---> 0.29\n",
      "Confidence ---> 0.9\n",
      "Confidence ---> 0.87\n"
     ]
    },
    {
     "name": "stderr",
     "output_type": "stream",
     "text": [
      "0: 480x640 1 person, 1 chair, 1 laptop, 56.0ms\n",
      "Speed: 1.0ms preprocess, 56.0ms inference, 0.4ms postprocess per image at shape (1, 3, 480, 640)\n",
      "\n",
      "0: 480x640 1 person, 1 chair, 1 laptop, 55.4ms\n",
      "Speed: 0.9ms preprocess, 55.4ms inference, 0.4ms postprocess per image at shape (1, 3, 480, 640)\n",
      "\n",
      "0: 480x640 1 person, 1 chair, 1 laptop, 2 refrigerators, 53.7ms\n",
      "Speed: 0.9ms preprocess, 53.7ms inference, 0.4ms postprocess per image at shape (1, 3, 480, 640)\n",
      "\n"
     ]
    },
    {
     "name": "stdout",
     "output_type": "stream",
     "text": [
      "Confidence ---> 0.87\n",
      "Confidence ---> 0.88\n",
      "Confidence ---> 0.88\n"
     ]
    },
    {
     "name": "stderr",
     "output_type": "stream",
     "text": [
      "0: 480x640 1 person, 2 chairs, 1 laptop, 1 oven, 53.2ms\n",
      "Speed: 1.0ms preprocess, 53.2ms inference, 0.4ms postprocess per image at shape (1, 3, 480, 640)\n",
      "\n",
      "0: 480x640 1 person, 2 chairs, 1 laptop, 53.6ms\n",
      "Speed: 1.2ms preprocess, 53.6ms inference, 0.4ms postprocess per image at shape (1, 3, 480, 640)\n",
      "\n",
      "0: 480x640 1 person, 52.5ms\n",
      "Speed: 0.9ms preprocess, 52.5ms inference, 0.4ms postprocess per image at shape (1, 3, 480, 640)\n",
      "\n"
     ]
    },
    {
     "name": "stdout",
     "output_type": "stream",
     "text": [
      "Confidence ---> 0.89\n",
      "Confidence ---> 0.86\n",
      "Confidence ---> 0.83\n"
     ]
    },
    {
     "name": "stderr",
     "output_type": "stream",
     "text": [
      "0: 480x640 1 person, 55.9ms\n",
      "Speed: 0.9ms preprocess, 55.9ms inference, 0.6ms postprocess per image at shape (1, 3, 480, 640)\n",
      "\n",
      "0: 480x640 1 person, 52.9ms\n",
      "Speed: 0.8ms preprocess, 52.9ms inference, 0.4ms postprocess per image at shape (1, 3, 480, 640)\n",
      "\n",
      "0: 480x640 1 person, 1 cup, 3 chairs, 1 laptop, 51.3ms\n",
      "Speed: 0.8ms preprocess, 51.3ms inference, 0.4ms postprocess per image at shape (1, 3, 480, 640)\n",
      "\n"
     ]
    },
    {
     "name": "stdout",
     "output_type": "stream",
     "text": [
      "Confidence ---> 0.85\n",
      "Confidence ---> 0.76\n",
      "Confidence ---> 0.82\n"
     ]
    },
    {
     "name": "stderr",
     "output_type": "stream",
     "text": [
      "0: 480x640 1 person, 55.5ms\n",
      "Speed: 0.9ms preprocess, 55.5ms inference, 0.4ms postprocess per image at shape (1, 3, 480, 640)\n",
      "\n",
      "0: 480x640 1 person, 64.7ms\n",
      "Speed: 2.0ms preprocess, 64.7ms inference, 0.4ms postprocess per image at shape (1, 3, 480, 640)\n",
      "\n",
      "0: 480x640 1 person, 1 cup, 1 chair, 1 laptop, 51.9ms\n",
      "Speed: 0.9ms preprocess, 51.9ms inference, 0.4ms postprocess per image at shape (1, 3, 480, 640)\n"
     ]
    },
    {
     "name": "stdout",
     "output_type": "stream",
     "text": [
      "Confidence ---> 0.76\n",
      "Confidence ---> 0.82\n",
      "Confidence ---> 0.86\n"
     ]
    },
    {
     "name": "stderr",
     "output_type": "stream",
     "text": [
      "\n",
      "0: 480x640 1 person, 1 cup, 1 chair, 1 laptop, 53.0ms\n",
      "Speed: 0.8ms preprocess, 53.0ms inference, 0.5ms postprocess per image at shape (1, 3, 480, 640)\n",
      "\n",
      "0: 480x640 1 person, 1 cup, 1 chair, 1 laptop, 1 oven, 53.3ms\n",
      "Speed: 0.8ms preprocess, 53.3ms inference, 0.5ms postprocess per image at shape (1, 3, 480, 640)\n",
      "\n",
      "0: 480x640 1 person, 1 cup, 1 chair, 1 tv, 1 laptop, 51.5ms\n",
      "Speed: 0.8ms preprocess, 51.5ms inference, 0.4ms postprocess per image at shape (1, 3, 480, 640)\n",
      "\n"
     ]
    },
    {
     "name": "stdout",
     "output_type": "stream",
     "text": [
      "Confidence ---> 0.89\n",
      "Confidence ---> 0.88\n",
      "Confidence ---> 0.86\n"
     ]
    },
    {
     "name": "stderr",
     "output_type": "stream",
     "text": [
      "0: 480x640 1 person, 1 chair, 1 laptop, 55.1ms\n",
      "Speed: 1.1ms preprocess, 55.1ms inference, 0.4ms postprocess per image at shape (1, 3, 480, 640)\n",
      "\n",
      "0: 480x640 1 person, 1 chair, 1 laptop, 54.5ms\n",
      "Speed: 1.0ms preprocess, 54.5ms inference, 0.5ms postprocess per image at shape (1, 3, 480, 640)\n",
      "\n",
      "0: 480x640 1 person, 1 cup, 1 chair, 1 laptop, 51.7ms\n",
      "Speed: 0.8ms preprocess, 51.7ms inference, 0.5ms postprocess per image at shape (1, 3, 480, 640)\n",
      "\n"
     ]
    },
    {
     "name": "stdout",
     "output_type": "stream",
     "text": [
      "Confidence ---> 0.87\n",
      "Confidence ---> 0.88\n",
      "Confidence ---> 0.85\n"
     ]
    },
    {
     "name": "stderr",
     "output_type": "stream",
     "text": [
      "0: 480x640 2 persons, 1 laptop, 54.9ms\n",
      "Speed: 1.0ms preprocess, 54.9ms inference, 0.4ms postprocess per image at shape (1, 3, 480, 640)\n",
      "\n",
      "0: 480x640 1 person, 1 chair, 1 laptop, 53.2ms\n",
      "Speed: 0.9ms preprocess, 53.2ms inference, 0.4ms postprocess per image at shape (1, 3, 480, 640)\n",
      "\n",
      "0: 480x640 1 person, 52.1ms\n",
      "Speed: 0.8ms preprocess, 52.1ms inference, 0.4ms postprocess per image at shape (1, 3, 480, 640)\n",
      "\n"
     ]
    },
    {
     "name": "stdout",
     "output_type": "stream",
     "text": [
      "Confidence ---> 0.81\n",
      "Confidence ---> 0.31\n",
      "Confidence ---> 0.8\n",
      "Confidence ---> 0.77\n"
     ]
    },
    {
     "name": "stderr",
     "output_type": "stream",
     "text": [
      "0: 480x640 2 persons, 1 chair, 54.4ms\n",
      "Speed: 0.9ms preprocess, 54.4ms inference, 0.4ms postprocess per image at shape (1, 3, 480, 640)\n",
      "\n",
      "0: 480x640 2 persons, 1 cup, 4 chairs, 1 laptop, 52.6ms\n",
      "Speed: 0.9ms preprocess, 52.6ms inference, 0.5ms postprocess per image at shape (1, 3, 480, 640)\n",
      "\n",
      "0: 480x640 1 person, 2 chairs, 1 laptop, 51.8ms\n",
      "Speed: 0.9ms preprocess, 51.8ms inference, 0.6ms postprocess per image at shape (1, 3, 480, 640)\n",
      "\n"
     ]
    },
    {
     "name": "stdout",
     "output_type": "stream",
     "text": [
      "Confidence ---> 0.79\n",
      "Confidence ---> 0.27\n",
      "Confidence ---> 0.81\n",
      "Confidence ---> 0.34\n",
      "Confidence ---> 0.7\n"
     ]
    },
    {
     "name": "stderr",
     "output_type": "stream",
     "text": [
      "0: 480x640 2 persons, 55.9ms\n",
      "Speed: 0.8ms preprocess, 55.9ms inference, 0.5ms postprocess per image at shape (1, 3, 480, 640)\n",
      "\n",
      "0: 480x640 1 person, 51.5ms\n",
      "Speed: 0.9ms preprocess, 51.5ms inference, 0.4ms postprocess per image at shape (1, 3, 480, 640)\n",
      "\n",
      "0: 480x640 1 person, 1 tv, 51.3ms\n",
      "Speed: 1.0ms preprocess, 51.3ms inference, 0.5ms postprocess per image at shape (1, 3, 480, 640)\n",
      "\n"
     ]
    },
    {
     "name": "stdout",
     "output_type": "stream",
     "text": [
      "Confidence ---> 0.58\n",
      "Confidence ---> 0.33\n",
      "Confidence ---> 0.64\n",
      "Confidence ---> 0.85\n"
     ]
    },
    {
     "name": "stderr",
     "output_type": "stream",
     "text": [
      "0: 480x640 1 person, 1 tv, 55.2ms\n",
      "Speed: 0.9ms preprocess, 55.2ms inference, 0.6ms postprocess per image at shape (1, 3, 480, 640)\n",
      "\n",
      "0: 480x640 1 person, 1 tv, 53.8ms\n",
      "Speed: 1.1ms preprocess, 53.8ms inference, 0.4ms postprocess per image at shape (1, 3, 480, 640)\n",
      "\n",
      "0: 480x640 1 person, 1 tv, 52.2ms\n",
      "Speed: 1.0ms preprocess, 52.2ms inference, 0.4ms postprocess per image at shape (1, 3, 480, 640)\n",
      "\n"
     ]
    },
    {
     "name": "stdout",
     "output_type": "stream",
     "text": [
      "Confidence ---> 0.86\n",
      "Confidence ---> 0.89\n",
      "Confidence ---> 0.91\n"
     ]
    },
    {
     "name": "stderr",
     "output_type": "stream",
     "text": [
      "0: 480x640 1 person, 1 chair, 54.5ms\n",
      "Speed: 0.9ms preprocess, 54.5ms inference, 0.4ms postprocess per image at shape (1, 3, 480, 640)\n",
      "\n",
      "0: 480x640 1 person, 53.7ms\n",
      "Speed: 1.0ms preprocess, 53.7ms inference, 0.4ms postprocess per image at shape (1, 3, 480, 640)\n",
      "\n",
      "0: 480x640 1 person, 1 cup, 1 sink, 55.4ms\n",
      "Speed: 0.9ms preprocess, 55.4ms inference, 0.5ms postprocess per image at shape (1, 3, 480, 640)\n",
      "\n"
     ]
    },
    {
     "name": "stdout",
     "output_type": "stream",
     "text": [
      "Confidence ---> 0.85\n",
      "Confidence ---> 0.8\n",
      "Confidence ---> 0.82\n"
     ]
    },
    {
     "name": "stderr",
     "output_type": "stream",
     "text": [
      "0: 480x640 1 person, 1 cup, 1 sink, 59.0ms\n",
      "Speed: 1.0ms preprocess, 59.0ms inference, 0.5ms postprocess per image at shape (1, 3, 480, 640)\n",
      "\n",
      "0: 480x640 1 person, 1 laptop, 70.2ms\n",
      "Speed: 0.8ms preprocess, 70.2ms inference, 0.5ms postprocess per image at shape (1, 3, 480, 640)\n",
      "\n",
      "0: 480x640 1 person, 1 chair, 53.6ms\n",
      "Speed: 1.1ms preprocess, 53.6ms inference, 0.4ms postprocess per image at shape (1, 3, 480, 640)\n"
     ]
    },
    {
     "name": "stdout",
     "output_type": "stream",
     "text": [
      "Confidence ---> 0.79\n",
      "Confidence ---> 0.82\n",
      "Confidence ---> 0.86\n"
     ]
    },
    {
     "name": "stderr",
     "output_type": "stream",
     "text": [
      "\n",
      "0: 480x640 1 person, 1 chair, 53.8ms\n",
      "Speed: 0.9ms preprocess, 53.8ms inference, 0.5ms postprocess per image at shape (1, 3, 480, 640)\n",
      "\n",
      "0: 480x640 1 person, 1 chair, 54.0ms\n",
      "Speed: 0.8ms preprocess, 54.0ms inference, 0.4ms postprocess per image at shape (1, 3, 480, 640)\n",
      "\n",
      "0: 480x640 1 person, 1 chair, 51.3ms\n",
      "Speed: 1.1ms preprocess, 51.3ms inference, 0.4ms postprocess per image at shape (1, 3, 480, 640)\n",
      "\n"
     ]
    },
    {
     "name": "stdout",
     "output_type": "stream",
     "text": [
      "Confidence ---> 0.88\n",
      "Confidence ---> 0.83\n",
      "Confidence ---> 0.81\n"
     ]
    },
    {
     "name": "stderr",
     "output_type": "stream",
     "text": [
      "0: 480x640 1 person, 1 chair, 1 laptop, 1 sink, 54.4ms\n",
      "Speed: 1.0ms preprocess, 54.4ms inference, 0.4ms postprocess per image at shape (1, 3, 480, 640)\n",
      "\n",
      "0: 480x640 1 person, 1 tv, 1 sink, 53.4ms\n",
      "Speed: 1.0ms preprocess, 53.4ms inference, 0.4ms postprocess per image at shape (1, 3, 480, 640)\n",
      "\n",
      "0: 480x640 1 person, 1 sink, 51.8ms\n",
      "Speed: 1.0ms preprocess, 51.8ms inference, 0.4ms postprocess per image at shape (1, 3, 480, 640)\n",
      "\n"
     ]
    },
    {
     "name": "stdout",
     "output_type": "stream",
     "text": [
      "Confidence ---> 0.9\n",
      "Confidence ---> 0.87\n",
      "Confidence ---> 0.59\n"
     ]
    },
    {
     "name": "stderr",
     "output_type": "stream",
     "text": [
      "0: 480x640 1 person, 54.9ms\n",
      "Speed: 0.8ms preprocess, 54.9ms inference, 0.4ms postprocess per image at shape (1, 3, 480, 640)\n",
      "\n",
      "0: 480x640 1 person, 54.4ms\n",
      "Speed: 1.2ms preprocess, 54.4ms inference, 0.4ms postprocess per image at shape (1, 3, 480, 640)\n",
      "\n",
      "0: 480x640 1 person, 50.5ms\n",
      "Speed: 1.1ms preprocess, 50.5ms inference, 0.4ms postprocess per image at shape (1, 3, 480, 640)\n",
      "\n"
     ]
    },
    {
     "name": "stdout",
     "output_type": "stream",
     "text": [
      "Confidence ---> 0.83\n",
      "Confidence ---> 0.73\n",
      "Confidence ---> 0.9\n"
     ]
    },
    {
     "name": "stderr",
     "output_type": "stream",
     "text": [
      "0: 480x640 1 person, 1 sink, 52.0ms\n",
      "Speed: 0.8ms preprocess, 52.0ms inference, 0.5ms postprocess per image at shape (1, 3, 480, 640)\n",
      "\n",
      "0: 480x640 1 person, 1 laptop, 51.6ms\n",
      "Speed: 1.0ms preprocess, 51.6ms inference, 0.4ms postprocess per image at shape (1, 3, 480, 640)\n",
      "\n",
      "0: 480x640 1 person, 1 tv, 1 book, 51.3ms\n",
      "Speed: 0.9ms preprocess, 51.3ms inference, 0.4ms postprocess per image at shape (1, 3, 480, 640)\n",
      "\n"
     ]
    },
    {
     "name": "stdout",
     "output_type": "stream",
     "text": [
      "Confidence ---> 0.88\n",
      "Confidence ---> 0.83\n",
      "Confidence ---> 0.78\n"
     ]
    },
    {
     "name": "stderr",
     "output_type": "stream",
     "text": [
      "0: 480x640 1 person, 55.6ms\n",
      "Speed: 0.8ms preprocess, 55.6ms inference, 0.4ms postprocess per image at shape (1, 3, 480, 640)\n",
      "\n",
      "0: 480x640 1 person, 53.0ms\n",
      "Speed: 0.9ms preprocess, 53.0ms inference, 0.4ms postprocess per image at shape (1, 3, 480, 640)\n",
      "\n",
      "0: 480x640 1 person, 1 tv, 50.7ms\n",
      "Speed: 0.9ms preprocess, 50.7ms inference, 0.4ms postprocess per image at shape (1, 3, 480, 640)\n",
      "\n"
     ]
    },
    {
     "name": "stdout",
     "output_type": "stream",
     "text": [
      "Confidence ---> 0.76\n",
      "Confidence ---> 0.72\n",
      "Confidence ---> 0.74\n"
     ]
    },
    {
     "name": "stderr",
     "output_type": "stream",
     "text": [
      "0: 480x640 2 persons, 52.6ms\n",
      "Speed: 0.9ms preprocess, 52.6ms inference, 0.5ms postprocess per image at shape (1, 3, 480, 640)\n",
      "\n",
      "0: 480x640 3 persons, 52.8ms\n",
      "Speed: 1.4ms preprocess, 52.8ms inference, 0.4ms postprocess per image at shape (1, 3, 480, 640)\n",
      "\n",
      "0: 480x640 2 persons, 1 chair, 53.3ms\n",
      "Speed: 0.8ms preprocess, 53.3ms inference, 0.4ms postprocess per image at shape (1, 3, 480, 640)\n",
      "\n"
     ]
    },
    {
     "name": "stdout",
     "output_type": "stream",
     "text": [
      "Confidence ---> 0.71\n",
      "Confidence ---> 0.53\n",
      "Confidence ---> 0.53\n",
      "Confidence ---> 0.35\n",
      "Confidence ---> 0.31\n",
      "Confidence ---> 0.49\n",
      "Confidence ---> 0.33\n"
     ]
    },
    {
     "name": "stderr",
     "output_type": "stream",
     "text": [
      "0: 480x640 1 person, 54.7ms\n",
      "Speed: 0.9ms preprocess, 54.7ms inference, 0.5ms postprocess per image at shape (1, 3, 480, 640)\n",
      "\n",
      "0: 480x640 1 person, 1 laptop, 52.8ms\n",
      "Speed: 1.0ms preprocess, 52.8ms inference, 0.4ms postprocess per image at shape (1, 3, 480, 640)\n",
      "\n",
      "0: 480x640 (no detections), 50.7ms\n",
      "Speed: 1.0ms preprocess, 50.7ms inference, 0.3ms postprocess per image at shape (1, 3, 480, 640)\n"
     ]
    },
    {
     "name": "stdout",
     "output_type": "stream",
     "text": [
      "Confidence ---> 0.35\n",
      "Confidence ---> 0.62\n"
     ]
    },
    {
     "name": "stderr",
     "output_type": "stream",
     "text": [
      "\n",
      "0: 480x640 1 chair, 51.5ms\n",
      "Speed: 1.0ms preprocess, 51.5ms inference, 0.4ms postprocess per image at shape (1, 3, 480, 640)\n",
      "\n",
      "0: 480x640 (no detections), 65.9ms\n",
      "Speed: 1.2ms preprocess, 65.9ms inference, 0.4ms postprocess per image at shape (1, 3, 480, 640)\n",
      "\n",
      "0: 480x640 1 person, 3 chairs, 1 dining table, 1 laptop, 50.9ms\n",
      "Speed: 1.1ms preprocess, 50.9ms inference, 0.4ms postprocess per image at shape (1, 3, 480, 640)\n",
      "\n",
      "0: 480x640 1 person, 50.0ms\n",
      "Speed: 1.0ms preprocess, 50.0ms inference, 0.4ms postprocess per image at shape (1, 3, 480, 640)\n",
      "\n",
      "0: 480x640 (no detections), 50.6ms\n",
      "Speed: 1.4ms preprocess, 50.6ms inference, 0.4ms postprocess per image at shape (1, 3, 480, 640)\n",
      "\n"
     ]
    },
    {
     "name": "stdout",
     "output_type": "stream",
     "text": [
      "Confidence ---> 0.9\n",
      "Confidence ---> 0.87\n"
     ]
    },
    {
     "name": "stderr",
     "output_type": "stream",
     "text": [
      "0: 480x640 (no detections), 54.1ms\n",
      "Speed: 0.9ms preprocess, 54.1ms inference, 0.3ms postprocess per image at shape (1, 3, 480, 640)\n",
      "\n",
      "0: 480x640 1 chair, 53.0ms\n",
      "Speed: 0.9ms preprocess, 53.0ms inference, 0.5ms postprocess per image at shape (1, 3, 480, 640)\n",
      "\n",
      "0: 480x640 1 backpack, 1 bed, 51.0ms\n",
      "Speed: 0.9ms preprocess, 51.0ms inference, 0.4ms postprocess per image at shape (1, 3, 480, 640)\n",
      "\n",
      "0: 480x640 (no detections), 50.5ms\n",
      "Speed: 1.0ms preprocess, 50.5ms inference, 0.3ms postprocess per image at shape (1, 3, 480, 640)\n",
      "\n",
      "0: 480x640 (no detections), 49.8ms\n",
      "Speed: 1.2ms preprocess, 49.8ms inference, 0.3ms postprocess per image at shape (1, 3, 480, 640)\n",
      "\n",
      "0: 480x640 (no detections), 50.2ms\n",
      "Speed: 0.8ms preprocess, 50.2ms inference, 0.3ms postprocess per image at shape (1, 3, 480, 640)\n",
      "\n",
      "0: 480x640 1 person, 1 cup, 4 chairs, 1 laptop, 1 oven, 52.0ms\n",
      "Speed: 0.8ms preprocess, 52.0ms inference, 0.5ms postprocess per image at shape (1, 3, 480, 640)\n",
      "\n",
      "0: 480x640 1 person, 50.7ms\n",
      "Speed: 0.9ms preprocess, 50.7ms inference, 0.4ms postprocess per image at shape (1, 3, 480, 640)\n",
      "\n",
      "0: 480x640 2 persons, 1 chair, 52.7ms\n",
      "Speed: 1.0ms preprocess, 52.7ms inference, 0.4ms postprocess per image at shape (1, 3, 480, 640)\n",
      "\n"
     ]
    },
    {
     "name": "stdout",
     "output_type": "stream",
     "text": [
      "Confidence ---> 0.82\n",
      "Confidence ---> 0.73\n",
      "Confidence ---> 0.82\n",
      "Confidence ---> 0.42\n"
     ]
    },
    {
     "name": "stderr",
     "output_type": "stream",
     "text": [
      "0: 480x640 3 persons, 1 oven, 54.2ms\n",
      "Speed: 1.1ms preprocess, 54.2ms inference, 0.4ms postprocess per image at shape (1, 3, 480, 640)\n",
      "\n",
      "0: 480x640 2 persons, 52.7ms\n",
      "Speed: 0.9ms preprocess, 52.7ms inference, 0.4ms postprocess per image at shape (1, 3, 480, 640)\n",
      "\n",
      "0: 480x640 2 persons, 1 oven, 56.2ms\n",
      "Speed: 0.9ms preprocess, 56.2ms inference, 0.5ms postprocess per image at shape (1, 3, 480, 640)\n",
      "\n"
     ]
    },
    {
     "name": "stdout",
     "output_type": "stream",
     "text": [
      "Confidence ---> 0.84\n",
      "Confidence ---> 0.51\n",
      "Confidence ---> 0.45\n",
      "Confidence ---> 0.87\n",
      "Confidence ---> 0.34\n",
      "Confidence ---> 0.87\n",
      "Confidence ---> 0.53\n"
     ]
    },
    {
     "name": "stderr",
     "output_type": "stream",
     "text": [
      "0: 480x640 3 persons, 1 chair, 1 sink, 54.3ms\n",
      "Speed: 0.9ms preprocess, 54.3ms inference, 0.4ms postprocess per image at shape (1, 3, 480, 640)\n",
      "\n",
      "0: 480x640 2 persons, 1 cup, 1 oven, 54.6ms\n",
      "Speed: 1.0ms preprocess, 54.6ms inference, 0.4ms postprocess per image at shape (1, 3, 480, 640)\n",
      "\n",
      "0: 480x640 2 persons, 1 cup, 1 laptop, 1 sink, 52.0ms\n",
      "Speed: 0.8ms preprocess, 52.0ms inference, 0.4ms postprocess per image at shape (1, 3, 480, 640)\n",
      "\n"
     ]
    },
    {
     "name": "stdout",
     "output_type": "stream",
     "text": [
      "Confidence ---> 0.85\n",
      "Confidence ---> 0.65\n",
      "Confidence ---> 0.26\n",
      "Confidence ---> 0.82\n",
      "Confidence ---> 0.76\n",
      "Confidence ---> 0.86\n",
      "Confidence ---> 0.65\n"
     ]
    },
    {
     "name": "stderr",
     "output_type": "stream",
     "text": [
      "0: 480x640 2 persons, 1 laptop, 1 sink, 54.7ms\n",
      "Speed: 0.9ms preprocess, 54.7ms inference, 0.5ms postprocess per image at shape (1, 3, 480, 640)\n",
      "\n",
      "0: 480x640 2 persons, 1 oven, 1 sink, 52.3ms\n",
      "Speed: 1.2ms preprocess, 52.3ms inference, 0.4ms postprocess per image at shape (1, 3, 480, 640)\n",
      "\n",
      "0: 480x640 2 persons, 1 chair, 1 sink, 51.6ms\n",
      "Speed: 0.8ms preprocess, 51.6ms inference, 0.4ms postprocess per image at shape (1, 3, 480, 640)\n",
      "\n"
     ]
    },
    {
     "name": "stdout",
     "output_type": "stream",
     "text": [
      "Confidence ---> 0.87\n",
      "Confidence ---> 0.68\n",
      "Confidence ---> 0.83\n",
      "Confidence ---> 0.72\n",
      "Confidence ---> 0.9\n",
      "Confidence ---> 0.8\n"
     ]
    },
    {
     "name": "stderr",
     "output_type": "stream",
     "text": [
      "0: 480x640 2 persons, 1 chair, 54.7ms\n",
      "Speed: 0.8ms preprocess, 54.7ms inference, 0.5ms postprocess per image at shape (1, 3, 480, 640)\n",
      "\n",
      "0: 480x640 2 persons, 1 chair, 1 sink, 54.0ms\n",
      "Speed: 1.0ms preprocess, 54.0ms inference, 0.5ms postprocess per image at shape (1, 3, 480, 640)\n",
      "\n",
      "0: 480x640 1 person, 1 chair, 53.1ms\n",
      "Speed: 0.9ms preprocess, 53.1ms inference, 0.4ms postprocess per image at shape (1, 3, 480, 640)\n",
      "\n"
     ]
    },
    {
     "name": "stdout",
     "output_type": "stream",
     "text": [
      "Confidence ---> 0.88\n",
      "Confidence ---> 0.69\n",
      "Confidence ---> 0.9\n",
      "Confidence ---> 0.53\n",
      "Confidence ---> 0.86\n"
     ]
    },
    {
     "name": "stderr",
     "output_type": "stream",
     "text": [
      "0: 480x640 1 person, 1 sink, 60.5ms\n",
      "Speed: 0.8ms preprocess, 60.5ms inference, 0.5ms postprocess per image at shape (1, 3, 480, 640)\n",
      "\n",
      "0: 480x640 1 person, 1 chair, 53.4ms\n",
      "Speed: 0.9ms preprocess, 53.4ms inference, 0.4ms postprocess per image at shape (1, 3, 480, 640)\n",
      "\n",
      "0: 480x640 4 persons, 3 chairs, 1 laptop, 51.8ms\n",
      "Speed: 0.8ms preprocess, 51.8ms inference, 0.4ms postprocess per image at shape (1, 3, 480, 640)\n",
      "\n"
     ]
    },
    {
     "name": "stdout",
     "output_type": "stream",
     "text": [
      "Confidence ---> 0.82\n",
      "Confidence ---> 0.92\n",
      "Confidence ---> 0.79\n",
      "Confidence ---> 0.38\n",
      "Confidence ---> 0.35\n",
      "Confidence ---> 0.27\n"
     ]
    },
    {
     "name": "stderr",
     "output_type": "stream",
     "text": [
      "0: 480x640 3 persons, 1 car, 3 chairs, 53.8ms\n",
      "Speed: 0.8ms preprocess, 53.8ms inference, 0.4ms postprocess per image at shape (1, 3, 480, 640)\n",
      "\n",
      "0: 480x640 1 person, 1 tv, 1 book, 66.4ms\n",
      "Speed: 1.6ms preprocess, 66.4ms inference, 0.4ms postprocess per image at shape (1, 3, 480, 640)\n",
      "\n",
      "0: 480x640 1 person, 1 microwave, 52.7ms\n",
      "Speed: 0.9ms preprocess, 52.7ms inference, 0.4ms postprocess per image at shape (1, 3, 480, 640)\n"
     ]
    },
    {
     "name": "stdout",
     "output_type": "stream",
     "text": [
      "Confidence ---> 0.8\n",
      "Confidence ---> 0.45\n",
      "Confidence ---> 0.36\n",
      "Confidence ---> 0.79\n",
      "Confidence ---> 0.72\n"
     ]
    },
    {
     "name": "stderr",
     "output_type": "stream",
     "text": [
      "\n",
      "0: 480x640 2 persons, 1 cup, 3 chairs, 1 tv, 1 laptop, 54.4ms\n",
      "Speed: 1.0ms preprocess, 54.4ms inference, 0.4ms postprocess per image at shape (1, 3, 480, 640)\n",
      "\n",
      "0: 480x640 2 persons, 4 chairs, 1 tv, 1 oven, 55.6ms\n",
      "Speed: 0.9ms preprocess, 55.6ms inference, 0.5ms postprocess per image at shape (1, 3, 480, 640)\n",
      "\n",
      "0: 480x640 2 persons, 1 cup, 2 chairs, 1 tv, 1 oven, 54.1ms\n",
      "Speed: 0.8ms preprocess, 54.1ms inference, 0.5ms postprocess per image at shape (1, 3, 480, 640)\n",
      "\n"
     ]
    },
    {
     "name": "stdout",
     "output_type": "stream",
     "text": [
      "Confidence ---> 0.86\n",
      "Confidence ---> 0.43\n",
      "Confidence ---> 0.88\n",
      "Confidence ---> 0.7\n",
      "Confidence ---> 0.84\n",
      "Confidence ---> 0.69\n"
     ]
    },
    {
     "name": "stderr",
     "output_type": "stream",
     "text": [
      "0: 480x640 2 persons, 1 chair, 1 tv, 53.1ms\n",
      "Speed: 0.8ms preprocess, 53.1ms inference, 0.4ms postprocess per image at shape (1, 3, 480, 640)\n",
      "\n",
      "0: 480x640 2 persons, 1 cup, 2 chairs, 1 tv, 1 laptop, 1 oven, 52.6ms\n",
      "Speed: 0.9ms preprocess, 52.6ms inference, 0.4ms postprocess per image at shape (1, 3, 480, 640)\n",
      "\n",
      "0: 480x640 2 persons, 1 tv, 52.0ms\n",
      "Speed: 1.0ms preprocess, 52.0ms inference, 0.4ms postprocess per image at shape (1, 3, 480, 640)\n",
      "\n"
     ]
    },
    {
     "name": "stdout",
     "output_type": "stream",
     "text": [
      "Confidence ---> 0.76\n",
      "Confidence ---> 0.5\n",
      "Confidence ---> 0.89\n",
      "Confidence ---> 0.68\n",
      "Confidence ---> 0.87\n",
      "Confidence ---> 0.51\n"
     ]
    },
    {
     "name": "stderr",
     "output_type": "stream",
     "text": [
      "0: 480x640 2 persons, 1 cup, 2 chairs, 1 tv, 1 oven, 79.2ms\n",
      "Speed: 0.8ms preprocess, 79.2ms inference, 0.5ms postprocess per image at shape (1, 3, 480, 640)\n",
      "\n",
      "0: 480x640 4 persons, 1 tv, 1 refrigerator, 54.2ms\n",
      "Speed: 1.2ms preprocess, 54.2ms inference, 0.4ms postprocess per image at shape (1, 3, 480, 640)\n",
      "\n",
      "0: 480x640 2 persons, 1 chair, 1 tv, 1 oven, 1 sink, 52.5ms\n",
      "Speed: 1.0ms preprocess, 52.5ms inference, 0.5ms postprocess per image at shape (1, 3, 480, 640)\n",
      "\n"
     ]
    },
    {
     "name": "stdout",
     "output_type": "stream",
     "text": [
      "Confidence ---> 0.88\n",
      "Confidence ---> 0.69\n",
      "Confidence ---> 0.53\n",
      "Confidence ---> 0.36\n",
      "Confidence ---> 0.33\n",
      "Confidence ---> 0.28\n",
      "Confidence ---> 0.84\n",
      "Confidence ---> 0.58\n"
     ]
    },
    {
     "name": "stderr",
     "output_type": "stream",
     "text": [
      "0: 480x640 2 persons, 1 chair, 1 tv, 1 laptop, 1 oven, 1 sink, 52.9ms\n",
      "Speed: 0.8ms preprocess, 52.9ms inference, 0.5ms postprocess per image at shape (1, 3, 480, 640)\n",
      "\n",
      "0: 480x640 2 persons, 1 cup, 3 chairs, 1 tv, 1 laptop, 1 sink, 54.9ms\n",
      "Speed: 1.2ms preprocess, 54.9ms inference, 0.5ms postprocess per image at shape (1, 3, 480, 640)\n",
      "\n",
      "0: 480x640 2 persons, 1 tv, 1 oven, 1 sink, 50.7ms\n",
      "Speed: 0.9ms preprocess, 50.7ms inference, 0.4ms postprocess per image at shape (1, 3, 480, 640)\n",
      "\n"
     ]
    },
    {
     "name": "stdout",
     "output_type": "stream",
     "text": [
      "Confidence ---> 0.8\n",
      "Confidence ---> 0.62\n",
      "Confidence ---> 0.84\n",
      "Confidence ---> 0.64\n",
      "Confidence ---> 0.59\n",
      "Confidence ---> 0.57\n"
     ]
    },
    {
     "name": "stderr",
     "output_type": "stream",
     "text": [
      "0: 480x640 1 person, 53.2ms\n",
      "Speed: 0.8ms preprocess, 53.2ms inference, 0.6ms postprocess per image at shape (1, 3, 480, 640)\n",
      "\n",
      "0: 480x640 3 persons, 1 backpack, 1 chair, 1 laptop, 75.9ms\n",
      "Speed: 1.1ms preprocess, 75.9ms inference, 0.7ms postprocess per image at shape (1, 3, 480, 640)\n",
      "\n",
      "0: 480x640 2 persons, 1 chair, 1 laptop, 1 oven, 51.1ms\n",
      "Speed: 0.8ms preprocess, 51.1ms inference, 0.4ms postprocess per image at shape (1, 3, 480, 640)\n"
     ]
    },
    {
     "name": "stdout",
     "output_type": "stream",
     "text": [
      "Confidence ---> 0.64\n",
      "Confidence ---> 0.88\n",
      "Confidence ---> 0.35\n",
      "Confidence ---> 0.32\n",
      "Confidence ---> 0.87\n",
      "Confidence ---> 0.62\n"
     ]
    },
    {
     "name": "stderr",
     "output_type": "stream",
     "text": [
      "\n",
      "0: 480x640 2 persons, 1 cup, 1 laptop, 54.5ms\n",
      "Speed: 1.2ms preprocess, 54.5ms inference, 0.4ms postprocess per image at shape (1, 3, 480, 640)\n",
      "\n",
      "0: 480x640 2 persons, 1 car, 1 backpack, 1 cup, 1 chair, 1 tv, 53.1ms\n",
      "Speed: 0.9ms preprocess, 53.1ms inference, 0.4ms postprocess per image at shape (1, 3, 480, 640)\n",
      "\n",
      "0: 480x640 2 persons, 1 tv, 50.8ms\n",
      "Speed: 0.9ms preprocess, 50.8ms inference, 0.5ms postprocess per image at shape (1, 3, 480, 640)\n",
      "\n"
     ]
    },
    {
     "name": "stdout",
     "output_type": "stream",
     "text": [
      "Confidence ---> 0.83\n",
      "Confidence ---> 0.3\n",
      "Confidence ---> 0.87\n",
      "Confidence ---> 0.58\n",
      "Confidence ---> 0.58\n",
      "Confidence ---> 0.26\n"
     ]
    },
    {
     "name": "stderr",
     "output_type": "stream",
     "text": [
      "0: 480x640 2 persons, 1 tv, 1 oven, 56.7ms\n",
      "Speed: 1.0ms preprocess, 56.7ms inference, 0.5ms postprocess per image at shape (1, 3, 480, 640)\n",
      "\n",
      "0: 480x640 1 person, 1 tv, 1 refrigerator, 53.2ms\n",
      "Speed: 1.1ms preprocess, 53.2ms inference, 0.4ms postprocess per image at shape (1, 3, 480, 640)\n",
      "\n",
      "0: 480x640 1 person, 1 tv, 51.4ms\n",
      "Speed: 0.8ms preprocess, 51.4ms inference, 0.4ms postprocess per image at shape (1, 3, 480, 640)\n",
      "\n"
     ]
    },
    {
     "name": "stdout",
     "output_type": "stream",
     "text": [
      "Confidence ---> 0.85\n",
      "Confidence ---> 0.71\n",
      "Confidence ---> 0.52\n",
      "Confidence ---> 0.65\n"
     ]
    },
    {
     "name": "stderr",
     "output_type": "stream",
     "text": [
      "0: 480x640 2 persons, 1 cup, 2 chairs, 1 tv, 1 sink, 68.7ms\n",
      "Speed: 1.3ms preprocess, 68.7ms inference, 0.6ms postprocess per image at shape (1, 3, 480, 640)\n",
      "\n",
      "0: 480x640 3 persons, 1 cup, 2 chairs, 1 tv, 1 oven, 52.3ms\n",
      "Speed: 0.9ms preprocess, 52.3ms inference, 0.5ms postprocess per image at shape (1, 3, 480, 640)\n",
      "\n",
      "0: 480x640 2 persons, 1 cup, 2 chairs, 1 tv, 1 oven, 51.5ms\n",
      "Speed: 1.1ms preprocess, 51.5ms inference, 0.4ms postprocess per image at shape (1, 3, 480, 640)\n"
     ]
    },
    {
     "name": "stdout",
     "output_type": "stream",
     "text": [
      "Confidence ---> 0.8\n",
      "Confidence ---> 0.44\n",
      "Confidence ---> 0.86\n",
      "Confidence ---> 0.5\n",
      "Confidence ---> 0.46\n",
      "Confidence ---> 0.83\n",
      "Confidence ---> 0.56\n"
     ]
    },
    {
     "name": "stderr",
     "output_type": "stream",
     "text": [
      "\n",
      "0: 480x640 2 persons, 1 cup, 4 chairs, 1 tv, 1 oven, 1 sink, 54.5ms\n",
      "Speed: 0.9ms preprocess, 54.5ms inference, 0.6ms postprocess per image at shape (1, 3, 480, 640)\n",
      "\n",
      "0: 480x640 2 persons, 1 cup, 3 chairs, 1 laptop, 1 oven, 52.3ms\n",
      "Speed: 0.9ms preprocess, 52.3ms inference, 0.5ms postprocess per image at shape (1, 3, 480, 640)\n",
      "\n",
      "0: 480x640 2 persons, 1 cup, 3 chairs, 2 ovens, 1 sink, 52.4ms\n",
      "Speed: 1.1ms preprocess, 52.4ms inference, 0.5ms postprocess per image at shape (1, 3, 480, 640)\n",
      "\n"
     ]
    },
    {
     "name": "stdout",
     "output_type": "stream",
     "text": [
      "Confidence ---> 0.82\n",
      "Confidence ---> 0.6\n",
      "Confidence ---> 0.81\n",
      "Confidence ---> 0.49\n",
      "Confidence ---> 0.79\n",
      "Confidence ---> 0.52\n"
     ]
    },
    {
     "name": "stderr",
     "output_type": "stream",
     "text": [
      "0: 480x640 2 persons, 1 cup, 3 chairs, 1 oven, 1 sink, 54.7ms\n",
      "Speed: 0.9ms preprocess, 54.7ms inference, 0.4ms postprocess per image at shape (1, 3, 480, 640)\n",
      "\n",
      "0: 480x640 2 persons, 1 cup, 4 chairs, 1 oven, 1 sink, 61.5ms\n",
      "Speed: 0.8ms preprocess, 61.5ms inference, 0.6ms postprocess per image at shape (1, 3, 480, 640)\n",
      "\n",
      "0: 480x640 2 persons, 1 cup, 3 chairs, 1 oven, 52.2ms\n",
      "Speed: 1.0ms preprocess, 52.2ms inference, 0.5ms postprocess per image at shape (1, 3, 480, 640)\n",
      "\n"
     ]
    },
    {
     "name": "stdout",
     "output_type": "stream",
     "text": [
      "Confidence ---> 0.8\n",
      "Confidence ---> 0.52\n",
      "Confidence ---> 0.81\n",
      "Confidence ---> 0.53\n",
      "Confidence ---> 0.79\n",
      "Confidence ---> 0.5\n"
     ]
    },
    {
     "name": "stderr",
     "output_type": "stream",
     "text": [
      "0: 480x640 2 persons, 1 cup, 4 chairs, 1 laptop, 1 oven, 55.1ms\n",
      "Speed: 0.9ms preprocess, 55.1ms inference, 0.5ms postprocess per image at shape (1, 3, 480, 640)\n",
      "\n",
      "0: 480x640 2 persons, 1 cup, 4 chairs, 1 oven, 1 sink, 55.5ms\n",
      "Speed: 0.8ms preprocess, 55.5ms inference, 0.4ms postprocess per image at shape (1, 3, 480, 640)\n",
      "\n",
      "0: 480x640 2 persons, 1 cup, 4 chairs, 1 laptop, 1 sink, 71.9ms\n",
      "Speed: 0.9ms preprocess, 71.9ms inference, 0.5ms postprocess per image at shape (1, 3, 480, 640)\n"
     ]
    },
    {
     "name": "stdout",
     "output_type": "stream",
     "text": [
      "Confidence ---> 0.79\n",
      "Confidence ---> 0.45\n",
      "Confidence ---> 0.8\n",
      "Confidence ---> 0.53\n",
      "Confidence ---> 0.83\n",
      "Confidence ---> 0.53\n"
     ]
    },
    {
     "name": "stderr",
     "output_type": "stream",
     "text": [
      "\n",
      "0: 480x640 2 persons, 1 cup, 3 chairs, 1 laptop, 1 sink, 84.2ms\n",
      "Speed: 1.6ms preprocess, 84.2ms inference, 0.6ms postprocess per image at shape (1, 3, 480, 640)\n",
      "\n",
      "0: 480x640 2 persons, 1 cup, 4 chairs, 1 oven, 1 sink, 56.5ms\n",
      "Speed: 1.0ms preprocess, 56.5ms inference, 0.5ms postprocess per image at shape (1, 3, 480, 640)\n",
      "\n",
      "0: 480x640 2 persons, 1 cup, 6 chairs, 1 oven, 1 sink, 55.1ms\n",
      "Speed: 0.9ms preprocess, 55.1ms inference, 0.5ms postprocess per image at shape (1, 3, 480, 640)\n",
      "\n"
     ]
    },
    {
     "name": "stdout",
     "output_type": "stream",
     "text": [
      "Confidence ---> 0.83\n",
      "Confidence ---> 0.55\n",
      "Confidence ---> 0.81\n",
      "Confidence ---> 0.53\n",
      "Confidence ---> 0.8\n",
      "Confidence ---> 0.56\n"
     ]
    },
    {
     "name": "stderr",
     "output_type": "stream",
     "text": [
      "0: 480x640 2 persons, 1 cup, 5 chairs, 1 laptop, 65.6ms\n",
      "Speed: 0.9ms preprocess, 65.6ms inference, 0.4ms postprocess per image at shape (1, 3, 480, 640)\n",
      "\n",
      "0: 480x640 2 persons, 1 cup, 3 chairs, 1 laptop, 1 sink, 57.9ms\n",
      "Speed: 1.0ms preprocess, 57.9ms inference, 0.5ms postprocess per image at shape (1, 3, 480, 640)\n",
      "\n",
      "0: 480x640 2 persons, 1 cup, 3 chairs, 1 laptop, 1 oven, 1 sink, 54.3ms\n",
      "Speed: 0.8ms preprocess, 54.3ms inference, 0.4ms postprocess per image at shape (1, 3, 480, 640)\n"
     ]
    },
    {
     "name": "stdout",
     "output_type": "stream",
     "text": [
      "Confidence ---> 0.79\n",
      "Confidence ---> 0.55\n",
      "Confidence ---> 0.78\n",
      "Confidence ---> 0.63\n",
      "Confidence ---> 0.79\n",
      "Confidence ---> 0.59\n"
     ]
    },
    {
     "name": "stderr",
     "output_type": "stream",
     "text": [
      "\n",
      "0: 480x640 2 persons, 1 cup, 3 chairs, 1 laptop, 1 oven, 1 sink, 59.0ms\n",
      "Speed: 1.0ms preprocess, 59.0ms inference, 0.6ms postprocess per image at shape (1, 3, 480, 640)\n",
      "\n",
      "0: 480x640 2 persons, 1 cup, 4 chairs, 1 laptop, 1 oven, 1 sink, 52.8ms\n",
      "Speed: 0.9ms preprocess, 52.8ms inference, 0.5ms postprocess per image at shape (1, 3, 480, 640)\n",
      "\n",
      "0: 480x640 2 persons, 1 cup, 4 chairs, 1 laptop, 1 oven, 1 sink, 51.3ms\n",
      "Speed: 0.9ms preprocess, 51.3ms inference, 0.4ms postprocess per image at shape (1, 3, 480, 640)\n",
      "\n"
     ]
    },
    {
     "name": "stdout",
     "output_type": "stream",
     "text": [
      "Confidence ---> 0.83\n",
      "Confidence ---> 0.61\n",
      "Confidence ---> 0.8\n",
      "Confidence ---> 0.64\n",
      "Confidence ---> 0.81\n",
      "Confidence ---> 0.68\n"
     ]
    },
    {
     "name": "stderr",
     "output_type": "stream",
     "text": [
      "0: 480x640 2 persons, 1 cup, 4 chairs, 1 laptop, 1 oven, 53.3ms\n",
      "Speed: 1.1ms preprocess, 53.3ms inference, 0.6ms postprocess per image at shape (1, 3, 480, 640)\n",
      "\n",
      "0: 480x640 2 persons, 1 cup, 4 chairs, 1 laptop, 1 sink, 54.9ms\n",
      "Speed: 0.9ms preprocess, 54.9ms inference, 0.5ms postprocess per image at shape (1, 3, 480, 640)\n",
      "\n",
      "0: 480x640 2 persons, 1 cup, 2 chairs, 1 laptop, 1 oven, 51.9ms\n",
      "Speed: 0.8ms preprocess, 51.9ms inference, 0.6ms postprocess per image at shape (1, 3, 480, 640)\n",
      "\n"
     ]
    },
    {
     "name": "stdout",
     "output_type": "stream",
     "text": [
      "Confidence ---> 0.84\n",
      "Confidence ---> 0.61\n",
      "Confidence ---> 0.8\n",
      "Confidence ---> 0.55\n",
      "Confidence ---> 0.84\n",
      "Confidence ---> 0.62\n"
     ]
    },
    {
     "name": "stderr",
     "output_type": "stream",
     "text": [
      "0: 480x640 2 persons, 1 cup, 2 chairs, 1 laptop, 1 oven, 72.0ms\n",
      "Speed: 0.9ms preprocess, 72.0ms inference, 0.6ms postprocess per image at shape (1, 3, 480, 640)\n",
      "\n",
      "0: 480x640 2 persons, 1 cup, 3 chairs, 1 laptop, 1 oven, 53.5ms\n",
      "Speed: 0.9ms preprocess, 53.5ms inference, 0.5ms postprocess per image at shape (1, 3, 480, 640)\n",
      "\n",
      "0: 480x640 2 persons, 1 cup, 4 chairs, 1 laptop, 1 oven, 52.3ms\n",
      "Speed: 0.8ms preprocess, 52.3ms inference, 0.5ms postprocess per image at shape (1, 3, 480, 640)\n"
     ]
    },
    {
     "name": "stdout",
     "output_type": "stream",
     "text": [
      "Confidence ---> 0.83\n",
      "Confidence ---> 0.63\n",
      "Confidence ---> 0.85\n",
      "Confidence ---> 0.56\n",
      "Confidence ---> 0.85\n",
      "Confidence ---> 0.51\n"
     ]
    },
    {
     "name": "stderr",
     "output_type": "stream",
     "text": [
      "\n",
      "0: 480x640 2 persons, 1 cup, 3 chairs, 1 laptop, 1 oven, 55.3ms\n",
      "Speed: 0.9ms preprocess, 55.3ms inference, 0.4ms postprocess per image at shape (1, 3, 480, 640)\n",
      "\n",
      "0: 480x640 2 persons, 1 cup, 5 chairs, 1 laptop, 51.8ms\n",
      "Speed: 0.8ms preprocess, 51.8ms inference, 0.5ms postprocess per image at shape (1, 3, 480, 640)\n",
      "\n",
      "0: 480x640 2 persons, 1 cup, 3 chairs, 1 laptop, 1 sink, 51.8ms\n",
      "Speed: 1.0ms preprocess, 51.8ms inference, 0.4ms postprocess per image at shape (1, 3, 480, 640)\n",
      "\n"
     ]
    },
    {
     "name": "stdout",
     "output_type": "stream",
     "text": [
      "Confidence ---> 0.86\n",
      "Confidence ---> 0.53\n",
      "Confidence ---> 0.85\n",
      "Confidence ---> 0.53\n",
      "Confidence ---> 0.85\n",
      "Confidence ---> 0.7\n"
     ]
    },
    {
     "name": "stderr",
     "output_type": "stream",
     "text": [
      "0: 480x640 2 persons, 3 chairs, 1 oven, 54.1ms\n",
      "Speed: 1.0ms preprocess, 54.1ms inference, 0.5ms postprocess per image at shape (1, 3, 480, 640)\n",
      "\n",
      "0: 480x640 1 person, 1 cup, 4 chairs, 1 laptop, 1 sink, 53.8ms\n",
      "Speed: 1.0ms preprocess, 53.8ms inference, 0.5ms postprocess per image at shape (1, 3, 480, 640)\n",
      "\n",
      "0: 480x640 1 person, 1 cup, 3 chairs, 1 laptop, 1 sink, 52.3ms\n",
      "Speed: 0.9ms preprocess, 52.3ms inference, 0.4ms postprocess per image at shape (1, 3, 480, 640)\n",
      "\n"
     ]
    },
    {
     "name": "stdout",
     "output_type": "stream",
     "text": [
      "Confidence ---> 0.88\n",
      "Confidence ---> 0.52\n",
      "Confidence ---> 0.88\n",
      "Confidence ---> 0.86\n"
     ]
    },
    {
     "name": "stderr",
     "output_type": "stream",
     "text": [
      "0: 480x640 1 person, 1 cup, 2 chairs, 1 laptop, 1 oven, 1 sink, 54.8ms\n",
      "Speed: 1.0ms preprocess, 54.8ms inference, 0.5ms postprocess per image at shape (1, 3, 480, 640)\n",
      "\n",
      "0: 480x640 1 person, 1 chair, 1 toilet, 53.2ms\n",
      "Speed: 1.0ms preprocess, 53.2ms inference, 0.6ms postprocess per image at shape (1, 3, 480, 640)\n",
      "\n",
      "0: 480x640 1 person, 2 chairs, 53.7ms\n",
      "Speed: 0.9ms preprocess, 53.7ms inference, 0.4ms postprocess per image at shape (1, 3, 480, 640)\n",
      "\n"
     ]
    },
    {
     "name": "stdout",
     "output_type": "stream",
     "text": [
      "Confidence ---> 0.81\n",
      "Confidence ---> 0.86\n",
      "Confidence ---> 0.78\n"
     ]
    },
    {
     "name": "stderr",
     "output_type": "stream",
     "text": [
      "0: 480x640 1 person, 1 cup, 2 chairs, 1 laptop, 1 sink, 53.7ms\n",
      "Speed: 1.0ms preprocess, 53.7ms inference, 0.4ms postprocess per image at shape (1, 3, 480, 640)\n",
      "\n",
      "0: 480x640 1 person, 1 cup, 3 chairs, 54.3ms\n",
      "Speed: 1.0ms preprocess, 54.3ms inference, 0.5ms postprocess per image at shape (1, 3, 480, 640)\n",
      "\n",
      "0: 480x640 1 person, 1 chair, 1 laptop, 52.7ms\n",
      "Speed: 1.0ms preprocess, 52.7ms inference, 0.4ms postprocess per image at shape (1, 3, 480, 640)\n",
      "\n"
     ]
    },
    {
     "name": "stdout",
     "output_type": "stream",
     "text": [
      "Confidence ---> 0.79\n",
      "Confidence ---> 0.79\n",
      "Confidence ---> 0.86\n"
     ]
    },
    {
     "name": "stderr",
     "output_type": "stream",
     "text": [
      "0: 480x640 1 person, 1 cup, 2 chairs, 1 laptop, 1 sink, 54.8ms\n",
      "Speed: 0.8ms preprocess, 54.8ms inference, 0.4ms postprocess per image at shape (1, 3, 480, 640)\n",
      "\n",
      "0: 480x640 1 person, 1 cup, 3 chairs, 1 laptop, 1 sink, 54.3ms\n",
      "Speed: 1.0ms preprocess, 54.3ms inference, 0.4ms postprocess per image at shape (1, 3, 480, 640)\n",
      "\n",
      "0: 480x640 1 person, 1 chair, 1 sink, 53.4ms\n",
      "Speed: 0.8ms preprocess, 53.4ms inference, 0.4ms postprocess per image at shape (1, 3, 480, 640)\n",
      "\n"
     ]
    },
    {
     "name": "stdout",
     "output_type": "stream",
     "text": [
      "Confidence ---> 0.83\n",
      "Confidence ---> 0.85\n",
      "Confidence ---> 0.86\n"
     ]
    },
    {
     "name": "stderr",
     "output_type": "stream",
     "text": [
      "0: 480x640 1 person, 3 chairs, 1 dining table, 55.2ms\n",
      "Speed: 1.0ms preprocess, 55.2ms inference, 0.4ms postprocess per image at shape (1, 3, 480, 640)\n",
      "\n",
      "0: 480x640 1 person, 1 cup, 1 chair, 1 sink, 55.2ms\n",
      "Speed: 1.0ms preprocess, 55.2ms inference, 0.5ms postprocess per image at shape (1, 3, 480, 640)\n",
      "\n",
      "0: 480x640 1 person, 1 cup, 3 chairs, 52.4ms\n",
      "Speed: 1.1ms preprocess, 52.4ms inference, 0.5ms postprocess per image at shape (1, 3, 480, 640)\n",
      "\n"
     ]
    },
    {
     "name": "stdout",
     "output_type": "stream",
     "text": [
      "Confidence ---> 0.87\n",
      "Confidence ---> 0.9\n",
      "Confidence ---> 0.88\n"
     ]
    },
    {
     "name": "stderr",
     "output_type": "stream",
     "text": [
      "0: 480x640 1 person, 1 backpack, 1 cup, 2 chairs, 56.0ms\n",
      "Speed: 1.0ms preprocess, 56.0ms inference, 0.4ms postprocess per image at shape (1, 3, 480, 640)\n",
      "\n",
      "0: 480x640 1 person, 1 cup, 2 chairs, 54.7ms\n",
      "Speed: 0.8ms preprocess, 54.7ms inference, 0.5ms postprocess per image at shape (1, 3, 480, 640)\n",
      "\n",
      "0: 480x640 1 person, 1 chair, 51.8ms\n",
      "Speed: 0.8ms preprocess, 51.8ms inference, 0.5ms postprocess per image at shape (1, 3, 480, 640)\n",
      "\n"
     ]
    },
    {
     "name": "stdout",
     "output_type": "stream",
     "text": [
      "Confidence ---> 0.87\n",
      "Confidence ---> 0.87\n",
      "Confidence ---> 0.86\n"
     ]
    },
    {
     "name": "stderr",
     "output_type": "stream",
     "text": [
      "0: 480x640 1 person, 1 chair, 2 sinks, 69.4ms\n",
      "Speed: 0.9ms preprocess, 69.4ms inference, 0.4ms postprocess per image at shape (1, 3, 480, 640)\n",
      "\n",
      "0: 480x640 1 person, 1 backpack, 1 cup, 1 chair, 52.8ms\n",
      "Speed: 0.9ms preprocess, 52.8ms inference, 0.4ms postprocess per image at shape (1, 3, 480, 640)\n",
      "\n",
      "0: 480x640 1 person, 1 backpack, 1 cup, 2 chairs, 1 dining table, 56.6ms\n",
      "Speed: 0.9ms preprocess, 56.6ms inference, 0.4ms postprocess per image at shape (1, 3, 480, 640)\n"
     ]
    },
    {
     "name": "stdout",
     "output_type": "stream",
     "text": [
      "Confidence ---> 0.86\n",
      "Confidence ---> 0.88\n",
      "Confidence ---> 0.88\n"
     ]
    },
    {
     "name": "stderr",
     "output_type": "stream",
     "text": [
      "\n",
      "0: 480x640 1 person, 1 backpack, 1 cup, 3 chairs, 1 laptop, 61.1ms\n",
      "Speed: 0.9ms preprocess, 61.1ms inference, 0.4ms postprocess per image at shape (1, 3, 480, 640)\n",
      "\n",
      "0: 480x640 1 person, 2 chairs, 1 laptop, 54.4ms\n",
      "Speed: 1.0ms preprocess, 54.4ms inference, 0.4ms postprocess per image at shape (1, 3, 480, 640)\n",
      "\n",
      "0: 480x640 1 person, 1 cup, 3 chairs, 1 laptop, 52.4ms\n",
      "Speed: 0.9ms preprocess, 52.4ms inference, 0.5ms postprocess per image at shape (1, 3, 480, 640)\n",
      "\n"
     ]
    },
    {
     "name": "stdout",
     "output_type": "stream",
     "text": [
      "Confidence ---> 0.87\n",
      "Confidence ---> 0.88\n",
      "Confidence ---> 0.88\n"
     ]
    },
    {
     "name": "stderr",
     "output_type": "stream",
     "text": [
      "0: 480x640 1 person, 1 cup, 2 chairs, 1 laptop, 1 oven, 55.7ms\n",
      "Speed: 0.9ms preprocess, 55.7ms inference, 0.4ms postprocess per image at shape (1, 3, 480, 640)\n",
      "\n",
      "0: 480x640 2 persons, 1 backpack, 1 cup, 2 chairs, 2 laptops, 53.7ms\n",
      "Speed: 1.3ms preprocess, 53.7ms inference, 0.5ms postprocess per image at shape (1, 3, 480, 640)\n",
      "\n",
      "0: 480x640 2 persons, 1 cup, 5 chairs, 1 laptop, 52.7ms\n",
      "Speed: 1.2ms preprocess, 52.7ms inference, 0.4ms postprocess per image at shape (1, 3, 480, 640)\n",
      "\n"
     ]
    },
    {
     "name": "stdout",
     "output_type": "stream",
     "text": [
      "Confidence ---> 0.89\n",
      "Confidence ---> 0.89\n",
      "Confidence ---> 0.28\n",
      "Confidence ---> 0.88\n",
      "Confidence ---> 0.41\n"
     ]
    },
    {
     "name": "stderr",
     "output_type": "stream",
     "text": [
      "0: 480x640 1 person, 1 cup, 2 chairs, 1 laptop, 55.1ms\n",
      "Speed: 1.1ms preprocess, 55.1ms inference, 0.5ms postprocess per image at shape (1, 3, 480, 640)\n",
      "\n",
      "0: 480x640 1 person, 1 cup, 3 chairs, 54.3ms\n",
      "Speed: 1.1ms preprocess, 54.3ms inference, 0.4ms postprocess per image at shape (1, 3, 480, 640)\n",
      "\n",
      "0: 480x640 2 persons, 1 cup, 1 chair, 1 laptop, 52.9ms\n",
      "Speed: 0.8ms preprocess, 52.9ms inference, 0.4ms postprocess per image at shape (1, 3, 480, 640)\n",
      "\n"
     ]
    },
    {
     "name": "stdout",
     "output_type": "stream",
     "text": [
      "Confidence ---> 0.88\n",
      "Confidence ---> 0.87\n",
      "Confidence ---> 0.85\n",
      "Confidence ---> 0.26\n"
     ]
    },
    {
     "name": "stderr",
     "output_type": "stream",
     "text": [
      "0: 480x640 1 person, 1 backpack, 1 cup, 3 chairs, 1 laptop, 1 oven, 55.1ms\n",
      "Speed: 1.1ms preprocess, 55.1ms inference, 0.4ms postprocess per image at shape (1, 3, 480, 640)\n",
      "\n",
      "0: 480x640 1 person, 1 cup, 3 chairs, 1 laptop, 1 oven, 55.6ms\n",
      "Speed: 0.8ms preprocess, 55.6ms inference, 0.6ms postprocess per image at shape (1, 3, 480, 640)\n",
      "\n",
      "0: 480x640 1 person, 1 backpack, 1 cup, 3 chairs, 1 laptop, 51.7ms\n",
      "Speed: 0.8ms preprocess, 51.7ms inference, 0.4ms postprocess per image at shape (1, 3, 480, 640)\n",
      "\n"
     ]
    },
    {
     "name": "stdout",
     "output_type": "stream",
     "text": [
      "Confidence ---> 0.85\n",
      "Confidence ---> 0.85\n",
      "Confidence ---> 0.86\n"
     ]
    },
    {
     "name": "stderr",
     "output_type": "stream",
     "text": [
      "0: 480x640 1 person, 1 backpack, 1 cup, 1 chair, 1 laptop, 54.1ms\n",
      "Speed: 1.1ms preprocess, 54.1ms inference, 0.5ms postprocess per image at shape (1, 3, 480, 640)\n",
      "\n",
      "0: 480x640 1 person, 1 backpack, 1 cup, 4 chairs, 1 laptop, 53.4ms\n",
      "Speed: 0.9ms preprocess, 53.4ms inference, 0.4ms postprocess per image at shape (1, 3, 480, 640)\n",
      "\n",
      "0: 480x640 1 person, 1 backpack, 1 cup, 2 chairs, 1 laptop, 52.8ms\n",
      "Speed: 0.8ms preprocess, 52.8ms inference, 0.4ms postprocess per image at shape (1, 3, 480, 640)\n",
      "\n"
     ]
    },
    {
     "name": "stdout",
     "output_type": "stream",
     "text": [
      "Confidence ---> 0.87\n",
      "Confidence ---> 0.87\n",
      "Confidence ---> 0.86\n"
     ]
    },
    {
     "name": "stderr",
     "output_type": "stream",
     "text": [
      "0: 480x640 1 person, 2 backpacks, 1 cup, 2 chairs, 1 laptop, 55.4ms\n",
      "Speed: 0.8ms preprocess, 55.4ms inference, 0.5ms postprocess per image at shape (1, 3, 480, 640)\n",
      "\n",
      "0: 480x640 1 person, 1 backpack, 1 cup, 2 chairs, 1 laptop, 55.3ms\n",
      "Speed: 1.0ms preprocess, 55.3ms inference, 0.4ms postprocess per image at shape (1, 3, 480, 640)\n",
      "\n",
      "0: 480x640 1 person, 1 cup, 1 chair, 1 laptop, 54.0ms\n",
      "Speed: 1.0ms preprocess, 54.0ms inference, 0.4ms postprocess per image at shape (1, 3, 480, 640)\n",
      "\n"
     ]
    },
    {
     "name": "stdout",
     "output_type": "stream",
     "text": [
      "Confidence ---> 0.85\n",
      "Confidence ---> 0.87\n",
      "Confidence ---> 0.86\n"
     ]
    },
    {
     "name": "stderr",
     "output_type": "stream",
     "text": [
      "0: 480x640 1 person, 1 cup, 1 chair, 1 tv, 1 laptop, 55.9ms\n",
      "Speed: 1.0ms preprocess, 55.9ms inference, 0.4ms postprocess per image at shape (1, 3, 480, 640)\n",
      "\n",
      "0: 480x640 1 person, 1 backpack, 1 cup, 2 chairs, 1 laptop, 61.5ms\n",
      "Speed: 3.0ms preprocess, 61.5ms inference, 0.5ms postprocess per image at shape (1, 3, 480, 640)\n",
      "\n",
      "0: 480x640 1 person, 1 backpack, 1 cup, 2 chairs, 1 laptop, 51.9ms\n",
      "Speed: 0.9ms preprocess, 51.9ms inference, 0.5ms postprocess per image at shape (1, 3, 480, 640)\n"
     ]
    },
    {
     "name": "stdout",
     "output_type": "stream",
     "text": [
      "Confidence ---> 0.86\n",
      "Confidence ---> 0.84\n",
      "Confidence ---> 0.85\n"
     ]
    },
    {
     "name": "stderr",
     "output_type": "stream",
     "text": [
      "\n",
      "0: 480x640 1 person, 1 backpack, 1 cup, 2 chairs, 1 laptop, 55.7ms\n",
      "Speed: 1.1ms preprocess, 55.7ms inference, 0.6ms postprocess per image at shape (1, 3, 480, 640)\n",
      "\n",
      "0: 480x640 1 person, 1 cup, 2 chairs, 1 laptop, 55.3ms\n",
      "Speed: 0.8ms preprocess, 55.3ms inference, 0.5ms postprocess per image at shape (1, 3, 480, 640)\n",
      "\n",
      "0: 480x640 1 person, 1 cup, 2 chairs, 1 laptop, 52.6ms\n",
      "Speed: 0.9ms preprocess, 52.6ms inference, 0.4ms postprocess per image at shape (1, 3, 480, 640)\n",
      "\n"
     ]
    },
    {
     "name": "stdout",
     "output_type": "stream",
     "text": [
      "Confidence ---> 0.84\n",
      "Confidence ---> 0.85\n",
      "Confidence ---> 0.85\n"
     ]
    },
    {
     "name": "stderr",
     "output_type": "stream",
     "text": [
      "0: 480x640 1 person, 1 cup, 1 chair, 1 tv, 1 laptop, 1 oven, 53.4ms\n",
      "Speed: 1.0ms preprocess, 53.4ms inference, 0.5ms postprocess per image at shape (1, 3, 480, 640)\n",
      "\n",
      "0: 480x640 1 person, 1 cup, 2 chairs, 1 tv, 1 laptop, 1 oven, 53.3ms\n",
      "Speed: 1.4ms preprocess, 53.3ms inference, 0.4ms postprocess per image at shape (1, 3, 480, 640)\n",
      "\n",
      "0: 480x640 2 persons, 1 cup, 2 chairs, 1 tv, 1 laptop, 1 oven, 52.7ms\n",
      "Speed: 1.0ms preprocess, 52.7ms inference, 0.4ms postprocess per image at shape (1, 3, 480, 640)\n",
      "\n"
     ]
    },
    {
     "name": "stdout",
     "output_type": "stream",
     "text": [
      "Confidence ---> 0.83\n",
      "Confidence ---> 0.84\n",
      "Confidence ---> 0.85\n",
      "Confidence ---> 0.29\n"
     ]
    },
    {
     "name": "stderr",
     "output_type": "stream",
     "text": [
      "0: 480x640 2 persons, 1 cup, 2 chairs, 1 laptop, 1 oven, 54.7ms\n",
      "Speed: 0.9ms preprocess, 54.7ms inference, 0.5ms postprocess per image at shape (1, 3, 480, 640)\n",
      "\n",
      "0: 480x640 2 persons, 1 cup, 2 chairs, 1 tv, 1 laptop, 53.8ms\n",
      "Speed: 1.3ms preprocess, 53.8ms inference, 0.5ms postprocess per image at shape (1, 3, 480, 640)\n",
      "\n",
      "0: 480x640 2 persons, 1 cup, 2 chairs, 1 tv, 1 laptop, 1 oven, 52.4ms\n",
      "Speed: 1.0ms preprocess, 52.4ms inference, 0.5ms postprocess per image at shape (1, 3, 480, 640)\n",
      "\n"
     ]
    },
    {
     "name": "stdout",
     "output_type": "stream",
     "text": [
      "Confidence ---> 0.84\n",
      "Confidence ---> 0.43\n",
      "Confidence ---> 0.83\n",
      "Confidence ---> 0.36\n",
      "Confidence ---> 0.83\n",
      "Confidence ---> 0.52\n"
     ]
    },
    {
     "name": "stderr",
     "output_type": "stream",
     "text": [
      "0: 480x640 2 persons, 1 cup, 2 chairs, 1 tv, 1 laptop, 55.9ms\n",
      "Speed: 0.9ms preprocess, 55.9ms inference, 0.5ms postprocess per image at shape (1, 3, 480, 640)\n",
      "\n",
      "0: 480x640 2 persons, 1 cup, 2 chairs, 1 tv, 1 laptop, 55.6ms\n",
      "Speed: 0.8ms preprocess, 55.6ms inference, 0.4ms postprocess per image at shape (1, 3, 480, 640)\n",
      "\n",
      "0: 480x640 2 persons, 1 cup, 2 chairs, 1 tv, 1 laptop, 52.8ms\n",
      "Speed: 0.8ms preprocess, 52.8ms inference, 0.5ms postprocess per image at shape (1, 3, 480, 640)\n",
      "\n"
     ]
    },
    {
     "name": "stdout",
     "output_type": "stream",
     "text": [
      "Confidence ---> 0.83\n",
      "Confidence ---> 0.51\n",
      "Confidence ---> 0.84\n",
      "Confidence ---> 0.57\n",
      "Confidence ---> 0.82\n",
      "Confidence ---> 0.56\n"
     ]
    },
    {
     "name": "stderr",
     "output_type": "stream",
     "text": [
      "0: 480x640 2 persons, 1 cup, 2 chairs, 1 tv, 1 laptop, 55.3ms\n",
      "Speed: 1.0ms preprocess, 55.3ms inference, 0.5ms postprocess per image at shape (1, 3, 480, 640)\n",
      "\n",
      "0: 480x640 2 persons, 1 cup, 2 chairs, 1 tv, 1 laptop, 54.7ms\n",
      "Speed: 1.1ms preprocess, 54.7ms inference, 0.4ms postprocess per image at shape (1, 3, 480, 640)\n",
      "\n",
      "0: 480x640 2 persons, 1 cup, 2 chairs, 1 tv, 1 laptop, 53.3ms\n",
      "Speed: 1.1ms preprocess, 53.3ms inference, 0.4ms postprocess per image at shape (1, 3, 480, 640)\n",
      "\n"
     ]
    },
    {
     "name": "stdout",
     "output_type": "stream",
     "text": [
      "Confidence ---> 0.82\n",
      "Confidence ---> 0.54\n",
      "Confidence ---> 0.81\n",
      "Confidence ---> 0.61\n",
      "Confidence ---> 0.81\n",
      "Confidence ---> 0.59\n"
     ]
    },
    {
     "name": "stderr",
     "output_type": "stream",
     "text": [
      "0: 480x640 2 persons, 1 cup, 2 chairs, 1 tv, 1 laptop, 54.7ms\n",
      "Speed: 1.0ms preprocess, 54.7ms inference, 0.6ms postprocess per image at shape (1, 3, 480, 640)\n",
      "\n",
      "0: 480x640 2 persons, 1 cup, 2 chairs, 1 laptop, 1 oven, 53.4ms\n",
      "Speed: 1.1ms preprocess, 53.4ms inference, 0.5ms postprocess per image at shape (1, 3, 480, 640)\n",
      "\n",
      "0: 480x640 2 persons, 1 backpack, 1 cup, 2 chairs, 1 laptop, 1 oven, 53.2ms\n",
      "Speed: 1.0ms preprocess, 53.2ms inference, 0.4ms postprocess per image at shape (1, 3, 480, 640)\n",
      "\n"
     ]
    },
    {
     "name": "stdout",
     "output_type": "stream",
     "text": [
      "Confidence ---> 0.85\n",
      "Confidence ---> 0.5\n",
      "Confidence ---> 0.85\n",
      "Confidence ---> 0.64\n",
      "Confidence ---> 0.83\n",
      "Confidence ---> 0.66\n"
     ]
    },
    {
     "name": "stderr",
     "output_type": "stream",
     "text": [
      "0: 480x640 2 persons, 1 backpack, 1 cup, 2 chairs, 1 laptop, 1 oven, 55.7ms\n",
      "Speed: 0.9ms preprocess, 55.7ms inference, 0.5ms postprocess per image at shape (1, 3, 480, 640)\n",
      "\n",
      "0: 480x640 2 persons, 1 cup, 2 chairs, 1 laptop, 54.8ms\n",
      "Speed: 0.8ms preprocess, 54.8ms inference, 0.5ms postprocess per image at shape (1, 3, 480, 640)\n",
      "\n",
      "0: 480x640 2 persons, 1 cup, 2 chairs, 1 laptop, 65.9ms\n",
      "Speed: 0.8ms preprocess, 65.9ms inference, 0.5ms postprocess per image at shape (1, 3, 480, 640)\n"
     ]
    },
    {
     "name": "stdout",
     "output_type": "stream",
     "text": [
      "Confidence ---> 0.82\n",
      "Confidence ---> 0.62\n",
      "Confidence ---> 0.86\n",
      "Confidence ---> 0.56\n",
      "Confidence ---> 0.84\n",
      "Confidence ---> 0.58\n"
     ]
    },
    {
     "name": "stderr",
     "output_type": "stream",
     "text": [
      "\n",
      "0: 480x640 2 persons, 1 backpack, 1 cup, 2 chairs, 1 laptop, 1 oven, 55.0ms\n",
      "Speed: 0.9ms preprocess, 55.0ms inference, 0.5ms postprocess per image at shape (1, 3, 480, 640)\n",
      "\n",
      "0: 480x640 2 persons, 1 cup, 3 chairs, 1 laptop, 1 oven, 54.5ms\n",
      "Speed: 0.9ms preprocess, 54.5ms inference, 0.4ms postprocess per image at shape (1, 3, 480, 640)\n",
      "\n",
      "0: 480x640 2 persons, 1 cup, 2 chairs, 1 tv, 1 laptop, 1 oven, 52.2ms\n",
      "Speed: 0.8ms preprocess, 52.2ms inference, 0.5ms postprocess per image at shape (1, 3, 480, 640)\n",
      "\n"
     ]
    },
    {
     "name": "stdout",
     "output_type": "stream",
     "text": [
      "Confidence ---> 0.83\n",
      "Confidence ---> 0.65\n",
      "Confidence ---> 0.86\n",
      "Confidence ---> 0.66\n",
      "Confidence ---> 0.84\n",
      "Confidence ---> 0.58\n"
     ]
    },
    {
     "name": "stderr",
     "output_type": "stream",
     "text": [
      "0: 480x640 2 persons, 1 cup, 2 chairs, 1 laptop, 1 oven, 54.7ms\n",
      "Speed: 1.0ms preprocess, 54.7ms inference, 0.4ms postprocess per image at shape (1, 3, 480, 640)\n",
      "\n",
      "0: 480x640 2 persons, 1 backpack, 1 cup, 2 chairs, 1 tv, 1 laptop, 1 oven, 52.6ms\n",
      "Speed: 1.0ms preprocess, 52.6ms inference, 0.5ms postprocess per image at shape (1, 3, 480, 640)\n",
      "\n",
      "0: 480x640 2 persons, 1 backpack, 1 cup, 3 chairs, 1 tv, 1 laptop, 52.5ms\n",
      "Speed: 0.9ms preprocess, 52.5ms inference, 0.4ms postprocess per image at shape (1, 3, 480, 640)\n",
      "\n"
     ]
    },
    {
     "name": "stdout",
     "output_type": "stream",
     "text": [
      "Confidence ---> 0.85\n",
      "Confidence ---> 0.61\n",
      "Confidence ---> 0.84\n",
      "Confidence ---> 0.61\n",
      "Confidence ---> 0.82\n",
      "Confidence ---> 0.64\n"
     ]
    },
    {
     "name": "stderr",
     "output_type": "stream",
     "text": [
      "0: 480x640 2 persons, 1 backpack, 1 cup, 2 chairs, 1 tv, 1 laptop, 54.0ms\n",
      "Speed: 0.9ms preprocess, 54.0ms inference, 0.4ms postprocess per image at shape (1, 3, 480, 640)\n",
      "\n",
      "0: 480x640 2 persons, 1 backpack, 1 cup, 2 chairs, 1 tv, 1 laptop, 54.8ms\n",
      "Speed: 1.3ms preprocess, 54.8ms inference, 0.5ms postprocess per image at shape (1, 3, 480, 640)\n",
      "\n",
      "0: 480x640 2 persons, 1 backpack, 1 cup, 2 chairs, 1 tv, 1 laptop, 53.5ms\n",
      "Speed: 0.8ms preprocess, 53.5ms inference, 0.4ms postprocess per image at shape (1, 3, 480, 640)\n",
      "\n"
     ]
    },
    {
     "name": "stdout",
     "output_type": "stream",
     "text": [
      "Confidence ---> 0.83\n",
      "Confidence ---> 0.61\n",
      "Confidence ---> 0.85\n",
      "Confidence ---> 0.55\n",
      "Confidence ---> 0.84\n",
      "Confidence ---> 0.37\n"
     ]
    },
    {
     "name": "stderr",
     "output_type": "stream",
     "text": [
      "0: 480x640 3 persons, 1 backpack, 1 cup, 2 chairs, 1 tv, 1 laptop, 55.9ms\n",
      "Speed: 0.8ms preprocess, 55.9ms inference, 0.5ms postprocess per image at shape (1, 3, 480, 640)\n",
      "\n",
      "0: 480x640 5 persons, 1 cup, 3 chairs, 1 tv, 1 laptop, 55.9ms\n",
      "Speed: 0.9ms preprocess, 55.9ms inference, 0.6ms postprocess per image at shape (1, 3, 480, 640)\n",
      "\n",
      "0: 480x640 5 persons, 1 cup, 5 chairs, 1 tv, 1 laptop, 53.2ms\n",
      "Speed: 1.0ms preprocess, 53.2ms inference, 0.5ms postprocess per image at shape (1, 3, 480, 640)\n",
      "\n"
     ]
    },
    {
     "name": "stdout",
     "output_type": "stream",
     "text": [
      "Confidence ---> 0.85\n",
      "Confidence ---> 0.32\n",
      "Confidence ---> 0.31\n",
      "Confidence ---> 0.86\n",
      "Confidence ---> 0.4\n",
      "Confidence ---> 0.31\n",
      "Confidence ---> 0.3\n",
      "Confidence ---> 0.27\n",
      "Confidence ---> 0.84\n",
      "Confidence ---> 0.34\n",
      "Confidence ---> 0.34\n",
      "Confidence ---> 0.33\n",
      "Confidence ---> 0.28\n"
     ]
    },
    {
     "name": "stderr",
     "output_type": "stream",
     "text": [
      "0: 480x640 4 persons, 1 cup, 3 chairs, 1 tv, 1 laptop, 54.0ms\n",
      "Speed: 0.9ms preprocess, 54.0ms inference, 0.5ms postprocess per image at shape (1, 3, 480, 640)\n",
      "\n",
      "0: 480x640 5 persons, 1 cup, 3 chairs, 1 tv, 1 laptop, 53.4ms\n",
      "Speed: 1.0ms preprocess, 53.4ms inference, 0.5ms postprocess per image at shape (1, 3, 480, 640)\n",
      "\n",
      "0: 480x640 3 persons, 1 backpack, 1 cup, 3 chairs, 1 tv, 1 laptop, 53.3ms\n",
      "Speed: 0.9ms preprocess, 53.3ms inference, 0.5ms postprocess per image at shape (1, 3, 480, 640)\n",
      "\n"
     ]
    },
    {
     "name": "stdout",
     "output_type": "stream",
     "text": [
      "Confidence ---> 0.87\n",
      "Confidence ---> 0.42\n",
      "Confidence ---> 0.38\n",
      "Confidence ---> 0.31\n",
      "Confidence ---> 0.87\n",
      "Confidence ---> 0.56\n",
      "Confidence ---> 0.45\n",
      "Confidence ---> 0.27\n",
      "Confidence ---> 0.26\n",
      "Confidence ---> 0.87\n",
      "Confidence ---> 0.46\n",
      "Confidence ---> 0.43\n"
     ]
    },
    {
     "name": "stderr",
     "output_type": "stream",
     "text": [
      "0: 480x640 4 persons, 1 backpack, 1 cup, 3 chairs, 1 tv, 1 laptop, 56.1ms\n",
      "Speed: 0.8ms preprocess, 56.1ms inference, 0.4ms postprocess per image at shape (1, 3, 480, 640)\n",
      "\n",
      "0: 480x640 4 persons, 1 backpack, 1 cup, 3 chairs, 1 laptop, 55.3ms\n",
      "Speed: 1.0ms preprocess, 55.3ms inference, 0.5ms postprocess per image at shape (1, 3, 480, 640)\n",
      "\n",
      "0: 480x640 4 persons, 1 cup, 3 chairs, 1 tv, 1 laptop, 53.1ms\n",
      "Speed: 0.9ms preprocess, 53.1ms inference, 0.5ms postprocess per image at shape (1, 3, 480, 640)\n",
      "\n"
     ]
    },
    {
     "name": "stdout",
     "output_type": "stream",
     "text": [
      "Confidence ---> 0.87\n",
      "Confidence ---> 0.65\n",
      "Confidence ---> 0.43\n",
      "Confidence ---> 0.31\n",
      "Confidence ---> 0.84\n",
      "Confidence ---> 0.61\n",
      "Confidence ---> 0.46\n",
      "Confidence ---> 0.41\n",
      "Confidence ---> 0.74\n",
      "Confidence ---> 0.54\n",
      "Confidence ---> 0.35\n",
      "Confidence ---> 0.27\n"
     ]
    },
    {
     "name": "stderr",
     "output_type": "stream",
     "text": [
      "0: 480x640 2 persons, 1 backpack, 1 cup, 4 chairs, 1 tv, 1 laptop, 56.2ms\n",
      "Speed: 0.8ms preprocess, 56.2ms inference, 0.6ms postprocess per image at shape (1, 3, 480, 640)\n",
      "\n",
      "0: 480x640 4 persons, 1 backpack, 1 cup, 3 chairs, 1 laptop, 54.1ms\n",
      "Speed: 1.0ms preprocess, 54.1ms inference, 0.5ms postprocess per image at shape (1, 3, 480, 640)\n",
      "\n",
      "0: 480x640 3 persons, 1 backpack, 1 cup, 3 chairs, 1 tv, 1 laptop, 52.7ms\n",
      "Speed: 1.1ms preprocess, 52.7ms inference, 0.5ms postprocess per image at shape (1, 3, 480, 640)\n",
      "\n"
     ]
    },
    {
     "name": "stdout",
     "output_type": "stream",
     "text": [
      "Confidence ---> 0.78\n",
      "Confidence ---> 0.52\n",
      "Confidence ---> 0.8\n",
      "Confidence ---> 0.47\n",
      "Confidence ---> 0.34\n",
      "Confidence ---> 0.32\n",
      "Confidence ---> 0.82\n",
      "Confidence ---> 0.41\n",
      "Confidence ---> 0.36\n"
     ]
    },
    {
     "name": "stderr",
     "output_type": "stream",
     "text": [
      "0: 480x640 2 persons, 1 backpack, 1 cup, 3 chairs, 1 laptop, 70.0ms\n",
      "Speed: 1.2ms preprocess, 70.0ms inference, 0.5ms postprocess per image at shape (1, 3, 480, 640)\n",
      "\n",
      "0: 480x640 2 persons, 1 backpack, 1 cup, 3 chairs, 1 tv, 1 laptop, 52.4ms\n",
      "Speed: 0.9ms preprocess, 52.4ms inference, 0.4ms postprocess per image at shape (1, 3, 480, 640)\n",
      "\n",
      "0: 480x640 2 persons, 1 backpack, 1 cup, 3 chairs, 1 tv, 1 laptop, 52.8ms\n",
      "Speed: 1.0ms preprocess, 52.8ms inference, 0.5ms postprocess per image at shape (1, 3, 480, 640)\n"
     ]
    },
    {
     "name": "stdout",
     "output_type": "stream",
     "text": [
      "Confidence ---> 0.83\n",
      "Confidence ---> 0.58\n",
      "Confidence ---> 0.83\n",
      "Confidence ---> 0.63\n",
      "Confidence ---> 0.83\n",
      "Confidence ---> 0.5\n"
     ]
    },
    {
     "name": "stderr",
     "output_type": "stream",
     "text": [
      "\n",
      "0: 480x640 2 persons, 1 backpack, 1 cup, 2 chairs, 1 tv, 1 laptop, 56.6ms\n",
      "Speed: 1.0ms preprocess, 56.6ms inference, 0.4ms postprocess per image at shape (1, 3, 480, 640)\n",
      "\n",
      "0: 480x640 2 persons, 1 backpack, 1 cup, 4 chairs, 1 tv, 1 laptop, 52.5ms\n",
      "Speed: 0.9ms preprocess, 52.5ms inference, 0.4ms postprocess per image at shape (1, 3, 480, 640)\n",
      "\n",
      "0: 480x640 3 persons, 1 cup, 3 chairs, 1 tv, 1 laptop, 53.8ms\n",
      "Speed: 0.9ms preprocess, 53.8ms inference, 0.5ms postprocess per image at shape (1, 3, 480, 640)\n",
      "\n"
     ]
    },
    {
     "name": "stdout",
     "output_type": "stream",
     "text": [
      "Confidence ---> 0.81\n",
      "Confidence ---> 0.43\n",
      "Confidence ---> 0.81\n",
      "Confidence ---> 0.47\n",
      "Confidence ---> 0.85\n",
      "Confidence ---> 0.54\n",
      "Confidence ---> 0.3\n"
     ]
    },
    {
     "name": "stderr",
     "output_type": "stream",
     "text": [
      "0: 480x640 3 persons, 1 backpack, 1 cup, 6 chairs, 1 tv, 1 laptop, 56.5ms\n",
      "Speed: 1.2ms preprocess, 56.5ms inference, 0.5ms postprocess per image at shape (1, 3, 480, 640)\n",
      "\n",
      "0: 480x640 2 persons, 1 backpack, 1 cup, 5 chairs, 1 tv, 1 laptop, 54.5ms\n",
      "Speed: 1.0ms preprocess, 54.5ms inference, 0.5ms postprocess per image at shape (1, 3, 480, 640)\n",
      "\n",
      "0: 480x640 2 persons, 1 backpack, 1 cup, 5 chairs, 1 tv, 1 laptop, 53.4ms\n",
      "Speed: 1.1ms preprocess, 53.4ms inference, 0.4ms postprocess per image at shape (1, 3, 480, 640)\n",
      "\n"
     ]
    },
    {
     "name": "stdout",
     "output_type": "stream",
     "text": [
      "Confidence ---> 0.82\n",
      "Confidence ---> 0.52\n",
      "Confidence ---> 0.26\n",
      "Confidence ---> 0.83\n",
      "Confidence ---> 0.44\n",
      "Confidence ---> 0.83\n",
      "Confidence ---> 0.45\n"
     ]
    },
    {
     "name": "stderr",
     "output_type": "stream",
     "text": [
      "0: 480x640 2 persons, 1 backpack, 1 cup, 5 chairs, 1 tv, 1 laptop, 54.7ms\n",
      "Speed: 1.0ms preprocess, 54.7ms inference, 0.5ms postprocess per image at shape (1, 3, 480, 640)\n",
      "\n",
      "0: 480x640 3 persons, 1 backpack, 1 cup, 4 chairs, 1 tv, 1 laptop, 55.4ms\n",
      "Speed: 1.0ms preprocess, 55.4ms inference, 0.5ms postprocess per image at shape (1, 3, 480, 640)\n",
      "\n",
      "0: 480x640 3 persons, 1 backpack, 1 cup, 6 chairs, 1 tv, 1 laptop, 52.5ms\n",
      "Speed: 1.0ms preprocess, 52.5ms inference, 0.5ms postprocess per image at shape (1, 3, 480, 640)\n",
      "\n"
     ]
    },
    {
     "name": "stdout",
     "output_type": "stream",
     "text": [
      "Confidence ---> 0.85\n",
      "Confidence ---> 0.55\n",
      "Confidence ---> 0.85\n",
      "Confidence ---> 0.52\n",
      "Confidence ---> 0.26\n",
      "Confidence ---> 0.84\n",
      "Confidence ---> 0.35\n",
      "Confidence ---> 0.33\n"
     ]
    },
    {
     "name": "stderr",
     "output_type": "stream",
     "text": [
      "0: 480x640 3 persons, 1 backpack, 1 cup, 4 chairs, 1 tv, 1 laptop, 60.3ms\n",
      "Speed: 0.9ms preprocess, 60.3ms inference, 0.6ms postprocess per image at shape (1, 3, 480, 640)\n",
      "\n",
      "0: 480x640 1 person, 1 cup, 5 chairs, 1 tv, 1 laptop, 54.6ms\n",
      "Speed: 0.9ms preprocess, 54.6ms inference, 0.4ms postprocess per image at shape (1, 3, 480, 640)\n",
      "\n",
      "0: 480x640 3 persons, 1 backpack, 1 cup, 4 chairs, 1 tv, 1 laptop, 53.9ms\n",
      "Speed: 0.8ms preprocess, 53.9ms inference, 0.4ms postprocess per image at shape (1, 3, 480, 640)\n",
      "\n"
     ]
    },
    {
     "name": "stdout",
     "output_type": "stream",
     "text": [
      "Confidence ---> 0.84\n",
      "Confidence ---> 0.32\n",
      "Confidence ---> 0.32\n",
      "Confidence ---> 0.82\n",
      "Confidence ---> 0.84\n",
      "Confidence ---> 0.34\n",
      "Confidence ---> 0.28\n"
     ]
    },
    {
     "name": "stderr",
     "output_type": "stream",
     "text": [
      "0: 480x640 3 persons, 1 backpack, 1 cup, 3 chairs, 1 tv, 1 laptop, 54.7ms\n",
      "Speed: 1.0ms preprocess, 54.7ms inference, 0.6ms postprocess per image at shape (1, 3, 480, 640)\n",
      "\n",
      "0: 480x640 2 persons, 1 cup, 4 chairs, 1 tv, 1 laptop, 55.6ms\n",
      "Speed: 1.0ms preprocess, 55.6ms inference, 0.4ms postprocess per image at shape (1, 3, 480, 640)\n",
      "\n",
      "0: 480x640 4 persons, 1 backpack, 1 cup, 3 chairs, 1 tv, 1 laptop, 52.7ms\n",
      "Speed: 1.0ms preprocess, 52.7ms inference, 0.5ms postprocess per image at shape (1, 3, 480, 640)\n",
      "\n"
     ]
    },
    {
     "name": "stdout",
     "output_type": "stream",
     "text": [
      "Confidence ---> 0.86\n",
      "Confidence ---> 0.36\n",
      "Confidence ---> 0.31\n",
      "Confidence ---> 0.84\n",
      "Confidence ---> 0.42\n",
      "Confidence ---> 0.83\n",
      "Confidence ---> 0.41\n",
      "Confidence ---> 0.28\n",
      "Confidence ---> 0.28\n"
     ]
    },
    {
     "name": "stderr",
     "output_type": "stream",
     "text": [
      "0: 480x640 3 persons, 1 backpack, 1 cup, 3 chairs, 1 tv, 1 laptop, 55.6ms\n",
      "Speed: 1.1ms preprocess, 55.6ms inference, 0.4ms postprocess per image at shape (1, 3, 480, 640)\n",
      "\n",
      "0: 480x640 1 person, 1 backpack, 1 cup, 2 chairs, 1 tv, 1 laptop, 54.3ms\n",
      "Speed: 1.2ms preprocess, 54.3ms inference, 0.4ms postprocess per image at shape (1, 3, 480, 640)\n",
      "\n",
      "0: 480x640 2 persons, 1 backpack, 1 cup, 3 chairs, 1 tv, 1 laptop, 53.6ms\n",
      "Speed: 1.0ms preprocess, 53.6ms inference, 0.4ms postprocess per image at shape (1, 3, 480, 640)\n",
      "\n"
     ]
    },
    {
     "name": "stdout",
     "output_type": "stream",
     "text": [
      "Confidence ---> 0.81\n",
      "Confidence ---> 0.34\n",
      "Confidence ---> 0.31\n",
      "Confidence ---> 0.81\n",
      "Confidence ---> 0.84\n",
      "Confidence ---> 0.42\n"
     ]
    },
    {
     "name": "stderr",
     "output_type": "stream",
     "text": [
      "0: 480x640 1 person, 1 backpack, 1 cup, 3 chairs, 1 tv, 1 laptop, 67.4ms\n",
      "Speed: 0.8ms preprocess, 67.4ms inference, 0.5ms postprocess per image at shape (1, 3, 480, 640)\n",
      "\n",
      "0: 480x640 1 person, 1 backpack, 1 cup, 2 chairs, 1 tv, 1 laptop, 53.5ms\n",
      "Speed: 0.9ms preprocess, 53.5ms inference, 0.5ms postprocess per image at shape (1, 3, 480, 640)\n",
      "\n",
      "0: 480x640 1 person, 1 cup, 3 chairs, 1 laptop, 1 oven, 52.8ms\n",
      "Speed: 0.8ms preprocess, 52.8ms inference, 0.5ms postprocess per image at shape (1, 3, 480, 640)\n"
     ]
    },
    {
     "name": "stdout",
     "output_type": "stream",
     "text": [
      "Confidence ---> 0.79\n",
      "Confidence ---> 0.85\n",
      "Confidence ---> 0.85\n"
     ]
    },
    {
     "name": "stderr",
     "output_type": "stream",
     "text": [
      "\n",
      "0: 480x640 1 person, 1 backpack, 1 cup, 3 chairs, 1 laptop, 1 oven, 57.7ms\n",
      "Speed: 1.0ms preprocess, 57.7ms inference, 0.6ms postprocess per image at shape (1, 3, 480, 640)\n",
      "\n",
      "0: 480x640 1 person, 1 backpack, 1 cup, 3 chairs, 1 tv, 1 laptop, 1 oven, 53.1ms\n",
      "Speed: 0.9ms preprocess, 53.1ms inference, 0.4ms postprocess per image at shape (1, 3, 480, 640)\n",
      "\n",
      "0: 480x640 1 person, 1 backpack, 1 cup, 2 chairs, 1 laptop, 1 oven, 52.8ms\n",
      "Speed: 1.1ms preprocess, 52.8ms inference, 0.4ms postprocess per image at shape (1, 3, 480, 640)\n",
      "\n"
     ]
    },
    {
     "name": "stdout",
     "output_type": "stream",
     "text": [
      "Confidence ---> 0.86\n",
      "Confidence ---> 0.88\n",
      "Confidence ---> 0.86\n"
     ]
    },
    {
     "name": "stderr",
     "output_type": "stream",
     "text": [
      "0: 480x640 1 person, 1 backpack, 1 cup, 2 chairs, 2 tvs, 1 laptop, 54.8ms\n",
      "Speed: 0.9ms preprocess, 54.8ms inference, 0.4ms postprocess per image at shape (1, 3, 480, 640)\n",
      "\n",
      "0: 480x640 1 person, 1 backpack, 1 cup, 2 chairs, 1 tv, 1 laptop, 53.5ms\n",
      "Speed: 0.9ms preprocess, 53.5ms inference, 0.4ms postprocess per image at shape (1, 3, 480, 640)\n",
      "\n",
      "0: 480x640 3 persons, 1 cup, 3 chairs, 1 tv, 1 laptop, 52.6ms\n",
      "Speed: 0.9ms preprocess, 52.6ms inference, 0.4ms postprocess per image at shape (1, 3, 480, 640)\n",
      "\n"
     ]
    },
    {
     "name": "stdout",
     "output_type": "stream",
     "text": [
      "Confidence ---> 0.86\n",
      "Confidence ---> 0.87\n",
      "Confidence ---> 0.83\n",
      "Confidence ---> 0.47\n",
      "Confidence ---> 0.29\n"
     ]
    },
    {
     "name": "stderr",
     "output_type": "stream",
     "text": [
      "0: 480x640 3 persons, 1 cup, 3 chairs, 1 tv, 1 laptop, 55.5ms\n",
      "Speed: 0.8ms preprocess, 55.5ms inference, 0.5ms postprocess per image at shape (1, 3, 480, 640)\n",
      "\n",
      "0: 480x640 2 persons, 1 backpack, 1 cup, 3 chairs, 1 tv, 1 laptop, 55.4ms\n",
      "Speed: 1.2ms preprocess, 55.4ms inference, 0.6ms postprocess per image at shape (1, 3, 480, 640)\n",
      "\n",
      "0: 480x640 3 persons, 1 backpack, 1 cup, 3 chairs, 1 tv, 1 laptop, 53.0ms\n",
      "Speed: 0.8ms preprocess, 53.0ms inference, 0.5ms postprocess per image at shape (1, 3, 480, 640)\n",
      "\n"
     ]
    },
    {
     "name": "stdout",
     "output_type": "stream",
     "text": [
      "Confidence ---> 0.84\n",
      "Confidence ---> 0.48\n",
      "Confidence ---> 0.33\n",
      "Confidence ---> 0.88\n",
      "Confidence ---> 0.39\n",
      "Confidence ---> 0.87\n",
      "Confidence ---> 0.43\n",
      "Confidence ---> 0.39\n"
     ]
    },
    {
     "name": "stderr",
     "output_type": "stream",
     "text": [
      "0: 480x640 4 persons, 1 backpack, 1 cup, 2 chairs, 1 tv, 1 laptop, 55.8ms\n",
      "Speed: 0.9ms preprocess, 55.8ms inference, 0.5ms postprocess per image at shape (1, 3, 480, 640)\n",
      "\n",
      "0: 480x640 3 persons, 1 backpack, 1 cup, 2 chairs, 1 tv, 1 laptop, 54.2ms\n",
      "Speed: 0.8ms preprocess, 54.2ms inference, 0.5ms postprocess per image at shape (1, 3, 480, 640)\n",
      "\n",
      "0: 480x640 3 persons, 1 cup, 3 chairs, 1 tv, 1 laptop, 53.5ms\n",
      "Speed: 1.0ms preprocess, 53.5ms inference, 0.4ms postprocess per image at shape (1, 3, 480, 640)\n",
      "\n"
     ]
    },
    {
     "name": "stdout",
     "output_type": "stream",
     "text": [
      "Confidence ---> 0.87\n",
      "Confidence ---> 0.56\n",
      "Confidence ---> 0.38\n",
      "Confidence ---> 0.36\n",
      "Confidence ---> 0.87\n",
      "Confidence ---> 0.63\n",
      "Confidence ---> 0.34\n",
      "Confidence ---> 0.88\n",
      "Confidence ---> 0.6\n",
      "Confidence ---> 0.41\n"
     ]
    },
    {
     "name": "stderr",
     "output_type": "stream",
     "text": [
      "0: 480x640 3 persons, 1 cup, 2 chairs, 1 tv, 1 laptop, 55.7ms\n",
      "Speed: 1.0ms preprocess, 55.7ms inference, 0.6ms postprocess per image at shape (1, 3, 480, 640)\n",
      "\n",
      "0: 480x640 4 persons, 1 cup, 2 chairs, 1 tv, 1 laptop, 53.6ms\n",
      "Speed: 0.8ms preprocess, 53.6ms inference, 0.4ms postprocess per image at shape (1, 3, 480, 640)\n",
      "\n",
      "0: 480x640 4 persons, 1 cup, 3 chairs, 1 tv, 1 laptop, 52.2ms\n",
      "Speed: 1.0ms preprocess, 52.2ms inference, 0.5ms postprocess per image at shape (1, 3, 480, 640)\n",
      "\n"
     ]
    },
    {
     "name": "stdout",
     "output_type": "stream",
     "text": [
      "Confidence ---> 0.88\n",
      "Confidence ---> 0.52\n",
      "Confidence ---> 0.38\n",
      "Confidence ---> 0.88\n",
      "Confidence ---> 0.5\n",
      "Confidence ---> 0.32\n",
      "Confidence ---> 0.29\n",
      "Confidence ---> 0.88\n",
      "Confidence ---> 0.46\n",
      "Confidence ---> 0.43\n",
      "Confidence ---> 0.41\n"
     ]
    },
    {
     "name": "stderr",
     "output_type": "stream",
     "text": [
      "0: 480x640 4 persons, 1 backpack, 1 cup, 3 chairs, 1 tv, 1 laptop, 56.7ms\n",
      "Speed: 1.2ms preprocess, 56.7ms inference, 0.5ms postprocess per image at shape (1, 3, 480, 640)\n",
      "\n",
      "0: 480x640 4 persons, 1 backpack, 1 cup, 3 chairs, 1 tv, 1 laptop, 55.6ms\n",
      "Speed: 0.8ms preprocess, 55.6ms inference, 0.5ms postprocess per image at shape (1, 3, 480, 640)\n",
      "\n",
      "0: 480x640 4 persons, 1 backpack, 1 cup, 3 chairs, 1 tv, 1 laptop, 52.7ms\n",
      "Speed: 0.9ms preprocess, 52.7ms inference, 0.4ms postprocess per image at shape (1, 3, 480, 640)\n",
      "\n"
     ]
    },
    {
     "name": "stdout",
     "output_type": "stream",
     "text": [
      "Confidence ---> 0.89\n",
      "Confidence ---> 0.39\n",
      "Confidence ---> 0.35\n",
      "Confidence ---> 0.26\n",
      "Confidence ---> 0.9\n",
      "Confidence ---> 0.47\n",
      "Confidence ---> 0.4\n",
      "Confidence ---> 0.39\n",
      "Confidence ---> 0.89\n",
      "Confidence ---> 0.37\n",
      "Confidence ---> 0.36\n",
      "Confidence ---> 0.33\n"
     ]
    },
    {
     "name": "stderr",
     "output_type": "stream",
     "text": [
      "0: 480x640 5 persons, 1 backpack, 1 cup, 3 chairs, 1 tv, 1 laptop, 73.6ms\n",
      "Speed: 1.1ms preprocess, 73.6ms inference, 0.7ms postprocess per image at shape (1, 3, 480, 640)\n",
      "\n",
      "0: 480x640 3 persons, 1 backpack, 1 cup, 3 chairs, 1 tv, 1 laptop, 54.6ms\n",
      "Speed: 1.0ms preprocess, 54.6ms inference, 0.5ms postprocess per image at shape (1, 3, 480, 640)\n",
      "\n",
      "0: 480x640 3 persons, 1 backpack, 1 cup, 4 chairs, 1 tv, 1 laptop, 53.4ms\n",
      "Speed: 1.0ms preprocess, 53.4ms inference, 0.5ms postprocess per image at shape (1, 3, 480, 640)\n"
     ]
    },
    {
     "name": "stdout",
     "output_type": "stream",
     "text": [
      "Confidence ---> 0.88\n",
      "Confidence ---> 0.41\n",
      "Confidence ---> 0.36\n",
      "Confidence ---> 0.29\n",
      "Confidence ---> 0.28\n",
      "Confidence ---> 0.87\n",
      "Confidence ---> 0.4\n",
      "Confidence ---> 0.3\n",
      "Confidence ---> 0.85\n",
      "Confidence ---> 0.32\n",
      "Confidence ---> 0.26\n"
     ]
    },
    {
     "name": "stderr",
     "output_type": "stream",
     "text": [
      "\n",
      "0: 480x640 2 persons, 1 backpack, 1 cup, 3 chairs, 1 tv, 1 laptop, 57.3ms\n",
      "Speed: 1.0ms preprocess, 57.3ms inference, 0.4ms postprocess per image at shape (1, 3, 480, 640)\n",
      "\n",
      "0: 480x640 2 persons, 1 cup, 3 chairs, 1 tv, 1 laptop, 53.6ms\n",
      "Speed: 1.0ms preprocess, 53.6ms inference, 0.4ms postprocess per image at shape (1, 3, 480, 640)\n",
      "\n",
      "0: 480x640 2 persons, 1 cup, 3 chairs, 1 laptop, 52.8ms\n",
      "Speed: 0.8ms preprocess, 52.8ms inference, 0.4ms postprocess per image at shape (1, 3, 480, 640)\n",
      "\n"
     ]
    },
    {
     "name": "stdout",
     "output_type": "stream",
     "text": [
      "Confidence ---> 0.8\n",
      "Confidence ---> 0.37\n",
      "Confidence ---> 0.79\n",
      "Confidence ---> 0.41\n",
      "Confidence ---> 0.86\n",
      "Confidence ---> 0.4\n"
     ]
    },
    {
     "name": "stderr",
     "output_type": "stream",
     "text": [
      "0: 480x640 1 person, 1 cup, 3 chairs, 1 tv, 1 laptop, 1 oven, 54.6ms\n",
      "Speed: 0.8ms preprocess, 54.6ms inference, 0.5ms postprocess per image at shape (1, 3, 480, 640)\n",
      "\n",
      "0: 480x640 1 person, 1 cup, 3 chairs, 1 laptop, 54.1ms\n",
      "Speed: 1.0ms preprocess, 54.1ms inference, 0.4ms postprocess per image at shape (1, 3, 480, 640)\n",
      "\n",
      "0: 480x640 1 person, 1 cup, 2 chairs, 1 tv, 1 laptop, 53.0ms\n",
      "Speed: 1.0ms preprocess, 53.0ms inference, 0.4ms postprocess per image at shape (1, 3, 480, 640)\n",
      "\n"
     ]
    },
    {
     "name": "stdout",
     "output_type": "stream",
     "text": [
      "Confidence ---> 0.86\n",
      "Confidence ---> 0.87\n",
      "Confidence ---> 0.84\n"
     ]
    },
    {
     "name": "stderr",
     "output_type": "stream",
     "text": [
      "0: 480x640 1 person, 1 backpack, 1 cup, 2 chairs, 1 tv, 1 laptop, 54.9ms\n",
      "Speed: 1.0ms preprocess, 54.9ms inference, 0.5ms postprocess per image at shape (1, 3, 480, 640)\n",
      "\n",
      "0: 480x640 1 person, 1 cup, 4 chairs, 1 laptop, 55.2ms\n",
      "Speed: 1.4ms preprocess, 55.2ms inference, 0.4ms postprocess per image at shape (1, 3, 480, 640)\n",
      "\n",
      "0: 480x640 1 person, 1 cup, 3 chairs, 1 tv, 1 laptop, 1 sink, 53.1ms\n",
      "Speed: 0.8ms preprocess, 53.1ms inference, 0.5ms postprocess per image at shape (1, 3, 480, 640)\n",
      "\n"
     ]
    },
    {
     "name": "stdout",
     "output_type": "stream",
     "text": [
      "Confidence ---> 0.85\n",
      "Confidence ---> 0.88\n",
      "Confidence ---> 0.87\n"
     ]
    },
    {
     "name": "stderr",
     "output_type": "stream",
     "text": [
      "0: 480x640 1 person, 1 cup, 3 chairs, 1 laptop, 56.5ms\n",
      "Speed: 1.0ms preprocess, 56.5ms inference, 0.5ms postprocess per image at shape (1, 3, 480, 640)\n",
      "\n",
      "0: 480x640 1 person, 1 backpack, 1 cup, 2 chairs, 1 laptop, 55.3ms\n",
      "Speed: 0.8ms preprocess, 55.3ms inference, 0.5ms postprocess per image at shape (1, 3, 480, 640)\n",
      "\n",
      "0: 480x640 1 person, 1 cup, 3 chairs, 1 tv, 1 laptop, 55.6ms\n",
      "Speed: 1.0ms preprocess, 55.6ms inference, 0.4ms postprocess per image at shape (1, 3, 480, 640)\n",
      "\n"
     ]
    },
    {
     "name": "stdout",
     "output_type": "stream",
     "text": [
      "Confidence ---> 0.88\n",
      "Confidence ---> 0.88\n",
      "Confidence ---> 0.87\n"
     ]
    },
    {
     "name": "stderr",
     "output_type": "stream",
     "text": [
      "0: 480x640 1 person, 1 cup, 3 chairs, 1 laptop, 55.9ms\n",
      "Speed: 1.1ms preprocess, 55.9ms inference, 0.5ms postprocess per image at shape (1, 3, 480, 640)\n",
      "\n",
      "0: 480x640 1 person, 1 cup, 3 chairs, 1 laptop, 54.3ms\n",
      "Speed: 0.9ms preprocess, 54.3ms inference, 0.5ms postprocess per image at shape (1, 3, 480, 640)\n",
      "\n",
      "0: 480x640 1 person, 1 backpack, 1 cup, 3 chairs, 1 tv, 1 laptop, 1 oven, 53.0ms\n",
      "Speed: 0.8ms preprocess, 53.0ms inference, 0.5ms postprocess per image at shape (1, 3, 480, 640)\n",
      "\n"
     ]
    },
    {
     "name": "stdout",
     "output_type": "stream",
     "text": [
      "Confidence ---> 0.87\n",
      "Confidence ---> 0.88\n",
      "Confidence ---> 0.88\n"
     ]
    },
    {
     "name": "stderr",
     "output_type": "stream",
     "text": [
      "0: 480x640 2 persons, 1 cup, 3 chairs, 1 laptop, 1 oven, 56.8ms\n",
      "Speed: 0.9ms preprocess, 56.8ms inference, 0.4ms postprocess per image at shape (1, 3, 480, 640)\n",
      "\n",
      "0: 480x640 2 persons, 1 backpack, 1 cup, 3 chairs, 1 tv, 1 laptop, 56.6ms\n",
      "Speed: 1.1ms preprocess, 56.6ms inference, 0.4ms postprocess per image at shape (1, 3, 480, 640)\n",
      "\n",
      "0: 480x640 2 persons, 1 backpack, 1 cup, 3 chairs, 1 laptop, 52.6ms\n",
      "Speed: 0.9ms preprocess, 52.6ms inference, 0.6ms postprocess per image at shape (1, 3, 480, 640)\n",
      "\n"
     ]
    },
    {
     "name": "stdout",
     "output_type": "stream",
     "text": [
      "Confidence ---> 0.87\n",
      "Confidence ---> 0.29\n",
      "Confidence ---> 0.86\n",
      "Confidence ---> 0.41\n",
      "Confidence ---> 0.85\n",
      "Confidence ---> 0.44\n"
     ]
    },
    {
     "name": "stderr",
     "output_type": "stream",
     "text": [
      "0: 480x640 1 person, 1 backpack, 1 cup, 3 chairs, 1 laptop, 68.6ms\n",
      "Speed: 1.2ms preprocess, 68.6ms inference, 0.5ms postprocess per image at shape (1, 3, 480, 640)\n",
      "\n",
      "0: 480x640 2 persons, 1 cup, 3 chairs, 1 laptop, 53.6ms\n",
      "Speed: 1.0ms preprocess, 53.6ms inference, 0.5ms postprocess per image at shape (1, 3, 480, 640)\n",
      "\n",
      "0: 480x640 2 persons, 1 backpack, 1 cup, 5 chairs, 1 laptop, 53.2ms\n",
      "Speed: 0.9ms preprocess, 53.2ms inference, 0.6ms postprocess per image at shape (1, 3, 480, 640)\n"
     ]
    },
    {
     "name": "stdout",
     "output_type": "stream",
     "text": [
      "Confidence ---> 0.88\n",
      "Confidence ---> 0.87\n",
      "Confidence ---> 0.3\n",
      "Confidence ---> 0.86\n",
      "Confidence ---> 0.3\n"
     ]
    },
    {
     "name": "stderr",
     "output_type": "stream",
     "text": [
      "\n",
      "0: 480x640 2 persons, 1 backpack, 1 cup, 4 chairs, 1 tv, 1 laptop, 56.4ms\n",
      "Speed: 0.9ms preprocess, 56.4ms inference, 0.6ms postprocess per image at shape (1, 3, 480, 640)\n",
      "\n",
      "0: 480x640 2 persons, 1 backpack, 1 cup, 3 chairs, 1 laptop, 1 oven, 53.7ms\n",
      "Speed: 0.8ms preprocess, 53.7ms inference, 0.5ms postprocess per image at shape (1, 3, 480, 640)\n",
      "\n",
      "0: 480x640 1 person, 1 backpack, 1 cup, 4 chairs, 1 tv, 1 laptop, 52.6ms\n",
      "Speed: 0.8ms preprocess, 52.6ms inference, 0.6ms postprocess per image at shape (1, 3, 480, 640)\n",
      "\n"
     ]
    },
    {
     "name": "stdout",
     "output_type": "stream",
     "text": [
      "Confidence ---> 0.86\n",
      "Confidence ---> 0.33\n",
      "Confidence ---> 0.86\n",
      "Confidence ---> 0.31\n",
      "Confidence ---> 0.87\n"
     ]
    },
    {
     "name": "stderr",
     "output_type": "stream",
     "text": [
      "0: 480x640 2 persons, 1 backpack, 1 cup, 3 chairs, 1 tv, 1 laptop, 1 oven, 53.8ms\n",
      "Speed: 1.0ms preprocess, 53.8ms inference, 0.4ms postprocess per image at shape (1, 3, 480, 640)\n",
      "\n",
      "0: 480x640 3 persons, 1 backpack, 1 cup, 1 chair, 1 laptop, 54.7ms\n",
      "Speed: 1.1ms preprocess, 54.7ms inference, 0.4ms postprocess per image at shape (1, 3, 480, 640)\n",
      "\n",
      "0: 480x640 2 persons, 1 backpack, 1 cup, 2 chairs, 1 laptop, 53.5ms\n",
      "Speed: 0.8ms preprocess, 53.5ms inference, 0.4ms postprocess per image at shape (1, 3, 480, 640)\n",
      "\n"
     ]
    },
    {
     "name": "stdout",
     "output_type": "stream",
     "text": [
      "Confidence ---> 0.87\n",
      "Confidence ---> 0.28\n",
      "Confidence ---> 0.89\n",
      "Confidence ---> 0.54\n",
      "Confidence ---> 0.46\n",
      "Confidence ---> 0.9\n",
      "Confidence ---> 0.7\n"
     ]
    },
    {
     "name": "stderr",
     "output_type": "stream",
     "text": [
      "0: 480x640 2 persons, 1 cup, 4 chairs, 1 laptop, 57.0ms\n",
      "Speed: 1.1ms preprocess, 57.0ms inference, 0.5ms postprocess per image at shape (1, 3, 480, 640)\n",
      "\n",
      "0: 480x640 2 persons, 1 cup, 3 chairs, 1 laptop, 54.1ms\n",
      "Speed: 1.1ms preprocess, 54.1ms inference, 0.4ms postprocess per image at shape (1, 3, 480, 640)\n",
      "\n",
      "0: 480x640 2 persons, 1 backpack, 1 cup, 3 chairs, 1 laptop, 53.2ms\n",
      "Speed: 0.8ms preprocess, 53.2ms inference, 0.5ms postprocess per image at shape (1, 3, 480, 640)\n",
      "\n"
     ]
    },
    {
     "name": "stdout",
     "output_type": "stream",
     "text": [
      "Confidence ---> 0.91\n",
      "Confidence ---> 0.78\n",
      "Confidence ---> 0.88\n",
      "Confidence ---> 0.83\n",
      "Confidence ---> 0.83\n",
      "Confidence ---> 0.81\n"
     ]
    },
    {
     "name": "stderr",
     "output_type": "stream",
     "text": [
      "0: 480x640 2 persons, 1 backpack, 1 cup, 2 chairs, 1 laptop, 56.5ms\n",
      "Speed: 1.1ms preprocess, 56.5ms inference, 0.5ms postprocess per image at shape (1, 3, 480, 640)\n",
      "\n",
      "0: 480x640 2 persons, 1 backpack, 1 cup, 2 chairs, 1 laptop, 54.4ms\n",
      "Speed: 0.8ms preprocess, 54.4ms inference, 0.4ms postprocess per image at shape (1, 3, 480, 640)\n",
      "\n",
      "0: 480x640 2 persons, 1 cup, 3 chairs, 1 laptop, 52.6ms\n",
      "Speed: 1.3ms preprocess, 52.6ms inference, 0.6ms postprocess per image at shape (1, 3, 480, 640)\n",
      "\n"
     ]
    },
    {
     "name": "stdout",
     "output_type": "stream",
     "text": [
      "Confidence ---> 0.85\n",
      "Confidence ---> 0.81\n",
      "Confidence ---> 0.82\n",
      "Confidence ---> 0.77\n",
      "Confidence ---> 0.83\n",
      "Confidence ---> 0.79\n"
     ]
    },
    {
     "name": "stderr",
     "output_type": "stream",
     "text": [
      "0: 480x640 2 persons, 1 cup, 3 chairs, 1 laptop, 53.5ms\n",
      "Speed: 1.0ms preprocess, 53.5ms inference, 0.5ms postprocess per image at shape (1, 3, 480, 640)\n",
      "\n",
      "0: 480x640 2 persons, 1 backpack, 1 cup, 2 chairs, 1 laptop, 55.3ms\n",
      "Speed: 0.9ms preprocess, 55.3ms inference, 0.4ms postprocess per image at shape (1, 3, 480, 640)\n",
      "\n",
      "0: 480x640 2 persons, 1 backpack, 1 cup, 4 chairs, 1 laptop, 53.6ms\n",
      "Speed: 1.0ms preprocess, 53.6ms inference, 0.4ms postprocess per image at shape (1, 3, 480, 640)\n",
      "\n"
     ]
    },
    {
     "name": "stdout",
     "output_type": "stream",
     "text": [
      "Confidence ---> 0.85\n",
      "Confidence ---> 0.81\n",
      "Confidence ---> 0.85\n",
      "Confidence ---> 0.81\n",
      "Confidence ---> 0.84\n",
      "Confidence ---> 0.72\n"
     ]
    },
    {
     "name": "stderr",
     "output_type": "stream",
     "text": [
      "0: 480x640 3 persons, 1 backpack, 1 cup, 6 chairs, 1 laptop, 54.7ms\n",
      "Speed: 1.0ms preprocess, 54.7ms inference, 0.5ms postprocess per image at shape (1, 3, 480, 640)\n",
      "\n",
      "0: 480x640 2 persons, 1 backpack, 1 cup, 3 chairs, 1 laptop, 56.1ms\n",
      "Speed: 0.8ms preprocess, 56.1ms inference, 0.5ms postprocess per image at shape (1, 3, 480, 640)\n",
      "\n",
      "0: 480x640 2 persons, 2 backpacks, 1 cup, 3 chairs, 1 laptop, 53.1ms\n",
      "Speed: 1.0ms preprocess, 53.1ms inference, 0.5ms postprocess per image at shape (1, 3, 480, 640)\n",
      "\n"
     ]
    },
    {
     "name": "stdout",
     "output_type": "stream",
     "text": [
      "Confidence ---> 0.83\n",
      "Confidence ---> 0.74\n",
      "Confidence ---> 0.27\n",
      "Confidence ---> 0.84\n",
      "Confidence ---> 0.79\n",
      "Confidence ---> 0.87\n",
      "Confidence ---> 0.76\n"
     ]
    },
    {
     "name": "stderr",
     "output_type": "stream",
     "text": [
      "0: 480x640 2 persons, 1 backpack, 1 cup, 2 chairs, 1 laptop, 56.0ms\n",
      "Speed: 1.1ms preprocess, 56.0ms inference, 0.5ms postprocess per image at shape (1, 3, 480, 640)\n",
      "\n",
      "0: 480x640 2 persons, 1 cup, 2 chairs, 1 laptop, 63.7ms\n",
      "Speed: 2.1ms preprocess, 63.7ms inference, 0.4ms postprocess per image at shape (1, 3, 480, 640)\n",
      "\n",
      "0: 480x640 2 persons, 1 chair, 53.2ms\n",
      "Speed: 0.9ms preprocess, 53.2ms inference, 0.4ms postprocess per image at shape (1, 3, 480, 640)\n"
     ]
    },
    {
     "name": "stdout",
     "output_type": "stream",
     "text": [
      "Confidence ---> 0.86\n",
      "Confidence ---> 0.85\n",
      "Confidence ---> 0.87\n",
      "Confidence ---> 0.86\n",
      "Confidence ---> 0.88\n",
      "Confidence ---> 0.74\n"
     ]
    },
    {
     "name": "stderr",
     "output_type": "stream",
     "text": [
      "\n",
      "0: 480x640 2 persons, 2 chairs, 55.9ms\n",
      "Speed: 0.9ms preprocess, 55.9ms inference, 0.6ms postprocess per image at shape (1, 3, 480, 640)\n",
      "\n",
      "0: 480x640 2 persons, 1 cup, 4 chairs, 1 tv, 1 laptop, 53.6ms\n",
      "Speed: 1.2ms preprocess, 53.6ms inference, 0.5ms postprocess per image at shape (1, 3, 480, 640)\n",
      "\n",
      "0: 480x640 2 persons, 1 cup, 1 chair, 1 tv, 1 laptop, 1 oven, 52.2ms\n",
      "Speed: 1.0ms preprocess, 52.2ms inference, 0.5ms postprocess per image at shape (1, 3, 480, 640)\n",
      "\n"
     ]
    },
    {
     "name": "stdout",
     "output_type": "stream",
     "text": [
      "Confidence ---> 0.84\n",
      "Confidence ---> 0.73\n",
      "Confidence ---> 0.87\n",
      "Confidence ---> 0.83\n",
      "Confidence ---> 0.88\n",
      "Confidence ---> 0.65\n"
     ]
    },
    {
     "name": "stderr",
     "output_type": "stream",
     "text": [
      "0: 480x640 2 persons, 1 cup, 3 chairs, 1 tv, 1 oven, 54.9ms\n",
      "Speed: 0.9ms preprocess, 54.9ms inference, 0.4ms postprocess per image at shape (1, 3, 480, 640)\n",
      "\n",
      "0: 480x640 4 persons, 1 cup, 4 chairs, 1 tv, 1 laptop, 55.3ms\n",
      "Speed: 0.9ms preprocess, 55.3ms inference, 0.5ms postprocess per image at shape (1, 3, 480, 640)\n",
      "\n",
      "0: 480x640 2 persons, 1 chair, 1 tv, 1 laptop, 1 oven, 52.1ms\n",
      "Speed: 1.0ms preprocess, 52.1ms inference, 0.6ms postprocess per image at shape (1, 3, 480, 640)\n",
      "\n"
     ]
    },
    {
     "name": "stdout",
     "output_type": "stream",
     "text": [
      "Confidence ---> 0.88\n",
      "Confidence ---> 0.71\n",
      "Confidence ---> 0.88\n",
      "Confidence ---> 0.55\n",
      "Confidence ---> 0.43\n",
      "Confidence ---> 0.39\n",
      "Confidence ---> 0.84\n",
      "Confidence ---> 0.27\n"
     ]
    },
    {
     "name": "stderr",
     "output_type": "stream",
     "text": [
      "0: 480x640 4 persons, 2 chairs, 1 tv, 54.7ms\n",
      "Speed: 0.9ms preprocess, 54.7ms inference, 0.5ms postprocess per image at shape (1, 3, 480, 640)\n",
      "\n",
      "0: 480x640 3 persons, 4 chairs, 1 tv, 1 laptop, 1 remote, 55.6ms\n",
      "Speed: 1.1ms preprocess, 55.6ms inference, 0.5ms postprocess per image at shape (1, 3, 480, 640)\n",
      "\n",
      "0: 480x640 3 persons, 3 chairs, 1 dining table, 1 tv, 1 laptop, 52.2ms\n",
      "Speed: 0.8ms preprocess, 52.2ms inference, 0.4ms postprocess per image at shape (1, 3, 480, 640)\n",
      "\n"
     ]
    },
    {
     "name": "stdout",
     "output_type": "stream",
     "text": [
      "Confidence ---> 0.88\n",
      "Confidence ---> 0.54\n",
      "Confidence ---> 0.31\n",
      "Confidence ---> 0.28\n",
      "Confidence ---> 0.87\n",
      "Confidence ---> 0.57\n",
      "Confidence ---> 0.47\n",
      "Confidence ---> 0.88\n",
      "Confidence ---> 0.49\n",
      "Confidence ---> 0.38\n"
     ]
    },
    {
     "name": "stderr",
     "output_type": "stream",
     "text": [
      "0: 480x640 1 person, 1 backpack, 1 chair, 1 tv, 54.4ms\n",
      "Speed: 1.1ms preprocess, 54.4ms inference, 0.4ms postprocess per image at shape (1, 3, 480, 640)\n",
      "\n",
      "0: 480x640 2 persons, 1 chair, 1 tv, 1 laptop, 56.6ms\n",
      "Speed: 1.6ms preprocess, 56.6ms inference, 0.5ms postprocess per image at shape (1, 3, 480, 640)\n"
     ]
    },
    {
     "name": "stdout",
     "output_type": "stream",
     "text": [
      "Confidence ---> 0.87\n",
      "Confidence ---> 0.89\n",
      "Confidence ---> 0.52\n"
     ]
    },
    {
     "name": "stderr",
     "output_type": "stream",
     "text": [
      "\n",
      "0: 480x640 2 persons, 1 cup, 3 chairs, 1 tv, 1 laptop, 1 oven, 56.8ms\n",
      "Speed: 0.9ms preprocess, 56.8ms inference, 0.5ms postprocess per image at shape (1, 3, 480, 640)\n",
      "\n",
      "0: 480x640 2 persons, 1 bowl, 2 chairs, 1 tv, 1 oven, 54.2ms\n",
      "Speed: 0.9ms preprocess, 54.2ms inference, 0.4ms postprocess per image at shape (1, 3, 480, 640)\n",
      "\n",
      "0: 480x640 1 person, 1 tv, 1 sink, 53.0ms\n",
      "Speed: 0.9ms preprocess, 53.0ms inference, 0.4ms postprocess per image at shape (1, 3, 480, 640)\n"
     ]
    },
    {
     "name": "stdout",
     "output_type": "stream",
     "text": [
      "Confidence ---> 0.9\n",
      "Confidence ---> 0.43\n",
      "Confidence ---> 0.88\n",
      "Confidence ---> 0.47\n",
      "Confidence ---> 0.86\n"
     ]
    },
    {
     "name": "stderr",
     "output_type": "stream",
     "text": [
      "\n",
      "0: 480x640 3 persons, 1 tv, 1 oven, 57.5ms\n",
      "Speed: 1.0ms preprocess, 57.5ms inference, 0.5ms postprocess per image at shape (1, 3, 480, 640)\n",
      "\n",
      "0: 480x640 4 persons, 1 tv, 1 oven, 52.9ms\n",
      "Speed: 0.9ms preprocess, 52.9ms inference, 0.4ms postprocess per image at shape (1, 3, 480, 640)\n",
      "\n",
      "0: 480x640 4 persons, 1 backpack, 1 tv, 53.2ms\n",
      "Speed: 1.0ms preprocess, 53.2ms inference, 0.4ms postprocess per image at shape (1, 3, 480, 640)\n"
     ]
    },
    {
     "name": "stdout",
     "output_type": "stream",
     "text": [
      "Confidence ---> 0.84\n",
      "Confidence ---> 0.49\n",
      "Confidence ---> 0.36\n",
      "Confidence ---> 0.82\n",
      "Confidence ---> 0.38\n",
      "Confidence ---> 0.34\n",
      "Confidence ---> 0.26\n",
      "Confidence ---> 0.87\n",
      "Confidence ---> 0.36\n",
      "Confidence ---> 0.35\n",
      "Confidence ---> 0.34\n"
     ]
    },
    {
     "name": "stderr",
     "output_type": "stream",
     "text": [
      "\n",
      "0: 480x640 2 persons, 1 oven, 1 refrigerator, 56.5ms\n",
      "Speed: 1.1ms preprocess, 56.5ms inference, 0.5ms postprocess per image at shape (1, 3, 480, 640)\n",
      "\n",
      "0: 480x640 2 persons, 1 cup, 1 chair, 1 tv, 1 laptop, 53.4ms\n",
      "Speed: 1.0ms preprocess, 53.4ms inference, 0.4ms postprocess per image at shape (1, 3, 480, 640)\n",
      "\n",
      "0: 480x640 2 persons, 1 cup, 3 chairs, 1 tv, 1 laptop, 1 sink, 52.5ms\n",
      "Speed: 0.8ms preprocess, 52.5ms inference, 0.5ms postprocess per image at shape (1, 3, 480, 640)\n"
     ]
    },
    {
     "name": "stdout",
     "output_type": "stream",
     "text": [
      "Confidence ---> 0.71\n",
      "Confidence ---> 0.31\n",
      "Confidence ---> 0.86\n",
      "Confidence ---> 0.79\n",
      "Confidence ---> 0.86\n",
      "Confidence ---> 0.72\n"
     ]
    },
    {
     "name": "stderr",
     "output_type": "stream",
     "text": [
      "\n",
      "0: 480x640 2 persons, 1 cup, 2 chairs, 1 tv, 1 laptop, 1 oven, 55.8ms\n",
      "Speed: 1.0ms preprocess, 55.8ms inference, 0.4ms postprocess per image at shape (1, 3, 480, 640)\n",
      "\n",
      "0: 480x640 2 persons, 2 chairs, 1 tv, 1 laptop, 1 oven, 53.2ms\n",
      "Speed: 0.9ms preprocess, 53.2ms inference, 0.4ms postprocess per image at shape (1, 3, 480, 640)\n",
      "\n",
      "0: 480x640 2 persons, 1 cup, 3 chairs, 1 tv, 1 laptop, 52.1ms\n",
      "Speed: 1.0ms preprocess, 52.1ms inference, 0.4ms postprocess per image at shape (1, 3, 480, 640)\n"
     ]
    },
    {
     "name": "stdout",
     "output_type": "stream",
     "text": [
      "Confidence ---> 0.88\n",
      "Confidence ---> 0.84\n",
      "Confidence ---> 0.86\n",
      "Confidence ---> 0.58\n",
      "Confidence ---> 0.88\n",
      "Confidence ---> 0.79\n"
     ]
    },
    {
     "name": "stderr",
     "output_type": "stream",
     "text": [
      "\n",
      "0: 480x640 2 persons, 1 cup, 4 chairs, 1 tv, 2 laptops, 54.4ms\n",
      "Speed: 1.1ms preprocess, 54.4ms inference, 0.4ms postprocess per image at shape (1, 3, 480, 640)\n",
      "\n",
      "0: 480x640 2 persons, 1 backpack, 1 cup, 3 chairs, 1 tv, 1 laptop, 53.9ms\n",
      "Speed: 0.9ms preprocess, 53.9ms inference, 0.4ms postprocess per image at shape (1, 3, 480, 640)\n",
      "\n",
      "0: 480x640 2 persons, 1 backpack, 1 cup, 3 chairs, 1 tv, 1 laptop, 53.1ms\n",
      "Speed: 0.9ms preprocess, 53.1ms inference, 0.4ms postprocess per image at shape (1, 3, 480, 640)\n"
     ]
    },
    {
     "name": "stdout",
     "output_type": "stream",
     "text": [
      "Confidence ---> 0.89\n",
      "Confidence ---> 0.7\n",
      "Confidence ---> 0.88\n",
      "Confidence ---> 0.78\n",
      "Confidence ---> 0.86\n",
      "Confidence ---> 0.85\n"
     ]
    },
    {
     "name": "stderr",
     "output_type": "stream",
     "text": [
      "\n",
      "0: 480x640 2 persons, 1 cup, 4 chairs, 1 tv, 1 laptop, 56.8ms\n",
      "Speed: 0.9ms preprocess, 56.8ms inference, 0.5ms postprocess per image at shape (1, 3, 480, 640)\n",
      "\n",
      "0: 480x640 2 persons, 1 cup, 4 chairs, 1 laptop, 53.8ms\n",
      "Speed: 0.8ms preprocess, 53.8ms inference, 0.5ms postprocess per image at shape (1, 3, 480, 640)\n",
      "\n",
      "0: 480x640 2 persons, 1 cup, 5 chairs, 1 tv, 1 laptop, 51.5ms\n",
      "Speed: 1.1ms preprocess, 51.5ms inference, 0.5ms postprocess per image at shape (1, 3, 480, 640)\n"
     ]
    },
    {
     "name": "stdout",
     "output_type": "stream",
     "text": [
      "Confidence ---> 0.87\n",
      "Confidence ---> 0.85\n",
      "Confidence ---> 0.86\n",
      "Confidence ---> 0.81\n",
      "Confidence ---> 0.88\n",
      "Confidence ---> 0.86\n"
     ]
    },
    {
     "name": "stderr",
     "output_type": "stream",
     "text": [
      "\n",
      "0: 480x640 2 persons, 1 backpack, 1 cup, 2 chairs, 1 laptop, 55.4ms\n",
      "Speed: 0.9ms preprocess, 55.4ms inference, 0.6ms postprocess per image at shape (1, 3, 480, 640)\n",
      "\n",
      "0: 480x640 2 persons, 1 backpack, 1 cup, 3 chairs, 1 tv, 1 laptop, 53.1ms\n",
      "Speed: 0.9ms preprocess, 53.1ms inference, 0.5ms postprocess per image at shape (1, 3, 480, 640)\n",
      "\n",
      "0: 480x640 2 persons, 1 chair, 1 tv, 1 laptop, 1 oven, 51.9ms\n",
      "Speed: 0.8ms preprocess, 51.9ms inference, 0.4ms postprocess per image at shape (1, 3, 480, 640)\n"
     ]
    },
    {
     "name": "stdout",
     "output_type": "stream",
     "text": [
      "Confidence ---> 0.85\n",
      "Confidence ---> 0.74\n",
      "Confidence ---> 0.87\n",
      "Confidence ---> 0.82\n",
      "Confidence ---> 0.85\n",
      "Confidence ---> 0.84\n"
     ]
    },
    {
     "name": "stderr",
     "output_type": "stream",
     "text": [
      "\n",
      "0: 480x640 2 persons, 1 cup, 5 chairs, 1 tv, 1 laptop, 55.6ms\n",
      "Speed: 1.0ms preprocess, 55.6ms inference, 0.4ms postprocess per image at shape (1, 3, 480, 640)\n",
      "\n",
      "0: 480x640 2 persons, 1 backpack, 1 cup, 2 chairs, 1 tv, 1 laptop, 1 oven, 53.9ms\n",
      "Speed: 1.0ms preprocess, 53.9ms inference, 0.5ms postprocess per image at shape (1, 3, 480, 640)\n",
      "\n",
      "0: 480x640 2 persons, 1 backpack, 1 cup, 3 chairs, 1 tv, 1 laptop, 1 oven, 52.6ms\n",
      "Speed: 0.9ms preprocess, 52.6ms inference, 0.5ms postprocess per image at shape (1, 3, 480, 640)\n",
      "\n"
     ]
    },
    {
     "name": "stdout",
     "output_type": "stream",
     "text": [
      "Confidence ---> 0.86\n",
      "Confidence ---> 0.86\n",
      "Confidence ---> 0.87\n",
      "Confidence ---> 0.83\n",
      "Confidence ---> 0.88\n",
      "Confidence ---> 0.82\n"
     ]
    },
    {
     "name": "stderr",
     "output_type": "stream",
     "text": [
      "0: 480x640 2 persons, 1 backpack, 1 cup, 5 chairs, 1 tv, 1 laptop, 55.8ms\n",
      "Speed: 1.0ms preprocess, 55.8ms inference, 0.5ms postprocess per image at shape (1, 3, 480, 640)\n",
      "\n",
      "0: 480x640 3 persons, 1 cup, 5 chairs, 1 tv, 1 laptop, 56.9ms\n",
      "Speed: 0.8ms preprocess, 56.9ms inference, 0.5ms postprocess per image at shape (1, 3, 480, 640)\n",
      "\n",
      "0: 480x640 2 persons, 1 backpack, 1 cup, 4 chairs, 1 tv, 1 laptop, 1 sink, 52.8ms\n",
      "Speed: 0.9ms preprocess, 52.8ms inference, 0.4ms postprocess per image at shape (1, 3, 480, 640)\n",
      "\n"
     ]
    },
    {
     "name": "stdout",
     "output_type": "stream",
     "text": [
      "Confidence ---> 0.89\n",
      "Confidence ---> 0.73\n",
      "Confidence ---> 0.9\n",
      "Confidence ---> 0.83\n",
      "Confidence ---> 0.29\n",
      "Confidence ---> 0.89\n",
      "Confidence ---> 0.82\n"
     ]
    },
    {
     "name": "stderr",
     "output_type": "stream",
     "text": [
      "0: 480x640 3 persons, 1 backpack, 1 suitcase, 1 cup, 3 chairs, 2 tvs, 1 laptop, 65.3ms\n",
      "Speed: 1.0ms preprocess, 65.3ms inference, 0.8ms postprocess per image at shape (1, 3, 480, 640)\n",
      "\n",
      "0: 480x640 4 persons, 1 cup, 4 chairs, 1 tv, 1 laptop, 52.9ms\n",
      "Speed: 0.8ms preprocess, 52.9ms inference, 0.4ms postprocess per image at shape (1, 3, 480, 640)\n",
      "\n",
      "0: 480x640 3 persons, 1 backpack, 1 cup, 4 chairs, 1 tv, 1 laptop, 1 sink, 54.3ms\n",
      "Speed: 0.9ms preprocess, 54.3ms inference, 0.4ms postprocess per image at shape (1, 3, 480, 640)\n"
     ]
    },
    {
     "name": "stdout",
     "output_type": "stream",
     "text": [
      "Confidence ---> 0.9\n",
      "Confidence ---> 0.68\n",
      "Confidence ---> 0.39\n",
      "Confidence ---> 0.91\n",
      "Confidence ---> 0.59\n",
      "Confidence ---> 0.37\n",
      "Confidence ---> 0.32\n",
      "Confidence ---> 0.91\n",
      "Confidence ---> 0.64\n",
      "Confidence ---> 0.4\n"
     ]
    },
    {
     "name": "stderr",
     "output_type": "stream",
     "text": [
      "\n",
      "0: 480x640 3 persons, 1 cup, 1 chair, 1 tv, 1 laptop, 57.8ms\n",
      "Speed: 0.9ms preprocess, 57.8ms inference, 0.5ms postprocess per image at shape (1, 3, 480, 640)\n",
      "\n",
      "0: 480x640 3 persons, 1 backpack, 1 cup, 2 chairs, 2 tvs, 1 laptop, 1 sink, 54.1ms\n",
      "Speed: 0.8ms preprocess, 54.1ms inference, 0.4ms postprocess per image at shape (1, 3, 480, 640)\n",
      "\n",
      "0: 480x640 2 persons, 1 cup, 3 chairs, 1 tv, 1 laptop, 1 sink, 53.2ms\n",
      "Speed: 0.8ms preprocess, 53.2ms inference, 0.5ms postprocess per image at shape (1, 3, 480, 640)\n",
      "\n"
     ]
    },
    {
     "name": "stdout",
     "output_type": "stream",
     "text": [
      "Confidence ---> 0.91\n",
      "Confidence ---> 0.61\n",
      "Confidence ---> 0.29\n",
      "Confidence ---> 0.9\n",
      "Confidence ---> 0.62\n",
      "Confidence ---> 0.38\n",
      "Confidence ---> 0.89\n",
      "Confidence ---> 0.57\n"
     ]
    },
    {
     "name": "stderr",
     "output_type": "stream",
     "text": [
      "0: 480x640 3 persons, 1 backpack, 1 cup, 6 chairs, 1 tv, 1 laptop, 55.7ms\n",
      "Speed: 0.9ms preprocess, 55.7ms inference, 0.5ms postprocess per image at shape (1, 3, 480, 640)\n",
      "\n",
      "0: 480x640 3 persons, 1 backpack, 1 cup, 3 chairs, 1 tv, 1 laptop, 56.7ms\n",
      "Speed: 1.0ms preprocess, 56.7ms inference, 0.5ms postprocess per image at shape (1, 3, 480, 640)\n",
      "\n",
      "0: 480x640 4 persons, 1 backpack, 1 cup, 2 chairs, 1 tv, 1 laptop, 52.4ms\n",
      "Speed: 1.1ms preprocess, 52.4ms inference, 0.4ms postprocess per image at shape (1, 3, 480, 640)\n",
      "\n"
     ]
    },
    {
     "name": "stdout",
     "output_type": "stream",
     "text": [
      "Confidence ---> 0.9\n",
      "Confidence ---> 0.63\n",
      "Confidence ---> 0.39\n",
      "Confidence ---> 0.9\n",
      "Confidence ---> 0.62\n",
      "Confidence ---> 0.4\n",
      "Confidence ---> 0.9\n",
      "Confidence ---> 0.53\n",
      "Confidence ---> 0.46\n",
      "Confidence ---> 0.28\n"
     ]
    },
    {
     "name": "stderr",
     "output_type": "stream",
     "text": [
      "0: 480x640 4 persons, 1 backpack, 1 cup, 1 chair, 1 tv, 1 laptop, 55.6ms\n",
      "Speed: 0.9ms preprocess, 55.6ms inference, 0.4ms postprocess per image at shape (1, 3, 480, 640)\n",
      "\n",
      "0: 480x640 4 persons, 1 cup, 2 chairs, 1 tv, 1 laptop, 1 sink, 55.2ms\n",
      "Speed: 1.0ms preprocess, 55.2ms inference, 0.4ms postprocess per image at shape (1, 3, 480, 640)\n",
      "\n",
      "0: 480x640 4 persons, 1 backpack, 1 cup, 4 chairs, 1 tv, 1 laptop, 53.8ms\n",
      "Speed: 1.0ms preprocess, 53.8ms inference, 0.5ms postprocess per image at shape (1, 3, 480, 640)\n",
      "\n"
     ]
    },
    {
     "name": "stdout",
     "output_type": "stream",
     "text": [
      "Confidence ---> 0.9\n",
      "Confidence ---> 0.53\n",
      "Confidence ---> 0.41\n",
      "Confidence ---> 0.32\n",
      "Confidence ---> 0.91\n",
      "Confidence ---> 0.62\n",
      "Confidence ---> 0.37\n",
      "Confidence ---> 0.26\n",
      "Confidence ---> 0.9\n",
      "Confidence ---> 0.59\n",
      "Confidence ---> 0.28\n",
      "Confidence ---> 0.28\n"
     ]
    },
    {
     "name": "stderr",
     "output_type": "stream",
     "text": [
      "0: 480x640 4 persons, 1 backpack, 1 cup, 5 chairs, 1 tv, 1 laptop, 55.4ms\n",
      "Speed: 0.8ms preprocess, 55.4ms inference, 0.6ms postprocess per image at shape (1, 3, 480, 640)\n",
      "\n",
      "0: 480x640 4 persons, 1 backpack, 1 cup, 2 chairs, 1 tv, 1 laptop, 56.1ms\n",
      "Speed: 0.8ms preprocess, 56.1ms inference, 0.5ms postprocess per image at shape (1, 3, 480, 640)\n",
      "\n",
      "0: 480x640 5 persons, 1 cup, 4 chairs, 1 tv, 1 laptop, 54.4ms\n",
      "Speed: 1.1ms preprocess, 54.4ms inference, 0.4ms postprocess per image at shape (1, 3, 480, 640)\n",
      "\n"
     ]
    },
    {
     "name": "stdout",
     "output_type": "stream",
     "text": [
      "Confidence ---> 0.91\n",
      "Confidence ---> 0.53\n",
      "Confidence ---> 0.32\n",
      "Confidence ---> 0.32\n",
      "Confidence ---> 0.91\n",
      "Confidence ---> 0.59\n",
      "Confidence ---> 0.36\n",
      "Confidence ---> 0.27\n",
      "Confidence ---> 0.9\n",
      "Confidence ---> 0.62\n",
      "Confidence ---> 0.54\n",
      "Confidence ---> 0.39\n",
      "Confidence ---> 0.31\n"
     ]
    },
    {
     "name": "stderr",
     "output_type": "stream",
     "text": [
      "0: 480x640 4 persons, 1 backpack, 1 suitcase, 1 cup, 3 chairs, 1 tv, 1 laptop, 57.8ms\n",
      "Speed: 0.9ms preprocess, 57.8ms inference, 0.5ms postprocess per image at shape (1, 3, 480, 640)\n",
      "\n",
      "0: 480x640 4 persons, 1 backpack, 1 cup, 4 chairs, 1 tv, 1 laptop, 56.5ms\n",
      "Speed: 0.9ms preprocess, 56.5ms inference, 0.4ms postprocess per image at shape (1, 3, 480, 640)\n",
      "\n",
      "0: 480x640 2 persons, 2 chairs, 1 tv, 1 laptop, 52.5ms\n",
      "Speed: 0.8ms preprocess, 52.5ms inference, 0.4ms postprocess per image at shape (1, 3, 480, 640)\n",
      "\n"
     ]
    },
    {
     "name": "stdout",
     "output_type": "stream",
     "text": [
      "Confidence ---> 0.9\n",
      "Confidence ---> 0.63\n",
      "Confidence ---> 0.39\n",
      "Confidence ---> 0.27\n",
      "Confidence ---> 0.9\n",
      "Confidence ---> 0.66\n",
      "Confidence ---> 0.35\n",
      "Confidence ---> 0.27\n",
      "Confidence ---> 0.9\n",
      "Confidence ---> 0.7\n"
     ]
    },
    {
     "name": "stderr",
     "output_type": "stream",
     "text": [
      "0: 480x640 4 persons, 1 cup, 3 chairs, 1 tv, 1 laptop, 55.2ms\n",
      "Speed: 1.1ms preprocess, 55.2ms inference, 0.5ms postprocess per image at shape (1, 3, 480, 640)\n",
      "\n",
      "0: 480x640 3 persons, 1 cup, 2 chairs, 1 tv, 1 laptop, 60.5ms\n",
      "Speed: 3.8ms preprocess, 60.5ms inference, 0.5ms postprocess per image at shape (1, 3, 480, 640)\n",
      "\n",
      "0: 480x640 3 persons, 1 cup, 4 chairs, 1 tv, 1 laptop, 52.5ms\n",
      "Speed: 0.9ms preprocess, 52.5ms inference, 0.4ms postprocess per image at shape (1, 3, 480, 640)\n"
     ]
    },
    {
     "name": "stdout",
     "output_type": "stream",
     "text": [
      "Confidence ---> 0.89\n",
      "Confidence ---> 0.69\n",
      "Confidence ---> 0.37\n",
      "Confidence ---> 0.28\n",
      "Confidence ---> 0.9\n",
      "Confidence ---> 0.7\n",
      "Confidence ---> 0.3\n",
      "Confidence ---> 0.89\n",
      "Confidence ---> 0.73\n",
      "Confidence ---> 0.33\n"
     ]
    },
    {
     "name": "stderr",
     "output_type": "stream",
     "text": [
      "\n",
      "0: 480x640 3 persons, 1 cup, 3 chairs, 1 tv, 1 laptop, 56.8ms\n",
      "Speed: 1.1ms preprocess, 56.8ms inference, 0.5ms postprocess per image at shape (1, 3, 480, 640)\n",
      "\n",
      "0: 480x640 2 persons, 1 backpack, 1 cup, 3 chairs, 1 tv, 1 laptop, 52.4ms\n",
      "Speed: 0.9ms preprocess, 52.4ms inference, 0.5ms postprocess per image at shape (1, 3, 480, 640)\n",
      "\n",
      "0: 480x640 3 persons, 1 cup, 2 chairs, 1 tv, 1 laptop, 51.0ms\n",
      "Speed: 0.8ms preprocess, 51.0ms inference, 0.5ms postprocess per image at shape (1, 3, 480, 640)\n",
      "\n"
     ]
    },
    {
     "name": "stdout",
     "output_type": "stream",
     "text": [
      "Confidence ---> 0.91\n",
      "Confidence ---> 0.72\n",
      "Confidence ---> 0.38\n",
      "Confidence ---> 0.91\n",
      "Confidence ---> 0.7\n",
      "Confidence ---> 0.9\n",
      "Confidence ---> 0.64\n",
      "Confidence ---> 0.34\n"
     ]
    },
    {
     "name": "stderr",
     "output_type": "stream",
     "text": [
      "0: 480x640 2 persons, 1 cup, 2 chairs, 1 tv, 1 laptop, 56.6ms\n",
      "Speed: 0.8ms preprocess, 56.6ms inference, 0.7ms postprocess per image at shape (1, 3, 480, 640)\n",
      "\n",
      "0: 480x640 3 persons, 1 cup, 2 chairs, 1 tv, 1 laptop, 52.5ms\n",
      "Speed: 1.0ms preprocess, 52.5ms inference, 0.5ms postprocess per image at shape (1, 3, 480, 640)\n",
      "\n",
      "0: 480x640 3 persons, 1 cup, 3 chairs, 1 tv, 1 laptop, 1 sink, 51.0ms\n",
      "Speed: 0.8ms preprocess, 51.0ms inference, 0.4ms postprocess per image at shape (1, 3, 480, 640)\n",
      "\n"
     ]
    },
    {
     "name": "stdout",
     "output_type": "stream",
     "text": [
      "Confidence ---> 0.91\n",
      "Confidence ---> 0.73\n",
      "Confidence ---> 0.89\n",
      "Confidence ---> 0.64\n",
      "Confidence ---> 0.26\n",
      "Confidence ---> 0.89\n",
      "Confidence ---> 0.76\n",
      "Confidence ---> 0.28\n"
     ]
    },
    {
     "name": "stderr",
     "output_type": "stream",
     "text": [
      "0: 480x640 3 persons, 1 tv, 54.5ms\n",
      "Speed: 0.9ms preprocess, 54.5ms inference, 0.4ms postprocess per image at shape (1, 3, 480, 640)\n",
      "\n",
      "0: 480x640 4 persons, 2 chairs, 1 tv, 1 laptop, 53.6ms\n",
      "Speed: 1.0ms preprocess, 53.6ms inference, 0.4ms postprocess per image at shape (1, 3, 480, 640)\n",
      "\n",
      "0: 480x640 3 persons, 1 cup, 2 chairs, 1 tv, 1 laptop, 52.5ms\n",
      "Speed: 1.0ms preprocess, 52.5ms inference, 0.4ms postprocess per image at shape (1, 3, 480, 640)\n",
      "\n"
     ]
    },
    {
     "name": "stdout",
     "output_type": "stream",
     "text": [
      "Confidence ---> 0.89\n",
      "Confidence ---> 0.43\n",
      "Confidence ---> 0.29\n",
      "Confidence ---> 0.91\n",
      "Confidence ---> 0.4\n",
      "Confidence ---> 0.38\n",
      "Confidence ---> 0.34\n",
      "Confidence ---> 0.92\n",
      "Confidence ---> 0.5\n",
      "Confidence ---> 0.31\n"
     ]
    },
    {
     "name": "stderr",
     "output_type": "stream",
     "text": [
      "0: 480x640 2 persons, 1 backpack, 1 cup, 5 chairs, 1 tv, 1 laptop, 1 oven, 53.7ms\n",
      "Speed: 0.8ms preprocess, 53.7ms inference, 0.4ms postprocess per image at shape (1, 3, 480, 640)\n",
      "\n",
      "0: 480x640 2 persons, 1 cup, 3 chairs, 1 tv, 1 laptop, 54.0ms\n",
      "Speed: 1.1ms preprocess, 54.0ms inference, 0.5ms postprocess per image at shape (1, 3, 480, 640)\n",
      "\n",
      "0: 480x640 2 persons, 1 cup, 3 chairs, 1 tv, 1 laptop, 53.8ms\n",
      "Speed: 0.9ms preprocess, 53.8ms inference, 0.5ms postprocess per image at shape (1, 3, 480, 640)\n",
      "\n"
     ]
    },
    {
     "name": "stdout",
     "output_type": "stream",
     "text": [
      "Confidence ---> 0.92\n",
      "Confidence ---> 0.67\n",
      "Confidence ---> 0.91\n",
      "Confidence ---> 0.69\n",
      "Confidence ---> 0.92\n",
      "Confidence ---> 0.61\n"
     ]
    },
    {
     "name": "stderr",
     "output_type": "stream",
     "text": [
      "0: 480x640 2 persons, 1 cup, 3 chairs, 1 tv, 1 laptop, 56.5ms\n",
      "Speed: 1.0ms preprocess, 56.5ms inference, 0.4ms postprocess per image at shape (1, 3, 480, 640)\n",
      "\n",
      "0: 480x640 2 persons, 1 backpack, 1 cup, 3 chairs, 1 tv, 1 laptop, 54.7ms\n",
      "Speed: 1.3ms preprocess, 54.7ms inference, 0.5ms postprocess per image at shape (1, 3, 480, 640)\n",
      "\n",
      "0: 480x640 3 persons, 1 backpack, 3 chairs, 1 tv, 1 laptop, 1 oven, 53.1ms\n",
      "Speed: 1.1ms preprocess, 53.1ms inference, 0.4ms postprocess per image at shape (1, 3, 480, 640)\n",
      "\n"
     ]
    },
    {
     "name": "stdout",
     "output_type": "stream",
     "text": [
      "Confidence ---> 0.91\n",
      "Confidence ---> 0.64\n",
      "Confidence ---> 0.91\n",
      "Confidence ---> 0.68\n",
      "Confidence ---> 0.89\n",
      "Confidence ---> 0.66\n",
      "Confidence ---> 0.32\n"
     ]
    },
    {
     "name": "stderr",
     "output_type": "stream",
     "text": [
      "0: 480x640 1 person, 1 chair, 1 tv, 1 laptop, 1 oven, 56.1ms\n",
      "Speed: 0.9ms preprocess, 56.1ms inference, 0.5ms postprocess per image at shape (1, 3, 480, 640)\n",
      "\n",
      "0: 480x640 2 persons, 1 cup, 1 chair, 1 tv, 1 laptop, 55.6ms\n",
      "Speed: 1.0ms preprocess, 55.6ms inference, 0.4ms postprocess per image at shape (1, 3, 480, 640)\n",
      "\n",
      "0: 480x640 2 persons, 1 cup, 1 tv, 1 oven, 52.4ms\n",
      "Speed: 1.0ms preprocess, 52.4ms inference, 0.7ms postprocess per image at shape (1, 3, 480, 640)\n",
      "\n"
     ]
    },
    {
     "name": "stdout",
     "output_type": "stream",
     "text": [
      "Confidence ---> 0.89\n",
      "Confidence ---> 0.9\n",
      "Confidence ---> 0.65\n",
      "Confidence ---> 0.9\n",
      "Confidence ---> 0.62\n"
     ]
    },
    {
     "name": "stderr",
     "output_type": "stream",
     "text": [
      "0: 480x640 2 persons, 4 chairs, 1 tv, 1 laptop, 54.9ms\n",
      "Speed: 1.1ms preprocess, 54.9ms inference, 0.5ms postprocess per image at shape (1, 3, 480, 640)\n",
      "\n",
      "0: 480x640 2 persons, 1 backpack, 1 cup, 2 chairs, 1 tv, 1 laptop, 57.9ms\n",
      "Speed: 1.0ms preprocess, 57.9ms inference, 0.5ms postprocess per image at shape (1, 3, 480, 640)\n",
      "\n",
      "0: 480x640 3 persons, 1 cup, 1 chair, 1 tv, 1 laptop, 1 oven, 54.5ms\n",
      "Speed: 1.0ms preprocess, 54.5ms inference, 0.5ms postprocess per image at shape (1, 3, 480, 640)\n",
      "\n"
     ]
    },
    {
     "name": "stdout",
     "output_type": "stream",
     "text": [
      "Confidence ---> 0.9\n",
      "Confidence ---> 0.64\n",
      "Confidence ---> 0.92\n",
      "Confidence ---> 0.68\n",
      "Confidence ---> 0.9\n",
      "Confidence ---> 0.49\n",
      "Confidence ---> 0.28\n"
     ]
    },
    {
     "name": "stderr",
     "output_type": "stream",
     "text": [
      "0: 480x640 2 persons, 1 cup, 3 chairs, 1 tv, 1 laptop, 1 oven, 55.4ms\n",
      "Speed: 0.8ms preprocess, 55.4ms inference, 0.4ms postprocess per image at shape (1, 3, 480, 640)\n",
      "\n",
      "0: 480x640 2 persons, 1 cup, 4 chairs, 2 tvs, 1 laptop, 55.7ms\n",
      "Speed: 1.0ms preprocess, 55.7ms inference, 0.4ms postprocess per image at shape (1, 3, 480, 640)\n",
      "\n",
      "0: 480x640 2 persons, 1 cup, 3 chairs, 2 tvs, 1 laptop, 53.6ms\n",
      "Speed: 0.9ms preprocess, 53.6ms inference, 0.5ms postprocess per image at shape (1, 3, 480, 640)\n",
      "\n"
     ]
    },
    {
     "name": "stdout",
     "output_type": "stream",
     "text": [
      "Confidence ---> 0.87\n",
      "Confidence ---> 0.69\n",
      "Confidence ---> 0.88\n",
      "Confidence ---> 0.7\n",
      "Confidence ---> 0.88\n",
      "Confidence ---> 0.65\n"
     ]
    },
    {
     "name": "stderr",
     "output_type": "stream",
     "text": [
      "0: 480x640 2 persons, 4 chairs, 1 tv, 1 laptop, 1 oven, 56.9ms\n",
      "Speed: 0.9ms preprocess, 56.9ms inference, 0.6ms postprocess per image at shape (1, 3, 480, 640)\n",
      "\n",
      "0: 480x640 2 persons, 1 cup, 3 chairs, 2 tvs, 1 laptop, 55.8ms\n",
      "Speed: 0.9ms preprocess, 55.8ms inference, 0.5ms postprocess per image at shape (1, 3, 480, 640)\n",
      "\n",
      "0: 480x640 2 persons, 1 cup, 3 chairs, 1 tv, 1 laptop, 1 oven, 1 sink, 53.0ms\n",
      "Speed: 0.9ms preprocess, 53.0ms inference, 0.6ms postprocess per image at shape (1, 3, 480, 640)\n",
      "\n"
     ]
    },
    {
     "name": "stdout",
     "output_type": "stream",
     "text": [
      "Confidence ---> 0.87\n",
      "Confidence ---> 0.7\n",
      "Confidence ---> 0.87\n",
      "Confidence ---> 0.73\n",
      "Confidence ---> 0.87\n",
      "Confidence ---> 0.69\n"
     ]
    },
    {
     "name": "stderr",
     "output_type": "stream",
     "text": [
      "0: 480x640 2 persons, 1 cup, 3 chairs, 2 tvs, 1 laptop, 1 oven, 55.5ms\n",
      "Speed: 0.8ms preprocess, 55.5ms inference, 0.5ms postprocess per image at shape (1, 3, 480, 640)\n",
      "\n",
      "0: 480x640 2 persons, 1 cup, 3 chairs, 1 tv, 1 laptop, 1 oven, 1 sink, 55.1ms\n",
      "Speed: 1.1ms preprocess, 55.1ms inference, 0.5ms postprocess per image at shape (1, 3, 480, 640)\n",
      "\n",
      "0: 480x640 2 persons, 1 cup, 4 chairs, 1 tv, 1 laptop, 53.7ms\n",
      "Speed: 0.9ms preprocess, 53.7ms inference, 0.5ms postprocess per image at shape (1, 3, 480, 640)\n",
      "\n"
     ]
    },
    {
     "name": "stdout",
     "output_type": "stream",
     "text": [
      "Confidence ---> 0.91\n",
      "Confidence ---> 0.61\n",
      "Confidence ---> 0.91\n",
      "Confidence ---> 0.66\n",
      "Confidence ---> 0.89\n",
      "Confidence ---> 0.67\n"
     ]
    },
    {
     "name": "stderr",
     "output_type": "stream",
     "text": [
      "0: 480x640 2 persons, 1 cup, 3 chairs, 1 tv, 1 laptop, 1 oven, 54.9ms\n",
      "Speed: 1.1ms preprocess, 54.9ms inference, 0.4ms postprocess per image at shape (1, 3, 480, 640)\n",
      "\n",
      "0: 480x640 2 persons, 1 cup, 3 chairs, 2 tvs, 1 laptop, 1 oven, 55.5ms\n",
      "Speed: 1.1ms preprocess, 55.5ms inference, 0.5ms postprocess per image at shape (1, 3, 480, 640)\n",
      "\n",
      "0: 480x640 2 persons, 1 cup, 1 chair, 1 tv, 1 oven, 1 sink, 53.3ms\n",
      "Speed: 1.1ms preprocess, 53.3ms inference, 0.5ms postprocess per image at shape (1, 3, 480, 640)\n",
      "\n"
     ]
    },
    {
     "name": "stdout",
     "output_type": "stream",
     "text": [
      "Confidence ---> 0.9\n",
      "Confidence ---> 0.75\n",
      "Confidence ---> 0.9\n",
      "Confidence ---> 0.8\n",
      "Confidence ---> 0.89\n",
      "Confidence ---> 0.65\n"
     ]
    },
    {
     "name": "stderr",
     "output_type": "stream",
     "text": [
      "0: 480x640 2 persons, 1 cup, 3 chairs, 1 tv, 1 laptop, 1 oven, 1 sink, 57.4ms\n",
      "Speed: 0.8ms preprocess, 57.4ms inference, 0.4ms postprocess per image at shape (1, 3, 480, 640)\n",
      "\n",
      "0: 480x640 2 persons, 1 cup, 4 chairs, 1 tv, 1 laptop, 1 oven, 1 sink, 54.4ms\n",
      "Speed: 0.9ms preprocess, 54.4ms inference, 0.5ms postprocess per image at shape (1, 3, 480, 640)\n",
      "\n",
      "0: 480x640 2 persons, 1 cup, 3 chairs, 1 tv, 1 laptop, 1 oven, 53.7ms\n",
      "Speed: 1.1ms preprocess, 53.7ms inference, 0.5ms postprocess per image at shape (1, 3, 480, 640)\n",
      "\n"
     ]
    },
    {
     "name": "stdout",
     "output_type": "stream",
     "text": [
      "Confidence ---> 0.87\n",
      "Confidence ---> 0.76\n",
      "Confidence ---> 0.87\n",
      "Confidence ---> 0.72\n",
      "Confidence ---> 0.86\n",
      "Confidence ---> 0.81\n"
     ]
    },
    {
     "name": "stderr",
     "output_type": "stream",
     "text": [
      "0: 480x640 2 persons, 1 cup, 3 chairs, 1 tv, 1 laptop, 1 sink, 53.9ms\n",
      "Speed: 0.8ms preprocess, 53.9ms inference, 0.6ms postprocess per image at shape (1, 3, 480, 640)\n",
      "\n",
      "0: 480x640 2 persons, 1 cup, 3 chairs, 1 tv, 1 laptop, 1 oven, 60.9ms\n",
      "Speed: 2.8ms preprocess, 60.9ms inference, 0.5ms postprocess per image at shape (1, 3, 480, 640)\n",
      "\n",
      "0: 480x640 2 persons, 1 cup, 4 chairs, 1 tv, 1 laptop, 1 oven, 1 sink, 52.9ms\n",
      "Speed: 1.0ms preprocess, 52.9ms inference, 0.4ms postprocess per image at shape (1, 3, 480, 640)\n",
      "\n"
     ]
    },
    {
     "name": "stdout",
     "output_type": "stream",
     "text": [
      "Confidence ---> 0.88\n",
      "Confidence ---> 0.81\n",
      "Confidence ---> 0.88\n",
      "Confidence ---> 0.81\n",
      "Confidence ---> 0.89\n",
      "Confidence ---> 0.81\n"
     ]
    },
    {
     "name": "stderr",
     "output_type": "stream",
     "text": [
      "0: 480x640 2 persons, 1 cup, 5 chairs, 1 tv, 1 laptop, 1 oven, 1 sink, 57.2ms\n",
      "Speed: 1.2ms preprocess, 57.2ms inference, 0.5ms postprocess per image at shape (1, 3, 480, 640)\n",
      "\n",
      "0: 480x640 2 persons, 1 cup, 4 chairs, 1 tv, 1 laptop, 1 oven, 54.9ms\n",
      "Speed: 0.9ms preprocess, 54.9ms inference, 0.5ms postprocess per image at shape (1, 3, 480, 640)\n",
      "\n",
      "0: 480x640 2 persons, 1 cup, 3 chairs, 1 tv, 1 laptop, 52.8ms\n",
      "Speed: 1.0ms preprocess, 52.8ms inference, 0.5ms postprocess per image at shape (1, 3, 480, 640)\n",
      "\n"
     ]
    },
    {
     "name": "stdout",
     "output_type": "stream",
     "text": [
      "Confidence ---> 0.88\n",
      "Confidence ---> 0.83\n",
      "Confidence ---> 0.9\n",
      "Confidence ---> 0.78\n",
      "Confidence ---> 0.89\n",
      "Confidence ---> 0.76\n"
     ]
    },
    {
     "name": "stderr",
     "output_type": "stream",
     "text": [
      "0: 480x640 2 persons, 1 cup, 3 chairs, 2 tvs, 1 laptop, 1 oven, 58.9ms\n",
      "Speed: 0.9ms preprocess, 58.9ms inference, 0.5ms postprocess per image at shape (1, 3, 480, 640)\n",
      "\n",
      "0: 480x640 1 person, 1 cup, 3 chairs, 1 tv, 1 laptop, 1 oven, 1 sink, 55.2ms\n",
      "Speed: 0.8ms preprocess, 55.2ms inference, 0.4ms postprocess per image at shape (1, 3, 480, 640)\n",
      "\n",
      "0: 480x640 3 persons, 1 cup, 3 chairs, 2 tvs, 1 laptop, 1 oven, 54.0ms\n",
      "Speed: 0.9ms preprocess, 54.0ms inference, 0.4ms postprocess per image at shape (1, 3, 480, 640)\n",
      "\n"
     ]
    },
    {
     "name": "stdout",
     "output_type": "stream",
     "text": [
      "Confidence ---> 0.9\n",
      "Confidence ---> 0.45\n",
      "Confidence ---> 0.9\n",
      "Confidence ---> 0.9\n",
      "Confidence ---> 0.42\n",
      "Confidence ---> 0.26\n"
     ]
    },
    {
     "name": "stderr",
     "output_type": "stream",
     "text": [
      "0: 480x640 2 persons, 1 cup, 3 chairs, 2 tvs, 1 laptop, 1 oven, 56.8ms\n",
      "Speed: 1.0ms preprocess, 56.8ms inference, 0.5ms postprocess per image at shape (1, 3, 480, 640)\n",
      "\n",
      "0: 480x640 3 persons, 1 cup, 3 chairs, 1 tv, 1 laptop, 1 oven, 54.3ms\n",
      "Speed: 1.0ms preprocess, 54.3ms inference, 0.4ms postprocess per image at shape (1, 3, 480, 640)\n",
      "\n",
      "0: 480x640 2 persons, 1 cup, 3 chairs, 2 tvs, 1 laptop, 1 oven, 53.7ms\n",
      "Speed: 0.8ms preprocess, 53.7ms inference, 0.4ms postprocess per image at shape (1, 3, 480, 640)\n",
      "\n"
     ]
    },
    {
     "name": "stdout",
     "output_type": "stream",
     "text": [
      "Confidence ---> 0.9\n",
      "Confidence ---> 0.26\n",
      "Confidence ---> 0.91\n",
      "Confidence ---> 0.58\n",
      "Confidence ---> 0.32\n",
      "Confidence ---> 0.91\n",
      "Confidence ---> 0.74\n"
     ]
    },
    {
     "name": "stderr",
     "output_type": "stream",
     "text": [
      "0: 480x640 2 persons, 1 cup, 5 chairs, 2 tvs, 1 laptop, 56.8ms\n",
      "Speed: 1.1ms preprocess, 56.8ms inference, 0.5ms postprocess per image at shape (1, 3, 480, 640)\n",
      "\n",
      "0: 480x640 2 persons, 1 cup, 4 chairs, 1 tv, 1 laptop, 55.6ms\n",
      "Speed: 0.9ms preprocess, 55.6ms inference, 0.4ms postprocess per image at shape (1, 3, 480, 640)\n",
      "\n",
      "0: 480x640 2 persons, 1 cup, 5 chairs, 2 tvs, 1 laptop, 54.0ms\n",
      "Speed: 1.0ms preprocess, 54.0ms inference, 0.5ms postprocess per image at shape (1, 3, 480, 640)\n",
      "\n"
     ]
    },
    {
     "name": "stdout",
     "output_type": "stream",
     "text": [
      "Confidence ---> 0.91\n",
      "Confidence ---> 0.85\n",
      "Confidence ---> 0.91\n",
      "Confidence ---> 0.85\n",
      "Confidence ---> 0.91\n",
      "Confidence ---> 0.86\n"
     ]
    },
    {
     "name": "stderr",
     "output_type": "stream",
     "text": [
      "0: 480x640 2 persons, 1 cup, 4 chairs, 1 tv, 1 laptop, 55.3ms\n",
      "Speed: 0.9ms preprocess, 55.3ms inference, 0.5ms postprocess per image at shape (1, 3, 480, 640)\n",
      "\n",
      "0: 480x640 2 persons, 1 cup, 4 chairs, 1 tv, 1 laptop, 55.9ms\n",
      "Speed: 1.0ms preprocess, 55.9ms inference, 0.5ms postprocess per image at shape (1, 3, 480, 640)\n",
      "\n",
      "0: 480x640 2 persons, 4 chairs, 1 tv, 1 laptop, 53.3ms\n",
      "Speed: 0.9ms preprocess, 53.3ms inference, 0.5ms postprocess per image at shape (1, 3, 480, 640)\n",
      "\n"
     ]
    },
    {
     "name": "stdout",
     "output_type": "stream",
     "text": [
      "Confidence ---> 0.91\n",
      "Confidence ---> 0.83\n",
      "Confidence ---> 0.91\n",
      "Confidence ---> 0.87\n",
      "Confidence ---> 0.91\n",
      "Confidence ---> 0.89\n"
     ]
    },
    {
     "name": "stderr",
     "output_type": "stream",
     "text": [
      "0: 480x640 2 persons, 3 chairs, 1 tv, 1 laptop, 57.0ms\n",
      "Speed: 1.1ms preprocess, 57.0ms inference, 0.5ms postprocess per image at shape (1, 3, 480, 640)\n",
      "\n",
      "0: 480x640 2 persons, 4 chairs, 1 tv, 1 laptop, 65.0ms\n",
      "Speed: 3.2ms preprocess, 65.0ms inference, 0.4ms postprocess per image at shape (1, 3, 480, 640)\n",
      "\n",
      "0: 480x640 2 persons, 1 chair, 1 tv, 1 laptop, 52.1ms\n",
      "Speed: 0.9ms preprocess, 52.1ms inference, 0.4ms postprocess per image at shape (1, 3, 480, 640)\n"
     ]
    },
    {
     "name": "stdout",
     "output_type": "stream",
     "text": [
      "Confidence ---> 0.92\n",
      "Confidence ---> 0.9\n",
      "Confidence ---> 0.92\n",
      "Confidence ---> 0.91\n",
      "Confidence ---> 0.91\n",
      "Confidence ---> 0.9\n"
     ]
    },
    {
     "name": "stderr",
     "output_type": "stream",
     "text": [
      "\n",
      "0: 480x640 2 persons, 1 chair, 1 tv, 1 laptop, 55.8ms\n",
      "Speed: 1.2ms preprocess, 55.8ms inference, 0.5ms postprocess per image at shape (1, 3, 480, 640)\n",
      "\n",
      "0: 480x640 2 persons, 3 chairs, 2 tvs, 1 laptop, 53.2ms\n",
      "Speed: 0.9ms preprocess, 53.2ms inference, 0.5ms postprocess per image at shape (1, 3, 480, 640)\n",
      "\n",
      "0: 480x640 2 persons, 3 chairs, 1 laptop, 52.8ms\n",
      "Speed: 0.9ms preprocess, 52.8ms inference, 0.5ms postprocess per image at shape (1, 3, 480, 640)\n",
      "\n"
     ]
    },
    {
     "name": "stdout",
     "output_type": "stream",
     "text": [
      "Confidence ---> 0.92\n",
      "Confidence ---> 0.91\n",
      "Confidence ---> 0.92\n",
      "Confidence ---> 0.91\n",
      "Confidence ---> 0.92\n",
      "Confidence ---> 0.91\n"
     ]
    },
    {
     "name": "stderr",
     "output_type": "stream",
     "text": [
      "0: 480x640 2 persons, 4 chairs, 1 tv, 1 laptop, 54.3ms\n",
      "Speed: 1.0ms preprocess, 54.3ms inference, 0.5ms postprocess per image at shape (1, 3, 480, 640)\n",
      "\n",
      "0: 480x640 2 persons, 4 chairs, 1 tv, 1 laptop, 55.9ms\n",
      "Speed: 0.8ms preprocess, 55.9ms inference, 0.4ms postprocess per image at shape (1, 3, 480, 640)\n",
      "\n",
      "0: 480x640 2 persons, 2 chairs, 1 tv, 1 laptop, 55.0ms\n",
      "Speed: 0.9ms preprocess, 55.0ms inference, 0.5ms postprocess per image at shape (1, 3, 480, 640)\n",
      "\n"
     ]
    },
    {
     "name": "stdout",
     "output_type": "stream",
     "text": [
      "Confidence ---> 0.93\n",
      "Confidence ---> 0.9\n",
      "Confidence ---> 0.91\n",
      "Confidence ---> 0.89\n",
      "Confidence ---> 0.9\n",
      "Confidence ---> 0.88\n"
     ]
    },
    {
     "name": "stderr",
     "output_type": "stream",
     "text": [
      "0: 480x640 2 persons, 4 chairs, 1 tv, 1 laptop, 56.3ms\n",
      "Speed: 0.9ms preprocess, 56.3ms inference, 0.5ms postprocess per image at shape (1, 3, 480, 640)\n",
      "\n",
      "0: 480x640 2 persons, 4 chairs, 1 tv, 1 laptop, 53.9ms\n",
      "Speed: 1.1ms preprocess, 53.9ms inference, 0.5ms postprocess per image at shape (1, 3, 480, 640)\n",
      "\n",
      "0: 480x640 2 persons, 4 chairs, 1 tv, 1 laptop, 53.2ms\n",
      "Speed: 1.0ms preprocess, 53.2ms inference, 0.4ms postprocess per image at shape (1, 3, 480, 640)\n",
      "\n"
     ]
    },
    {
     "name": "stdout",
     "output_type": "stream",
     "text": [
      "Confidence ---> 0.91\n",
      "Confidence ---> 0.89\n",
      "Confidence ---> 0.91\n",
      "Confidence ---> 0.9\n",
      "Confidence ---> 0.91\n",
      "Confidence ---> 0.9\n"
     ]
    },
    {
     "name": "stderr",
     "output_type": "stream",
     "text": [
      "0: 480x640 2 persons, 4 chairs, 1 tv, 1 laptop, 57.1ms\n",
      "Speed: 0.8ms preprocess, 57.1ms inference, 0.6ms postprocess per image at shape (1, 3, 480, 640)\n",
      "\n",
      "0: 480x640 2 persons, 4 chairs, 1 tv, 1 laptop, 56.4ms\n",
      "Speed: 0.9ms preprocess, 56.4ms inference, 0.4ms postprocess per image at shape (1, 3, 480, 640)\n",
      "\n",
      "0: 480x640 2 persons, 3 chairs, 2 tvs, 1 laptop, 54.3ms\n",
      "Speed: 1.0ms preprocess, 54.3ms inference, 0.5ms postprocess per image at shape (1, 3, 480, 640)\n",
      "\n"
     ]
    },
    {
     "name": "stdout",
     "output_type": "stream",
     "text": [
      "Confidence ---> 0.91\n",
      "Confidence ---> 0.9\n",
      "Confidence ---> 0.91\n",
      "Confidence ---> 0.9\n",
      "Confidence ---> 0.92\n",
      "Confidence ---> 0.89\n"
     ]
    },
    {
     "name": "stderr",
     "output_type": "stream",
     "text": [
      "0: 480x640 2 persons, 2 chairs, 1 tv, 1 laptop, 55.5ms\n",
      "Speed: 1.0ms preprocess, 55.5ms inference, 0.5ms postprocess per image at shape (1, 3, 480, 640)\n",
      "\n",
      "0: 480x640 2 persons, 1 backpack, 1 chair, 2 tvs, 1 laptop, 55.1ms\n",
      "Speed: 1.3ms preprocess, 55.1ms inference, 0.4ms postprocess per image at shape (1, 3, 480, 640)\n",
      "\n",
      "0: 480x640 2 persons, 1 chair, 1 tv, 1 laptop, 54.0ms\n",
      "Speed: 0.9ms preprocess, 54.0ms inference, 0.4ms postprocess per image at shape (1, 3, 480, 640)\n",
      "\n"
     ]
    },
    {
     "name": "stdout",
     "output_type": "stream",
     "text": [
      "Confidence ---> 0.92\n",
      "Confidence ---> 0.89\n",
      "Confidence ---> 0.93\n",
      "Confidence ---> 0.9\n",
      "Confidence ---> 0.92\n",
      "Confidence ---> 0.91\n"
     ]
    },
    {
     "name": "stderr",
     "output_type": "stream",
     "text": [
      "0: 480x640 2 persons, 2 chairs, 1 tv, 1 laptop, 55.7ms\n",
      "Speed: 0.8ms preprocess, 55.7ms inference, 0.5ms postprocess per image at shape (1, 3, 480, 640)\n",
      "\n",
      "0: 480x640 2 persons, 1 chair, 1 tv, 1 laptop, 65.7ms\n",
      "Speed: 2.9ms preprocess, 65.7ms inference, 0.4ms postprocess per image at shape (1, 3, 480, 640)\n",
      "\n",
      "0: 480x640 2 persons, 2 chairs, 1 tv, 1 laptop, 52.7ms\n",
      "Speed: 1.1ms preprocess, 52.7ms inference, 0.5ms postprocess per image at shape (1, 3, 480, 640)\n"
     ]
    },
    {
     "name": "stdout",
     "output_type": "stream",
     "text": [
      "Confidence ---> 0.91\n",
      "Confidence ---> 0.9\n",
      "Confidence ---> 0.91\n",
      "Confidence ---> 0.9\n",
      "Confidence ---> 0.92\n",
      "Confidence ---> 0.91\n"
     ]
    },
    {
     "name": "stderr",
     "output_type": "stream",
     "text": [
      "\n",
      "0: 480x640 2 persons, 3 chairs, 1 tv, 1 laptop, 58.9ms\n",
      "Speed: 1.0ms preprocess, 58.9ms inference, 0.4ms postprocess per image at shape (1, 3, 480, 640)\n",
      "\n",
      "0: 480x640 2 persons, 2 chairs, 1 tv, 1 laptop, 54.1ms\n",
      "Speed: 1.0ms preprocess, 54.1ms inference, 0.5ms postprocess per image at shape (1, 3, 480, 640)\n",
      "\n",
      "0: 480x640 2 persons, 2 chairs, 1 tv, 1 laptop, 52.9ms\n",
      "Speed: 0.8ms preprocess, 52.9ms inference, 0.4ms postprocess per image at shape (1, 3, 480, 640)\n",
      "\n"
     ]
    },
    {
     "name": "stdout",
     "output_type": "stream",
     "text": [
      "Confidence ---> 0.92\n",
      "Confidence ---> 0.91\n",
      "Confidence ---> 0.91\n",
      "Confidence ---> 0.91\n",
      "Confidence ---> 0.92\n",
      "Confidence ---> 0.89\n"
     ]
    },
    {
     "name": "stderr",
     "output_type": "stream",
     "text": [
      "0: 480x640 2 persons, 3 chairs, 1 tv, 1 laptop, 57.0ms\n",
      "Speed: 0.8ms preprocess, 57.0ms inference, 0.4ms postprocess per image at shape (1, 3, 480, 640)\n",
      "\n",
      "0: 480x640 2 persons, 1 cup, 3 chairs, 1 tv, 1 laptop, 56.7ms\n",
      "Speed: 1.5ms preprocess, 56.7ms inference, 0.5ms postprocess per image at shape (1, 3, 480, 640)\n",
      "\n",
      "0: 480x640 2 persons, 1 cup, 2 chairs, 1 tv, 1 laptop, 53.7ms\n",
      "Speed: 0.8ms preprocess, 53.7ms inference, 0.4ms postprocess per image at shape (1, 3, 480, 640)\n",
      "\n"
     ]
    },
    {
     "name": "stdout",
     "output_type": "stream",
     "text": [
      "Confidence ---> 0.92\n",
      "Confidence ---> 0.9\n",
      "Confidence ---> 0.92\n",
      "Confidence ---> 0.9\n",
      "Confidence ---> 0.92\n",
      "Confidence ---> 0.89\n"
     ]
    },
    {
     "name": "stderr",
     "output_type": "stream",
     "text": [
      "0: 480x640 2 persons, 1 backpack, 1 cup, 2 chairs, 2 tvs, 1 laptop, 55.9ms\n",
      "Speed: 0.9ms preprocess, 55.9ms inference, 0.4ms postprocess per image at shape (1, 3, 480, 640)\n",
      "\n",
      "0: 480x640 2 persons, 1 backpack, 1 cup, 2 chairs, 2 tvs, 1 laptop, 55.9ms\n",
      "Speed: 1.0ms preprocess, 55.9ms inference, 0.4ms postprocess per image at shape (1, 3, 480, 640)\n",
      "\n",
      "0: 480x640 2 persons, 1 backpack, 1 cup, 1 chair, 2 tvs, 1 laptop, 53.0ms\n",
      "Speed: 0.8ms preprocess, 53.0ms inference, 0.4ms postprocess per image at shape (1, 3, 480, 640)\n",
      "\n"
     ]
    },
    {
     "name": "stdout",
     "output_type": "stream",
     "text": [
      "Confidence ---> 0.93\n",
      "Confidence ---> 0.88\n",
      "Confidence ---> 0.92\n",
      "Confidence ---> 0.86\n",
      "Confidence ---> 0.93\n",
      "Confidence ---> 0.82\n"
     ]
    },
    {
     "name": "stderr",
     "output_type": "stream",
     "text": [
      "0: 480x640 2 persons, 1 backpack, 1 cup, 1 chair, 2 tvs, 1 laptop, 54.5ms\n",
      "Speed: 0.9ms preprocess, 54.5ms inference, 0.5ms postprocess per image at shape (1, 3, 480, 640)\n",
      "\n",
      "0: 480x640 3 persons, 1 cup, 3 chairs, 2 tvs, 1 laptop, 1 oven, 55.2ms\n",
      "Speed: 1.1ms preprocess, 55.2ms inference, 0.5ms postprocess per image at shape (1, 3, 480, 640)\n",
      "\n",
      "0: 480x640 2 persons, 1 cup, 3 chairs, 1 tv, 1 laptop, 1 sink, 54.1ms\n",
      "Speed: 0.8ms preprocess, 54.1ms inference, 0.4ms postprocess per image at shape (1, 3, 480, 640)\n",
      "\n"
     ]
    },
    {
     "name": "stdout",
     "output_type": "stream",
     "text": [
      "Confidence ---> 0.93\n",
      "Confidence ---> 0.78\n",
      "Confidence ---> 0.88\n",
      "Confidence ---> 0.43\n",
      "Confidence ---> 0.39\n",
      "Confidence ---> 0.88\n",
      "Confidence ---> 0.47\n"
     ]
    },
    {
     "name": "stderr",
     "output_type": "stream",
     "text": [
      "0: 480x640 3 persons, 1 cup, 3 chairs, 1 tv, 1 laptop, 1 sink, 56.1ms\n",
      "Speed: 1.0ms preprocess, 56.1ms inference, 0.5ms postprocess per image at shape (1, 3, 480, 640)\n",
      "\n",
      "0: 480x640 3 persons, 1 cup, 3 chairs, 2 tvs, 1 laptop, 1 oven, 1 sink, 57.1ms\n",
      "Speed: 1.1ms preprocess, 57.1ms inference, 0.6ms postprocess per image at shape (1, 3, 480, 640)\n",
      "\n",
      "0: 480x640 3 persons, 1 cup, 3 chairs, 1 tv, 1 laptop, 1 sink, 55.3ms\n",
      "Speed: 1.2ms preprocess, 55.3ms inference, 0.4ms postprocess per image at shape (1, 3, 480, 640)\n",
      "\n"
     ]
    },
    {
     "name": "stdout",
     "output_type": "stream",
     "text": [
      "Confidence ---> 0.88\n",
      "Confidence ---> 0.47\n",
      "Confidence ---> 0.32\n",
      "Confidence ---> 0.86\n",
      "Confidence ---> 0.64\n",
      "Confidence ---> 0.42\n",
      "Confidence ---> 0.85\n",
      "Confidence ---> 0.71\n",
      "Confidence ---> 0.36\n"
     ]
    },
    {
     "name": "stderr",
     "output_type": "stream",
     "text": [
      "0: 480x640 3 persons, 1 cup, 3 chairs, 1 tv, 1 laptop, 1 sink, 56.9ms\n",
      "Speed: 1.0ms preprocess, 56.9ms inference, 0.6ms postprocess per image at shape (1, 3, 480, 640)\n",
      "\n",
      "0: 480x640 3 persons, 1 cup, 4 chairs, 2 tvs, 1 laptop, 68.7ms\n",
      "Speed: 0.9ms preprocess, 68.7ms inference, 0.4ms postprocess per image at shape (1, 3, 480, 640)\n",
      "\n",
      "0: 480x640 3 persons, 1 cup, 4 chairs, 1 tv, 1 laptop, 1 sink, 52.3ms\n",
      "Speed: 0.8ms preprocess, 52.3ms inference, 0.5ms postprocess per image at shape (1, 3, 480, 640)\n"
     ]
    },
    {
     "name": "stdout",
     "output_type": "stream",
     "text": [
      "Confidence ---> 0.87\n",
      "Confidence ---> 0.72\n",
      "Confidence ---> 0.41\n",
      "Confidence ---> 0.87\n",
      "Confidence ---> 0.67\n",
      "Confidence ---> 0.43\n",
      "Confidence ---> 0.86\n",
      "Confidence ---> 0.69\n",
      "Confidence ---> 0.33\n"
     ]
    },
    {
     "name": "stderr",
     "output_type": "stream",
     "text": [
      "\n",
      "0: 480x640 3 persons, 1 cup, 4 chairs, 1 tv, 1 laptop, 1 sink, 59.2ms\n",
      "Speed: 1.0ms preprocess, 59.2ms inference, 0.5ms postprocess per image at shape (1, 3, 480, 640)\n",
      "\n",
      "0: 480x640 3 persons, 1 cup, 3 chairs, 1 tv, 1 laptop, 1 sink, 53.0ms\n",
      "Speed: 1.1ms preprocess, 53.0ms inference, 0.5ms postprocess per image at shape (1, 3, 480, 640)\n",
      "\n",
      "0: 480x640 2 persons, 1 cup, 3 chairs, 1 tv, 1 laptop, 52.4ms\n",
      "Speed: 1.0ms preprocess, 52.4ms inference, 0.4ms postprocess per image at shape (1, 3, 480, 640)\n",
      "\n"
     ]
    },
    {
     "name": "stdout",
     "output_type": "stream",
     "text": [
      "Confidence ---> 0.84\n",
      "Confidence ---> 0.7\n",
      "Confidence ---> 0.31\n",
      "Confidence ---> 0.87\n",
      "Confidence ---> 0.69\n",
      "Confidence ---> 0.27\n",
      "Confidence ---> 0.88\n",
      "Confidence ---> 0.68\n"
     ]
    },
    {
     "name": "stderr",
     "output_type": "stream",
     "text": [
      "0: 480x640 2 persons, 1 cup, 3 chairs, 1 tv, 1 laptop, 1 oven, 55.7ms\n",
      "Speed: 1.0ms preprocess, 55.7ms inference, 0.4ms postprocess per image at shape (1, 3, 480, 640)\n",
      "\n",
      "0: 480x640 3 persons, 1 cup, 2 chairs, 2 tvs, 1 laptop, 1 oven, 54.9ms\n",
      "Speed: 1.1ms preprocess, 54.9ms inference, 0.7ms postprocess per image at shape (1, 3, 480, 640)\n",
      "\n",
      "0: 480x640 3 persons, 1 cup, 3 chairs, 1 tv, 1 laptop, 53.8ms\n",
      "Speed: 1.0ms preprocess, 53.8ms inference, 0.4ms postprocess per image at shape (1, 3, 480, 640)\n",
      "\n"
     ]
    },
    {
     "name": "stdout",
     "output_type": "stream",
     "text": [
      "Confidence ---> 0.9\n",
      "Confidence ---> 0.61\n",
      "Confidence ---> 0.91\n",
      "Confidence ---> 0.61\n",
      "Confidence ---> 0.3\n",
      "Confidence ---> 0.89\n",
      "Confidence ---> 0.53\n",
      "Confidence ---> 0.28\n"
     ]
    },
    {
     "name": "stderr",
     "output_type": "stream",
     "text": [
      "0: 480x640 3 persons, 1 cup, 3 chairs, 1 tv, 1 laptop, 56.5ms\n",
      "Speed: 1.3ms preprocess, 56.5ms inference, 0.5ms postprocess per image at shape (1, 3, 480, 640)\n",
      "\n",
      "0: 480x640 2 persons, 1 cup, 3 chairs, 1 tv, 1 laptop, 57.6ms\n",
      "Speed: 0.9ms preprocess, 57.6ms inference, 0.4ms postprocess per image at shape (1, 3, 480, 640)\n",
      "\n",
      "0: 480x640 2 persons, 1 cup, 3 chairs, 2 tvs, 1 laptop, 53.7ms\n",
      "Speed: 1.0ms preprocess, 53.7ms inference, 0.4ms postprocess per image at shape (1, 3, 480, 640)\n",
      "\n"
     ]
    },
    {
     "name": "stdout",
     "output_type": "stream",
     "text": [
      "Confidence ---> 0.89\n",
      "Confidence ---> 0.52\n",
      "Confidence ---> 0.31\n",
      "Confidence ---> 0.89\n",
      "Confidence ---> 0.48\n",
      "Confidence ---> 0.89\n",
      "Confidence ---> 0.47\n"
     ]
    },
    {
     "name": "stderr",
     "output_type": "stream",
     "text": [
      "0: 480x640 2 persons, 1 cup, 3 chairs, 1 tv, 1 laptop, 56.0ms\n",
      "Speed: 0.9ms preprocess, 56.0ms inference, 0.5ms postprocess per image at shape (1, 3, 480, 640)\n",
      "\n",
      "0: 480x640 3 persons, 1 cup, 2 chairs, 2 tvs, 1 laptop, 1 oven, 54.0ms\n",
      "Speed: 0.9ms preprocess, 54.0ms inference, 0.5ms postprocess per image at shape (1, 3, 480, 640)\n",
      "\n",
      "0: 480x640 3 persons, 1 cup, 1 chair, 1 tv, 1 laptop, 1 oven, 52.7ms\n",
      "Speed: 0.9ms preprocess, 52.7ms inference, 0.5ms postprocess per image at shape (1, 3, 480, 640)\n",
      "\n"
     ]
    },
    {
     "name": "stdout",
     "output_type": "stream",
     "text": [
      "Confidence ---> 0.89\n",
      "Confidence ---> 0.51\n",
      "Confidence ---> 0.89\n",
      "Confidence ---> 0.56\n",
      "Confidence ---> 0.27\n",
      "Confidence ---> 0.88\n",
      "Confidence ---> 0.44\n",
      "Confidence ---> 0.42\n"
     ]
    },
    {
     "name": "stderr",
     "output_type": "stream",
     "text": [
      "0: 480x640 3 persons, 1 cup, 1 chair, 1 tv, 1 laptop, 56.0ms\n",
      "Speed: 1.0ms preprocess, 56.0ms inference, 0.5ms postprocess per image at shape (1, 3, 480, 640)\n",
      "\n",
      "0: 480x640 3 persons, 1 cup, 1 chair, 1 tv, 1 laptop, 57.3ms\n",
      "Speed: 1.2ms preprocess, 57.3ms inference, 0.4ms postprocess per image at shape (1, 3, 480, 640)\n",
      "\n",
      "0: 480x640 4 persons, 1 cup, 3 chairs, 1 tv, 1 laptop, 53.0ms\n",
      "Speed: 1.1ms preprocess, 53.0ms inference, 0.4ms postprocess per image at shape (1, 3, 480, 640)\n",
      "\n"
     ]
    },
    {
     "name": "stdout",
     "output_type": "stream",
     "text": [
      "Confidence ---> 0.88\n",
      "Confidence ---> 0.44\n",
      "Confidence ---> 0.41\n",
      "Confidence ---> 0.89\n",
      "Confidence ---> 0.45\n",
      "Confidence ---> 0.27\n",
      "Confidence ---> 0.9\n",
      "Confidence ---> 0.55\n",
      "Confidence ---> 0.41\n",
      "Confidence ---> 0.28\n"
     ]
    },
    {
     "name": "stderr",
     "output_type": "stream",
     "text": [
      "0: 480x640 3 persons, 1 cup, 2 chairs, 1 tv, 1 laptop, 54.7ms\n",
      "Speed: 0.8ms preprocess, 54.7ms inference, 0.5ms postprocess per image at shape (1, 3, 480, 640)\n",
      "\n",
      "0: 480x640 4 persons, 1 cup, 3 chairs, 1 tv, 1 laptop, 64.4ms\n",
      "Speed: 2.6ms preprocess, 64.4ms inference, 0.6ms postprocess per image at shape (1, 3, 480, 640)\n",
      "\n",
      "0: 480x640 3 persons, 1 cup, 4 chairs, 1 tv, 1 laptop, 53.4ms\n",
      "Speed: 0.9ms preprocess, 53.4ms inference, 0.4ms postprocess per image at shape (1, 3, 480, 640)\n"
     ]
    },
    {
     "name": "stdout",
     "output_type": "stream",
     "text": [
      "Confidence ---> 0.9\n",
      "Confidence ---> 0.6\n",
      "Confidence ---> 0.32\n",
      "Confidence ---> 0.91\n",
      "Confidence ---> 0.55\n",
      "Confidence ---> 0.41\n",
      "Confidence ---> 0.37\n",
      "Confidence ---> 0.9\n",
      "Confidence ---> 0.58\n",
      "Confidence ---> 0.4\n"
     ]
    },
    {
     "name": "stderr",
     "output_type": "stream",
     "text": [
      "\n",
      "0: 480x640 3 persons, 1 cup, 3 chairs, 1 tv, 1 laptop, 57.2ms\n",
      "Speed: 1.0ms preprocess, 57.2ms inference, 0.4ms postprocess per image at shape (1, 3, 480, 640)\n",
      "\n",
      "0: 480x640 3 persons, 1 cup, 3 chairs, 1 tv, 1 laptop, 54.1ms\n",
      "Speed: 1.1ms preprocess, 54.1ms inference, 0.4ms postprocess per image at shape (1, 3, 480, 640)\n",
      "\n",
      "0: 480x640 3 persons, 1 cup, 3 chairs, 1 tv, 1 laptop, 53.8ms\n",
      "Speed: 1.0ms preprocess, 53.8ms inference, 0.4ms postprocess per image at shape (1, 3, 480, 640)\n",
      "\n"
     ]
    },
    {
     "name": "stdout",
     "output_type": "stream",
     "text": [
      "Confidence ---> 0.89\n",
      "Confidence ---> 0.6\n",
      "Confidence ---> 0.26\n",
      "Confidence ---> 0.87\n",
      "Confidence ---> 0.52\n",
      "Confidence ---> 0.39\n",
      "Confidence ---> 0.86\n",
      "Confidence ---> 0.46\n",
      "Confidence ---> 0.3\n"
     ]
    },
    {
     "name": "stderr",
     "output_type": "stream",
     "text": [
      "0: 480x640 3 persons, 3 chairs, 1 tv, 1 laptop, 55.2ms\n",
      "Speed: 1.1ms preprocess, 55.2ms inference, 0.5ms postprocess per image at shape (1, 3, 480, 640)\n",
      "\n",
      "0: 480x640 2 persons, 1 cup, 2 chairs, 1 tv, 1 laptop, 55.1ms\n",
      "Speed: 1.1ms preprocess, 55.1ms inference, 0.5ms postprocess per image at shape (1, 3, 480, 640)\n",
      "\n",
      "0: 480x640 3 persons, 1 cup, 4 chairs, 1 tv, 1 laptop, 53.3ms\n",
      "Speed: 0.8ms preprocess, 53.3ms inference, 0.4ms postprocess per image at shape (1, 3, 480, 640)\n",
      "\n"
     ]
    },
    {
     "name": "stdout",
     "output_type": "stream",
     "text": [
      "Confidence ---> 0.9\n",
      "Confidence ---> 0.59\n",
      "Confidence ---> 0.33\n",
      "Confidence ---> 0.9\n",
      "Confidence ---> 0.58\n",
      "Confidence ---> 0.9\n",
      "Confidence ---> 0.62\n",
      "Confidence ---> 0.33\n"
     ]
    },
    {
     "name": "stderr",
     "output_type": "stream",
     "text": [
      "0: 480x640 2 persons, 1 cup, 3 chairs, 1 tv, 1 laptop, 56.0ms\n",
      "Speed: 1.1ms preprocess, 56.0ms inference, 0.4ms postprocess per image at shape (1, 3, 480, 640)\n",
      "\n",
      "0: 480x640 2 persons, 1 cup, 3 chairs, 1 tv, 1 laptop, 1 oven, 54.9ms\n",
      "Speed: 1.0ms preprocess, 54.9ms inference, 0.5ms postprocess per image at shape (1, 3, 480, 640)\n",
      "\n",
      "0: 480x640 2 persons, 1 cup, 3 chairs, 2 tvs, 1 laptop, 53.4ms\n",
      "Speed: 0.9ms preprocess, 53.4ms inference, 0.5ms postprocess per image at shape (1, 3, 480, 640)\n",
      "\n"
     ]
    },
    {
     "name": "stdout",
     "output_type": "stream",
     "text": [
      "Confidence ---> 0.89\n",
      "Confidence ---> 0.58\n",
      "Confidence ---> 0.88\n",
      "Confidence ---> 0.6\n",
      "Confidence ---> 0.87\n",
      "Confidence ---> 0.56\n"
     ]
    },
    {
     "name": "stderr",
     "output_type": "stream",
     "text": [
      "0: 480x640 3 persons, 1 cup, 3 chairs, 2 tvs, 1 laptop, 55.7ms\n",
      "Speed: 0.9ms preprocess, 55.7ms inference, 0.4ms postprocess per image at shape (1, 3, 480, 640)\n",
      "\n",
      "0: 480x640 2 persons, 1 cup, 4 chairs, 2 tvs, 1 laptop, 1 sink, 56.5ms\n",
      "Speed: 1.2ms preprocess, 56.5ms inference, 0.5ms postprocess per image at shape (1, 3, 480, 640)\n",
      "\n",
      "0: 480x640 2 persons, 1 cup, 4 chairs, 2 tvs, 1 laptop, 52.7ms\n",
      "Speed: 0.9ms preprocess, 52.7ms inference, 0.4ms postprocess per image at shape (1, 3, 480, 640)\n",
      "\n"
     ]
    },
    {
     "name": "stdout",
     "output_type": "stream",
     "text": [
      "Confidence ---> 0.88\n",
      "Confidence ---> 0.62\n",
      "Confidence ---> 0.34\n",
      "Confidence ---> 0.89\n",
      "Confidence ---> 0.62\n",
      "Confidence ---> 0.88\n",
      "Confidence ---> 0.59\n"
     ]
    },
    {
     "name": "stderr",
     "output_type": "stream",
     "text": [
      "0: 480x640 2 persons, 1 cup, 3 chairs, 1 tv, 1 laptop, 54.7ms\n",
      "Speed: 1.1ms preprocess, 54.7ms inference, 0.5ms postprocess per image at shape (1, 3, 480, 640)\n",
      "\n",
      "0: 480x640 3 persons, 1 cup, 6 chairs, 1 tv, 1 laptop, 55.4ms\n",
      "Speed: 1.4ms preprocess, 55.4ms inference, 0.4ms postprocess per image at shape (1, 3, 480, 640)\n",
      "\n",
      "0: 480x640 2 persons, 1 cup, 5 chairs, 1 tv, 1 laptop, 1 sink, 53.1ms\n",
      "Speed: 1.0ms preprocess, 53.1ms inference, 0.6ms postprocess per image at shape (1, 3, 480, 640)\n",
      "\n"
     ]
    },
    {
     "name": "stdout",
     "output_type": "stream",
     "text": [
      "Confidence ---> 0.88\n",
      "Confidence ---> 0.47\n",
      "Confidence ---> 0.89\n",
      "Confidence ---> 0.44\n",
      "Confidence ---> 0.34\n",
      "Confidence ---> 0.88\n",
      "Confidence ---> 0.48\n"
     ]
    },
    {
     "name": "stderr",
     "output_type": "stream",
     "text": [
      "0: 480x640 2 persons, 1 cup, 5 chairs, 1 tv, 1 laptop, 1 oven, 58.2ms\n",
      "Speed: 0.9ms preprocess, 58.2ms inference, 0.5ms postprocess per image at shape (1, 3, 480, 640)\n",
      "\n",
      "0: 480x640 3 persons, 1 cup, 3 chairs, 2 tvs, 1 laptop, 68.0ms\n",
      "Speed: 1.7ms preprocess, 68.0ms inference, 0.5ms postprocess per image at shape (1, 3, 480, 640)\n",
      "\n",
      "0: 480x640 3 persons, 1 cup, 3 chairs, 1 tv, 1 laptop, 55.6ms\n",
      "Speed: 0.9ms preprocess, 55.6ms inference, 0.5ms postprocess per image at shape (1, 3, 480, 640)\n"
     ]
    },
    {
     "name": "stdout",
     "output_type": "stream",
     "text": [
      "Confidence ---> 0.87\n",
      "Confidence ---> 0.33\n",
      "Confidence ---> 0.89\n",
      "Confidence ---> 0.39\n",
      "Confidence ---> 0.38\n",
      "Confidence ---> 0.88\n",
      "Confidence ---> 0.4\n",
      "Confidence ---> 0.33\n"
     ]
    },
    {
     "name": "stderr",
     "output_type": "stream",
     "text": [
      "\n",
      "0: 480x640 3 persons, 1 cup, 5 chairs, 1 tv, 1 laptop, 58.1ms\n",
      "Speed: 1.1ms preprocess, 58.1ms inference, 0.5ms postprocess per image at shape (1, 3, 480, 640)\n",
      "\n",
      "0: 480x640 3 persons, 1 cup, 6 chairs, 1 tv, 1 laptop, 55.8ms\n",
      "Speed: 1.1ms preprocess, 55.8ms inference, 0.4ms postprocess per image at shape (1, 3, 480, 640)\n",
      "\n",
      "0: 480x640 3 persons, 1 cup, 3 chairs, 1 tv, 1 laptop, 52.4ms\n",
      "Speed: 0.8ms preprocess, 52.4ms inference, 0.5ms postprocess per image at shape (1, 3, 480, 640)\n",
      "\n"
     ]
    },
    {
     "name": "stdout",
     "output_type": "stream",
     "text": [
      "Confidence ---> 0.86\n",
      "Confidence ---> 0.35\n",
      "Confidence ---> 0.29\n",
      "Confidence ---> 0.88\n",
      "Confidence ---> 0.36\n",
      "Confidence ---> 0.27\n",
      "Confidence ---> 0.86\n",
      "Confidence ---> 0.32\n",
      "Confidence ---> 0.29\n"
     ]
    },
    {
     "name": "stderr",
     "output_type": "stream",
     "text": [
      "0: 480x640 3 persons, 1 cup, 3 chairs, 2 tvs, 1 laptop, 57.2ms\n",
      "Speed: 1.0ms preprocess, 57.2ms inference, 0.4ms postprocess per image at shape (1, 3, 480, 640)\n",
      "\n",
      "0: 480x640 3 persons, 1 cup, 4 chairs, 1 tv, 1 laptop, 1 sink, 55.4ms\n",
      "Speed: 1.4ms preprocess, 55.4ms inference, 0.5ms postprocess per image at shape (1, 3, 480, 640)\n",
      "\n",
      "0: 480x640 2 persons, 1 cup, 4 chairs, 1 tv, 1 laptop, 52.5ms\n",
      "Speed: 0.9ms preprocess, 52.5ms inference, 0.5ms postprocess per image at shape (1, 3, 480, 640)\n",
      "\n"
     ]
    },
    {
     "name": "stdout",
     "output_type": "stream",
     "text": [
      "Confidence ---> 0.88\n",
      "Confidence ---> 0.36\n",
      "Confidence ---> 0.36\n",
      "Confidence ---> 0.87\n",
      "Confidence ---> 0.35\n",
      "Confidence ---> 0.31\n",
      "Confidence ---> 0.87\n",
      "Confidence ---> 0.43\n"
     ]
    },
    {
     "name": "stderr",
     "output_type": "stream",
     "text": [
      "0: 480x640 2 persons, 1 cup, 4 chairs, 1 tv, 1 laptop, 56.0ms\n",
      "Speed: 1.1ms preprocess, 56.0ms inference, 0.4ms postprocess per image at shape (1, 3, 480, 640)\n",
      "\n",
      "0: 480x640 3 persons, 1 cup, 6 chairs, 1 tv, 1 laptop, 1 sink, 54.5ms\n",
      "Speed: 0.8ms preprocess, 54.5ms inference, 0.4ms postprocess per image at shape (1, 3, 480, 640)\n",
      "\n",
      "0: 480x640 2 persons, 1 cup, 4 chairs, 1 tv, 1 laptop, 1 sink, 53.4ms\n",
      "Speed: 0.9ms preprocess, 53.4ms inference, 0.6ms postprocess per image at shape (1, 3, 480, 640)\n",
      "\n"
     ]
    },
    {
     "name": "stdout",
     "output_type": "stream",
     "text": [
      "Confidence ---> 0.87\n",
      "Confidence ---> 0.32\n",
      "Confidence ---> 0.88\n",
      "Confidence ---> 0.41\n",
      "Confidence ---> 0.26\n",
      "Confidence ---> 0.88\n",
      "Confidence ---> 0.45\n"
     ]
    },
    {
     "name": "stderr",
     "output_type": "stream",
     "text": [
      "0: 480x640 2 persons, 1 cup, 5 chairs, 1 tv, 1 laptop, 54.6ms\n",
      "Speed: 0.8ms preprocess, 54.6ms inference, 0.4ms postprocess per image at shape (1, 3, 480, 640)\n",
      "\n",
      "0: 480x640 2 persons, 1 cup, 4 chairs, 1 tv, 1 laptop, 55.6ms\n",
      "Speed: 1.0ms preprocess, 55.6ms inference, 0.5ms postprocess per image at shape (1, 3, 480, 640)\n",
      "\n",
      "0: 480x640 3 persons, 1 cup, 4 chairs, 1 tv, 1 laptop, 52.5ms\n",
      "Speed: 0.9ms preprocess, 52.5ms inference, 0.5ms postprocess per image at shape (1, 3, 480, 640)\n",
      "\n"
     ]
    },
    {
     "name": "stdout",
     "output_type": "stream",
     "text": [
      "Confidence ---> 0.88\n",
      "Confidence ---> 0.45\n",
      "Confidence ---> 0.88\n",
      "Confidence ---> 0.41\n",
      "Confidence ---> 0.87\n",
      "Confidence ---> 0.39\n",
      "Confidence ---> 0.26\n"
     ]
    },
    {
     "name": "stderr",
     "output_type": "stream",
     "text": [
      "0: 480x640 2 persons, 1 cup, 3 chairs, 1 tv, 1 laptop, 59.3ms\n",
      "Speed: 0.8ms preprocess, 59.3ms inference, 0.5ms postprocess per image at shape (1, 3, 480, 640)\n",
      "\n",
      "0: 480x640 2 persons, 1 cup, 3 chairs, 1 tv, 1 laptop, 54.5ms\n",
      "Speed: 1.2ms preprocess, 54.5ms inference, 0.4ms postprocess per image at shape (1, 3, 480, 640)\n",
      "\n",
      "0: 480x640 3 persons, 1 cup, 3 chairs, 1 tv, 1 laptop, 53.8ms\n",
      "Speed: 0.8ms preprocess, 53.8ms inference, 0.5ms postprocess per image at shape (1, 3, 480, 640)\n",
      "\n"
     ]
    },
    {
     "name": "stdout",
     "output_type": "stream",
     "text": [
      "Confidence ---> 0.88\n",
      "Confidence ---> 0.45\n",
      "Confidence ---> 0.87\n",
      "Confidence ---> 0.42\n",
      "Confidence ---> 0.86\n",
      "Confidence ---> 0.33\n",
      "Confidence ---> 0.26\n"
     ]
    },
    {
     "name": "stderr",
     "output_type": "stream",
     "text": [
      "0: 480x640 2 persons, 1 cup, 4 chairs, 1 tv, 1 laptop, 1 oven, 61.8ms\n",
      "Speed: 0.9ms preprocess, 61.8ms inference, 0.5ms postprocess per image at shape (1, 3, 480, 640)\n",
      "\n",
      "0: 480x640 3 persons, 1 cup, 4 chairs, 1 tv, 1 laptop, 66.1ms\n",
      "Speed: 3.6ms preprocess, 66.1ms inference, 0.4ms postprocess per image at shape (1, 3, 480, 640)\n",
      "\n",
      "0: 480x640 3 persons, 1 cup, 4 chairs, 1 tv, 1 laptop, 53.1ms\n",
      "Speed: 1.0ms preprocess, 53.1ms inference, 0.6ms postprocess per image at shape (1, 3, 480, 640)\n"
     ]
    },
    {
     "name": "stdout",
     "output_type": "stream",
     "text": [
      "Confidence ---> 0.86\n",
      "Confidence ---> 0.39\n",
      "Confidence ---> 0.87\n",
      "Confidence ---> 0.37\n",
      "Confidence ---> 0.26\n",
      "Confidence ---> 0.87\n",
      "Confidence ---> 0.38\n",
      "Confidence ---> 0.33\n"
     ]
    },
    {
     "name": "stderr",
     "output_type": "stream",
     "text": [
      "\n",
      "0: 480x640 2 persons, 1 cup, 3 chairs, 1 tv, 1 laptop, 1 oven, 56.0ms\n",
      "Speed: 1.0ms preprocess, 56.0ms inference, 0.5ms postprocess per image at shape (1, 3, 480, 640)\n",
      "\n",
      "0: 480x640 2 persons, 1 cup, 3 chairs, 1 tv, 1 laptop, 1 oven, 55.6ms\n",
      "Speed: 1.1ms preprocess, 55.6ms inference, 0.4ms postprocess per image at shape (1, 3, 480, 640)\n",
      "\n",
      "0: 480x640 2 persons, 1 cup, 3 chairs, 1 tv, 1 laptop, 1 oven, 53.4ms\n",
      "Speed: 1.0ms preprocess, 53.4ms inference, 0.5ms postprocess per image at shape (1, 3, 480, 640)\n",
      "\n"
     ]
    },
    {
     "name": "stdout",
     "output_type": "stream",
     "text": [
      "Confidence ---> 0.87\n",
      "Confidence ---> 0.37\n",
      "Confidence ---> 0.88\n",
      "Confidence ---> 0.45\n",
      "Confidence ---> 0.88\n",
      "Confidence ---> 0.43\n"
     ]
    },
    {
     "name": "stderr",
     "output_type": "stream",
     "text": [
      "0: 480x640 2 persons, 1 cup, 3 chairs, 1 tv, 1 laptop, 1 sink, 57.1ms\n",
      "Speed: 0.8ms preprocess, 57.1ms inference, 0.5ms postprocess per image at shape (1, 3, 480, 640)\n",
      "\n",
      "0: 480x640 1 person, 1 cup, 4 chairs, 1 tv, 1 laptop, 59.1ms\n",
      "Speed: 1.1ms preprocess, 59.1ms inference, 0.5ms postprocess per image at shape (1, 3, 480, 640)\n",
      "\n",
      "0: 480x640 1 person, 1 cup, 4 chairs, 1 tv, 1 laptop, 1 oven, 52.7ms\n",
      "Speed: 0.9ms preprocess, 52.7ms inference, 0.5ms postprocess per image at shape (1, 3, 480, 640)\n",
      "\n"
     ]
    },
    {
     "name": "stdout",
     "output_type": "stream",
     "text": [
      "Confidence ---> 0.87\n",
      "Confidence ---> 0.34\n",
      "Confidence ---> 0.84\n",
      "Confidence ---> 0.83\n"
     ]
    },
    {
     "name": "stderr",
     "output_type": "stream",
     "text": [
      "0: 480x640 3 persons, 1 cup, 4 chairs, 1 tv, 1 laptop, 1 sink, 56.0ms\n",
      "Speed: 1.1ms preprocess, 56.0ms inference, 0.5ms postprocess per image at shape (1, 3, 480, 640)\n",
      "\n",
      "0: 480x640 3 persons, 1 cup, 3 chairs, 1 tv, 1 laptop, 1 oven, 1 sink, 56.0ms\n",
      "Speed: 0.9ms preprocess, 56.0ms inference, 0.5ms postprocess per image at shape (1, 3, 480, 640)\n",
      "\n",
      "0: 480x640 3 persons, 1 cup, 4 chairs, 1 tv, 1 laptop, 2 ovens, 52.1ms\n",
      "Speed: 0.8ms preprocess, 52.1ms inference, 0.4ms postprocess per image at shape (1, 3, 480, 640)\n",
      "\n"
     ]
    },
    {
     "name": "stdout",
     "output_type": "stream",
     "text": [
      "Confidence ---> 0.84\n",
      "Confidence ---> 0.43\n",
      "Confidence ---> 0.38\n",
      "Confidence ---> 0.86\n",
      "Confidence ---> 0.4\n",
      "Confidence ---> 0.39\n",
      "Confidence ---> 0.88\n",
      "Confidence ---> 0.45\n",
      "Confidence ---> 0.42\n"
     ]
    },
    {
     "name": "stderr",
     "output_type": "stream",
     "text": [
      "0: 480x640 3 persons, 1 cup, 4 chairs, 1 tv, 1 laptop, 57.1ms\n",
      "Speed: 1.1ms preprocess, 57.1ms inference, 0.5ms postprocess per image at shape (1, 3, 480, 640)\n",
      "\n",
      "0: 480x640 2 persons, 1 chair, 1 tv, 1 laptop, 55.7ms\n",
      "Speed: 1.2ms preprocess, 55.7ms inference, 0.5ms postprocess per image at shape (1, 3, 480, 640)\n",
      "\n",
      "0: 480x640 3 persons, 3 chairs, 1 tv, 1 laptop, 1 oven, 52.9ms\n",
      "Speed: 0.9ms preprocess, 52.9ms inference, 0.4ms postprocess per image at shape (1, 3, 480, 640)\n",
      "\n"
     ]
    },
    {
     "name": "stdout",
     "output_type": "stream",
     "text": [
      "Confidence ---> 0.88\n",
      "Confidence ---> 0.44\n",
      "Confidence ---> 0.44\n",
      "Confidence ---> 0.88\n",
      "Confidence ---> 0.48\n",
      "Confidence ---> 0.9\n",
      "Confidence ---> 0.54\n",
      "Confidence ---> 0.54\n"
     ]
    },
    {
     "name": "stderr",
     "output_type": "stream",
     "text": [
      "0: 480x640 2 persons, 1 tv, 55.2ms\n",
      "Speed: 0.8ms preprocess, 55.2ms inference, 0.4ms postprocess per image at shape (1, 3, 480, 640)\n",
      "\n",
      "0: 480x640 1 person, 54.0ms\n",
      "Speed: 1.1ms preprocess, 54.0ms inference, 0.6ms postprocess per image at shape (1, 3, 480, 640)\n",
      "\n",
      "0: 480x640 1 person, 1 chair, 1 tv, 52.2ms\n",
      "Speed: 0.9ms preprocess, 52.2ms inference, 0.4ms postprocess per image at shape (1, 3, 480, 640)\n",
      "\n"
     ]
    },
    {
     "name": "stdout",
     "output_type": "stream",
     "text": [
      "Confidence ---> 0.51\n",
      "Confidence ---> 0.26\n",
      "Confidence ---> 0.64\n",
      "Confidence ---> 0.76\n"
     ]
    },
    {
     "name": "stderr",
     "output_type": "stream",
     "text": [
      "0: 480x640 1 person, 2 chairs, 1 tv, 55.6ms\n",
      "Speed: 1.0ms preprocess, 55.6ms inference, 0.5ms postprocess per image at shape (1, 3, 480, 640)\n",
      "\n",
      "0: 480x640 1 person, 56.2ms\n",
      "Speed: 1.3ms preprocess, 56.2ms inference, 0.5ms postprocess per image at shape (1, 3, 480, 640)\n"
     ]
    },
    {
     "name": "stdout",
     "output_type": "stream",
     "text": [
      "Confidence ---> 0.76\n",
      "Confidence ---> 0.78\n"
     ]
    },
    {
     "name": "stderr",
     "output_type": "stream",
     "text": [
      "\n",
      "0: 480x640 1 person, 60.7ms\n",
      "Speed: 1.6ms preprocess, 60.7ms inference, 0.4ms postprocess per image at shape (1, 3, 480, 640)\n",
      "\n",
      "0: 480x640 2 persons, 1 cat, 1 fork, 1 chair, 2 laptops, 55.4ms\n",
      "Speed: 1.1ms preprocess, 55.4ms inference, 0.5ms postprocess per image at shape (1, 3, 480, 640)\n",
      "\n"
     ]
    },
    {
     "name": "stdout",
     "output_type": "stream",
     "text": [
      "Confidence ---> 0.86\n",
      "Confidence ---> 0.44\n",
      "Confidence ---> 0.31\n"
     ]
    },
    {
     "name": "stderr",
     "output_type": "stream",
     "text": [
      "0: 480x640 1 person, 58.8ms\n",
      "Speed: 0.9ms preprocess, 58.8ms inference, 0.5ms postprocess per image at shape (1, 3, 480, 640)\n",
      "\n",
      "0: 480x640 (no detections), 58.0ms\n",
      "Speed: 1.6ms preprocess, 58.0ms inference, 0.3ms postprocess per image at shape (1, 3, 480, 640)\n",
      "\n",
      "0: 480x640 (no detections), 51.1ms\n",
      "Speed: 0.9ms preprocess, 51.1ms inference, 0.3ms postprocess per image at shape (1, 3, 480, 640)\n"
     ]
    },
    {
     "name": "stdout",
     "output_type": "stream",
     "text": [
      "Confidence ---> 0.3\n"
     ]
    },
    {
     "name": "stderr",
     "output_type": "stream",
     "text": [
      "\n",
      "0: 480x640 1 vase, 56.0ms\n",
      "Speed: 0.8ms preprocess, 56.0ms inference, 0.4ms postprocess per image at shape (1, 3, 480, 640)\n",
      "\n",
      "0: 480x640 1 toothbrush, 52.3ms\n",
      "Speed: 0.9ms preprocess, 52.3ms inference, 0.4ms postprocess per image at shape (1, 3, 480, 640)\n",
      "\n",
      "0: 480x640 (no detections), 51.2ms\n",
      "Speed: 1.0ms preprocess, 51.2ms inference, 0.3ms postprocess per image at shape (1, 3, 480, 640)\n",
      "\n",
      "0: 480x640 1 person, 51.0ms\n",
      "Speed: 1.1ms preprocess, 51.0ms inference, 0.4ms postprocess per image at shape (1, 3, 480, 640)\n",
      "\n",
      "0: 480x640 1 person, 51.8ms\n",
      "Speed: 0.9ms preprocess, 51.8ms inference, 0.4ms postprocess per image at shape (1, 3, 480, 640)\n",
      "\n"
     ]
    },
    {
     "name": "stdout",
     "output_type": "stream",
     "text": [
      "Confidence ---> 0.51\n",
      "Confidence ---> 0.46\n"
     ]
    },
    {
     "name": "stderr",
     "output_type": "stream",
     "text": [
      "0: 480x640 1 person, 54.4ms\n",
      "Speed: 0.9ms preprocess, 54.4ms inference, 0.5ms postprocess per image at shape (1, 3, 480, 640)\n",
      "\n",
      "0: 480x640 2 persons, 54.0ms\n",
      "Speed: 0.8ms preprocess, 54.0ms inference, 0.4ms postprocess per image at shape (1, 3, 480, 640)\n",
      "\n",
      "0: 480x640 1 person, 52.8ms\n",
      "Speed: 1.0ms preprocess, 52.8ms inference, 0.5ms postprocess per image at shape (1, 3, 480, 640)\n"
     ]
    },
    {
     "name": "stdout",
     "output_type": "stream",
     "text": [
      "Confidence ---> 0.46\n",
      "Confidence ---> 0.67\n",
      "Confidence ---> 0.32\n",
      "Confidence ---> 0.71\n"
     ]
    },
    {
     "name": "stderr",
     "output_type": "stream",
     "text": [
      "\n",
      "0: 480x640 1 person, 55.6ms\n",
      "Speed: 1.2ms preprocess, 55.6ms inference, 0.5ms postprocess per image at shape (1, 3, 480, 640)\n",
      "\n",
      "0: 480x640 1 person, 51.3ms\n",
      "Speed: 0.9ms preprocess, 51.3ms inference, 0.4ms postprocess per image at shape (1, 3, 480, 640)\n",
      "\n",
      "0: 480x640 3 persons, 52.2ms\n",
      "Speed: 1.1ms preprocess, 52.2ms inference, 0.5ms postprocess per image at shape (1, 3, 480, 640)\n"
     ]
    },
    {
     "name": "stdout",
     "output_type": "stream",
     "text": [
      "Confidence ---> 0.75\n",
      "Confidence ---> 0.71\n",
      "Confidence ---> 0.5\n",
      "Confidence ---> 0.33\n",
      "Confidence ---> 0.26\n"
     ]
    },
    {
     "name": "stderr",
     "output_type": "stream",
     "text": [
      "\n",
      "0: 480x640 3 persons, 54.5ms\n",
      "Speed: 0.8ms preprocess, 54.5ms inference, 0.4ms postprocess per image at shape (1, 3, 480, 640)\n",
      "\n",
      "0: 480x640 2 persons, 1 skateboard, 52.8ms\n",
      "Speed: 0.9ms preprocess, 52.8ms inference, 0.4ms postprocess per image at shape (1, 3, 480, 640)\n",
      "\n",
      "0: 480x640 2 persons, 53.3ms\n",
      "Speed: 0.8ms preprocess, 53.3ms inference, 0.4ms postprocess per image at shape (1, 3, 480, 640)\n"
     ]
    },
    {
     "name": "stdout",
     "output_type": "stream",
     "text": [
      "Confidence ---> 0.63\n",
      "Confidence ---> 0.61\n",
      "Confidence ---> 0.37\n",
      "Confidence ---> 0.55\n",
      "Confidence ---> 0.27\n",
      "Confidence ---> 0.54\n",
      "Confidence ---> 0.42\n"
     ]
    },
    {
     "name": "stderr",
     "output_type": "stream",
     "text": [
      "\n",
      "0: 480x640 3 persons, 57.1ms\n",
      "Speed: 0.9ms preprocess, 57.1ms inference, 0.4ms postprocess per image at shape (1, 3, 480, 640)\n",
      "\n",
      "0: 480x640 1 person, 1 skateboard, 52.1ms\n",
      "Speed: 0.9ms preprocess, 52.1ms inference, 0.4ms postprocess per image at shape (1, 3, 480, 640)\n",
      "\n",
      "0: 480x640 1 person, 1 skateboard, 51.9ms\n",
      "Speed: 1.0ms preprocess, 51.9ms inference, 0.5ms postprocess per image at shape (1, 3, 480, 640)\n"
     ]
    },
    {
     "name": "stdout",
     "output_type": "stream",
     "text": [
      "Confidence ---> 0.58\n",
      "Confidence ---> 0.56\n",
      "Confidence ---> 0.3\n",
      "Confidence ---> 0.48\n",
      "Confidence ---> 0.55\n"
     ]
    },
    {
     "name": "stderr",
     "output_type": "stream",
     "text": [
      "\n",
      "0: 480x640 1 person, 1 skateboard, 58.9ms\n",
      "Speed: 1.0ms preprocess, 58.9ms inference, 0.4ms postprocess per image at shape (1, 3, 480, 640)\n",
      "\n",
      "0: 480x640 2 persons, 1 skateboard, 51.4ms\n",
      "Speed: 1.0ms preprocess, 51.4ms inference, 0.5ms postprocess per image at shape (1, 3, 480, 640)\n",
      "\n",
      "0: 480x640 2 persons, 1 skateboard, 52.5ms\n",
      "Speed: 0.9ms preprocess, 52.5ms inference, 0.4ms postprocess per image at shape (1, 3, 480, 640)\n"
     ]
    },
    {
     "name": "stdout",
     "output_type": "stream",
     "text": [
      "Confidence ---> 0.6\n",
      "Confidence ---> 0.53\n",
      "Confidence ---> 0.48\n",
      "Confidence ---> 0.36\n",
      "Confidence ---> 0.26\n"
     ]
    },
    {
     "name": "stderr",
     "output_type": "stream",
     "text": [
      "\n",
      "0: 480x640 2 persons, 1 skateboard, 74.3ms\n",
      "Speed: 1.1ms preprocess, 74.3ms inference, 0.5ms postprocess per image at shape (1, 3, 480, 640)\n",
      "\n",
      "0: 480x640 2 persons, 52.3ms\n",
      "Speed: 1.1ms preprocess, 52.3ms inference, 0.5ms postprocess per image at shape (1, 3, 480, 640)\n",
      "\n",
      "0: 480x640 2 persons, 1 skateboard, 52.4ms\n",
      "Speed: 1.0ms preprocess, 52.4ms inference, 0.4ms postprocess per image at shape (1, 3, 480, 640)\n"
     ]
    },
    {
     "name": "stdout",
     "output_type": "stream",
     "text": [
      "Confidence ---> 0.48\n",
      "Confidence ---> 0.26\n",
      "Confidence ---> 0.4\n",
      "Confidence ---> 0.32\n",
      "Confidence ---> 0.49\n",
      "Confidence ---> 0.31\n"
     ]
    },
    {
     "name": "stderr",
     "output_type": "stream",
     "text": [
      "\n",
      "0: 480x640 1 person, 1 skateboard, 57.3ms\n",
      "Speed: 0.9ms preprocess, 57.3ms inference, 0.4ms postprocess per image at shape (1, 3, 480, 640)\n",
      "\n",
      "0: 480x640 2 persons, 1 skateboard, 51.3ms\n",
      "Speed: 1.1ms preprocess, 51.3ms inference, 0.4ms postprocess per image at shape (1, 3, 480, 640)\n",
      "\n",
      "0: 480x640 2 persons, 1 skateboard, 52.3ms\n",
      "Speed: 0.8ms preprocess, 52.3ms inference, 0.5ms postprocess per image at shape (1, 3, 480, 640)\n"
     ]
    },
    {
     "name": "stdout",
     "output_type": "stream",
     "text": [
      "Confidence ---> 0.66\n",
      "Confidence ---> 0.56\n",
      "Confidence ---> 0.36\n",
      "Confidence ---> 0.6\n",
      "Confidence ---> 0.38\n"
     ]
    },
    {
     "name": "stderr",
     "output_type": "stream",
     "text": [
      "\n",
      "0: 480x640 2 persons, 1 skateboard, 57.6ms\n",
      "Speed: 0.9ms preprocess, 57.6ms inference, 0.4ms postprocess per image at shape (1, 3, 480, 640)\n",
      "\n",
      "0: 480x640 1 person, 1 skateboard, 52.3ms\n",
      "Speed: 0.9ms preprocess, 52.3ms inference, 0.4ms postprocess per image at shape (1, 3, 480, 640)\n",
      "\n",
      "0: 480x640 2 persons, 1 skateboard, 53.3ms\n",
      "Speed: 1.0ms preprocess, 53.3ms inference, 0.5ms postprocess per image at shape (1, 3, 480, 640)\n"
     ]
    },
    {
     "name": "stdout",
     "output_type": "stream",
     "text": [
      "Confidence ---> 0.52\n",
      "Confidence ---> 0.32\n",
      "Confidence ---> 0.59\n",
      "Confidence ---> 0.51\n",
      "Confidence ---> 0.33\n"
     ]
    },
    {
     "name": "stderr",
     "output_type": "stream",
     "text": [
      "\n",
      "0: 480x640 1 person, 57.1ms\n",
      "Speed: 0.8ms preprocess, 57.1ms inference, 0.4ms postprocess per image at shape (1, 3, 480, 640)\n",
      "\n",
      "0: 480x640 2 persons, 53.9ms\n",
      "Speed: 0.8ms preprocess, 53.9ms inference, 0.4ms postprocess per image at shape (1, 3, 480, 640)\n",
      "\n",
      "0: 480x640 4 persons, 53.1ms\n",
      "Speed: 0.9ms preprocess, 53.1ms inference, 0.5ms postprocess per image at shape (1, 3, 480, 640)\n"
     ]
    },
    {
     "name": "stdout",
     "output_type": "stream",
     "text": [
      "Confidence ---> 0.41\n",
      "Confidence ---> 0.63\n",
      "Confidence ---> 0.26\n",
      "Confidence ---> 0.39\n",
      "Confidence ---> 0.39\n",
      "Confidence ---> 0.37\n",
      "Confidence ---> 0.33\n"
     ]
    },
    {
     "name": "stderr",
     "output_type": "stream",
     "text": [
      "\n",
      "0: 480x640 1 person, 1 skateboard, 58.5ms\n",
      "Speed: 0.9ms preprocess, 58.5ms inference, 0.4ms postprocess per image at shape (1, 3, 480, 640)\n",
      "\n",
      "0: 480x640 1 person, 52.2ms\n",
      "Speed: 1.1ms preprocess, 52.2ms inference, 0.4ms postprocess per image at shape (1, 3, 480, 640)\n",
      "\n",
      "0: 480x640 2 persons, 1 skateboard, 52.5ms\n",
      "Speed: 0.9ms preprocess, 52.5ms inference, 0.5ms postprocess per image at shape (1, 3, 480, 640)\n"
     ]
    },
    {
     "name": "stdout",
     "output_type": "stream",
     "text": [
      "Confidence ---> 0.32\n",
      "Confidence ---> 0.42\n",
      "Confidence ---> 0.45\n",
      "Confidence ---> 0.29\n"
     ]
    },
    {
     "name": "stderr",
     "output_type": "stream",
     "text": [
      "\n",
      "0: 480x640 1 person, 56.9ms\n",
      "Speed: 0.8ms preprocess, 56.9ms inference, 0.4ms postprocess per image at shape (1, 3, 480, 640)\n",
      "\n",
      "0: 480x640 2 persons, 51.8ms\n",
      "Speed: 1.1ms preprocess, 51.8ms inference, 0.4ms postprocess per image at shape (1, 3, 480, 640)\n",
      "\n",
      "0: 480x640 1 person, 1 skateboard, 52.0ms\n",
      "Speed: 1.0ms preprocess, 52.0ms inference, 0.5ms postprocess per image at shape (1, 3, 480, 640)\n"
     ]
    },
    {
     "name": "stdout",
     "output_type": "stream",
     "text": [
      "Confidence ---> 0.29\n",
      "Confidence ---> 0.67\n",
      "Confidence ---> 0.48\n",
      "Confidence ---> 0.5\n"
     ]
    },
    {
     "name": "stderr",
     "output_type": "stream",
     "text": [
      "\n",
      "0: 480x640 1 person, 57.4ms\n",
      "Speed: 1.4ms preprocess, 57.4ms inference, 0.4ms postprocess per image at shape (1, 3, 480, 640)\n",
      "\n",
      "0: 480x640 3 persons, 53.9ms\n",
      "Speed: 0.9ms preprocess, 53.9ms inference, 0.4ms postprocess per image at shape (1, 3, 480, 640)\n",
      "\n"
     ]
    },
    {
     "name": "stdout",
     "output_type": "stream",
     "text": [
      "Confidence ---> 0.57\n",
      "Confidence ---> 0.64\n",
      "Confidence ---> 0.55\n",
      "Confidence ---> 0.39\n"
     ]
    },
    {
     "name": "stderr",
     "output_type": "stream",
     "text": [
      "0: 480x640 2 persons, 1 skateboard, 67.4ms\n",
      "Speed: 1.0ms preprocess, 67.4ms inference, 0.4ms postprocess per image at shape (1, 3, 480, 640)\n",
      "\n",
      "0: 480x640 2 persons, 54.3ms\n",
      "Speed: 1.5ms preprocess, 54.3ms inference, 0.4ms postprocess per image at shape (1, 3, 480, 640)\n",
      "\n",
      "0: 480x640 4 persons, 52.7ms\n",
      "Speed: 4.6ms preprocess, 52.7ms inference, 0.5ms postprocess per image at shape (1, 3, 480, 640)\n"
     ]
    },
    {
     "name": "stdout",
     "output_type": "stream",
     "text": [
      "Confidence ---> 0.59\n",
      "Confidence ---> 0.48\n",
      "Confidence ---> 0.58\n",
      "Confidence ---> 0.41\n",
      "Confidence ---> 0.51\n",
      "Confidence ---> 0.49\n",
      "Confidence ---> 0.31\n",
      "Confidence ---> 0.26\n"
     ]
    },
    {
     "name": "stderr",
     "output_type": "stream",
     "text": [
      "\n",
      "0: 480x640 1 person, 58.6ms\n",
      "Speed: 1.4ms preprocess, 58.6ms inference, 0.5ms postprocess per image at shape (1, 3, 480, 640)\n",
      "\n",
      "0: 480x640 1 person, 50.8ms\n",
      "Speed: 1.1ms preprocess, 50.8ms inference, 0.4ms postprocess per image at shape (1, 3, 480, 640)\n",
      "\n",
      "0: 480x640 (no detections), 51.2ms\n",
      "Speed: 0.9ms preprocess, 51.2ms inference, 0.3ms postprocess per image at shape (1, 3, 480, 640)\n"
     ]
    },
    {
     "name": "stdout",
     "output_type": "stream",
     "text": [
      "Confidence ---> 0.32\n",
      "Confidence ---> 0.32\n"
     ]
    },
    {
     "name": "stderr",
     "output_type": "stream",
     "text": [
      "\n",
      "0: 480x640 (no detections), 56.8ms\n",
      "Speed: 1.2ms preprocess, 56.8ms inference, 0.3ms postprocess per image at shape (1, 3, 480, 640)\n",
      "\n",
      "0: 480x640 2 persons, 1 tie, 51.8ms\n",
      "Speed: 0.9ms preprocess, 51.8ms inference, 0.5ms postprocess per image at shape (1, 3, 480, 640)\n",
      "\n",
      "0: 480x640 2 persons, 54.1ms\n",
      "Speed: 1.0ms preprocess, 54.1ms inference, 0.4ms postprocess per image at shape (1, 3, 480, 640)\n",
      "\n",
      "0: 480x640 4 persons, 1 cup, 1 chair, 51.3ms\n",
      "Speed: 1.1ms preprocess, 51.3ms inference, 0.4ms postprocess per image at shape (1, 3, 480, 640)\n",
      "\n"
     ]
    },
    {
     "name": "stdout",
     "output_type": "stream",
     "text": [
      "Confidence ---> 0.38\n",
      "Confidence ---> 0.3\n",
      "Confidence ---> 0.37\n",
      "Confidence ---> 0.34\n",
      "Confidence ---> 0.31\n",
      "Confidence ---> 0.28\n",
      "Confidence ---> 0.27\n",
      "Confidence ---> 0.26\n"
     ]
    },
    {
     "name": "stderr",
     "output_type": "stream",
     "text": [
      "0: 480x640 2 persons, 2 ties, 53.6ms\n",
      "Speed: 1.1ms preprocess, 53.6ms inference, 0.5ms postprocess per image at shape (1, 3, 480, 640)\n",
      "\n",
      "0: 480x640 3 persons, 1 tie, 1 chair, 54.6ms\n",
      "Speed: 1.0ms preprocess, 54.6ms inference, 0.4ms postprocess per image at shape (1, 3, 480, 640)\n",
      "\n",
      "0: 480x640 5 persons, 50.8ms\n",
      "Speed: 1.0ms preprocess, 50.8ms inference, 0.4ms postprocess per image at shape (1, 3, 480, 640)\n"
     ]
    },
    {
     "name": "stdout",
     "output_type": "stream",
     "text": [
      "Confidence ---> 0.59\n",
      "Confidence ---> 0.38\n",
      "Confidence ---> 0.79\n",
      "Confidence ---> 0.69\n",
      "Confidence ---> 0.33\n",
      "Confidence ---> 0.72\n",
      "Confidence ---> 0.49\n",
      "Confidence ---> 0.39\n",
      "Confidence ---> 0.35\n",
      "Confidence ---> 0.31\n"
     ]
    },
    {
     "name": "stderr",
     "output_type": "stream",
     "text": [
      "\n",
      "0: 480x640 4 persons, 59.2ms\n",
      "Speed: 1.2ms preprocess, 59.2ms inference, 0.5ms postprocess per image at shape (1, 3, 480, 640)\n",
      "\n",
      "0: 480x640 3 persons, 1 backpack, 51.7ms\n",
      "Speed: 0.9ms preprocess, 51.7ms inference, 0.4ms postprocess per image at shape (1, 3, 480, 640)\n",
      "\n",
      "0: 480x640 2 persons, 1 backpack, 1 couch, 1 tv, 53.4ms\n",
      "Speed: 0.9ms preprocess, 53.4ms inference, 0.4ms postprocess per image at shape (1, 3, 480, 640)\n",
      "\n"
     ]
    },
    {
     "name": "stdout",
     "output_type": "stream",
     "text": [
      "Confidence ---> 0.81\n",
      "Confidence ---> 0.74\n",
      "Confidence ---> 0.61\n",
      "Confidence ---> 0.55\n",
      "Confidence ---> 0.87\n",
      "Confidence ---> 0.77\n",
      "Confidence ---> 0.37\n",
      "Confidence ---> 0.87\n",
      "Confidence ---> 0.83\n"
     ]
    },
    {
     "name": "stderr",
     "output_type": "stream",
     "text": [
      "0: 480x640 2 persons, 1 backpack, 1 tv, 56.9ms\n",
      "Speed: 0.9ms preprocess, 56.9ms inference, 0.5ms postprocess per image at shape (1, 3, 480, 640)\n",
      "\n",
      "0: 480x640 4 persons, 1 tv, 71.7ms\n",
      "Speed: 1.2ms preprocess, 71.7ms inference, 0.4ms postprocess per image at shape (1, 3, 480, 640)\n",
      "\n",
      "0: 480x640 3 persons, 1 tv, 51.7ms\n",
      "Speed: 0.8ms preprocess, 51.7ms inference, 0.5ms postprocess per image at shape (1, 3, 480, 640)\n"
     ]
    },
    {
     "name": "stdout",
     "output_type": "stream",
     "text": [
      "Confidence ---> 0.83\n",
      "Confidence ---> 0.67\n",
      "Confidence ---> 0.68\n",
      "Confidence ---> 0.57\n",
      "Confidence ---> 0.42\n",
      "Confidence ---> 0.35\n",
      "Confidence ---> 0.8\n",
      "Confidence ---> 0.61\n",
      "Confidence ---> 0.38\n"
     ]
    },
    {
     "name": "stderr",
     "output_type": "stream",
     "text": [
      "\n",
      "0: 480x640 2 persons, 1 tv, 63.5ms\n",
      "Speed: 0.9ms preprocess, 63.5ms inference, 0.4ms postprocess per image at shape (1, 3, 480, 640)\n",
      "\n",
      "0: 480x640 2 persons, 1 tv, 52.9ms\n",
      "Speed: 1.2ms preprocess, 52.9ms inference, 0.6ms postprocess per image at shape (1, 3, 480, 640)\n",
      "\n",
      "0: 480x640 2 persons, 1 tv, 53.1ms\n",
      "Speed: 0.9ms preprocess, 53.1ms inference, 0.6ms postprocess per image at shape (1, 3, 480, 640)\n"
     ]
    },
    {
     "name": "stdout",
     "output_type": "stream",
     "text": [
      "Confidence ---> 0.9\n",
      "Confidence ---> 0.82\n",
      "Confidence ---> 0.86\n",
      "Confidence ---> 0.73\n",
      "Confidence ---> 0.84\n",
      "Confidence ---> 0.82\n"
     ]
    },
    {
     "name": "stderr",
     "output_type": "stream",
     "text": [
      "\n",
      "0: 480x640 2 persons, 1 tv, 58.8ms\n",
      "Speed: 1.0ms preprocess, 58.8ms inference, 0.6ms postprocess per image at shape (1, 3, 480, 640)\n",
      "\n",
      "0: 480x640 2 persons, 1 tv, 1 oven, 54.4ms\n",
      "Speed: 0.8ms preprocess, 54.4ms inference, 0.7ms postprocess per image at shape (1, 3, 480, 640)\n",
      "\n",
      "0: 480x640 2 persons, 1 tv, 1 oven, 52.4ms\n",
      "Speed: 0.9ms preprocess, 52.4ms inference, 0.4ms postprocess per image at shape (1, 3, 480, 640)\n",
      "\n"
     ]
    },
    {
     "name": "stdout",
     "output_type": "stream",
     "text": [
      "Confidence ---> 0.84\n",
      "Confidence ---> 0.8\n",
      "Confidence ---> 0.92\n",
      "Confidence ---> 0.78\n",
      "Confidence ---> 0.9\n",
      "Confidence ---> 0.9\n"
     ]
    },
    {
     "name": "stderr",
     "output_type": "stream",
     "text": [
      "0: 480x640 2 persons, 56.2ms\n",
      "Speed: 0.8ms preprocess, 56.2ms inference, 0.5ms postprocess per image at shape (1, 3, 480, 640)\n",
      "\n",
      "0: 480x640 2 persons, 1 tv, 56.8ms\n",
      "Speed: 2.1ms preprocess, 56.8ms inference, 0.4ms postprocess per image at shape (1, 3, 480, 640)\n",
      "\n",
      "0: 480x640 2 persons, 52.9ms\n",
      "Speed: 0.8ms preprocess, 52.9ms inference, 0.4ms postprocess per image at shape (1, 3, 480, 640)\n",
      "\n"
     ]
    },
    {
     "name": "stdout",
     "output_type": "stream",
     "text": [
      "Confidence ---> 0.89\n",
      "Confidence ---> 0.6\n",
      "Confidence ---> 0.84\n",
      "Confidence ---> 0.75\n",
      "Confidence ---> 0.84\n",
      "Confidence ---> 0.62\n"
     ]
    },
    {
     "name": "stderr",
     "output_type": "stream",
     "text": [
      "0: 480x640 2 persons, 1 chair, 1 tv, 54.8ms\n",
      "Speed: 1.1ms preprocess, 54.8ms inference, 0.4ms postprocess per image at shape (1, 3, 480, 640)\n",
      "\n",
      "0: 480x640 2 persons, 1 chair, 54.3ms\n",
      "Speed: 1.2ms preprocess, 54.3ms inference, 0.5ms postprocess per image at shape (1, 3, 480, 640)\n",
      "\n",
      "0: 480x640 2 persons, 2 chairs, 1 dining table, 52.4ms\n",
      "Speed: 0.9ms preprocess, 52.4ms inference, 0.4ms postprocess per image at shape (1, 3, 480, 640)\n",
      "\n"
     ]
    },
    {
     "name": "stdout",
     "output_type": "stream",
     "text": [
      "Confidence ---> 0.9\n",
      "Confidence ---> 0.78\n",
      "Confidence ---> 0.79\n",
      "Confidence ---> 0.44\n",
      "Confidence ---> 0.89\n",
      "Confidence ---> 0.84\n"
     ]
    },
    {
     "name": "stderr",
     "output_type": "stream",
     "text": [
      "0: 480x640 2 persons, 1 chair, 56.1ms\n",
      "Speed: 0.9ms preprocess, 56.1ms inference, 0.5ms postprocess per image at shape (1, 3, 480, 640)\n",
      "\n",
      "0: 480x640 3 persons, 1 chair, 56.8ms\n",
      "Speed: 1.1ms preprocess, 56.8ms inference, 0.5ms postprocess per image at shape (1, 3, 480, 640)\n",
      "\n",
      "0: 480x640 3 persons, 52.0ms\n",
      "Speed: 1.1ms preprocess, 52.0ms inference, 0.5ms postprocess per image at shape (1, 3, 480, 640)\n",
      "\n"
     ]
    },
    {
     "name": "stdout",
     "output_type": "stream",
     "text": [
      "Confidence ---> 0.78\n",
      "Confidence ---> 0.56\n",
      "Confidence ---> 0.69\n",
      "Confidence ---> 0.51\n",
      "Confidence ---> 0.32\n",
      "Confidence ---> 0.7\n",
      "Confidence ---> 0.44\n",
      "Confidence ---> 0.28\n"
     ]
    },
    {
     "name": "stderr",
     "output_type": "stream",
     "text": [
      "0: 480x640 1 person, 1 chair, 68.3ms\n",
      "Speed: 0.8ms preprocess, 68.3ms inference, 0.9ms postprocess per image at shape (1, 3, 480, 640)\n",
      "\n",
      "0: 480x640 1 person, 1 chair, 52.8ms\n",
      "Speed: 0.9ms preprocess, 52.8ms inference, 0.5ms postprocess per image at shape (1, 3, 480, 640)\n",
      "\n",
      "0: 480x640 1 person, 2 chairs, 1 dining table, 53.5ms\n",
      "Speed: 0.9ms preprocess, 53.5ms inference, 0.5ms postprocess per image at shape (1, 3, 480, 640)\n"
     ]
    },
    {
     "name": "stdout",
     "output_type": "stream",
     "text": [
      "Confidence ---> 0.75\n",
      "Confidence ---> 0.84\n",
      "Confidence ---> 0.84\n"
     ]
    },
    {
     "name": "stderr",
     "output_type": "stream",
     "text": [
      "\n",
      "0: 480x640 1 person, 2 chairs, 56.9ms\n",
      "Speed: 1.0ms preprocess, 56.9ms inference, 0.4ms postprocess per image at shape (1, 3, 480, 640)\n",
      "\n",
      "0: 480x640 1 person, 1 chair, 53.4ms\n",
      "Speed: 1.2ms preprocess, 53.4ms inference, 0.4ms postprocess per image at shape (1, 3, 480, 640)\n",
      "\n",
      "0: 480x640 1 person, 2 chairs, 1 dining table, 52.0ms\n",
      "Speed: 1.0ms preprocess, 52.0ms inference, 0.4ms postprocess per image at shape (1, 3, 480, 640)\n",
      "\n"
     ]
    },
    {
     "name": "stdout",
     "output_type": "stream",
     "text": [
      "Confidence ---> 0.88\n",
      "Confidence ---> 0.85\n",
      "Confidence ---> 0.88\n"
     ]
    },
    {
     "name": "stderr",
     "output_type": "stream",
     "text": [
      "0: 480x640 1 person, 4 chairs, 1 dining table, 55.3ms\n",
      "Speed: 0.8ms preprocess, 55.3ms inference, 0.6ms postprocess per image at shape (1, 3, 480, 640)\n",
      "\n",
      "0: 480x640 1 person, 3 chairs, 1 dining table, 54.1ms\n",
      "Speed: 2.4ms preprocess, 54.1ms inference, 0.4ms postprocess per image at shape (1, 3, 480, 640)\n",
      "\n",
      "0: 480x640 1 person, 2 chairs, 1 dining table, 52.3ms\n",
      "Speed: 1.2ms preprocess, 52.3ms inference, 0.4ms postprocess per image at shape (1, 3, 480, 640)\n",
      "\n"
     ]
    },
    {
     "name": "stdout",
     "output_type": "stream",
     "text": [
      "Confidence ---> 0.88\n",
      "Confidence ---> 0.87\n",
      "Confidence ---> 0.89\n"
     ]
    },
    {
     "name": "stderr",
     "output_type": "stream",
     "text": [
      "0: 480x640 1 person, 2 chairs, 1 dining table, 55.3ms\n",
      "Speed: 1.1ms preprocess, 55.3ms inference, 0.5ms postprocess per image at shape (1, 3, 480, 640)\n",
      "\n",
      "0: 480x640 1 person, 2 chairs, 1 dining table, 54.0ms\n",
      "Speed: 1.3ms preprocess, 54.0ms inference, 0.4ms postprocess per image at shape (1, 3, 480, 640)\n",
      "\n",
      "0: 480x640 1 person, 3 chairs, 1 dining table, 52.1ms\n",
      "Speed: 0.8ms preprocess, 52.1ms inference, 0.4ms postprocess per image at shape (1, 3, 480, 640)\n",
      "\n"
     ]
    },
    {
     "name": "stdout",
     "output_type": "stream",
     "text": [
      "Confidence ---> 0.89\n",
      "Confidence ---> 0.87\n",
      "Confidence ---> 0.88\n"
     ]
    },
    {
     "name": "stderr",
     "output_type": "stream",
     "text": [
      "0: 480x640 1 person, 2 chairs, 55.7ms\n",
      "Speed: 0.8ms preprocess, 55.7ms inference, 0.5ms postprocess per image at shape (1, 3, 480, 640)\n",
      "\n",
      "0: 480x640 1 person, 3 chairs, 1 dining table, 55.5ms\n",
      "Speed: 1.1ms preprocess, 55.5ms inference, 0.4ms postprocess per image at shape (1, 3, 480, 640)\n",
      "\n",
      "0: 480x640 1 person, 2 chairs, 2 dining tables, 52.9ms\n",
      "Speed: 1.0ms preprocess, 52.9ms inference, 0.4ms postprocess per image at shape (1, 3, 480, 640)\n",
      "\n"
     ]
    },
    {
     "name": "stdout",
     "output_type": "stream",
     "text": [
      "Confidence ---> 0.85\n",
      "Confidence ---> 0.88\n",
      "Confidence ---> 0.92\n"
     ]
    },
    {
     "name": "stderr",
     "output_type": "stream",
     "text": [
      "0: 480x640 1 person, 3 chairs, 2 dining tables, 55.3ms\n",
      "Speed: 0.8ms preprocess, 55.3ms inference, 0.5ms postprocess per image at shape (1, 3, 480, 640)\n",
      "\n",
      "0: 480x640 1 person, 2 chairs, 1 dining table, 56.3ms\n",
      "Speed: 1.1ms preprocess, 56.3ms inference, 0.6ms postprocess per image at shape (1, 3, 480, 640)\n",
      "\n",
      "0: 480x640 1 person, 3 chairs, 2 dining tables, 53.6ms\n",
      "Speed: 0.9ms preprocess, 53.6ms inference, 0.4ms postprocess per image at shape (1, 3, 480, 640)\n",
      "\n"
     ]
    },
    {
     "name": "stdout",
     "output_type": "stream",
     "text": [
      "Confidence ---> 0.91\n",
      "Confidence ---> 0.89\n",
      "Confidence ---> 0.91\n"
     ]
    },
    {
     "name": "stderr",
     "output_type": "stream",
     "text": [
      "0: 480x640 1 person, 3 chairs, 2 dining tables, 56.8ms\n",
      "Speed: 1.0ms preprocess, 56.8ms inference, 0.5ms postprocess per image at shape (1, 3, 480, 640)\n",
      "\n",
      "0: 480x640 1 person, 3 chairs, 1 dining table, 55.9ms\n",
      "Speed: 1.0ms preprocess, 55.9ms inference, 0.5ms postprocess per image at shape (1, 3, 480, 640)\n",
      "\n",
      "0: 480x640 1 person, 2 chairs, 1 dining table, 52.9ms\n",
      "Speed: 0.9ms preprocess, 52.9ms inference, 0.5ms postprocess per image at shape (1, 3, 480, 640)\n",
      "\n"
     ]
    },
    {
     "name": "stdout",
     "output_type": "stream",
     "text": [
      "Confidence ---> 0.91\n",
      "Confidence ---> 0.92\n",
      "Confidence ---> 0.91\n"
     ]
    },
    {
     "name": "stderr",
     "output_type": "stream",
     "text": [
      "0: 480x640 1 person, 3 chairs, 1 dining table, 55.5ms\n",
      "Speed: 0.9ms preprocess, 55.5ms inference, 0.4ms postprocess per image at shape (1, 3, 480, 640)\n",
      "\n",
      "0: 480x640 1 person, 3 chairs, 1 dining table, 65.2ms\n",
      "Speed: 2.4ms preprocess, 65.2ms inference, 0.4ms postprocess per image at shape (1, 3, 480, 640)\n",
      "\n",
      "0: 480x640 1 person, 3 chairs, 1 dining table, 52.2ms\n",
      "Speed: 1.1ms preprocess, 52.2ms inference, 0.4ms postprocess per image at shape (1, 3, 480, 640)\n"
     ]
    },
    {
     "name": "stdout",
     "output_type": "stream",
     "text": [
      "Confidence ---> 0.92\n",
      "Confidence ---> 0.9\n",
      "Confidence ---> 0.89\n"
     ]
    },
    {
     "name": "stderr",
     "output_type": "stream",
     "text": [
      "\n",
      "0: 480x640 1 person, 3 chairs, 1 dining table, 57.0ms\n",
      "Speed: 1.4ms preprocess, 57.0ms inference, 0.4ms postprocess per image at shape (1, 3, 480, 640)\n",
      "\n",
      "0: 480x640 1 person, 3 chairs, 1 dining table, 53.7ms\n",
      "Speed: 0.9ms preprocess, 53.7ms inference, 0.4ms postprocess per image at shape (1, 3, 480, 640)\n",
      "\n",
      "0: 480x640 1 person, 2 chairs, 1 bed, 51.5ms\n",
      "Speed: 0.9ms preprocess, 51.5ms inference, 0.5ms postprocess per image at shape (1, 3, 480, 640)\n",
      "\n"
     ]
    },
    {
     "name": "stdout",
     "output_type": "stream",
     "text": [
      "Confidence ---> 0.9\n",
      "Confidence ---> 0.91\n",
      "Confidence ---> 0.88\n"
     ]
    },
    {
     "name": "stderr",
     "output_type": "stream",
     "text": [
      "0: 480x640 1 person, 56.7ms\n",
      "Speed: 1.0ms preprocess, 56.7ms inference, 0.4ms postprocess per image at shape (1, 3, 480, 640)\n",
      "\n",
      "0: 480x640 1 person, 1 chair, 53.1ms\n",
      "Speed: 0.9ms preprocess, 53.1ms inference, 0.4ms postprocess per image at shape (1, 3, 480, 640)\n",
      "\n",
      "0: 480x640 1 person, 1 refrigerator, 53.9ms\n",
      "Speed: 1.1ms preprocess, 53.9ms inference, 0.4ms postprocess per image at shape (1, 3, 480, 640)\n",
      "\n"
     ]
    },
    {
     "name": "stdout",
     "output_type": "stream",
     "text": [
      "Confidence ---> 0.81\n",
      "Confidence ---> 0.79\n",
      "Confidence ---> 0.82\n"
     ]
    },
    {
     "name": "stderr",
     "output_type": "stream",
     "text": [
      "0: 480x640 1 person, 57.4ms\n",
      "Speed: 1.0ms preprocess, 57.4ms inference, 0.5ms postprocess per image at shape (1, 3, 480, 640)\n",
      "\n",
      "0: 480x640 2 persons, 1 cat, 56.2ms\n",
      "Speed: 0.9ms preprocess, 56.2ms inference, 0.6ms postprocess per image at shape (1, 3, 480, 640)\n",
      "\n",
      "0: 480x640 1 person, 53.5ms\n",
      "Speed: 0.9ms preprocess, 53.5ms inference, 0.4ms postprocess per image at shape (1, 3, 480, 640)\n",
      "\n"
     ]
    },
    {
     "name": "stdout",
     "output_type": "stream",
     "text": [
      "Confidence ---> 0.78\n",
      "Confidence ---> 0.79\n",
      "Confidence ---> 0.41\n",
      "Confidence ---> 0.52\n"
     ]
    },
    {
     "name": "stderr",
     "output_type": "stream",
     "text": [
      "0: 480x640 1 person, 56.1ms\n",
      "Speed: 1.0ms preprocess, 56.1ms inference, 0.4ms postprocess per image at shape (1, 3, 480, 640)\n",
      "\n",
      "0: 480x640 2 cars, 54.4ms\n",
      "Speed: 1.3ms preprocess, 54.4ms inference, 0.4ms postprocess per image at shape (1, 3, 480, 640)\n",
      "\n",
      "0: 480x640 2 persons, 53.6ms\n",
      "Speed: 0.8ms preprocess, 53.6ms inference, 0.5ms postprocess per image at shape (1, 3, 480, 640)\n",
      "\n"
     ]
    },
    {
     "name": "stdout",
     "output_type": "stream",
     "text": [
      "Confidence ---> 0.51\n",
      "Confidence ---> 0.6\n",
      "Confidence ---> 0.37\n"
     ]
    },
    {
     "name": "stderr",
     "output_type": "stream",
     "text": [
      "0: 480x640 1 person, 55.6ms\n",
      "Speed: 1.1ms preprocess, 55.6ms inference, 0.4ms postprocess per image at shape (1, 3, 480, 640)\n",
      "\n",
      "0: 480x640 1 mouse, 1 cell phone, 52.7ms\n",
      "Speed: 0.9ms preprocess, 52.7ms inference, 0.5ms postprocess per image at shape (1, 3, 480, 640)\n",
      "\n",
      "0: 480x640 (no detections), 52.7ms\n",
      "Speed: 0.9ms preprocess, 52.7ms inference, 0.3ms postprocess per image at shape (1, 3, 480, 640)\n",
      "\n"
     ]
    },
    {
     "name": "stdout",
     "output_type": "stream",
     "text": [
      "Confidence ---> 0.26\n"
     ]
    },
    {
     "name": "stderr",
     "output_type": "stream",
     "text": [
      "0: 480x640 (no detections), 74.2ms\n",
      "Speed: 1.0ms preprocess, 74.2ms inference, 0.3ms postprocess per image at shape (1, 3, 480, 640)\n",
      "\n",
      "0: 480x640 (no detections), 51.8ms\n",
      "Speed: 0.9ms preprocess, 51.8ms inference, 0.3ms postprocess per image at shape (1, 3, 480, 640)\n",
      "\n",
      "0: 480x640 (no detections), 53.3ms\n",
      "Speed: 0.9ms preprocess, 53.3ms inference, 0.2ms postprocess per image at shape (1, 3, 480, 640)\n",
      "\n",
      "0: 480x640 (no detections), 50.7ms\n",
      "Speed: 1.0ms preprocess, 50.7ms inference, 0.4ms postprocess per image at shape (1, 3, 480, 640)\n",
      "\n",
      "0: 480x640 (no detections), 50.1ms\n",
      "Speed: 0.8ms preprocess, 50.1ms inference, 0.3ms postprocess per image at shape (1, 3, 480, 640)\n",
      "\n",
      "0: 480x640 (no detections), 50.9ms\n",
      "Speed: 0.9ms preprocess, 50.9ms inference, 0.3ms postprocess per image at shape (1, 3, 480, 640)\n",
      "\n",
      "0: 480x640 1 airplane, 53.3ms\n",
      "Speed: 1.0ms preprocess, 53.3ms inference, 0.4ms postprocess per image at shape (1, 3, 480, 640)\n",
      "\n",
      "0: 480x640 1 airplane, 53.5ms\n",
      "Speed: 0.9ms preprocess, 53.5ms inference, 0.4ms postprocess per image at shape (1, 3, 480, 640)\n",
      "\n",
      "0: 480x640 1 airplane, 51.3ms\n",
      "Speed: 1.0ms preprocess, 51.3ms inference, 0.5ms postprocess per image at shape (1, 3, 480, 640)\n",
      "\n",
      "0: 480x640 (no detections), 53.0ms\n",
      "Speed: 0.8ms preprocess, 53.0ms inference, 0.3ms postprocess per image at shape (1, 3, 480, 640)\n",
      "\n",
      "0: 480x640 (no detections), 51.6ms\n",
      "Speed: 1.1ms preprocess, 51.6ms inference, 0.3ms postprocess per image at shape (1, 3, 480, 640)\n",
      "\n",
      "0: 480x640 (no detections), 53.0ms\n",
      "Speed: 1.0ms preprocess, 53.0ms inference, 0.3ms postprocess per image at shape (1, 3, 480, 640)\n",
      "\n",
      "0: 480x640 1 bird, 51.7ms\n",
      "Speed: 1.0ms preprocess, 51.7ms inference, 0.4ms postprocess per image at shape (1, 3, 480, 640)\n",
      "\n",
      "0: 480x640 1 cat, 52.5ms\n",
      "Speed: 1.1ms preprocess, 52.5ms inference, 0.4ms postprocess per image at shape (1, 3, 480, 640)\n",
      "\n",
      "0: 480x640 (no detections), 51.2ms\n",
      "Speed: 1.2ms preprocess, 51.2ms inference, 0.3ms postprocess per image at shape (1, 3, 480, 640)\n",
      "\n",
      "0: 480x640 (no detections), 53.5ms\n",
      "Speed: 1.1ms preprocess, 53.5ms inference, 0.3ms postprocess per image at shape (1, 3, 480, 640)\n",
      "\n",
      "0: 480x640 (no detections), 51.5ms\n",
      "Speed: 0.9ms preprocess, 51.5ms inference, 0.3ms postprocess per image at shape (1, 3, 480, 640)\n",
      "\n",
      "0: 480x640 1 person, 1 airplane, 51.1ms\n",
      "Speed: 1.1ms preprocess, 51.1ms inference, 0.5ms postprocess per image at shape (1, 3, 480, 640)\n",
      "\n",
      "0: 480x640 1 person, 51.3ms\n",
      "Speed: 0.8ms preprocess, 51.3ms inference, 0.5ms postprocess per image at shape (1, 3, 480, 640)\n",
      "\n",
      "0: 480x640 1 person, 52.7ms\n",
      "Speed: 1.0ms preprocess, 52.7ms inference, 0.4ms postprocess per image at shape (1, 3, 480, 640)\n"
     ]
    },
    {
     "name": "stdout",
     "output_type": "stream",
     "text": [
      "Confidence ---> 0.32\n",
      "Confidence ---> 0.47\n",
      "Confidence ---> 0.53\n"
     ]
    },
    {
     "name": "stderr",
     "output_type": "stream",
     "text": [
      "\n",
      "0: 480x640 (no detections), 59.1ms\n",
      "Speed: 1.0ms preprocess, 59.1ms inference, 0.3ms postprocess per image at shape (1, 3, 480, 640)\n",
      "\n",
      "0: 480x640 (no detections), 51.7ms\n",
      "Speed: 0.9ms preprocess, 51.7ms inference, 0.4ms postprocess per image at shape (1, 3, 480, 640)\n",
      "\n",
      "0: 480x640 (no detections), 52.8ms\n",
      "Speed: 1.0ms preprocess, 52.8ms inference, 0.3ms postprocess per image at shape (1, 3, 480, 640)\n",
      "\n",
      "0: 480x640 (no detections), 51.4ms\n",
      "Speed: 1.2ms preprocess, 51.4ms inference, 0.4ms postprocess per image at shape (1, 3, 480, 640)\n",
      "\n",
      "0: 480x640 (no detections), 51.6ms\n",
      "Speed: 1.1ms preprocess, 51.6ms inference, 0.3ms postprocess per image at shape (1, 3, 480, 640)\n",
      "\n",
      "0: 480x640 (no detections), 52.0ms\n",
      "Speed: 0.9ms preprocess, 52.0ms inference, 0.3ms postprocess per image at shape (1, 3, 480, 640)\n",
      "\n",
      "0: 480x640 (no detections), 52.7ms\n",
      "Speed: 1.0ms preprocess, 52.7ms inference, 0.3ms postprocess per image at shape (1, 3, 480, 640)\n",
      "\n",
      "0: 480x640 (no detections), 50.2ms\n",
      "Speed: 0.8ms preprocess, 50.2ms inference, 0.3ms postprocess per image at shape (1, 3, 480, 640)\n",
      "\n",
      "0: 480x640 (no detections), 51.4ms\n",
      "Speed: 0.9ms preprocess, 51.4ms inference, 0.3ms postprocess per image at shape (1, 3, 480, 640)\n",
      "\n",
      "0: 480x640 1 suitcase, 52.6ms\n",
      "Speed: 1.0ms preprocess, 52.6ms inference, 0.4ms postprocess per image at shape (1, 3, 480, 640)\n",
      "\n",
      "0: 480x640 (no detections), 51.2ms\n",
      "Speed: 1.0ms preprocess, 51.2ms inference, 0.3ms postprocess per image at shape (1, 3, 480, 640)\n",
      "\n",
      "0: 480x640 (no detections), 56.2ms\n",
      "Speed: 0.9ms preprocess, 56.2ms inference, 0.2ms postprocess per image at shape (1, 3, 480, 640)\n",
      "\n",
      "0: 480x640 (no detections), 50.7ms\n",
      "Speed: 1.0ms preprocess, 50.7ms inference, 0.2ms postprocess per image at shape (1, 3, 480, 640)\n",
      "\n",
      "0: 480x640 1 person, 52.8ms\n",
      "Speed: 0.9ms preprocess, 52.8ms inference, 0.5ms postprocess per image at shape (1, 3, 480, 640)\n",
      "\n",
      "0: 480x640 (no detections), 51.4ms\n",
      "Speed: 0.8ms preprocess, 51.4ms inference, 0.3ms postprocess per image at shape (1, 3, 480, 640)\n",
      "\n",
      "0: 480x640 (no detections), 50.3ms\n",
      "Speed: 1.0ms preprocess, 50.3ms inference, 0.3ms postprocess per image at shape (1, 3, 480, 640)\n",
      "\n"
     ]
    },
    {
     "name": "stdout",
     "output_type": "stream",
     "text": [
      "Confidence ---> 0.28\n"
     ]
    },
    {
     "name": "stderr",
     "output_type": "stream",
     "text": [
      "0: 480x640 (no detections), 56.6ms\n",
      "Speed: 1.0ms preprocess, 56.6ms inference, 0.3ms postprocess per image at shape (1, 3, 480, 640)\n",
      "\n",
      "0: 480x640 (no detections), 55.0ms\n",
      "Speed: 1.1ms preprocess, 55.0ms inference, 0.3ms postprocess per image at shape (1, 3, 480, 640)\n",
      "\n",
      "0: 480x640 (no detections), 53.6ms\n",
      "Speed: 0.8ms preprocess, 53.6ms inference, 0.3ms postprocess per image at shape (1, 3, 480, 640)\n",
      "\n",
      "0: 480x640 (no detections), 50.6ms\n",
      "Speed: 1.1ms preprocess, 50.6ms inference, 0.3ms postprocess per image at shape (1, 3, 480, 640)\n",
      "\n",
      "0: 480x640 1 person, 52.2ms\n",
      "Speed: 1.0ms preprocess, 52.2ms inference, 0.4ms postprocess per image at shape (1, 3, 480, 640)\n",
      "\n",
      "0: 480x640 (no detections), 51.1ms\n",
      "Speed: 0.9ms preprocess, 51.1ms inference, 0.3ms postprocess per image at shape (1, 3, 480, 640)\n",
      "\n",
      "0: 480x640 (no detections), 51.5ms\n",
      "Speed: 1.2ms preprocess, 51.5ms inference, 0.2ms postprocess per image at shape (1, 3, 480, 640)\n"
     ]
    },
    {
     "name": "stdout",
     "output_type": "stream",
     "text": [
      "Confidence ---> 0.39\n"
     ]
    },
    {
     "name": "stderr",
     "output_type": "stream",
     "text": [
      "\n",
      "0: 480x640 (no detections), 52.5ms\n",
      "Speed: 0.8ms preprocess, 52.5ms inference, 0.3ms postprocess per image at shape (1, 3, 480, 640)\n",
      "\n",
      "0: 480x640 1 person, 48.8ms\n",
      "Speed: 0.9ms preprocess, 48.8ms inference, 0.4ms postprocess per image at shape (1, 3, 480, 640)\n",
      "\n",
      "0: 480x640 (no detections), 50.8ms\n",
      "Speed: 0.8ms preprocess, 50.8ms inference, 0.3ms postprocess per image at shape (1, 3, 480, 640)\n",
      "\n",
      "0: 480x640 3 persons, 51.2ms\n",
      "Speed: 0.9ms preprocess, 51.2ms inference, 0.4ms postprocess per image at shape (1, 3, 480, 640)\n",
      "\n"
     ]
    },
    {
     "name": "stdout",
     "output_type": "stream",
     "text": [
      "Confidence ---> 0.35\n",
      "Confidence ---> 0.48\n",
      "Confidence ---> 0.39\n",
      "Confidence ---> 0.27\n"
     ]
    },
    {
     "name": "stderr",
     "output_type": "stream",
     "text": [
      "0: 480x640 2 persons, 1 dining table, 52.7ms\n",
      "Speed: 0.9ms preprocess, 52.7ms inference, 0.4ms postprocess per image at shape (1, 3, 480, 640)\n",
      "\n",
      "0: 480x640 2 persons, 1 tv, 50.8ms\n",
      "Speed: 1.0ms preprocess, 50.8ms inference, 0.4ms postprocess per image at shape (1, 3, 480, 640)\n",
      "\n",
      "0: 480x640 1 cat, 1 tv, 49.9ms\n",
      "Speed: 1.0ms preprocess, 49.9ms inference, 0.6ms postprocess per image at shape (1, 3, 480, 640)\n"
     ]
    },
    {
     "name": "stdout",
     "output_type": "stream",
     "text": [
      "Confidence ---> 0.84\n",
      "Confidence ---> 0.79\n",
      "Confidence ---> 0.89\n",
      "Confidence ---> 0.8\n"
     ]
    },
    {
     "name": "stderr",
     "output_type": "stream",
     "text": [
      "\n",
      "0: 480x640 1 person, 1 tv, 51.9ms\n",
      "Speed: 0.8ms preprocess, 51.9ms inference, 0.5ms postprocess per image at shape (1, 3, 480, 640)\n",
      "\n",
      "0: 480x640 1 tv, 51.4ms\n",
      "Speed: 1.2ms preprocess, 51.4ms inference, 0.4ms postprocess per image at shape (1, 3, 480, 640)\n",
      "\n",
      "0: 480x640 1 person, 1 tv, 50.4ms\n",
      "Speed: 1.1ms preprocess, 50.4ms inference, 0.5ms postprocess per image at shape (1, 3, 480, 640)\n"
     ]
    },
    {
     "name": "stdout",
     "output_type": "stream",
     "text": [
      "Confidence ---> 0.72\n",
      "Confidence ---> 0.91\n"
     ]
    },
    {
     "name": "stderr",
     "output_type": "stream",
     "text": [
      "\n",
      "0: 480x640 1 person, 1 tv, 53.6ms\n",
      "Speed: 1.1ms preprocess, 53.6ms inference, 0.4ms postprocess per image at shape (1, 3, 480, 640)\n",
      "\n",
      "0: 480x640 2 persons, 1 chair, 1 tv, 51.0ms\n",
      "Speed: 0.7ms preprocess, 51.0ms inference, 0.4ms postprocess per image at shape (1, 3, 480, 640)\n",
      "\n",
      "0: 480x640 2 persons, 1 tv, 51.4ms\n",
      "Speed: 0.8ms preprocess, 51.4ms inference, 0.5ms postprocess per image at shape (1, 3, 480, 640)\n",
      "\n"
     ]
    },
    {
     "name": "stdout",
     "output_type": "stream",
     "text": [
      "Confidence ---> 0.55\n",
      "Confidence ---> 0.87\n",
      "Confidence ---> 0.43\n",
      "Confidence ---> 0.82\n",
      "Confidence ---> 0.65\n"
     ]
    },
    {
     "name": "stderr",
     "output_type": "stream",
     "text": [
      "0: 480x640 2 persons, 2 chairs, 52.4ms\n",
      "Speed: 0.7ms preprocess, 52.4ms inference, 0.4ms postprocess per image at shape (1, 3, 480, 640)\n",
      "\n",
      "0: 480x640 2 persons, 1 backpack, 1 chair, 1 tv, 51.3ms\n",
      "Speed: 0.8ms preprocess, 51.3ms inference, 0.5ms postprocess per image at shape (1, 3, 480, 640)\n",
      "\n",
      "0: 480x640 2 persons, 1 chair, 1 tv, 50.9ms\n",
      "Speed: 1.1ms preprocess, 50.9ms inference, 0.4ms postprocess per image at shape (1, 3, 480, 640)\n",
      "\n"
     ]
    },
    {
     "name": "stdout",
     "output_type": "stream",
     "text": [
      "Confidence ---> 0.84\n",
      "Confidence ---> 0.62\n",
      "Confidence ---> 0.84\n",
      "Confidence ---> 0.32\n",
      "Confidence ---> 0.85\n",
      "Confidence ---> 0.56\n"
     ]
    },
    {
     "name": "stderr",
     "output_type": "stream",
     "text": [
      "0: 480x640 2 persons, 1 backpack, 2 chairs, 2 tvs, 52.9ms\n",
      "Speed: 0.9ms preprocess, 52.9ms inference, 0.4ms postprocess per image at shape (1, 3, 480, 640)\n",
      "\n",
      "0: 480x640 2 persons, 1 chair, 1 dining table, 1 tv, 51.6ms\n",
      "Speed: 0.9ms preprocess, 51.6ms inference, 0.6ms postprocess per image at shape (1, 3, 480, 640)\n",
      "\n",
      "0: 480x640 1 person, 1 chair, 1 tv, 51.2ms\n",
      "Speed: 0.9ms preprocess, 51.2ms inference, 0.4ms postprocess per image at shape (1, 3, 480, 640)\n",
      "\n"
     ]
    },
    {
     "name": "stdout",
     "output_type": "stream",
     "text": [
      "Confidence ---> 0.89\n",
      "Confidence ---> 0.7\n",
      "Confidence ---> 0.87\n",
      "Confidence ---> 0.65\n",
      "Confidence ---> 0.77\n"
     ]
    },
    {
     "name": "stderr",
     "output_type": "stream",
     "text": [
      "0: 480x640 1 person, 1 backpack, 3 chairs, 1 tv, 54.6ms\n",
      "Speed: 0.8ms preprocess, 54.6ms inference, 0.4ms postprocess per image at shape (1, 3, 480, 640)\n",
      "\n",
      "0: 480x640 1 person, 1 backpack, 4 chairs, 2 tvs, 51.4ms\n",
      "Speed: 0.8ms preprocess, 51.4ms inference, 0.4ms postprocess per image at shape (1, 3, 480, 640)\n",
      "\n",
      "0: 480x640 1 person, 1 backpack, 5 chairs, 1 tv, 51.2ms\n",
      "Speed: 1.0ms preprocess, 51.2ms inference, 0.4ms postprocess per image at shape (1, 3, 480, 640)\n",
      "\n"
     ]
    },
    {
     "name": "stdout",
     "output_type": "stream",
     "text": [
      "Confidence ---> 0.9\n",
      "Confidence ---> 0.91\n",
      "Confidence ---> 0.91\n"
     ]
    },
    {
     "name": "stderr",
     "output_type": "stream",
     "text": [
      "0: 480x640 1 person, 1 backpack, 2 chairs, 1 tv, 56.3ms\n",
      "Speed: 0.8ms preprocess, 56.3ms inference, 0.4ms postprocess per image at shape (1, 3, 480, 640)\n",
      "\n",
      "0: 480x640 1 person, 1 backpack, 4 chairs, 1 tv, 52.1ms\n",
      "Speed: 0.8ms preprocess, 52.1ms inference, 0.4ms postprocess per image at shape (1, 3, 480, 640)\n",
      "\n",
      "0: 480x640 1 person, 1 backpack, 4 chairs, 1 tv, 51.3ms\n",
      "Speed: 0.8ms preprocess, 51.3ms inference, 0.4ms postprocess per image at shape (1, 3, 480, 640)\n",
      "\n"
     ]
    },
    {
     "name": "stdout",
     "output_type": "stream",
     "text": [
      "Confidence ---> 0.91\n",
      "Confidence ---> 0.92\n",
      "Confidence ---> 0.9\n"
     ]
    },
    {
     "name": "stderr",
     "output_type": "stream",
     "text": [
      "0: 480x640 1 person, 3 chairs, 54.3ms\n",
      "Speed: 1.0ms preprocess, 54.3ms inference, 0.4ms postprocess per image at shape (1, 3, 480, 640)\n",
      "\n",
      "0: 480x640 1 person, 51.2ms\n",
      "Speed: 1.1ms preprocess, 51.2ms inference, 0.4ms postprocess per image at shape (1, 3, 480, 640)\n",
      "\n",
      "0: 480x640 1 person, 50.8ms\n",
      "Speed: 0.8ms preprocess, 50.8ms inference, 0.4ms postprocess per image at shape (1, 3, 480, 640)\n",
      "\n"
     ]
    },
    {
     "name": "stdout",
     "output_type": "stream",
     "text": [
      "Confidence ---> 0.89\n",
      "Confidence ---> 0.83\n",
      "Confidence ---> 0.8\n"
     ]
    },
    {
     "name": "stderr",
     "output_type": "stream",
     "text": [
      "0: 480x640 3 persons, 1 tv, 52.6ms\n",
      "Speed: 0.9ms preprocess, 52.6ms inference, 0.4ms postprocess per image at shape (1, 3, 480, 640)\n",
      "\n",
      "0: 480x640 (no detections), 60.7ms\n",
      "Speed: 2.8ms preprocess, 60.7ms inference, 0.3ms postprocess per image at shape (1, 3, 480, 640)\n",
      "\n",
      "0: 480x640 2 beds, 51.8ms\n",
      "Speed: 1.0ms preprocess, 51.8ms inference, 0.4ms postprocess per image at shape (1, 3, 480, 640)\n",
      "\n"
     ]
    },
    {
     "name": "stdout",
     "output_type": "stream",
     "text": [
      "Confidence ---> 0.72\n",
      "Confidence ---> 0.33\n",
      "Confidence ---> 0.28\n"
     ]
    },
    {
     "name": "stderr",
     "output_type": "stream",
     "text": [
      "0: 480x640 1 bed, 52.7ms\n",
      "Speed: 0.9ms preprocess, 52.7ms inference, 0.4ms postprocess per image at shape (1, 3, 480, 640)\n",
      "\n",
      "0: 480x640 (no detections), 52.3ms\n",
      "Speed: 0.9ms preprocess, 52.3ms inference, 0.3ms postprocess per image at shape (1, 3, 480, 640)\n",
      "\n",
      "0: 480x640 (no detections), 50.9ms\n",
      "Speed: 0.9ms preprocess, 50.9ms inference, 0.3ms postprocess per image at shape (1, 3, 480, 640)\n",
      "\n",
      "0: 480x640 (no detections), 50.1ms\n",
      "Speed: 1.0ms preprocess, 50.1ms inference, 0.4ms postprocess per image at shape (1, 3, 480, 640)\n",
      "\n",
      "0: 480x640 (no detections), 50.0ms\n",
      "Speed: 0.8ms preprocess, 50.0ms inference, 0.3ms postprocess per image at shape (1, 3, 480, 640)\n",
      "\n",
      "0: 480x640 (no detections), 49.9ms\n",
      "Speed: 0.9ms preprocess, 49.9ms inference, 0.3ms postprocess per image at shape (1, 3, 480, 640)\n",
      "\n",
      "0: 480x640 (no detections), 51.4ms\n",
      "Speed: 0.9ms preprocess, 51.4ms inference, 0.3ms postprocess per image at shape (1, 3, 480, 640)\n",
      "\n",
      "0: 480x640 (no detections), 48.7ms\n",
      "Speed: 0.9ms preprocess, 48.7ms inference, 0.3ms postprocess per image at shape (1, 3, 480, 640)\n",
      "\n",
      "0: 480x640 (no detections), 49.8ms\n",
      "Speed: 0.8ms preprocess, 49.8ms inference, 0.3ms postprocess per image at shape (1, 3, 480, 640)\n",
      "\n",
      "0: 480x640 (no detections), 49.3ms\n",
      "Speed: 1.0ms preprocess, 49.3ms inference, 0.2ms postprocess per image at shape (1, 3, 480, 640)\n",
      "\n",
      "0: 480x640 (no detections), 49.9ms\n",
      "Speed: 0.9ms preprocess, 49.9ms inference, 0.2ms postprocess per image at shape (1, 3, 480, 640)\n",
      "\n",
      "0: 480x640 (no detections), 52.1ms\n",
      "Speed: 0.7ms preprocess, 52.1ms inference, 0.3ms postprocess per image at shape (1, 3, 480, 640)\n",
      "\n",
      "0: 480x640 (no detections), 49.5ms\n",
      "Speed: 0.8ms preprocess, 49.5ms inference, 0.3ms postprocess per image at shape (1, 3, 480, 640)\n",
      "\n",
      "0: 480x640 (no detections), 49.9ms\n",
      "Speed: 0.9ms preprocess, 49.9ms inference, 0.2ms postprocess per image at shape (1, 3, 480, 640)\n",
      "\n",
      "0: 480x640 (no detections), 52.5ms\n",
      "Speed: 1.0ms preprocess, 52.5ms inference, 0.3ms postprocess per image at shape (1, 3, 480, 640)\n",
      "\n",
      "0: 480x640 (no detections), 50.3ms\n",
      "Speed: 0.9ms preprocess, 50.3ms inference, 0.3ms postprocess per image at shape (1, 3, 480, 640)\n",
      "\n",
      "0: 480x640 (no detections), 49.5ms\n",
      "Speed: 0.9ms preprocess, 49.5ms inference, 0.3ms postprocess per image at shape (1, 3, 480, 640)\n",
      "\n",
      "0: 480x640 (no detections), 52.3ms\n",
      "Speed: 0.7ms preprocess, 52.3ms inference, 0.3ms postprocess per image at shape (1, 3, 480, 640)\n",
      "\n",
      "0: 480x640 (no detections), 49.9ms\n",
      "Speed: 0.9ms preprocess, 49.9ms inference, 0.3ms postprocess per image at shape (1, 3, 480, 640)\n",
      "\n",
      "0: 480x640 (no detections), 50.6ms\n",
      "Speed: 0.8ms preprocess, 50.6ms inference, 0.2ms postprocess per image at shape (1, 3, 480, 640)\n",
      "\n",
      "0: 480x640 (no detections), 53.7ms\n",
      "Speed: 0.7ms preprocess, 53.7ms inference, 0.3ms postprocess per image at shape (1, 3, 480, 640)\n",
      "\n",
      "0: 480x640 (no detections), 52.7ms\n",
      "Speed: 1.0ms preprocess, 52.7ms inference, 0.3ms postprocess per image at shape (1, 3, 480, 640)\n",
      "\n",
      "0: 480x640 (no detections), 52.2ms\n",
      "Speed: 0.8ms preprocess, 52.2ms inference, 0.3ms postprocess per image at shape (1, 3, 480, 640)\n",
      "\n",
      "0: 480x640 (no detections), 50.7ms\n",
      "Speed: 0.9ms preprocess, 50.7ms inference, 0.5ms postprocess per image at shape (1, 3, 480, 640)\n",
      "\n",
      "0: 480x640 (no detections), 49.4ms\n",
      "Speed: 1.1ms preprocess, 49.4ms inference, 0.3ms postprocess per image at shape (1, 3, 480, 640)\n",
      "\n",
      "0: 480x640 1 person, 50.7ms\n",
      "Speed: 1.0ms preprocess, 50.7ms inference, 0.4ms postprocess per image at shape (1, 3, 480, 640)\n",
      "\n",
      "0: 480x640 2 persons, 50.6ms\n",
      "Speed: 0.8ms preprocess, 50.6ms inference, 0.4ms postprocess per image at shape (1, 3, 480, 640)\n",
      "\n",
      "0: 480x640 1 person, 51.3ms\n",
      "Speed: 0.8ms preprocess, 51.3ms inference, 0.5ms postprocess per image at shape (1, 3, 480, 640)\n",
      "\n"
     ]
    },
    {
     "name": "stdout",
     "output_type": "stream",
     "text": [
      "Confidence ---> 0.53\n",
      "Confidence ---> 0.34\n",
      "Confidence ---> 0.28\n",
      "Confidence ---> 0.61\n"
     ]
    },
    {
     "name": "stderr",
     "output_type": "stream",
     "text": [
      "0: 480x640 (no detections), 53.6ms\n",
      "Speed: 0.8ms preprocess, 53.6ms inference, 0.3ms postprocess per image at shape (1, 3, 480, 640)\n",
      "\n",
      "0: 480x640 (no detections), 50.7ms\n",
      "Speed: 1.0ms preprocess, 50.7ms inference, 0.3ms postprocess per image at shape (1, 3, 480, 640)\n",
      "\n",
      "0: 480x640 (no detections), 49.3ms\n",
      "Speed: 1.1ms preprocess, 49.3ms inference, 0.3ms postprocess per image at shape (1, 3, 480, 640)\n",
      "\n",
      "0: 480x640 (no detections), 50.5ms\n",
      "Speed: 0.8ms preprocess, 50.5ms inference, 0.2ms postprocess per image at shape (1, 3, 480, 640)\n",
      "\n",
      "0: 480x640 (no detections), 50.6ms\n",
      "Speed: 0.9ms preprocess, 50.6ms inference, 0.3ms postprocess per image at shape (1, 3, 480, 640)\n",
      "\n",
      "0: 480x640 (no detections), 49.5ms\n",
      "Speed: 1.0ms preprocess, 49.5ms inference, 0.3ms postprocess per image at shape (1, 3, 480, 640)\n",
      "\n",
      "0: 480x640 (no detections), 48.9ms\n",
      "Speed: 0.8ms preprocess, 48.9ms inference, 0.3ms postprocess per image at shape (1, 3, 480, 640)\n",
      "\n",
      "0: 480x640 (no detections), 49.8ms\n",
      "Speed: 1.0ms preprocess, 49.8ms inference, 0.3ms postprocess per image at shape (1, 3, 480, 640)\n",
      "\n",
      "0: 480x640 (no detections), 50.3ms\n",
      "Speed: 1.0ms preprocess, 50.3ms inference, 0.3ms postprocess per image at shape (1, 3, 480, 640)\n",
      "\n",
      "0: 480x640 (no detections), 50.3ms\n",
      "Speed: 0.9ms preprocess, 50.3ms inference, 0.3ms postprocess per image at shape (1, 3, 480, 640)\n",
      "\n",
      "0: 480x640 (no detections), 51.1ms\n",
      "Speed: 0.7ms preprocess, 51.1ms inference, 0.2ms postprocess per image at shape (1, 3, 480, 640)\n",
      "\n",
      "0: 480x640 (no detections), 49.9ms\n",
      "Speed: 0.8ms preprocess, 49.9ms inference, 0.3ms postprocess per image at shape (1, 3, 480, 640)\n",
      "\n",
      "0: 480x640 1 person, 50.1ms\n",
      "Speed: 0.9ms preprocess, 50.1ms inference, 0.5ms postprocess per image at shape (1, 3, 480, 640)\n",
      "\n",
      "0: 480x640 (no detections), 51.7ms\n",
      "Speed: 1.1ms preprocess, 51.7ms inference, 0.3ms postprocess per image at shape (1, 3, 480, 640)\n",
      "\n",
      "0: 480x640 (no detections), 52.3ms\n",
      "Speed: 1.0ms preprocess, 52.3ms inference, 0.3ms postprocess per image at shape (1, 3, 480, 640)\n"
     ]
    },
    {
     "name": "stdout",
     "output_type": "stream",
     "text": [
      "Confidence ---> 0.33\n"
     ]
    },
    {
     "name": "stderr",
     "output_type": "stream",
     "text": [
      "\n",
      "0: 480x640 (no detections), 54.4ms\n",
      "Speed: 0.9ms preprocess, 54.4ms inference, 0.3ms postprocess per image at shape (1, 3, 480, 640)\n",
      "\n",
      "0: 480x640 (no detections), 57.5ms\n",
      "Speed: 1.1ms preprocess, 57.5ms inference, 0.4ms postprocess per image at shape (1, 3, 480, 640)\n",
      "\n",
      "0: 480x640 (no detections), 51.5ms\n",
      "Speed: 0.8ms preprocess, 51.5ms inference, 0.3ms postprocess per image at shape (1, 3, 480, 640)\n",
      "\n",
      "0: 480x640 (no detections), 56.8ms\n",
      "Speed: 1.4ms preprocess, 56.8ms inference, 0.2ms postprocess per image at shape (1, 3, 480, 640)\n",
      "\n",
      "0: 480x640 2 persons, 53.3ms\n",
      "Speed: 0.8ms preprocess, 53.3ms inference, 0.5ms postprocess per image at shape (1, 3, 480, 640)\n",
      "\n",
      "0: 480x640 (no detections), 60.4ms\n",
      "Speed: 0.8ms preprocess, 60.4ms inference, 0.3ms postprocess per image at shape (1, 3, 480, 640)\n",
      "\n",
      "0: 480x640 3 persons, 1 remote, 61.8ms\n",
      "Speed: 1.0ms preprocess, 61.8ms inference, 0.6ms postprocess per image at shape (1, 3, 480, 640)\n"
     ]
    },
    {
     "name": "stdout",
     "output_type": "stream",
     "text": [
      "Confidence ---> 0.5\n",
      "Confidence ---> 0.39\n",
      "Confidence ---> 0.52\n",
      "Confidence ---> 0.48\n",
      "Confidence ---> 0.44\n"
     ]
    },
    {
     "name": "stderr",
     "output_type": "stream",
     "text": [
      "\n",
      "0: 480x640 3 persons, 2 chairs, 1 laptop, 1 remote, 71.6ms\n",
      "Speed: 0.8ms preprocess, 71.6ms inference, 0.5ms postprocess per image at shape (1, 3, 480, 640)\n",
      "\n",
      "0: 480x640 3 persons, 4 chairs, 56.9ms\n",
      "Speed: 1.2ms preprocess, 56.9ms inference, 0.5ms postprocess per image at shape (1, 3, 480, 640)\n",
      "\n",
      "0: 480x640 1 person, 56.9ms\n",
      "Speed: 0.8ms preprocess, 56.9ms inference, 0.4ms postprocess per image at shape (1, 3, 480, 640)\n"
     ]
    },
    {
     "name": "stdout",
     "output_type": "stream",
     "text": [
      "Confidence ---> 0.52\n",
      "Confidence ---> 0.35\n",
      "Confidence ---> 0.26\n",
      "Confidence ---> 0.49\n",
      "Confidence ---> 0.46\n",
      "Confidence ---> 0.3\n",
      "Confidence ---> 0.29\n"
     ]
    },
    {
     "name": "stderr",
     "output_type": "stream",
     "text": [
      "\n",
      "0: 480x640 1 person, 1 chair, 56.4ms\n",
      "Speed: 1.1ms preprocess, 56.4ms inference, 0.4ms postprocess per image at shape (1, 3, 480, 640)\n",
      "\n",
      "0: 480x640 2 persons, 1 airplane, 57.4ms\n",
      "Speed: 0.9ms preprocess, 57.4ms inference, 0.4ms postprocess per image at shape (1, 3, 480, 640)\n",
      "\n",
      "0: 480x640 (no detections), 52.9ms\n",
      "Speed: 0.7ms preprocess, 52.9ms inference, 0.3ms postprocess per image at shape (1, 3, 480, 640)\n",
      "\n"
     ]
    },
    {
     "name": "stdout",
     "output_type": "stream",
     "text": [
      "Confidence ---> 0.5\n",
      "Confidence ---> 0.29\n",
      "Confidence ---> 0.26\n"
     ]
    },
    {
     "name": "stderr",
     "output_type": "stream",
     "text": [
      "0: 480x640 2 chairs, 56.5ms\n",
      "Speed: 1.2ms preprocess, 56.5ms inference, 0.7ms postprocess per image at shape (1, 3, 480, 640)\n",
      "\n",
      "0: 480x640 1 chair, 56.4ms\n",
      "Speed: 1.2ms preprocess, 56.4ms inference, 0.8ms postprocess per image at shape (1, 3, 480, 640)\n",
      "\n",
      "0: 480x640 (no detections), 54.8ms\n",
      "Speed: 0.9ms preprocess, 54.8ms inference, 0.3ms postprocess per image at shape (1, 3, 480, 640)\n",
      "\n",
      "0: 480x640 2 persons, 1 suitcase, 1 tv, 53.6ms\n",
      "Speed: 1.1ms preprocess, 53.6ms inference, 0.5ms postprocess per image at shape (1, 3, 480, 640)\n",
      "\n",
      "0: 480x640 (no detections), 58.6ms\n",
      "Speed: 0.8ms preprocess, 58.6ms inference, 0.3ms postprocess per image at shape (1, 3, 480, 640)\n",
      "\n",
      "0: 480x640 1 kite, 54.1ms\n",
      "Speed: 1.4ms preprocess, 54.1ms inference, 0.6ms postprocess per image at shape (1, 3, 480, 640)\n"
     ]
    },
    {
     "name": "stdout",
     "output_type": "stream",
     "text": [
      "Confidence ---> 0.36\n",
      "Confidence ---> 0.29\n"
     ]
    },
    {
     "name": "stderr",
     "output_type": "stream",
     "text": [
      "\n",
      "0: 480x640 (no detections), 57.3ms\n",
      "Speed: 1.2ms preprocess, 57.3ms inference, 0.3ms postprocess per image at shape (1, 3, 480, 640)\n",
      "\n",
      "0: 480x640 (no detections), 52.0ms\n",
      "Speed: 1.1ms preprocess, 52.0ms inference, 0.3ms postprocess per image at shape (1, 3, 480, 640)\n",
      "\n",
      "0: 480x640 (no detections), 51.9ms\n",
      "Speed: 1.3ms preprocess, 51.9ms inference, 0.3ms postprocess per image at shape (1, 3, 480, 640)\n",
      "\n",
      "0: 480x640 (no detections), 53.2ms\n",
      "Speed: 1.1ms preprocess, 53.2ms inference, 0.3ms postprocess per image at shape (1, 3, 480, 640)\n",
      "\n",
      "0: 480x640 (no detections), 52.8ms\n",
      "Speed: 1.7ms preprocess, 52.8ms inference, 0.3ms postprocess per image at shape (1, 3, 480, 640)\n",
      "\n",
      "0: 480x640 (no detections), 51.9ms\n",
      "Speed: 0.7ms preprocess, 51.9ms inference, 0.3ms postprocess per image at shape (1, 3, 480, 640)\n",
      "\n",
      "0: 480x640 (no detections), 52.4ms\n",
      "Speed: 1.0ms preprocess, 52.4ms inference, 0.6ms postprocess per image at shape (1, 3, 480, 640)\n",
      "\n",
      "0: 480x640 (no detections), 51.9ms\n",
      "Speed: 1.1ms preprocess, 51.9ms inference, 0.2ms postprocess per image at shape (1, 3, 480, 640)\n",
      "\n",
      "0: 480x640 (no detections), 50.8ms\n",
      "Speed: 1.3ms preprocess, 50.8ms inference, 0.3ms postprocess per image at shape (1, 3, 480, 640)\n",
      "\n",
      "0: 480x640 (no detections), 52.1ms\n",
      "Speed: 1.0ms preprocess, 52.1ms inference, 0.2ms postprocess per image at shape (1, 3, 480, 640)\n",
      "\n",
      "0: 480x640 (no detections), 54.3ms\n",
      "Speed: 4.2ms preprocess, 54.3ms inference, 0.3ms postprocess per image at shape (1, 3, 480, 640)\n",
      "\n",
      "0: 480x640 (no detections), 52.1ms\n",
      "Speed: 1.1ms preprocess, 52.1ms inference, 0.4ms postprocess per image at shape (1, 3, 480, 640)\n",
      "\n",
      "0: 480x640 (no detections), 51.9ms\n",
      "Speed: 0.9ms preprocess, 51.9ms inference, 0.3ms postprocess per image at shape (1, 3, 480, 640)\n",
      "\n",
      "0: 480x640 (no detections), 52.5ms\n",
      "Speed: 0.8ms preprocess, 52.5ms inference, 0.5ms postprocess per image at shape (1, 3, 480, 640)\n",
      "\n",
      "0: 480x640 (no detections), 51.0ms\n",
      "Speed: 0.8ms preprocess, 51.0ms inference, 0.3ms postprocess per image at shape (1, 3, 480, 640)\n",
      "\n",
      "0: 480x640 (no detections), 52.1ms\n",
      "Speed: 0.9ms preprocess, 52.1ms inference, 0.3ms postprocess per image at shape (1, 3, 480, 640)\n",
      "\n",
      "0: 480x640 (no detections), 53.9ms\n",
      "Speed: 1.2ms preprocess, 53.9ms inference, 0.3ms postprocess per image at shape (1, 3, 480, 640)\n",
      "\n",
      "0: 480x640 (no detections), 53.0ms\n",
      "Speed: 1.2ms preprocess, 53.0ms inference, 0.3ms postprocess per image at shape (1, 3, 480, 640)\n",
      "\n",
      "0: 480x640 (no detections), 52.8ms\n",
      "Speed: 1.3ms preprocess, 52.8ms inference, 0.3ms postprocess per image at shape (1, 3, 480, 640)\n",
      "\n",
      "0: 480x640 (no detections), 52.0ms\n",
      "Speed: 1.3ms preprocess, 52.0ms inference, 0.3ms postprocess per image at shape (1, 3, 480, 640)\n",
      "\n",
      "0: 480x640 (no detections), 51.4ms\n",
      "Speed: 1.3ms preprocess, 51.4ms inference, 0.3ms postprocess per image at shape (1, 3, 480, 640)\n",
      "\n",
      "0: 480x640 (no detections), 51.9ms\n",
      "Speed: 0.8ms preprocess, 51.9ms inference, 0.3ms postprocess per image at shape (1, 3, 480, 640)\n",
      "\n",
      "0: 480x640 (no detections), 51.9ms\n",
      "Speed: 1.3ms preprocess, 51.9ms inference, 0.3ms postprocess per image at shape (1, 3, 480, 640)\n",
      "\n",
      "0: 480x640 (no detections), 54.4ms\n",
      "Speed: 1.4ms preprocess, 54.4ms inference, 0.3ms postprocess per image at shape (1, 3, 480, 640)\n",
      "\n",
      "0: 480x640 (no detections), 50.9ms\n",
      "Speed: 0.9ms preprocess, 50.9ms inference, 0.3ms postprocess per image at shape (1, 3, 480, 640)\n",
      "\n",
      "0: 480x640 (no detections), 52.8ms\n",
      "Speed: 1.2ms preprocess, 52.8ms inference, 0.3ms postprocess per image at shape (1, 3, 480, 640)\n",
      "\n",
      "0: 480x640 (no detections), 53.3ms\n",
      "Speed: 1.3ms preprocess, 53.3ms inference, 0.3ms postprocess per image at shape (1, 3, 480, 640)\n",
      "\n",
      "0: 480x640 (no detections), 50.9ms\n",
      "Speed: 0.8ms preprocess, 50.9ms inference, 0.3ms postprocess per image at shape (1, 3, 480, 640)\n",
      "\n",
      "0: 480x640 (no detections), 51.6ms\n",
      "Speed: 0.9ms preprocess, 51.6ms inference, 0.3ms postprocess per image at shape (1, 3, 480, 640)\n",
      "\n",
      "0: 480x640 (no detections), 54.0ms\n",
      "Speed: 0.8ms preprocess, 54.0ms inference, 0.3ms postprocess per image at shape (1, 3, 480, 640)\n",
      "\n",
      "0: 480x640 (no detections), 52.8ms\n",
      "Speed: 1.0ms preprocess, 52.8ms inference, 0.3ms postprocess per image at shape (1, 3, 480, 640)\n",
      "\n",
      "0: 480x640 (no detections), 51.3ms\n",
      "Speed: 0.9ms preprocess, 51.3ms inference, 0.3ms postprocess per image at shape (1, 3, 480, 640)\n",
      "\n",
      "0: 480x640 (no detections), 52.9ms\n",
      "Speed: 1.4ms preprocess, 52.9ms inference, 0.2ms postprocess per image at shape (1, 3, 480, 640)\n",
      "\n",
      "0: 480x640 (no detections), 51.4ms\n",
      "Speed: 1.4ms preprocess, 51.4ms inference, 0.3ms postprocess per image at shape (1, 3, 480, 640)\n",
      "\n",
      "0: 480x640 (no detections), 52.1ms\n",
      "Speed: 1.3ms preprocess, 52.1ms inference, 0.3ms postprocess per image at shape (1, 3, 480, 640)\n",
      "\n",
      "0: 480x640 (no detections), 53.1ms\n",
      "Speed: 1.0ms preprocess, 53.1ms inference, 0.2ms postprocess per image at shape (1, 3, 480, 640)\n",
      "\n",
      "0: 480x640 (no detections), 52.2ms\n",
      "Speed: 1.0ms preprocess, 52.2ms inference, 0.3ms postprocess per image at shape (1, 3, 480, 640)\n",
      "\n",
      "0: 480x640 (no detections), 52.4ms\n",
      "Speed: 0.8ms preprocess, 52.4ms inference, 0.3ms postprocess per image at shape (1, 3, 480, 640)\n",
      "\n",
      "0: 480x640 (no detections), 53.5ms\n",
      "Speed: 1.1ms preprocess, 53.5ms inference, 0.3ms postprocess per image at shape (1, 3, 480, 640)\n",
      "\n",
      "0: 480x640 (no detections), 52.6ms\n",
      "Speed: 1.1ms preprocess, 52.6ms inference, 0.5ms postprocess per image at shape (1, 3, 480, 640)\n",
      "\n",
      "0: 480x640 (no detections), 55.4ms\n",
      "Speed: 1.2ms preprocess, 55.4ms inference, 0.3ms postprocess per image at shape (1, 3, 480, 640)\n",
      "\n",
      "0: 480x640 (no detections), 55.5ms\n",
      "Speed: 0.8ms preprocess, 55.5ms inference, 0.3ms postprocess per image at shape (1, 3, 480, 640)\n",
      "\n",
      "0: 480x640 (no detections), 53.8ms\n",
      "Speed: 0.9ms preprocess, 53.8ms inference, 0.3ms postprocess per image at shape (1, 3, 480, 640)\n",
      "\n",
      "0: 480x640 1 person, 1 laptop, 54.5ms\n",
      "Speed: 0.8ms preprocess, 54.5ms inference, 0.5ms postprocess per image at shape (1, 3, 480, 640)\n",
      "\n",
      "0: 480x640 (no detections), 54.5ms\n",
      "Speed: 0.8ms preprocess, 54.5ms inference, 0.2ms postprocess per image at shape (1, 3, 480, 640)\n",
      "\n",
      "0: 480x640 (no detections), 55.9ms\n",
      "Speed: 1.2ms preprocess, 55.9ms inference, 0.2ms postprocess per image at shape (1, 3, 480, 640)\n",
      "\n"
     ]
    },
    {
     "name": "stdout",
     "output_type": "stream",
     "text": [
      "Confidence ---> 0.63\n"
     ]
    },
    {
     "name": "stderr",
     "output_type": "stream",
     "text": [
      "0: 480x640 (no detections), 67.2ms\n",
      "Speed: 0.8ms preprocess, 67.2ms inference, 0.6ms postprocess per image at shape (1, 3, 480, 640)\n",
      "\n",
      "0: 480x640 1 cat, 54.8ms\n",
      "Speed: 1.4ms preprocess, 54.8ms inference, 0.4ms postprocess per image at shape (1, 3, 480, 640)\n",
      "\n",
      "0: 480x640 (no detections), 53.5ms\n",
      "Speed: 1.1ms preprocess, 53.5ms inference, 0.3ms postprocess per image at shape (1, 3, 480, 640)\n",
      "\n",
      "0: 480x640 (no detections), 54.7ms\n",
      "Speed: 0.9ms preprocess, 54.7ms inference, 0.2ms postprocess per image at shape (1, 3, 480, 640)\n",
      "\n",
      "0: 480x640 (no detections), 54.8ms\n",
      "Speed: 0.9ms preprocess, 54.8ms inference, 0.3ms postprocess per image at shape (1, 3, 480, 640)\n",
      "\n",
      "0: 480x640 (no detections), 53.0ms\n",
      "Speed: 1.1ms preprocess, 53.0ms inference, 0.3ms postprocess per image at shape (1, 3, 480, 640)\n",
      "\n",
      "0: 480x640 (no detections), 54.0ms\n",
      "Speed: 0.8ms preprocess, 54.0ms inference, 0.3ms postprocess per image at shape (1, 3, 480, 640)\n",
      "\n",
      "0: 480x640 (no detections), 54.4ms\n",
      "Speed: 0.8ms preprocess, 54.4ms inference, 0.3ms postprocess per image at shape (1, 3, 480, 640)\n",
      "\n",
      "0: 480x640 (no detections), 53.7ms\n",
      "Speed: 0.8ms preprocess, 53.7ms inference, 0.3ms postprocess per image at shape (1, 3, 480, 640)\n",
      "\n",
      "0: 480x640 (no detections), 53.5ms\n",
      "Speed: 0.9ms preprocess, 53.5ms inference, 0.3ms postprocess per image at shape (1, 3, 480, 640)\n",
      "\n",
      "0: 480x640 (no detections), 55.0ms\n",
      "Speed: 1.2ms preprocess, 55.0ms inference, 0.3ms postprocess per image at shape (1, 3, 480, 640)\n",
      "\n",
      "0: 480x640 1 person, 54.8ms\n",
      "Speed: 1.3ms preprocess, 54.8ms inference, 0.4ms postprocess per image at shape (1, 3, 480, 640)\n",
      "\n",
      "0: 480x640 1 person, 55.8ms\n",
      "Speed: 1.3ms preprocess, 55.8ms inference, 0.4ms postprocess per image at shape (1, 3, 480, 640)\n",
      "\n"
     ]
    },
    {
     "name": "stdout",
     "output_type": "stream",
     "text": [
      "Confidence ---> 0.56\n",
      "Confidence ---> 0.8\n"
     ]
    },
    {
     "name": "stderr",
     "output_type": "stream",
     "text": [
      "0: 480x640 1 person, 1 cell phone, 57.1ms\n",
      "Speed: 1.1ms preprocess, 57.1ms inference, 0.4ms postprocess per image at shape (1, 3, 480, 640)\n",
      "\n",
      "0: 480x640 1 person, 1 skateboard, 55.5ms\n",
      "Speed: 1.3ms preprocess, 55.5ms inference, 0.4ms postprocess per image at shape (1, 3, 480, 640)\n",
      "\n",
      "0: 480x640 1 person, 1 cell phone, 55.4ms\n",
      "Speed: 1.2ms preprocess, 55.4ms inference, 0.4ms postprocess per image at shape (1, 3, 480, 640)\n"
     ]
    },
    {
     "name": "stdout",
     "output_type": "stream",
     "text": [
      "Confidence ---> 0.88\n",
      "Confidence ---> 0.82\n",
      "Confidence ---> 0.8\n"
     ]
    },
    {
     "name": "stderr",
     "output_type": "stream",
     "text": [
      "\n",
      "0: 480x640 1 person, 1 skateboard, 1 cell phone, 57.4ms\n",
      "Speed: 0.9ms preprocess, 57.4ms inference, 0.4ms postprocess per image at shape (1, 3, 480, 640)\n",
      "\n",
      "0: 480x640 1 person, 56.1ms\n",
      "Speed: 1.3ms preprocess, 56.1ms inference, 0.6ms postprocess per image at shape (1, 3, 480, 640)\n"
     ]
    },
    {
     "name": "stdout",
     "output_type": "stream",
     "text": [
      "Confidence ---> 0.75\n",
      "Confidence ---> 0.74\n"
     ]
    },
    {
     "name": "stderr",
     "output_type": "stream",
     "text": [
      "\n",
      "0: 480x640 1 person, 1 laptop, 1 cell phone, 70.4ms\n",
      "Speed: 1.5ms preprocess, 70.4ms inference, 0.5ms postprocess per image at shape (1, 3, 480, 640)\n",
      "\n",
      "0: 480x640 1 person, 1 skateboard, 2 laptops, 56.5ms\n",
      "Speed: 0.8ms preprocess, 56.5ms inference, 0.5ms postprocess per image at shape (1, 3, 480, 640)\n",
      "\n",
      "0: 480x640 1 person, 1 skateboard, 56.0ms\n",
      "Speed: 1.3ms preprocess, 56.0ms inference, 0.4ms postprocess per image at shape (1, 3, 480, 640)\n"
     ]
    },
    {
     "name": "stdout",
     "output_type": "stream",
     "text": [
      "Confidence ---> 0.75\n",
      "Confidence ---> 0.78\n",
      "Confidence ---> 0.79\n"
     ]
    },
    {
     "name": "stderr",
     "output_type": "stream",
     "text": [
      "\n",
      "0: 480x640 1 person, 1 skateboard, 58.6ms\n",
      "Speed: 0.8ms preprocess, 58.6ms inference, 0.5ms postprocess per image at shape (1, 3, 480, 640)\n",
      "\n",
      "0: 480x640 1 person, 54.6ms\n",
      "Speed: 1.3ms preprocess, 54.6ms inference, 0.7ms postprocess per image at shape (1, 3, 480, 640)\n",
      "\n",
      "0: 480x640 1 person, 1 laptop, 55.0ms\n",
      "Speed: 1.2ms preprocess, 55.0ms inference, 0.4ms postprocess per image at shape (1, 3, 480, 640)\n"
     ]
    },
    {
     "name": "stdout",
     "output_type": "stream",
     "text": [
      "Confidence ---> 0.79\n",
      "Confidence ---> 0.77\n",
      "Confidence ---> 0.77\n"
     ]
    },
    {
     "name": "stderr",
     "output_type": "stream",
     "text": [
      "\n",
      "0: 480x640 1 person, 1 laptop, 56.1ms\n",
      "Speed: 1.3ms preprocess, 56.1ms inference, 0.4ms postprocess per image at shape (1, 3, 480, 640)\n",
      "\n",
      "0: 480x640 1 person, 1 cell phone, 53.8ms\n",
      "Speed: 1.1ms preprocess, 53.8ms inference, 0.4ms postprocess per image at shape (1, 3, 480, 640)\n",
      "\n",
      "0: 480x640 1 person, 55.8ms\n",
      "Speed: 0.8ms preprocess, 55.8ms inference, 0.4ms postprocess per image at shape (1, 3, 480, 640)\n"
     ]
    },
    {
     "name": "stdout",
     "output_type": "stream",
     "text": [
      "Confidence ---> 0.74\n",
      "Confidence ---> 0.68\n",
      "Confidence ---> 0.75\n"
     ]
    },
    {
     "name": "stderr",
     "output_type": "stream",
     "text": [
      "\n",
      "0: 480x640 1 person, 57.0ms\n",
      "Speed: 0.8ms preprocess, 57.0ms inference, 0.5ms postprocess per image at shape (1, 3, 480, 640)\n",
      "\n",
      "0: 480x640 1 person, 56.6ms\n",
      "Speed: 0.8ms preprocess, 56.6ms inference, 0.4ms postprocess per image at shape (1, 3, 480, 640)\n",
      "\n",
      "0: 480x640 1 person, 55.8ms\n",
      "Speed: 1.2ms preprocess, 55.8ms inference, 0.4ms postprocess per image at shape (1, 3, 480, 640)\n"
     ]
    },
    {
     "name": "stdout",
     "output_type": "stream",
     "text": [
      "Confidence ---> 0.69\n",
      "Confidence ---> 0.75\n",
      "Confidence ---> 0.76\n"
     ]
    },
    {
     "name": "stderr",
     "output_type": "stream",
     "text": [
      "\n",
      "0: 480x640 1 person, 59.1ms\n",
      "Speed: 1.2ms preprocess, 59.1ms inference, 0.4ms postprocess per image at shape (1, 3, 480, 640)\n",
      "\n",
      "0: 480x640 1 person, 1 laptop, 64.2ms\n",
      "Speed: 1.0ms preprocess, 64.2ms inference, 0.4ms postprocess per image at shape (1, 3, 480, 640)\n",
      "\n",
      "0: 480x640 1 person, 1 chair, 1 laptop, 56.0ms\n",
      "Speed: 0.9ms preprocess, 56.0ms inference, 0.4ms postprocess per image at shape (1, 3, 480, 640)\n"
     ]
    },
    {
     "name": "stdout",
     "output_type": "stream",
     "text": [
      "Confidence ---> 0.79\n",
      "Confidence ---> 0.74\n",
      "Confidence ---> 0.69\n"
     ]
    },
    {
     "name": "stderr",
     "output_type": "stream",
     "text": [
      "\n",
      "0: 480x640 1 person, 56.8ms\n",
      "Speed: 1.3ms preprocess, 56.8ms inference, 0.4ms postprocess per image at shape (1, 3, 480, 640)\n",
      "\n",
      "0: 480x640 1 person, 1 tie, 1 chair, 1 laptop, 1 remote, 57.1ms\n",
      "Speed: 1.2ms preprocess, 57.1ms inference, 0.4ms postprocess per image at shape (1, 3, 480, 640)\n",
      "\n",
      "0: 480x640 1 person, 1 chair, 1 remote, 56.3ms\n"
     ]
    },
    {
     "name": "stdout",
     "output_type": "stream",
     "text": [
      "Confidence ---> 0.75\n",
      "Confidence ---> 0.88\n",
      "Confidence ---> 0.79\n"
     ]
    },
    {
     "name": "stderr",
     "output_type": "stream",
     "text": [
      "Speed: 1.3ms preprocess, 56.3ms inference, 0.5ms postprocess per image at shape (1, 3, 480, 640)\n",
      "\n",
      "0: 480x640 1 person, 55.6ms\n",
      "Speed: 0.8ms preprocess, 55.6ms inference, 0.4ms postprocess per image at shape (1, 3, 480, 640)\n",
      "\n",
      "0: 480x640 1 person, 57.5ms\n",
      "Speed: 0.7ms preprocess, 57.5ms inference, 0.5ms postprocess per image at shape (1, 3, 480, 640)\n",
      "\n"
     ]
    },
    {
     "name": "stdout",
     "output_type": "stream",
     "text": [
      "Confidence ---> 0.63\n",
      "Confidence ---> 0.77\n"
     ]
    },
    {
     "name": "stderr",
     "output_type": "stream",
     "text": [
      "0: 480x640 1 person, 1 remote, 72.0ms\n",
      "Speed: 1.4ms preprocess, 72.0ms inference, 0.4ms postprocess per image at shape (1, 3, 480, 640)\n",
      "\n",
      "0: 480x640 1 person, 1 remote, 56.1ms\n",
      "Speed: 0.8ms preprocess, 56.1ms inference, 0.9ms postprocess per image at shape (1, 3, 480, 640)\n",
      "\n",
      "0: 480x640 1 person, 57.3ms\n",
      "Speed: 1.4ms preprocess, 57.3ms inference, 0.4ms postprocess per image at shape (1, 3, 480, 640)\n"
     ]
    },
    {
     "name": "stdout",
     "output_type": "stream",
     "text": [
      "Confidence ---> 0.65\n",
      "Confidence ---> 0.74\n",
      "Confidence ---> 0.81\n"
     ]
    },
    {
     "name": "stderr",
     "output_type": "stream",
     "text": [
      "\n",
      "0: 480x640 1 person, 1 remote, 57.2ms\n",
      "Speed: 0.8ms preprocess, 57.2ms inference, 0.4ms postprocess per image at shape (1, 3, 480, 640)\n",
      "\n",
      "0: 480x640 1 person, 56.7ms\n",
      "Speed: 1.3ms preprocess, 56.7ms inference, 0.4ms postprocess per image at shape (1, 3, 480, 640)\n",
      "\n",
      "0: 480x640 2 persons, 56.8ms\n",
      "Speed: 1.1ms preprocess, 56.8ms inference, 0.5ms postprocess per image at shape (1, 3, 480, 640)\n"
     ]
    },
    {
     "name": "stdout",
     "output_type": "stream",
     "text": [
      "Confidence ---> 0.67\n",
      "Confidence ---> 0.77\n",
      "Confidence ---> 0.77\n",
      "Confidence ---> 0.27\n"
     ]
    },
    {
     "name": "stderr",
     "output_type": "stream",
     "text": [
      "\n",
      "0: 480x640 1 person, 57.9ms\n",
      "Speed: 0.9ms preprocess, 57.9ms inference, 0.4ms postprocess per image at shape (1, 3, 480, 640)\n",
      "\n",
      "0: 480x640 1 person, 55.4ms\n",
      "Speed: 1.3ms preprocess, 55.4ms inference, 0.4ms postprocess per image at shape (1, 3, 480, 640)\n",
      "\n",
      "0: 480x640 1 person, 57.2ms\n",
      "Speed: 0.9ms preprocess, 57.2ms inference, 0.7ms postprocess per image at shape (1, 3, 480, 640)\n"
     ]
    },
    {
     "name": "stdout",
     "output_type": "stream",
     "text": [
      "Confidence ---> 0.68\n",
      "Confidence ---> 0.76\n",
      "Confidence ---> 0.71\n"
     ]
    },
    {
     "name": "stderr",
     "output_type": "stream",
     "text": [
      "\n",
      "0: 480x640 1 person, 57.3ms\n",
      "Speed: 0.8ms preprocess, 57.3ms inference, 0.4ms postprocess per image at shape (1, 3, 480, 640)\n",
      "\n",
      "0: 480x640 1 person, 55.4ms\n",
      "Speed: 1.2ms preprocess, 55.4ms inference, 0.4ms postprocess per image at shape (1, 3, 480, 640)\n",
      "\n",
      "0: 480x640 1 person, 55.8ms\n",
      "Speed: 0.8ms preprocess, 55.8ms inference, 0.5ms postprocess per image at shape (1, 3, 480, 640)\n"
     ]
    },
    {
     "name": "stdout",
     "output_type": "stream",
     "text": [
      "Confidence ---> 0.7\n",
      "Confidence ---> 0.77\n",
      "Confidence ---> 0.8\n"
     ]
    },
    {
     "name": "stderr",
     "output_type": "stream",
     "text": [
      "\n",
      "0: 480x640 1 person, 56.6ms\n",
      "Speed: 1.3ms preprocess, 56.6ms inference, 0.5ms postprocess per image at shape (1, 3, 480, 640)\n",
      "\n",
      "0: 480x640 1 person, 56.0ms\n",
      "Speed: 1.0ms preprocess, 56.0ms inference, 0.4ms postprocess per image at shape (1, 3, 480, 640)\n",
      "\n",
      "0: 480x640 1 person, 55.7ms\n",
      "Speed: 1.2ms preprocess, 55.7ms inference, 0.4ms postprocess per image at shape (1, 3, 480, 640)\n"
     ]
    },
    {
     "name": "stdout",
     "output_type": "stream",
     "text": [
      "Confidence ---> 0.59\n",
      "Confidence ---> 0.58\n",
      "Confidence ---> 0.62\n"
     ]
    },
    {
     "name": "stderr",
     "output_type": "stream",
     "text": [
      "\n",
      "0: 480x640 2 persons, 56.8ms\n",
      "Speed: 0.8ms preprocess, 56.8ms inference, 0.4ms postprocess per image at shape (1, 3, 480, 640)\n",
      "\n",
      "0: 480x640 1 person, 56.4ms\n",
      "Speed: 0.9ms preprocess, 56.4ms inference, 0.4ms postprocess per image at shape (1, 3, 480, 640)\n",
      "\n",
      "0: 480x640 1 person, 54.3ms\n",
      "Speed: 1.2ms preprocess, 54.3ms inference, 0.4ms postprocess per image at shape (1, 3, 480, 640)\n"
     ]
    },
    {
     "name": "stdout",
     "output_type": "stream",
     "text": [
      "Confidence ---> 0.61\n",
      "Confidence ---> 0.26\n",
      "Confidence ---> 0.57\n",
      "Confidence ---> 0.69\n"
     ]
    },
    {
     "name": "stderr",
     "output_type": "stream",
     "text": [
      "\n",
      "0: 480x640 1 person, 56.7ms\n",
      "Speed: 0.9ms preprocess, 56.7ms inference, 0.4ms postprocess per image at shape (1, 3, 480, 640)\n",
      "\n",
      "0: 480x640 1 person, 55.9ms\n",
      "Speed: 0.9ms preprocess, 55.9ms inference, 0.5ms postprocess per image at shape (1, 3, 480, 640)\n",
      "\n"
     ]
    },
    {
     "name": "stdout",
     "output_type": "stream",
     "text": [
      "Confidence ---> 0.86\n",
      "Confidence ---> 0.84\n"
     ]
    },
    {
     "name": "stderr",
     "output_type": "stream",
     "text": [
      "0: 480x640 1 person, 56.5ms\n",
      "Speed: 1.4ms preprocess, 56.5ms inference, 0.4ms postprocess per image at shape (1, 3, 480, 640)\n",
      "\n",
      "0: 480x640 1 person, 1 chair, 1 laptop, 55.4ms\n",
      "Speed: 0.8ms preprocess, 55.4ms inference, 0.4ms postprocess per image at shape (1, 3, 480, 640)\n",
      "\n",
      "0: 480x640 1 person, 1 cat, 53.1ms\n",
      "Speed: 0.9ms preprocess, 53.1ms inference, 0.4ms postprocess per image at shape (1, 3, 480, 640)\n"
     ]
    },
    {
     "name": "stdout",
     "output_type": "stream",
     "text": [
      "Confidence ---> 0.57\n",
      "Confidence ---> 0.69\n",
      "Confidence ---> 0.32\n"
     ]
    },
    {
     "name": "stderr",
     "output_type": "stream",
     "text": [
      "\n",
      "0: 480x640 1 person, 1 chair, 1 laptop, 56.7ms\n",
      "Speed: 1.3ms preprocess, 56.7ms inference, 0.6ms postprocess per image at shape (1, 3, 480, 640)\n",
      "\n",
      "0: 480x640 2 laptops, 55.9ms\n",
      "Speed: 1.2ms preprocess, 55.9ms inference, 0.4ms postprocess per image at shape (1, 3, 480, 640)\n",
      "\n",
      "0: 480x640 1 person, 1 chair, 2 laptops, 55.0ms\n",
      "Speed: 1.3ms preprocess, 55.0ms inference, 0.4ms postprocess per image at shape (1, 3, 480, 640)\n"
     ]
    },
    {
     "name": "stdout",
     "output_type": "stream",
     "text": [
      "Confidence ---> 0.33\n",
      "Confidence ---> 0.48\n"
     ]
    },
    {
     "name": "stderr",
     "output_type": "stream",
     "text": [
      "\n",
      "0: 480x640 1 person, 2 laptops, 55.9ms\n",
      "Speed: 0.8ms preprocess, 55.9ms inference, 0.4ms postprocess per image at shape (1, 3, 480, 640)\n",
      "\n",
      "0: 480x640 1 person, 1 chair, 57.9ms\n",
      "Speed: 2.0ms preprocess, 57.9ms inference, 0.5ms postprocess per image at shape (1, 3, 480, 640)\n",
      "\n"
     ]
    },
    {
     "name": "stdout",
     "output_type": "stream",
     "text": [
      "Confidence ---> 0.68\n",
      "Confidence ---> 0.57\n"
     ]
    },
    {
     "name": "stderr",
     "output_type": "stream",
     "text": [
      "0: 480x640 1 person, 57.0ms\n",
      "Speed: 1.2ms preprocess, 57.0ms inference, 0.4ms postprocess per image at shape (1, 3, 480, 640)\n",
      "\n",
      "0: 480x640 1 person, 54.8ms\n",
      "Speed: 0.9ms preprocess, 54.8ms inference, 0.4ms postprocess per image at shape (1, 3, 480, 640)\n",
      "\n"
     ]
    },
    {
     "name": "stdout",
     "output_type": "stream",
     "text": [
      "Confidence ---> 0.75\n",
      "Confidence ---> 0.8\n"
     ]
    },
    {
     "name": "stderr",
     "output_type": "stream",
     "text": [
      "0: 480x640 1 person, 56.1ms\n",
      "Speed: 1.2ms preprocess, 56.1ms inference, 0.8ms postprocess per image at shape (1, 3, 480, 640)\n",
      "\n",
      "0: 480x640 1 person, 1 skateboard, 56.4ms\n",
      "Speed: 0.8ms preprocess, 56.4ms inference, 0.4ms postprocess per image at shape (1, 3, 480, 640)\n",
      "\n"
     ]
    },
    {
     "name": "stdout",
     "output_type": "stream",
     "text": [
      "Confidence ---> 0.83\n",
      "Confidence ---> 0.82\n",
      "Confidence ---> 0.78\n"
     ]
    },
    {
     "name": "stderr",
     "output_type": "stream",
     "text": [
      "0: 480x640 1 person, 1 skateboard, 58.1ms\n",
      "Speed: 1.1ms preprocess, 58.1ms inference, 0.4ms postprocess per image at shape (1, 3, 480, 640)\n",
      "\n",
      "0: 480x640 1 person, 1 skateboard, 56.1ms\n",
      "Speed: 0.8ms preprocess, 56.1ms inference, 0.5ms postprocess per image at shape (1, 3, 480, 640)\n",
      "\n",
      "0: 480x640 1 person, 56.9ms\n",
      "Speed: 1.1ms preprocess, 56.9ms inference, 0.4ms postprocess per image at shape (1, 3, 480, 640)\n",
      "\n",
      "0: 480x640 1 person, 54.2ms\n",
      "Speed: 0.7ms preprocess, 54.2ms inference, 0.5ms postprocess per image at shape (1, 3, 480, 640)\n"
     ]
    },
    {
     "name": "stdout",
     "output_type": "stream",
     "text": [
      "Confidence ---> 0.84\n",
      "Confidence ---> 0.79\n",
      "Confidence ---> 0.8\n"
     ]
    },
    {
     "name": "stderr",
     "output_type": "stream",
     "text": [
      "\n",
      "0: 480x640 1 person, 55.2ms\n",
      "Speed: 1.3ms preprocess, 55.2ms inference, 0.4ms postprocess per image at shape (1, 3, 480, 640)\n",
      "\n",
      "0: 480x640 1 person, 56.6ms\n",
      "Speed: 1.3ms preprocess, 56.6ms inference, 0.4ms postprocess per image at shape (1, 3, 480, 640)\n",
      "\n"
     ]
    },
    {
     "name": "stdout",
     "output_type": "stream",
     "text": [
      "Confidence ---> 0.78\n",
      "Confidence ---> 0.76\n"
     ]
    },
    {
     "name": "stderr",
     "output_type": "stream",
     "text": [
      "0: 480x640 1 person, 1 skateboard, 54.0ms\n",
      "Speed: 0.8ms preprocess, 54.0ms inference, 0.5ms postprocess per image at shape (1, 3, 480, 640)\n",
      "\n",
      "0: 480x640 1 person, 2 skateboards, 56.4ms\n",
      "Speed: 0.8ms preprocess, 56.4ms inference, 0.4ms postprocess per image at shape (1, 3, 480, 640)\n",
      "\n",
      "0: 480x640 1 person, 1 skateboard, 54.9ms\n"
     ]
    },
    {
     "name": "stdout",
     "output_type": "stream",
     "text": [
      "Confidence ---> 0.81\n",
      "Confidence ---> 0.84\n",
      "Confidence ---> 0.8\n"
     ]
    },
    {
     "name": "stderr",
     "output_type": "stream",
     "text": [
      "Speed: 0.9ms preprocess, 54.9ms inference, 0.4ms postprocess per image at shape (1, 3, 480, 640)\n",
      "\n",
      "0: 480x640 1 person, 2 skateboards, 53.7ms\n",
      "Speed: 0.8ms preprocess, 53.7ms inference, 0.5ms postprocess per image at shape (1, 3, 480, 640)\n",
      "\n",
      "0: 480x640 1 person, 54.8ms\n",
      "Speed: 0.9ms preprocess, 54.8ms inference, 0.5ms postprocess per image at shape (1, 3, 480, 640)\n",
      "\n"
     ]
    },
    {
     "name": "stdout",
     "output_type": "stream",
     "text": [
      "Confidence ---> 0.78\n",
      "Confidence ---> 0.82\n"
     ]
    },
    {
     "name": "stderr",
     "output_type": "stream",
     "text": [
      "0: 480x640 1 person, 55.8ms\n",
      "Speed: 0.8ms preprocess, 55.8ms inference, 0.4ms postprocess per image at shape (1, 3, 480, 640)\n",
      "\n",
      "0: 480x640 1 person, 56.5ms\n",
      "Speed: 1.3ms preprocess, 56.5ms inference, 0.5ms postprocess per image at shape (1, 3, 480, 640)\n",
      "\n",
      "0: 480x640 1 person, 51.9ms\n",
      "Speed: 0.9ms preprocess, 51.9ms inference, 0.4ms postprocess per image at shape (1, 3, 480, 640)\n"
     ]
    },
    {
     "name": "stdout",
     "output_type": "stream",
     "text": [
      "Confidence ---> 0.79\n",
      "Confidence ---> 0.79\n",
      "Confidence ---> 0.79\n"
     ]
    },
    {
     "name": "stderr",
     "output_type": "stream",
     "text": [
      "\n",
      "0: 480x640 1 person, 55.1ms\n",
      "Speed: 1.0ms preprocess, 55.1ms inference, 0.4ms postprocess per image at shape (1, 3, 480, 640)\n",
      "\n",
      "0: 480x640 1 person, 54.8ms\n",
      "Speed: 1.7ms preprocess, 54.8ms inference, 0.4ms postprocess per image at shape (1, 3, 480, 640)\n",
      "\n",
      "0: 480x640 1 person, 54.9ms\n",
      "Speed: 0.9ms preprocess, 54.9ms inference, 0.4ms postprocess per image at shape (1, 3, 480, 640)\n"
     ]
    },
    {
     "name": "stdout",
     "output_type": "stream",
     "text": [
      "Confidence ---> 0.78\n",
      "Confidence ---> 0.84\n",
      "Confidence ---> 0.82\n"
     ]
    },
    {
     "name": "stderr",
     "output_type": "stream",
     "text": [
      "\n",
      "0: 480x640 1 person, 56.9ms\n",
      "Speed: 0.8ms preprocess, 56.9ms inference, 0.6ms postprocess per image at shape (1, 3, 480, 640)\n",
      "\n",
      "0: 480x640 1 person, 1 skateboard, 55.6ms\n",
      "Speed: 0.8ms preprocess, 55.6ms inference, 0.4ms postprocess per image at shape (1, 3, 480, 640)\n",
      "\n",
      "0: 480x640 1 person, 1 skateboard, 1 scissors, 55.6ms\n"
     ]
    },
    {
     "name": "stdout",
     "output_type": "stream",
     "text": [
      "Confidence ---> 0.77\n",
      "Confidence ---> 0.8\n",
      "Confidence ---> 0.81\n"
     ]
    },
    {
     "name": "stderr",
     "output_type": "stream",
     "text": [
      "Speed: 1.3ms preprocess, 55.6ms inference, 0.4ms postprocess per image at shape (1, 3, 480, 640)\n",
      "\n",
      "0: 480x640 1 person, 55.6ms\n",
      "Speed: 1.2ms preprocess, 55.6ms inference, 0.4ms postprocess per image at shape (1, 3, 480, 640)\n",
      "\n",
      "0: 480x640 1 person, 1 skateboard, 56.4ms\n",
      "Speed: 1.0ms preprocess, 56.4ms inference, 0.4ms postprocess per image at shape (1, 3, 480, 640)\n",
      "\n",
      "0: 480x640 1 person, 54.6ms\n",
      "Speed: 0.8ms preprocess, 54.6ms inference, 0.8ms postprocess per image at shape (1, 3, 480, 640)\n"
     ]
    },
    {
     "name": "stdout",
     "output_type": "stream",
     "text": [
      "Confidence ---> 0.82\n",
      "Confidence ---> 0.81\n",
      "Confidence ---> 0.8\n"
     ]
    },
    {
     "name": "stderr",
     "output_type": "stream",
     "text": [
      "\n",
      "0: 480x640 1 person, 57.4ms\n",
      "Speed: 0.9ms preprocess, 57.4ms inference, 0.4ms postprocess per image at shape (1, 3, 480, 640)\n",
      "\n",
      "0: 480x640 1 person, 56.3ms\n",
      "Speed: 0.8ms preprocess, 56.3ms inference, 0.4ms postprocess per image at shape (1, 3, 480, 640)\n",
      "\n",
      "0: 480x640 1 person, 55.1ms\n",
      "Speed: 1.2ms preprocess, 55.1ms inference, 0.4ms postprocess per image at shape (1, 3, 480, 640)\n"
     ]
    },
    {
     "name": "stdout",
     "output_type": "stream",
     "text": [
      "Confidence ---> 0.8\n",
      "Confidence ---> 0.8\n",
      "Confidence ---> 0.81\n"
     ]
    },
    {
     "name": "stderr",
     "output_type": "stream",
     "text": [
      "\n",
      "0: 480x640 1 person, 58.2ms\n",
      "Speed: 0.8ms preprocess, 58.2ms inference, 0.4ms postprocess per image at shape (1, 3, 480, 640)\n",
      "\n",
      "0: 480x640 1 person, 58.1ms\n",
      "Speed: 1.1ms preprocess, 58.1ms inference, 0.4ms postprocess per image at shape (1, 3, 480, 640)\n",
      "\n",
      "0: 480x640 1 person, 56.0ms\n",
      "Speed: 0.9ms preprocess, 56.0ms inference, 0.8ms postprocess per image at shape (1, 3, 480, 640)\n"
     ]
    },
    {
     "name": "stdout",
     "output_type": "stream",
     "text": [
      "Confidence ---> 0.82\n",
      "Confidence ---> 0.82\n",
      "Confidence ---> 0.8\n"
     ]
    },
    {
     "name": "stderr",
     "output_type": "stream",
     "text": [
      "\n",
      "0: 480x640 1 person, 57.6ms\n",
      "Speed: 0.8ms preprocess, 57.6ms inference, 0.4ms postprocess per image at shape (1, 3, 480, 640)\n",
      "\n",
      "0: 480x640 1 person, 55.2ms\n",
      "Speed: 1.2ms preprocess, 55.2ms inference, 0.4ms postprocess per image at shape (1, 3, 480, 640)\n",
      "\n",
      "0: 480x640 1 person, 54.9ms\n",
      "Speed: 0.9ms preprocess, 54.9ms inference, 0.4ms postprocess per image at shape (1, 3, 480, 640)\n"
     ]
    },
    {
     "name": "stdout",
     "output_type": "stream",
     "text": [
      "Confidence ---> 0.81\n",
      "Confidence ---> 0.83\n",
      "Confidence ---> 0.82\n"
     ]
    },
    {
     "name": "stderr",
     "output_type": "stream",
     "text": [
      "\n",
      "0: 480x640 1 person, 55.2ms\n",
      "Speed: 1.3ms preprocess, 55.2ms inference, 0.4ms postprocess per image at shape (1, 3, 480, 640)\n",
      "\n",
      "0: 480x640 1 person, 56.7ms\n",
      "Speed: 1.3ms preprocess, 56.7ms inference, 0.4ms postprocess per image at shape (1, 3, 480, 640)\n",
      "\n"
     ]
    },
    {
     "name": "stdout",
     "output_type": "stream",
     "text": [
      "Confidence ---> 0.8\n",
      "Confidence ---> 0.79\n",
      "Confidence ---> 0.77\n"
     ]
    },
    {
     "name": "stderr",
     "output_type": "stream",
     "text": [
      "0: 480x640 1 person, 1 skateboard, 57.0ms\n",
      "Speed: 1.2ms preprocess, 57.0ms inference, 0.4ms postprocess per image at shape (1, 3, 480, 640)\n",
      "\n",
      "0: 480x640 1 person, 1 skateboard, 55.8ms\n",
      "Speed: 0.8ms preprocess, 55.8ms inference, 0.4ms postprocess per image at shape (1, 3, 480, 640)\n",
      "\n",
      "0: 480x640 1 person, 54.3ms\n",
      "Speed: 1.6ms preprocess, 54.3ms inference, 0.4ms postprocess per image at shape (1, 3, 480, 640)\n",
      "\n",
      "0: 480x640 1 person, 1 skateboard, 56.7ms\n"
     ]
    },
    {
     "name": "stdout",
     "output_type": "stream",
     "text": [
      "Confidence ---> 0.78\n",
      "Confidence ---> 0.79\n",
      "Confidence ---> 0.84\n"
     ]
    },
    {
     "name": "stderr",
     "output_type": "stream",
     "text": [
      "Speed: 1.2ms preprocess, 56.7ms inference, 0.4ms postprocess per image at shape (1, 3, 480, 640)\n",
      "\n",
      "0: 480x640 1 person, 1 skateboard, 55.4ms\n",
      "Speed: 0.8ms preprocess, 55.4ms inference, 0.4ms postprocess per image at shape (1, 3, 480, 640)\n",
      "\n",
      "0: 480x640 1 person, 57.4ms\n",
      "Speed: 0.8ms preprocess, 57.4ms inference, 0.4ms postprocess per image at shape (1, 3, 480, 640)\n",
      "\n"
     ]
    },
    {
     "name": "stdout",
     "output_type": "stream",
     "text": [
      "Confidence ---> 0.83\n",
      "Confidence ---> 0.84\n"
     ]
    },
    {
     "name": "stderr",
     "output_type": "stream",
     "text": [
      "0: 480x640 1 person, 55.6ms\n",
      "Speed: 0.8ms preprocess, 55.6ms inference, 0.7ms postprocess per image at shape (1, 3, 480, 640)\n",
      "\n",
      "0: 480x640 1 person, 56.9ms\n",
      "Speed: 0.8ms preprocess, 56.9ms inference, 0.4ms postprocess per image at shape (1, 3, 480, 640)\n",
      "\n"
     ]
    },
    {
     "name": "stdout",
     "output_type": "stream",
     "text": [
      "Confidence ---> 0.83\n",
      "Confidence ---> 0.88\n"
     ]
    },
    {
     "name": "stderr",
     "output_type": "stream",
     "text": [
      "0: 480x640 1 person, 1 skateboard, 56.1ms\n",
      "Speed: 0.8ms preprocess, 56.1ms inference, 0.4ms postprocess per image at shape (1, 3, 480, 640)\n",
      "\n",
      "0: 480x640 1 person, 56.5ms\n",
      "Speed: 1.3ms preprocess, 56.5ms inference, 0.6ms postprocess per image at shape (1, 3, 480, 640)\n",
      "\n",
      "0: 480x640 1 person, 56.7ms\n"
     ]
    },
    {
     "name": "stdout",
     "output_type": "stream",
     "text": [
      "Confidence ---> 0.87\n",
      "Confidence ---> 0.9\n",
      "Confidence ---> 0.87\n"
     ]
    },
    {
     "name": "stderr",
     "output_type": "stream",
     "text": [
      "Speed: 0.9ms preprocess, 56.7ms inference, 0.4ms postprocess per image at shape (1, 3, 480, 640)\n",
      "\n",
      "0: 480x640 2 persons, 57.7ms\n",
      "Speed: 1.8ms preprocess, 57.7ms inference, 0.4ms postprocess per image at shape (1, 3, 480, 640)\n",
      "\n",
      "0: 480x640 1 person, 57.3ms\n",
      "Speed: 1.1ms preprocess, 57.3ms inference, 0.4ms postprocess per image at shape (1, 3, 480, 640)\n",
      "\n",
      "0: 480x640 1 person, 57.5ms\n"
     ]
    },
    {
     "name": "stdout",
     "output_type": "stream",
     "text": [
      "Confidence ---> 0.86\n",
      "Confidence ---> 0.27\n",
      "Confidence ---> 0.89\n",
      "Confidence ---> 0.88\n"
     ]
    },
    {
     "name": "stderr",
     "output_type": "stream",
     "text": [
      "Speed: 0.9ms preprocess, 57.5ms inference, 0.4ms postprocess per image at shape (1, 3, 480, 640)\n",
      "\n",
      "0: 480x640 3 persons, 56.9ms\n",
      "Speed: 1.2ms preprocess, 56.9ms inference, 0.4ms postprocess per image at shape (1, 3, 480, 640)\n",
      "\n",
      "0: 480x640 3 persons, 1 skateboard, 57.0ms\n",
      "Speed: 1.2ms preprocess, 57.0ms inference, 0.4ms postprocess per image at shape (1, 3, 480, 640)\n",
      "\n",
      "0: 480x640 3 persons, 1 skateboard, 56.5ms\n",
      "Speed: 0.8ms preprocess, 56.5ms inference, 0.4ms postprocess per image at shape (1, 3, 480, 640)\n"
     ]
    },
    {
     "name": "stdout",
     "output_type": "stream",
     "text": [
      "Confidence ---> 0.84\n",
      "Confidence ---> 0.74\n",
      "Confidence ---> 0.31\n",
      "Confidence ---> 0.84\n",
      "Confidence ---> 0.29\n",
      "Confidence ---> 0.27\n",
      "Confidence ---> 0.86\n",
      "Confidence ---> 0.63\n",
      "Confidence ---> 0.28\n"
     ]
    },
    {
     "name": "stderr",
     "output_type": "stream",
     "text": [
      "\n",
      "0: 480x640 1 person, 2 skateboards, 57.1ms\n",
      "Speed: 1.3ms preprocess, 57.1ms inference, 0.4ms postprocess per image at shape (1, 3, 480, 640)\n",
      "\n",
      "0: 480x640 3 persons, 1 skateboard, 56.2ms\n",
      "Speed: 0.9ms preprocess, 56.2ms inference, 0.4ms postprocess per image at shape (1, 3, 480, 640)\n",
      "\n",
      "0: 480x640 1 person, 2 skateboards, 57.2ms\n"
     ]
    },
    {
     "name": "stdout",
     "output_type": "stream",
     "text": [
      "Confidence ---> 0.85\n",
      "Confidence ---> 0.86\n",
      "Confidence ---> 0.42\n",
      "Confidence ---> 0.3\n",
      "Confidence ---> 0.81\n"
     ]
    },
    {
     "name": "stderr",
     "output_type": "stream",
     "text": [
      "Speed: 0.8ms preprocess, 57.2ms inference, 0.4ms postprocess per image at shape (1, 3, 480, 640)\n",
      "\n",
      "0: 480x640 1 person, 57.0ms\n",
      "Speed: 1.3ms preprocess, 57.0ms inference, 0.4ms postprocess per image at shape (1, 3, 480, 640)\n",
      "\n",
      "0: 480x640 1 person, 1 skateboard, 55.6ms\n",
      "Speed: 1.3ms preprocess, 55.6ms inference, 0.4ms postprocess per image at shape (1, 3, 480, 640)\n",
      "\n",
      "0: 480x640 1 person, 55.3ms\n",
      "Speed: 0.8ms preprocess, 55.3ms inference, 0.4ms postprocess per image at shape (1, 3, 480, 640)\n"
     ]
    },
    {
     "name": "stdout",
     "output_type": "stream",
     "text": [
      "Confidence ---> 0.8\n",
      "Confidence ---> 0.81\n",
      "Confidence ---> 0.8\n"
     ]
    },
    {
     "name": "stderr",
     "output_type": "stream",
     "text": [
      "\n",
      "0: 480x640 1 person, 57.4ms\n",
      "Speed: 0.9ms preprocess, 57.4ms inference, 0.7ms postprocess per image at shape (1, 3, 480, 640)\n",
      "\n",
      "0: 480x640 1 person, 1 skateboard, 55.9ms\n",
      "Speed: 0.8ms preprocess, 55.9ms inference, 0.4ms postprocess per image at shape (1, 3, 480, 640)\n",
      "\n"
     ]
    },
    {
     "name": "stdout",
     "output_type": "stream",
     "text": [
      "Confidence ---> 0.81\n",
      "Confidence ---> 0.82\n"
     ]
    },
    {
     "name": "stderr",
     "output_type": "stream",
     "text": [
      "0: 480x640 1 person, 1 skateboard, 56.8ms\n",
      "Speed: 1.0ms preprocess, 56.8ms inference, 0.4ms postprocess per image at shape (1, 3, 480, 640)\n",
      "\n",
      "0: 480x640 1 person, 71.9ms\n",
      "Speed: 1.2ms preprocess, 71.9ms inference, 0.4ms postprocess per image at shape (1, 3, 480, 640)\n",
      "\n",
      "0: 480x640 1 person, 1 skateboard, 56.7ms\n",
      "Speed: 1.5ms preprocess, 56.7ms inference, 0.4ms postprocess per image at shape (1, 3, 480, 640)\n"
     ]
    },
    {
     "name": "stdout",
     "output_type": "stream",
     "text": [
      "Confidence ---> 0.81\n",
      "Confidence ---> 0.81\n",
      "Confidence ---> 0.83\n"
     ]
    },
    {
     "name": "stderr",
     "output_type": "stream",
     "text": [
      "\n",
      "0: 480x640 1 person, 57.8ms\n",
      "Speed: 0.8ms preprocess, 57.8ms inference, 0.4ms postprocess per image at shape (1, 3, 480, 640)\n",
      "\n",
      "0: 480x640 1 person, 1 skateboard, 56.0ms\n",
      "Speed: 0.8ms preprocess, 56.0ms inference, 0.4ms postprocess per image at shape (1, 3, 480, 640)\n",
      "\n",
      "0: 480x640 1 person, 1 skateboard, 54.1ms\n",
      "Speed: 1.4ms preprocess, 54.1ms inference, 0.4ms postprocess per image at shape (1, 3, 480, 640)\n"
     ]
    },
    {
     "name": "stdout",
     "output_type": "stream",
     "text": [
      "Confidence ---> 0.86\n",
      "Confidence ---> 0.87\n",
      "Confidence ---> 0.87\n"
     ]
    },
    {
     "name": "stderr",
     "output_type": "stream",
     "text": [
      "\n",
      "0: 480x640 1 person, 1 skateboard, 57.0ms\n",
      "Speed: 1.3ms preprocess, 57.0ms inference, 0.4ms postprocess per image at shape (1, 3, 480, 640)\n",
      "\n",
      "0: 480x640 1 person, 56.5ms\n",
      "Speed: 0.8ms preprocess, 56.5ms inference, 0.4ms postprocess per image at shape (1, 3, 480, 640)\n",
      "\n",
      "0: 480x640 1 person, 54.7ms\n",
      "Speed: 0.8ms preprocess, 54.7ms inference, 0.4ms postprocess per image at shape (1, 3, 480, 640)\n"
     ]
    },
    {
     "name": "stdout",
     "output_type": "stream",
     "text": [
      "Confidence ---> 0.88\n",
      "Confidence ---> 0.87\n",
      "Confidence ---> 0.89\n"
     ]
    },
    {
     "name": "stderr",
     "output_type": "stream",
     "text": [
      "\n",
      "0: 480x640 1 person, 1 skateboard, 57.1ms\n",
      "Speed: 1.3ms preprocess, 57.1ms inference, 0.4ms postprocess per image at shape (1, 3, 480, 640)\n",
      "\n",
      "0: 480x640 1 person, 55.9ms\n",
      "Speed: 1.1ms preprocess, 55.9ms inference, 0.7ms postprocess per image at shape (1, 3, 480, 640)\n",
      "\n",
      "0: 480x640 2 persons, 1 skateboard, 54.4ms\n",
      "Speed: 1.3ms preprocess, 54.4ms inference, 0.4ms postprocess per image at shape (1, 3, 480, 640)\n"
     ]
    },
    {
     "name": "stdout",
     "output_type": "stream",
     "text": [
      "Confidence ---> 0.88\n",
      "Confidence ---> 0.87\n",
      "Confidence ---> 0.82\n",
      "Confidence ---> 0.29\n"
     ]
    },
    {
     "name": "stderr",
     "output_type": "stream",
     "text": [
      "\n",
      "0: 480x640 1 person, 2 skateboards, 56.2ms\n",
      "Speed: 1.4ms preprocess, 56.2ms inference, 0.4ms postprocess per image at shape (1, 3, 480, 640)\n",
      "\n",
      "0: 480x640 1 person, 1 skateboard, 1 laptop, 54.3ms\n",
      "Speed: 1.0ms preprocess, 54.3ms inference, 0.6ms postprocess per image at shape (1, 3, 480, 640)\n",
      "\n",
      "0: 480x640 1 person, 1 laptop, 56.0ms\n",
      "Speed: 0.9ms preprocess, 56.0ms inference, 0.4ms postprocess per image at shape (1, 3, 480, 640)\n"
     ]
    },
    {
     "name": "stdout",
     "output_type": "stream",
     "text": [
      "Confidence ---> 0.81\n",
      "Confidence ---> 0.85\n",
      "Confidence ---> 0.88\n"
     ]
    },
    {
     "name": "stderr",
     "output_type": "stream",
     "text": [
      "\n",
      "0: 480x640 1 person, 57.5ms\n",
      "Speed: 0.8ms preprocess, 57.5ms inference, 0.6ms postprocess per image at shape (1, 3, 480, 640)\n",
      "\n",
      "0: 480x640 1 person, 57.2ms\n",
      "Speed: 1.5ms preprocess, 57.2ms inference, 0.4ms postprocess per image at shape (1, 3, 480, 640)\n",
      "\n",
      "0: 480x640 1 person, 55.7ms\n",
      "Speed: 0.9ms preprocess, 55.7ms inference, 0.4ms postprocess per image at shape (1, 3, 480, 640)\n"
     ]
    },
    {
     "name": "stdout",
     "output_type": "stream",
     "text": [
      "Confidence ---> 0.9\n",
      "Confidence ---> 0.88\n",
      "Confidence ---> 0.91\n"
     ]
    },
    {
     "name": "stderr",
     "output_type": "stream",
     "text": [
      "\n",
      "0: 480x640 2 persons, 57.9ms\n",
      "Speed: 1.3ms preprocess, 57.9ms inference, 0.4ms postprocess per image at shape (1, 3, 480, 640)\n",
      "\n",
      "0: 480x640 1 person, 54.2ms\n",
      "Speed: 1.1ms preprocess, 54.2ms inference, 0.4ms postprocess per image at shape (1, 3, 480, 640)\n",
      "\n",
      "0: 480x640 1 person, 54.8ms\n",
      "Speed: 1.3ms preprocess, 54.8ms inference, 0.4ms postprocess per image at shape (1, 3, 480, 640)\n"
     ]
    },
    {
     "name": "stdout",
     "output_type": "stream",
     "text": [
      "Confidence ---> 0.89\n",
      "Confidence ---> 0.5\n",
      "Confidence ---> 0.83\n",
      "Confidence ---> 0.9\n"
     ]
    },
    {
     "name": "stderr",
     "output_type": "stream",
     "text": [
      "\n",
      "0: 480x640 1 person, 56.9ms\n",
      "Speed: 1.3ms preprocess, 56.9ms inference, 0.4ms postprocess per image at shape (1, 3, 480, 640)\n",
      "\n",
      "0: 480x640 1 person, 1 scissors, 55.4ms\n",
      "Speed: 0.8ms preprocess, 55.4ms inference, 0.4ms postprocess per image at shape (1, 3, 480, 640)\n",
      "\n",
      "0: 480x640 1 person, 1 scissors, 55.8ms\n",
      "Speed: 0.8ms preprocess, 55.8ms inference, 0.4ms postprocess per image at shape (1, 3, 480, 640)\n"
     ]
    },
    {
     "name": "stdout",
     "output_type": "stream",
     "text": [
      "Confidence ---> 0.91\n",
      "Confidence ---> 0.91\n",
      "Confidence ---> 0.89\n"
     ]
    },
    {
     "name": "stderr",
     "output_type": "stream",
     "text": [
      "\n",
      "0: 480x640 1 person, 58.2ms\n",
      "Speed: 1.4ms preprocess, 58.2ms inference, 0.5ms postprocess per image at shape (1, 3, 480, 640)\n",
      "\n",
      "0: 480x640 2 persons, 1 sink, 1 scissors, 55.4ms\n",
      "Speed: 0.9ms preprocess, 55.4ms inference, 0.4ms postprocess per image at shape (1, 3, 480, 640)\n",
      "\n",
      "0: 480x640 2 persons, 55.5ms\n",
      "Speed: 0.8ms preprocess, 55.5ms inference, 0.4ms postprocess per image at shape (1, 3, 480, 640)\n"
     ]
    },
    {
     "name": "stdout",
     "output_type": "stream",
     "text": [
      "Confidence ---> 0.9\n",
      "Confidence ---> 0.9\n",
      "Confidence ---> 0.33\n",
      "Confidence ---> 0.88\n",
      "Confidence ---> 0.28\n"
     ]
    },
    {
     "name": "stderr",
     "output_type": "stream",
     "text": [
      "\n",
      "0: 480x640 1 person, 2 laptops, 57.4ms\n",
      "Speed: 1.3ms preprocess, 57.4ms inference, 0.4ms postprocess per image at shape (1, 3, 480, 640)\n",
      "\n",
      "0: 480x640 1 person, 1 laptop, 54.6ms\n",
      "Speed: 0.9ms preprocess, 54.6ms inference, 0.4ms postprocess per image at shape (1, 3, 480, 640)\n",
      "\n",
      "0: 480x640 1 person, 1 laptop, 55.4ms\n",
      "Speed: 1.2ms preprocess, 55.4ms inference, 0.5ms postprocess per image at shape (1, 3, 480, 640)\n"
     ]
    },
    {
     "name": "stdout",
     "output_type": "stream",
     "text": [
      "Confidence ---> 0.71\n",
      "Confidence ---> 0.79\n",
      "Confidence ---> 0.81\n"
     ]
    },
    {
     "name": "stderr",
     "output_type": "stream",
     "text": [
      "\n",
      "0: 480x640 1 person, 57.0ms\n",
      "Speed: 0.8ms preprocess, 57.0ms inference, 0.4ms postprocess per image at shape (1, 3, 480, 640)\n",
      "\n",
      "0: 480x640 1 person, 54.3ms\n",
      "Speed: 1.3ms preprocess, 54.3ms inference, 0.6ms postprocess per image at shape (1, 3, 480, 640)\n",
      "\n",
      "0: 480x640 1 person, 51.5ms\n",
      "Speed: 1.0ms preprocess, 51.5ms inference, 0.4ms postprocess per image at shape (1, 3, 480, 640)\n"
     ]
    },
    {
     "name": "stdout",
     "output_type": "stream",
     "text": [
      "Confidence ---> 0.7\n",
      "Confidence ---> 0.87\n",
      "Confidence ---> 0.84\n"
     ]
    },
    {
     "name": "stderr",
     "output_type": "stream",
     "text": [
      "\n",
      "0: 480x640 1 person, 54.1ms\n",
      "Speed: 1.2ms preprocess, 54.1ms inference, 0.4ms postprocess per image at shape (1, 3, 480, 640)\n",
      "\n",
      "0: 480x640 1 person, 55.5ms\n",
      "Speed: 0.9ms preprocess, 55.5ms inference, 0.4ms postprocess per image at shape (1, 3, 480, 640)\n",
      "\n"
     ]
    },
    {
     "name": "stdout",
     "output_type": "stream",
     "text": [
      "Confidence ---> 0.87\n",
      "Confidence ---> 0.88\n"
     ]
    },
    {
     "name": "stderr",
     "output_type": "stream",
     "text": [
      "0: 480x640 2 persons, 54.6ms\n",
      "Speed: 1.0ms preprocess, 54.6ms inference, 0.4ms postprocess per image at shape (1, 3, 480, 640)\n",
      "\n",
      "0: 480x640 3 persons, 1 frisbee, 1 skateboard, 1 laptop, 56.3ms\n",
      "Speed: 1.4ms preprocess, 56.3ms inference, 0.4ms postprocess per image at shape (1, 3, 480, 640)\n",
      "\n"
     ]
    },
    {
     "name": "stdout",
     "output_type": "stream",
     "text": [
      "Confidence ---> 0.87\n",
      "Confidence ---> 0.5\n",
      "Confidence ---> 0.85\n",
      "Confidence ---> 0.31\n",
      "Confidence ---> 0.29\n",
      "Confidence ---> 0.86\n"
     ]
    },
    {
     "name": "stderr",
     "output_type": "stream",
     "text": [
      "0: 480x640 1 person, 1 laptop, 54.1ms\n",
      "Speed: 1.3ms preprocess, 54.1ms inference, 0.4ms postprocess per image at shape (1, 3, 480, 640)\n",
      "\n",
      "0: 480x640 1 person, 55.2ms\n",
      "Speed: 0.9ms preprocess, 55.2ms inference, 0.6ms postprocess per image at shape (1, 3, 480, 640)\n"
     ]
    },
    {
     "name": "stdout",
     "output_type": "stream",
     "text": [
      "Confidence ---> 0.89\n"
     ]
    },
    {
     "name": "stderr",
     "output_type": "stream",
     "text": [
      "WARNING ⚠️ 'source' is missing. Using 'source=/Users/being/Library/Python/3.9/lib/python/site-packages/ultralytics/assets'.\n",
      "\n",
      "image 1/2 /Users/being/Library/Python/3.9/lib/python/site-packages/ultralytics/assets/bus.jpg: 640x480 4 persons, 1 bus, 66.9ms\n",
      "image 2/2 /Users/being/Library/Python/3.9/lib/python/site-packages/ultralytics/assets/zidane.jpg: 384x640 3 persons, 2 ties, 44.7ms\n",
      "Speed: 3.0ms preprocess, 55.8ms inference, 0.4ms postprocess per image at shape (1, 3, 384, 640)\n"
     ]
    },
    {
     "name": "stdout",
     "output_type": "stream",
     "text": [
      "Confidence ---> 0.84\n",
      "Confidence ---> 0.8\n",
      "Confidence ---> 0.76\n",
      "Confidence ---> 0.31\n",
      "Confidence ---> 0.71\n",
      "Confidence ---> 0.66\n",
      "Confidence ---> 0.29\n"
     ]
    },
    {
     "ename": "error",
     "evalue": "OpenCV(4.8.1) /Users/xperience/GHA-OpenCV-Python/_work/opencv-python/opencv-python/opencv/modules/highgui/src/window.cpp:971: error: (-215:Assertion failed) size.width>0 && size.height>0 in function 'imshow'\n",
     "output_type": "error",
     "traceback": [
      "\u001b[0;31m---------------------------------------------------------------------------\u001b[0m",
      "\u001b[0;31merror\u001b[0m                                     Traceback (most recent call last)",
      "\u001b[1;32m/Users/being/Desktop/[github] workspace/open_URIs/webcam-yolo_v2.ipynb 셀 4\u001b[0m line \u001b[0;36m8\n\u001b[1;32m     <a href='vscode-notebook-cell:/Users/being/Desktop/%5Bgithub%5D%20workspace/open_URIs/webcam-yolo_v2.ipynb#W3sZmlsZQ%3D%3D?line=83'>84</a>\u001b[0m     \u001b[39melse\u001b[39;00m:\n\u001b[1;32m     <a href='vscode-notebook-cell:/Users/being/Desktop/%5Bgithub%5D%20workspace/open_URIs/webcam-yolo_v2.ipynb#W3sZmlsZQ%3D%3D?line=84'>85</a>\u001b[0m         cv2\u001b[39m.\u001b[39mcircle(img, (center_x, center_y), \u001b[39m3\u001b[39m, (\u001b[39m0\u001b[39m, \u001b[39m255\u001b[39m, \u001b[39m0\u001b[39m), \u001b[39m-\u001b[39m\u001b[39m1\u001b[39m)\n\u001b[0;32m---> <a href='vscode-notebook-cell:/Users/being/Desktop/%5Bgithub%5D%20workspace/open_URIs/webcam-yolo_v2.ipynb#W3sZmlsZQ%3D%3D?line=86'>87</a>\u001b[0m cv2\u001b[39m.\u001b[39;49mimshow(\u001b[39m'\u001b[39;49m\u001b[39mWebcam\u001b[39;49m\u001b[39m'\u001b[39;49m, img)\n\u001b[1;32m     <a href='vscode-notebook-cell:/Users/being/Desktop/%5Bgithub%5D%20workspace/open_URIs/webcam-yolo_v2.ipynb#W3sZmlsZQ%3D%3D?line=87'>88</a>\u001b[0m \u001b[39mif\u001b[39;00m cv2\u001b[39m.\u001b[39mwaitKey(\u001b[39m1\u001b[39m) \u001b[39m==\u001b[39m \u001b[39mord\u001b[39m(\u001b[39m'\u001b[39m\u001b[39mq\u001b[39m\u001b[39m'\u001b[39m):\n\u001b[1;32m     <a href='vscode-notebook-cell:/Users/being/Desktop/%5Bgithub%5D%20workspace/open_URIs/webcam-yolo_v2.ipynb#W3sZmlsZQ%3D%3D?line=88'>89</a>\u001b[0m     \u001b[39mbreak\u001b[39;00m\n",
      "\u001b[0;31merror\u001b[0m: OpenCV(4.8.1) /Users/xperience/GHA-OpenCV-Python/_work/opencv-python/opencv-python/opencv/modules/highgui/src/window.cpp:971: error: (-215:Assertion failed) size.width>0 && size.height>0 in function 'imshow'\n"
     ]
    },
    {
     "ename": "",
     "evalue": "",
     "output_type": "error",
     "traceback": [
      "\u001b[1;31m현재 셀 또는 이전 셀에서 코드를 실행하는 동안 Kernel이 충돌했습니다. 셀의 코드를 검토하여 오류의 가능한 원인을 식별하세요. 자세한 내용을 보려면 <a href='https://aka.ms/vscodeJupyterKernelCrash'> 여기 </a> 를 클릭하세요. 자세한 내용은 Jupyter <a href='command:jupyter.viewOutput'>로그</a>를 참조하세요."
     ]
    }
   ],
   "source": [
    "from ultralytics import YOLO\n",
    "import cv2\n",
    "import math \n",
    "import time\n",
    "\n",
    "# start webcam\n",
    "cap = cv2.VideoCapture(0)\n",
    "cap.set(3, 640)\n",
    "cap.set(4, 480)\n",
    "\n",
    "# model\n",
    "model = YOLO(\"yolo-Weights/yolov5n.pt\")\n",
    "\n",
    "# object classes\n",
    "classNames = [\"person\", \"bicycle\", \"car\", \"motorbike\", \"aeroplane\", \"bus\", \"train\", \"truck\", \"boat\",\n",
    "              \"traffic light\", \"fire hydrant\", \"stop sign\", \"parking meter\", \"bench\", \"bird\", \"cat\",\n",
    "              \"dog\", \"horse\", \"sheep\", \"cow\", \"elephant\", \"bear\", \"zebra\", \"giraffe\", \"backpack\", \"umbrella\",\n",
    "              \"handbag\", \"tie\", \"suitcase\", \"frisbee\", \"skis\", \"snowboard\", \"sports ball\", \"kite\", \"baseball bat\",\n",
    "              \"baseball glove\", \"skateboard\", \"surfboard\", \"tennis racket\", \"bottle\", \"wine glass\", \"cup\",\n",
    "              \"fork\", \"knife\", \"spoon\", \"bowl\", \"banana\", \"apple\", \"sandwich\", \"orange\", \"broccoli\",\n",
    "              \"carrot\", \"hot dog\", \"pizza\", \"donut\", \"cake\", \"chair\", \"sofa\", \"pottedplant\", \"bed\",\n",
    "              \"diningtable\", \"toilet\", \"tvmonitor\", \"laptop\", \"mouse\", \"remote\", \"keyboard\", \"cell phone\",\n",
    "              \"microwave\", \"oven\", \"toaster\", \"sink\", \"refrigerator\", \"book\", \"clock\", \"vase\", \"scissors\",\n",
    "              \"teddy bear\", \"hair drier\", \"toothbrush\"\n",
    "              ]\n",
    "\n",
    "# person 클래스의 인덱스를 찾습니다.\n",
    "person_index = classNames.index('person')\n",
    "\n",
    "# 중심점의 히스토리를 저장할 리스트\n",
    "center_points_history = []\n",
    "\n",
    "while True:\n",
    "    success, img = cap.read()\n",
    "    results = model(img, stream=True)\n",
    "\n",
    "    # 현재 시간\n",
    "    current_time = time.time()\n",
    "\n",
    "    # coordinates\n",
    "    for r in results:\n",
    "        boxes = r.boxes\n",
    "\n",
    "        for box in boxes:\n",
    "            # class name\n",
    "            cls = int(box.cls[0])\n",
    "\n",
    "            if cls == person_index:  # person 클래스만 확인\n",
    "                # bounding box\n",
    "                x1, y1, x2, y2 = box.xyxy[0]\n",
    "                x1, y1, x2, y2 = int(x1), int(y1), int(x2), int(y2)\n",
    "\n",
    "                # 중심점 계산\n",
    "                center_x = int((x1 + x2) / 2)\n",
    "                center_y = int((y1 + y2) / 2)\n",
    "\n",
    "                # 중심점의 좌표와 현재 시간을 히스토리에 추가\n",
    "                center_points_history.append(((center_x, center_y), current_time))\n",
    "\n",
    "                # 바운딩 박스 그리기\n",
    "                cv2.rectangle(img, (x1, y1), (x2, y2), (255, 0, 255), 3)\n",
    "\n",
    "                # confidence\n",
    "                confidence = math.ceil((box.conf[0]*100))/100\n",
    "                print(\"Confidence --->\", confidence)\n",
    "\n",
    "                # object details\n",
    "                org = [x1, y1]\n",
    "                font = cv2.FONT_HERSHEY_SIMPLEX\n",
    "                fontScale = 1\n",
    "                color = (255, 0, 0)\n",
    "                thickness = 2\n",
    "\n",
    "                cv2.putText(img, str(classNames[cls]), org, font, fontScale, color, thickness)\n",
    "\n",
    "    # 0.3초 이전의 중심점들을 히스토리에서 제거\n",
    "    center_points_history = [(point, timestamp) for point, timestamp in center_points_history if current_time - timestamp <= 0.3]\n",
    "\n",
    "    # 중심점들을 이미지에 그리기\n",
    "    for idx, ((center_x, center_y), _) in enumerate(center_points_history):\n",
    "        # 가장 최근의 점만 붉은색으로 그리기\n",
    "        if idx == len(center_points_history) - 1:\n",
    "            cv2.circle(img, (center_x, center_y), 3, (0, 0, 255), -1)  # RGB로 (0, 0, 255)는 붉은색입니다.\n",
    "        else:\n",
    "            cv2.circle(img, (center_x, center_y), 3, (0, 255, 0), -1)\n",
    "\n",
    "    cv2.imshow('Webcam', img)\n",
    "    if cv2.waitKey(1) == ord('q'):\n",
    "        break\n",
    "\n",
    "cap.release()\n",
    "cv2.destroyAllWindows()\n"
   ]
  },
  {
   "cell_type": "code",
   "execution_count": null,
   "metadata": {},
   "outputs": [],
   "source": []
  },
  {
   "cell_type": "code",
   "execution_count": null,
   "metadata": {},
   "outputs": [],
   "source": []
  }
 ],
 "metadata": {
  "kernelspec": {
   "display_name": "Python 3",
   "language": "python",
   "name": "python3"
  },
  "language_info": {
   "codemirror_mode": {
    "name": "ipython",
    "version": 3
   },
   "file_extension": ".py",
   "mimetype": "text/x-python",
   "name": "python",
   "nbconvert_exporter": "python",
   "pygments_lexer": "ipython3",
   "version": "3.9.6"
  }
 },
 "nbformat": 4,
 "nbformat_minor": 2
}
