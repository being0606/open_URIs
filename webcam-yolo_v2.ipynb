{
 "cells": [
  {
   "cell_type": "code",
   "execution_count": 1,
   "metadata": {},
   "outputs": [],
   "source": [
    "# !pip install opencv-python"
   ]
  },
  {
   "cell_type": "code",
   "execution_count": 2,
   "metadata": {},
   "outputs": [],
   "source": [
    "def webcamTest():\n",
    "    import cv2\n",
    "\n",
    "    cap = cv2.VideoCapture(0)\n",
    "    cap.set(3, 640)\n",
    "    cap.set(4, 480)\n",
    "\n",
    "    while True:\n",
    "        ret, img= cap.read()\n",
    "        cv2.imshow('Webcam', img)\n",
    "\n",
    "        if cv2.waitKey(1) == ord('q'):\n",
    "            break\n",
    "\n",
    "    cap.release()\n",
    "    cv2.destroyAllWindows()"
   ]
  },
  {
   "cell_type": "code",
   "execution_count": 3,
   "metadata": {},
   "outputs": [],
   "source": [
    "# !pip3 install ultralytics"
   ]
  },
  {
   "cell_type": "code",
   "execution_count": 4,
   "metadata": {},
   "outputs": [
    {
     "name": "stderr",
     "output_type": "stream",
     "text": [
      "\n",
      "0: 480x640 1 person, 1 chair, 1 tv, 2 laptops, 1 clock, 61.4ms\n",
      "Speed: 1.8ms preprocess, 61.4ms inference, 0.6ms postprocess per image at shape (1, 3, 480, 640)\n",
      "\n",
      "0: 480x640 1 person, 2 chairs, 1 tv, 1 laptop, 1 clock, 57.4ms\n",
      "Speed: 0.9ms preprocess, 57.4ms inference, 0.5ms postprocess per image at shape (1, 3, 480, 640)\n",
      "\n",
      "0: 480x640 1 person, 2 chairs, 2 tvs, 2 laptops, 1 clock, 53.7ms\n",
      "Speed: 0.8ms preprocess, 53.7ms inference, 0.5ms postprocess per image at shape (1, 3, 480, 640)\n"
     ]
    },
    {
     "name": "stdout",
     "output_type": "stream",
     "text": [
      "Confidence ---> 0.78\n",
      "Confidence ---> 0.81\n",
      "Confidence ---> 0.79\n"
     ]
    },
    {
     "name": "stderr",
     "output_type": "stream",
     "text": [
      "\n",
      "0: 480x640 1 person, 1 bowl, 1 chair, 2 tvs, 2 laptops, 1 clock, 67.5ms\n",
      "Speed: 1.9ms preprocess, 67.5ms inference, 0.5ms postprocess per image at shape (1, 3, 480, 640)\n",
      "\n",
      "0: 480x640 1 person, 1 bowl, 3 chairs, 2 tvs, 2 laptops, 1 clock, 54.7ms\n",
      "Speed: 1.1ms preprocess, 54.7ms inference, 0.5ms postprocess per image at shape (1, 3, 480, 640)\n",
      "\n",
      "0: 480x640 1 person, 2 chairs, 1 tv, 2 laptops, 1 clock, 54.8ms\n",
      "Speed: 0.8ms preprocess, 54.8ms inference, 0.5ms postprocess per image at shape (1, 3, 480, 640)\n"
     ]
    },
    {
     "name": "stdout",
     "output_type": "stream",
     "text": [
      "Confidence ---> 0.82\n",
      "Confidence ---> 0.83\n",
      "Confidence ---> 0.82\n"
     ]
    },
    {
     "name": "stderr",
     "output_type": "stream",
     "text": [
      "\n",
      "0: 480x640 1 person, 2 chairs, 1 tv, 1 laptop, 1 clock, 56.7ms\n",
      "Speed: 1.1ms preprocess, 56.7ms inference, 0.4ms postprocess per image at shape (1, 3, 480, 640)\n",
      "\n",
      "0: 480x640 1 person, 1 bowl, 1 chair, 1 tv, 2 laptops, 1 clock, 52.6ms\n",
      "Speed: 1.3ms preprocess, 52.6ms inference, 0.5ms postprocess per image at shape (1, 3, 480, 640)\n",
      "\n",
      "0: 480x640 1 person, 1 bowl, 3 chairs, 1 tv, 2 laptops, 1 clock, 52.8ms\n",
      "Speed: 1.1ms preprocess, 52.8ms inference, 0.5ms postprocess per image at shape (1, 3, 480, 640)\n"
     ]
    },
    {
     "name": "stdout",
     "output_type": "stream",
     "text": [
      "Confidence ---> 0.8\n",
      "Confidence ---> 0.82\n",
      "Confidence ---> 0.82\n"
     ]
    },
    {
     "name": "stderr",
     "output_type": "stream",
     "text": [
      "\n",
      "0: 480x640 1 person, 1 bowl, 2 chairs, 2 tvs, 2 laptops, 1 clock, 54.5ms\n",
      "Speed: 1.2ms preprocess, 54.5ms inference, 0.6ms postprocess per image at shape (1, 3, 480, 640)\n",
      "\n",
      "0: 480x640 1 person, 1 chair, 2 tvs, 1 laptop, 1 clock, 51.3ms\n",
      "Speed: 0.9ms preprocess, 51.3ms inference, 0.4ms postprocess per image at shape (1, 3, 480, 640)\n",
      "\n",
      "0: 480x640 1 person, 2 chairs, 1 tv, 1 laptop, 1 clock, 50.7ms\n",
      "Speed: 0.9ms preprocess, 50.7ms inference, 0.5ms postprocess per image at shape (1, 3, 480, 640)\n"
     ]
    },
    {
     "name": "stdout",
     "output_type": "stream",
     "text": [
      "Confidence ---> 0.82\n",
      "Confidence ---> 0.82\n",
      "Confidence ---> 0.81\n"
     ]
    },
    {
     "name": "stderr",
     "output_type": "stream",
     "text": [
      "\n",
      "0: 480x640 1 person, 2 chairs, 2 tvs, 2 laptops, 1 clock, 54.6ms\n",
      "Speed: 1.2ms preprocess, 54.6ms inference, 0.4ms postprocess per image at shape (1, 3, 480, 640)\n",
      "\n",
      "0: 480x640 1 person, 1 bowl, 2 chairs, 1 tv, 1 laptop, 1 clock, 50.8ms\n",
      "Speed: 1.0ms preprocess, 50.8ms inference, 0.5ms postprocess per image at shape (1, 3, 480, 640)\n",
      "\n",
      "0: 480x640 1 person, 1 bowl, 1 chair, 1 tv, 1 laptop, 1 clock, 51.5ms\n",
      "Speed: 1.0ms preprocess, 51.5ms inference, 0.5ms postprocess per image at shape (1, 3, 480, 640)\n"
     ]
    },
    {
     "name": "stdout",
     "output_type": "stream",
     "text": [
      "Confidence ---> 0.79\n",
      "Confidence ---> 0.72\n",
      "Confidence ---> 0.74\n"
     ]
    },
    {
     "name": "stderr",
     "output_type": "stream",
     "text": [
      "\n",
      "0: 480x640 1 person, 2 chairs, 2 tvs, 1 laptop, 1 clock, 78.5ms\n",
      "Speed: 0.9ms preprocess, 78.5ms inference, 0.5ms postprocess per image at shape (1, 3, 480, 640)\n",
      "\n",
      "0: 480x640 1 person, 1 bowl, 2 chairs, 2 tvs, 1 laptop, 1 clock, 52.0ms\n",
      "Speed: 0.9ms preprocess, 52.0ms inference, 0.5ms postprocess per image at shape (1, 3, 480, 640)\n",
      "\n",
      "0: 480x640 1 person, 1 bowl, 1 chair, 1 tv, 1 laptop, 1 clock, 54.2ms\n",
      "Speed: 0.8ms preprocess, 54.2ms inference, 0.5ms postprocess per image at shape (1, 3, 480, 640)\n"
     ]
    },
    {
     "name": "stdout",
     "output_type": "stream",
     "text": [
      "Confidence ---> 0.76\n",
      "Confidence ---> 0.73\n",
      "Confidence ---> 0.79\n"
     ]
    },
    {
     "name": "stderr",
     "output_type": "stream",
     "text": [
      "\n",
      "0: 480x640 1 person, 1 bowl, 1 chair, 1 tv, 2 laptops, 1 clock, 55.2ms\n",
      "Speed: 0.9ms preprocess, 55.2ms inference, 0.5ms postprocess per image at shape (1, 3, 480, 640)\n",
      "\n",
      "0: 480x640 1 person, 3 chairs, 1 tv, 2 laptops, 1 clock, 51.2ms\n",
      "Speed: 0.8ms preprocess, 51.2ms inference, 0.5ms postprocess per image at shape (1, 3, 480, 640)\n",
      "\n",
      "0: 480x640 1 person, 2 chairs, 1 tv, 2 laptops, 1 clock, 51.2ms\n",
      "Speed: 1.0ms preprocess, 51.2ms inference, 0.4ms postprocess per image at shape (1, 3, 480, 640)\n"
     ]
    },
    {
     "name": "stdout",
     "output_type": "stream",
     "text": [
      "Confidence ---> 0.79\n",
      "Confidence ---> 0.72\n",
      "Confidence ---> 0.75\n"
     ]
    },
    {
     "name": "stderr",
     "output_type": "stream",
     "text": [
      "\n",
      "0: 480x640 1 person, 1 bowl, 2 chairs, 2 tvs, 2 laptops, 1 clock, 54.5ms\n",
      "Speed: 0.7ms preprocess, 54.5ms inference, 0.5ms postprocess per image at shape (1, 3, 480, 640)\n",
      "\n",
      "0: 480x640 1 person, 1 bowl, 2 chairs, 1 tv, 1 laptop, 1 clock, 52.0ms\n",
      "Speed: 0.8ms preprocess, 52.0ms inference, 0.5ms postprocess per image at shape (1, 3, 480, 640)\n",
      "\n",
      "0: 480x640 1 person, 1 car, 1 bowl, 3 chairs, 1 tv, 1 laptop, 1 clock, 52.8ms\n",
      "Speed: 0.7ms preprocess, 52.8ms inference, 0.5ms postprocess per image at shape (1, 3, 480, 640)\n"
     ]
    },
    {
     "name": "stdout",
     "output_type": "stream",
     "text": [
      "Confidence ---> 0.74\n",
      "Confidence ---> 0.78\n",
      "Confidence ---> 0.79\n"
     ]
    },
    {
     "name": "stderr",
     "output_type": "stream",
     "text": [
      "\n",
      "0: 480x640 1 person, 1 bowl, 2 chairs, 2 tvs, 2 laptops, 1 clock, 54.3ms\n",
      "Speed: 1.1ms preprocess, 54.3ms inference, 0.5ms postprocess per image at shape (1, 3, 480, 640)\n",
      "\n",
      "0: 480x640 1 person, 2 chairs, 1 tv, 1 laptop, 1 clock, 50.6ms\n",
      "Speed: 1.0ms preprocess, 50.6ms inference, 0.4ms postprocess per image at shape (1, 3, 480, 640)\n",
      "\n",
      "0: 480x640 1 person, 1 bowl, 2 chairs, 1 tv, 1 laptop, 1 clock, 52.4ms\n",
      "Speed: 0.9ms preprocess, 52.4ms inference, 0.5ms postprocess per image at shape (1, 3, 480, 640)\n"
     ]
    },
    {
     "name": "stdout",
     "output_type": "stream",
     "text": [
      "Confidence ---> 0.81\n",
      "Confidence ---> 0.82\n",
      "Confidence ---> 0.75\n"
     ]
    },
    {
     "name": "stderr",
     "output_type": "stream",
     "text": [
      "\n",
      "0: 480x640 1 person, 1 bowl, 3 chairs, 2 tvs, 1 laptop, 1 clock, 54.7ms\n",
      "Speed: 1.1ms preprocess, 54.7ms inference, 0.4ms postprocess per image at shape (1, 3, 480, 640)\n",
      "\n",
      "0: 480x640 1 person, 1 bowl, 2 chairs, 1 tv, 1 laptop, 1 clock, 52.5ms\n",
      "Speed: 1.0ms preprocess, 52.5ms inference, 0.6ms postprocess per image at shape (1, 3, 480, 640)\n",
      "\n",
      "0: 480x640 1 person, 3 chairs, 2 tvs, 1 clock, 51.4ms\n",
      "Speed: 1.0ms preprocess, 51.4ms inference, 0.4ms postprocess per image at shape (1, 3, 480, 640)\n"
     ]
    },
    {
     "name": "stdout",
     "output_type": "stream",
     "text": [
      "Confidence ---> 0.79\n",
      "Confidence ---> 0.8\n",
      "Confidence ---> 0.77\n"
     ]
    },
    {
     "name": "stderr",
     "output_type": "stream",
     "text": [
      "\n",
      "0: 480x640 1 person, 2 chairs, 2 tvs, 1 laptop, 55.6ms\n",
      "Speed: 1.1ms preprocess, 55.6ms inference, 0.5ms postprocess per image at shape (1, 3, 480, 640)\n",
      "\n",
      "0: 480x640 1 person, 1 bowl, 2 chairs, 1 tv, 1 laptop, 51.9ms\n",
      "Speed: 1.0ms preprocess, 51.9ms inference, 0.5ms postprocess per image at shape (1, 3, 480, 640)\n",
      "\n",
      "0: 480x640 2 persons, 1 bowl, 1 chair, 1 tv, 1 laptop, 51.0ms\n",
      "Speed: 0.9ms preprocess, 51.0ms inference, 0.4ms postprocess per image at shape (1, 3, 480, 640)\n"
     ]
    },
    {
     "name": "stdout",
     "output_type": "stream",
     "text": [
      "Confidence ---> 0.81\n",
      "Confidence ---> 0.79\n",
      "Confidence ---> 0.63\n",
      "Confidence ---> 0.43\n"
     ]
    },
    {
     "name": "stderr",
     "output_type": "stream",
     "text": [
      "\n",
      "0: 480x640 1 person, 3 chairs, 1 tv, 1 laptop, 54.6ms\n",
      "Speed: 0.8ms preprocess, 54.6ms inference, 0.5ms postprocess per image at shape (1, 3, 480, 640)\n",
      "\n",
      "0: 480x640 1 person, 3 chairs, 1 tv, 51.5ms\n",
      "Speed: 1.1ms preprocess, 51.5ms inference, 0.5ms postprocess per image at shape (1, 3, 480, 640)\n",
      "\n",
      "0: 480x640 1 person, 1 chair, 2 tvs, 1 laptop, 51.7ms\n",
      "Speed: 0.8ms preprocess, 51.7ms inference, 0.5ms postprocess per image at shape (1, 3, 480, 640)\n"
     ]
    },
    {
     "name": "stdout",
     "output_type": "stream",
     "text": [
      "Confidence ---> 0.64\n",
      "Confidence ---> 0.74\n",
      "Confidence ---> 0.8\n"
     ]
    },
    {
     "name": "stderr",
     "output_type": "stream",
     "text": [
      "\n",
      "0: 480x640 1 person, 1 bowl, 3 chairs, 1 tv, 2 laptops, 56.0ms\n",
      "Speed: 1.0ms preprocess, 56.0ms inference, 0.6ms postprocess per image at shape (1, 3, 480, 640)\n",
      "\n",
      "0: 480x640 1 person, 1 bowl, 2 chairs, 1 tv, 1 laptop, 50.4ms\n",
      "Speed: 1.1ms preprocess, 50.4ms inference, 0.5ms postprocess per image at shape (1, 3, 480, 640)\n",
      "\n",
      "0: 480x640 1 person, 2 chairs, 1 tv, 1 laptop, 1 cell phone, 51.6ms\n",
      "Speed: 0.8ms preprocess, 51.6ms inference, 0.5ms postprocess per image at shape (1, 3, 480, 640)\n"
     ]
    },
    {
     "name": "stdout",
     "output_type": "stream",
     "text": [
      "Confidence ---> 0.77\n",
      "Confidence ---> 0.81\n",
      "Confidence ---> 0.86\n"
     ]
    },
    {
     "name": "stderr",
     "output_type": "stream",
     "text": [
      "\n",
      "0: 480x640 1 person, 2 chairs, 1 tv, 1 laptop, 1 cell phone, 56.4ms\n",
      "Speed: 1.0ms preprocess, 56.4ms inference, 0.5ms postprocess per image at shape (1, 3, 480, 640)\n",
      "\n",
      "0: 480x640 1 person, 2 chairs, 1 tv, 1 laptop, 1 cell phone, 1 clock, 51.2ms\n",
      "Speed: 0.9ms preprocess, 51.2ms inference, 0.5ms postprocess per image at shape (1, 3, 480, 640)\n",
      "\n",
      "0: 480x640 1 person, 1 bowl, 3 chairs, 1 tv, 1 laptop, 1 clock, 52.1ms\n",
      "Speed: 0.8ms preprocess, 52.1ms inference, 0.5ms postprocess per image at shape (1, 3, 480, 640)\n"
     ]
    },
    {
     "name": "stdout",
     "output_type": "stream",
     "text": [
      "Confidence ---> 0.87\n",
      "Confidence ---> 0.87\n",
      "Confidence ---> 0.87\n"
     ]
    },
    {
     "name": "stderr",
     "output_type": "stream",
     "text": [
      "\n",
      "0: 480x640 1 person, 2 chairs, 1 tv, 1 laptop, 1 clock, 54.6ms\n",
      "Speed: 1.1ms preprocess, 54.6ms inference, 0.4ms postprocess per image at shape (1, 3, 480, 640)\n",
      "\n",
      "0: 480x640 1 person, 2 chairs, 1 tv, 1 laptop, 1 clock, 52.2ms\n",
      "Speed: 1.2ms preprocess, 52.2ms inference, 0.5ms postprocess per image at shape (1, 3, 480, 640)\n",
      "\n",
      "0: 480x640 1 person, 2 chairs, 2 tvs, 1 laptop, 1 clock, 51.6ms\n",
      "Speed: 0.8ms preprocess, 51.6ms inference, 0.4ms postprocess per image at shape (1, 3, 480, 640)\n"
     ]
    },
    {
     "name": "stdout",
     "output_type": "stream",
     "text": [
      "Confidence ---> 0.86\n",
      "Confidence ---> 0.85\n",
      "Confidence ---> 0.88\n"
     ]
    },
    {
     "name": "stderr",
     "output_type": "stream",
     "text": [
      "\n",
      "0: 480x640 1 person, 3 chairs, 1 tv, 1 laptop, 1 clock, 55.7ms\n",
      "Speed: 1.1ms preprocess, 55.7ms inference, 0.5ms postprocess per image at shape (1, 3, 480, 640)\n",
      "\n",
      "0: 480x640 1 person, 2 chairs, 2 tvs, 1 laptop, 51.0ms\n",
      "Speed: 0.8ms preprocess, 51.0ms inference, 0.5ms postprocess per image at shape (1, 3, 480, 640)\n",
      "\n",
      "0: 480x640 1 person, 3 chairs, 1 tv, 1 clock, 52.0ms\n",
      "Speed: 0.9ms preprocess, 52.0ms inference, 0.4ms postprocess per image at shape (1, 3, 480, 640)\n"
     ]
    },
    {
     "name": "stdout",
     "output_type": "stream",
     "text": [
      "Confidence ---> 0.87\n",
      "Confidence ---> 0.81\n",
      "Confidence ---> 0.85\n"
     ]
    },
    {
     "name": "stderr",
     "output_type": "stream",
     "text": [
      "\n",
      "0: 480x640 1 person, 2 chairs, 2 tvs, 1 laptop, 55.8ms\n",
      "Speed: 0.8ms preprocess, 55.8ms inference, 0.4ms postprocess per image at shape (1, 3, 480, 640)\n",
      "\n",
      "0: 480x640 1 person, 2 chairs, 1 tv, 1 laptop, 51.5ms\n",
      "Speed: 1.0ms preprocess, 51.5ms inference, 0.4ms postprocess per image at shape (1, 3, 480, 640)\n",
      "\n",
      "0: 480x640 1 person, 1 bowl, 1 chair, 1 tv, 1 laptop, 1 clock, 51.4ms\n",
      "Speed: 1.0ms preprocess, 51.4ms inference, 0.6ms postprocess per image at shape (1, 3, 480, 640)\n"
     ]
    },
    {
     "name": "stdout",
     "output_type": "stream",
     "text": [
      "Confidence ---> 0.87\n",
      "Confidence ---> 0.86\n",
      "Confidence ---> 0.9\n"
     ]
    },
    {
     "name": "stderr",
     "output_type": "stream",
     "text": [
      "\n",
      "0: 480x640 1 person, 2 chairs, 1 tv, 1 laptop, 1 clock, 55.8ms\n",
      "Speed: 0.8ms preprocess, 55.8ms inference, 0.5ms postprocess per image at shape (1, 3, 480, 640)\n",
      "\n",
      "0: 480x640 1 person, 1 chair, 2 tvs, 1 laptop, 1 clock, 50.7ms\n",
      "Speed: 0.9ms preprocess, 50.7ms inference, 0.4ms postprocess per image at shape (1, 3, 480, 640)\n",
      "\n",
      "0: 480x640 1 person, 2 chairs, 1 tv, 1 laptop, 1 clock, 52.3ms\n",
      "Speed: 1.0ms preprocess, 52.3ms inference, 0.4ms postprocess per image at shape (1, 3, 480, 640)\n"
     ]
    },
    {
     "name": "stdout",
     "output_type": "stream",
     "text": [
      "Confidence ---> 0.87\n",
      "Confidence ---> 0.87\n",
      "Confidence ---> 0.84\n"
     ]
    },
    {
     "name": "stderr",
     "output_type": "stream",
     "text": [
      "\n",
      "0: 480x640 1 person, 1 chair, 2 tvs, 1 laptop, 1 clock, 55.5ms\n",
      "Speed: 1.0ms preprocess, 55.5ms inference, 0.4ms postprocess per image at shape (1, 3, 480, 640)\n",
      "\n",
      "0: 480x640 1 person, 1 chair, 1 tv, 2 laptops, 1 clock, 51.8ms\n",
      "Speed: 0.8ms preprocess, 51.8ms inference, 0.4ms postprocess per image at shape (1, 3, 480, 640)\n",
      "\n",
      "0: 480x640 1 person, 1 chair, 2 tvs, 1 laptop, 51.1ms\n",
      "Speed: 1.1ms preprocess, 51.1ms inference, 0.4ms postprocess per image at shape (1, 3, 480, 640)\n"
     ]
    },
    {
     "name": "stdout",
     "output_type": "stream",
     "text": [
      "Confidence ---> 0.88\n",
      "Confidence ---> 0.82\n",
      "Confidence ---> 0.85\n"
     ]
    },
    {
     "name": "stderr",
     "output_type": "stream",
     "text": [
      "\n",
      "0: 480x640 1 person, 1 chair, 1 tv, 2 laptops, 1 clock, 53.8ms\n",
      "Speed: 0.7ms preprocess, 53.8ms inference, 0.4ms postprocess per image at shape (1, 3, 480, 640)\n",
      "\n",
      "0: 480x640 1 person, 1 chair, 1 tv, 2 laptops, 1 clock, 50.7ms\n",
      "Speed: 0.8ms preprocess, 50.7ms inference, 0.5ms postprocess per image at shape (1, 3, 480, 640)\n",
      "\n"
     ]
    },
    {
     "name": "stdout",
     "output_type": "stream",
     "text": [
      "Confidence ---> 0.88\n",
      "Confidence ---> 0.87\n"
     ]
    },
    {
     "name": "stderr",
     "output_type": "stream",
     "text": [
      "0: 480x640 1 person, 1 chair, 1 tv, 2 laptops, 1 clock, 52.0ms\n",
      "Speed: 0.9ms preprocess, 52.0ms inference, 0.5ms postprocess per image at shape (1, 3, 480, 640)\n",
      "\n",
      "0: 480x640 1 person, 1 tv, 2 laptops, 1 clock, 51.2ms\n",
      "Speed: 0.8ms preprocess, 51.2ms inference, 0.4ms postprocess per image at shape (1, 3, 480, 640)\n",
      "\n",
      "0: 480x640 1 person, 1 suitcase, 1 tv, 1 clock, 51.6ms\n",
      "Speed: 1.0ms preprocess, 51.6ms inference, 0.4ms postprocess per image at shape (1, 3, 480, 640)\n"
     ]
    },
    {
     "name": "stdout",
     "output_type": "stream",
     "text": [
      "Confidence ---> 0.89\n",
      "Confidence ---> 0.85\n",
      "Confidence ---> 0.86\n"
     ]
    },
    {
     "name": "stderr",
     "output_type": "stream",
     "text": [
      "\n",
      "0: 480x640 1 person, 2 tvs, 1 laptop, 1 clock, 55.9ms\n",
      "Speed: 1.3ms preprocess, 55.9ms inference, 0.4ms postprocess per image at shape (1, 3, 480, 640)\n",
      "\n",
      "0: 480x640 1 person, 2 chairs, 1 tv, 2 laptops, 1 clock, 52.1ms\n",
      "Speed: 1.0ms preprocess, 52.1ms inference, 0.4ms postprocess per image at shape (1, 3, 480, 640)\n",
      "\n",
      "0: 480x640 1 person, 2 chairs, 1 tv, 2 laptops, 1 clock, 52.8ms\n",
      "Speed: 0.9ms preprocess, 52.8ms inference, 0.4ms postprocess per image at shape (1, 3, 480, 640)\n"
     ]
    },
    {
     "name": "stdout",
     "output_type": "stream",
     "text": [
      "Confidence ---> 0.87\n",
      "Confidence ---> 0.82\n",
      "Confidence ---> 0.81\n"
     ]
    },
    {
     "name": "stderr",
     "output_type": "stream",
     "text": [
      "\n",
      "0: 480x640 1 person, 1 chair, 1 tv, 1 laptop, 56.2ms\n",
      "Speed: 1.2ms preprocess, 56.2ms inference, 0.5ms postprocess per image at shape (1, 3, 480, 640)\n",
      "\n",
      "0: 480x640 1 person, 2 chairs, 2 tvs, 1 laptop, 1 clock, 51.3ms\n",
      "Speed: 1.2ms preprocess, 51.3ms inference, 0.4ms postprocess per image at shape (1, 3, 480, 640)\n",
      "\n",
      "0: 480x640 1 person, 1 chair, 2 tvs, 1 laptop, 52.9ms\n",
      "Speed: 1.0ms preprocess, 52.9ms inference, 0.5ms postprocess per image at shape (1, 3, 480, 640)\n",
      "\n"
     ]
    },
    {
     "name": "stdout",
     "output_type": "stream",
     "text": [
      "Confidence ---> 0.82\n",
      "Confidence ---> 0.85\n",
      "Confidence ---> 0.83\n"
     ]
    },
    {
     "name": "stderr",
     "output_type": "stream",
     "text": [
      "0: 480x640 1 person, 2 tvs, 1 laptop, 1 clock, 54.2ms\n",
      "Speed: 1.0ms preprocess, 54.2ms inference, 0.4ms postprocess per image at shape (1, 3, 480, 640)\n",
      "\n",
      "0: 480x640 1 person, 1 bowl, 3 chairs, 1 tv, 1 laptop, 1 clock, 52.3ms\n",
      "Speed: 0.9ms preprocess, 52.3ms inference, 0.5ms postprocess per image at shape (1, 3, 480, 640)\n",
      "\n",
      "0: 480x640 1 person, 1 suitcase, 2 chairs, 1 tv, 1 laptop, 51.1ms\n",
      "Speed: 0.9ms preprocess, 51.1ms inference, 0.5ms postprocess per image at shape (1, 3, 480, 640)\n"
     ]
    },
    {
     "name": "stdout",
     "output_type": "stream",
     "text": [
      "Confidence ---> 0.8\n",
      "Confidence ---> 0.84\n",
      "Confidence ---> 0.86\n"
     ]
    },
    {
     "name": "stderr",
     "output_type": "stream",
     "text": [
      "\n",
      "0: 480x640 1 person, 1 suitcase, 2 chairs, 2 tvs, 77.3ms\n",
      "Speed: 0.8ms preprocess, 77.3ms inference, 0.5ms postprocess per image at shape (1, 3, 480, 640)\n",
      "\n",
      "0: 480x640 1 person, 2 chairs, 2 tvs, 51.1ms\n",
      "Speed: 1.0ms preprocess, 51.1ms inference, 0.4ms postprocess per image at shape (1, 3, 480, 640)\n",
      "\n",
      "0: 480x640 1 person, 3 chairs, 2 tvs, 1 laptop, 51.9ms\n",
      "Speed: 1.1ms preprocess, 51.9ms inference, 0.4ms postprocess per image at shape (1, 3, 480, 640)\n"
     ]
    },
    {
     "name": "stdout",
     "output_type": "stream",
     "text": [
      "Confidence ---> 0.85\n",
      "Confidence ---> 0.83\n",
      "Confidence ---> 0.77\n"
     ]
    },
    {
     "name": "stderr",
     "output_type": "stream",
     "text": [
      "\n",
      "0: 480x640 1 person, 1 bowl, 4 chairs, 2 tvs, 1 laptop, 1 cell phone, 1 clock, 54.8ms\n",
      "Speed: 0.8ms preprocess, 54.8ms inference, 0.4ms postprocess per image at shape (1, 3, 480, 640)\n",
      "\n",
      "0: 480x640 1 person, 3 chairs, 2 tvs, 1 laptop, 1 cell phone, 52.0ms\n",
      "Speed: 0.9ms preprocess, 52.0ms inference, 0.5ms postprocess per image at shape (1, 3, 480, 640)\n",
      "\n"
     ]
    },
    {
     "name": "stdout",
     "output_type": "stream",
     "text": [
      "Confidence ---> 0.67\n",
      "Confidence ---> 0.75\n"
     ]
    },
    {
     "name": "stderr",
     "output_type": "stream",
     "text": [
      "0: 480x640 1 person, 5 chairs, 2 tvs, 1 laptop, 53.2ms\n",
      "Speed: 0.8ms preprocess, 53.2ms inference, 0.4ms postprocess per image at shape (1, 3, 480, 640)\n",
      "\n",
      "0: 480x640 1 person, 5 chairs, 2 tvs, 1 laptop, 1 cell phone, 52.5ms\n",
      "Speed: 1.1ms preprocess, 52.5ms inference, 0.4ms postprocess per image at shape (1, 3, 480, 640)\n",
      "\n",
      "0: 480x640 1 person, 1 bowl, 3 chairs, 2 tvs, 1 laptop, 1 cell phone, 52.0ms\n",
      "Speed: 0.8ms preprocess, 52.0ms inference, 0.5ms postprocess per image at shape (1, 3, 480, 640)\n"
     ]
    },
    {
     "name": "stdout",
     "output_type": "stream",
     "text": [
      "Confidence ---> 0.79\n",
      "Confidence ---> 0.86\n",
      "Confidence ---> 0.86\n"
     ]
    },
    {
     "name": "stderr",
     "output_type": "stream",
     "text": [
      "\n",
      "0: 480x640 1 person, 1 bowl, 5 chairs, 2 tvs, 1 laptop, 1 cell phone, 55.6ms\n",
      "Speed: 0.9ms preprocess, 55.6ms inference, 0.5ms postprocess per image at shape (1, 3, 480, 640)\n",
      "\n",
      "0: 480x640 1 person, 4 chairs, 2 tvs, 1 cell phone, 53.4ms\n",
      "Speed: 1.0ms preprocess, 53.4ms inference, 0.5ms postprocess per image at shape (1, 3, 480, 640)\n",
      "\n",
      "0: 480x640 1 person, 4 chairs, 1 tv, 1 laptop, 52.2ms\n",
      "Speed: 0.8ms preprocess, 52.2ms inference, 0.4ms postprocess per image at shape (1, 3, 480, 640)\n"
     ]
    },
    {
     "name": "stdout",
     "output_type": "stream",
     "text": [
      "Confidence ---> 0.87\n",
      "Confidence ---> 0.85\n",
      "Confidence ---> 0.79\n"
     ]
    },
    {
     "name": "stderr",
     "output_type": "stream",
     "text": [
      "\n",
      "0: 480x640 1 person, 4 chairs, 2 tvs, 1 laptop, 1 cell phone, 54.9ms\n",
      "Speed: 0.9ms preprocess, 54.9ms inference, 0.5ms postprocess per image at shape (1, 3, 480, 640)\n",
      "\n",
      "0: 480x640 1 person, 3 chairs, 2 tvs, 1 laptop, 52.1ms\n",
      "Speed: 0.9ms preprocess, 52.1ms inference, 0.5ms postprocess per image at shape (1, 3, 480, 640)\n",
      "\n",
      "0: 480x640 1 person, 4 chairs, 1 tv, 1 laptop, 52.4ms\n",
      "Speed: 0.8ms preprocess, 52.4ms inference, 0.4ms postprocess per image at shape (1, 3, 480, 640)\n"
     ]
    },
    {
     "name": "stdout",
     "output_type": "stream",
     "text": [
      "Confidence ---> 0.83\n",
      "Confidence ---> 0.85\n",
      "Confidence ---> 0.82\n"
     ]
    },
    {
     "name": "stderr",
     "output_type": "stream",
     "text": [
      "\n",
      "0: 480x640 1 person, 3 chairs, 1 tv, 1 laptop, 2 cell phones, 56.0ms\n",
      "Speed: 1.0ms preprocess, 56.0ms inference, 0.4ms postprocess per image at shape (1, 3, 480, 640)\n",
      "\n",
      "0: 480x640 1 person, 1 chair, 1 tv, 1 laptop, 1 cell phone, 51.6ms\n",
      "Speed: 0.9ms preprocess, 51.6ms inference, 0.5ms postprocess per image at shape (1, 3, 480, 640)\n",
      "\n",
      "0: 480x640 1 person, 1 bowl, 1 chair, 1 tv, 1 laptop, 1 cell phone, 53.2ms\n",
      "Speed: 0.9ms preprocess, 53.2ms inference, 0.4ms postprocess per image at shape (1, 3, 480, 640)\n"
     ]
    },
    {
     "name": "stdout",
     "output_type": "stream",
     "text": [
      "Confidence ---> 0.85\n",
      "Confidence ---> 0.82\n",
      "Confidence ---> 0.82\n"
     ]
    },
    {
     "name": "stderr",
     "output_type": "stream",
     "text": [
      "\n",
      "0: 480x640 1 person, 3 chairs, 1 tv, 1 laptop, 1 cell phone, 54.8ms\n",
      "Speed: 1.1ms preprocess, 54.8ms inference, 0.5ms postprocess per image at shape (1, 3, 480, 640)\n",
      "\n",
      "0: 480x640 1 person, 4 chairs, 2 tvs, 1 laptop, 51.7ms\n",
      "Speed: 1.1ms preprocess, 51.7ms inference, 0.5ms postprocess per image at shape (1, 3, 480, 640)\n",
      "\n",
      "0: 480x640 1 person, 3 chairs, 2 tvs, 1 laptop, 1 clock, 52.0ms\n",
      "Speed: 0.9ms preprocess, 52.0ms inference, 0.5ms postprocess per image at shape (1, 3, 480, 640)\n"
     ]
    },
    {
     "name": "stdout",
     "output_type": "stream",
     "text": [
      "Confidence ---> 0.79\n",
      "Confidence ---> 0.81\n",
      "Confidence ---> 0.83\n"
     ]
    },
    {
     "name": "stderr",
     "output_type": "stream",
     "text": [
      "\n",
      "0: 480x640 1 person, 1 bowl, 2 chairs, 2 tvs, 1 laptop, 1 clock, 55.8ms\n",
      "Speed: 0.8ms preprocess, 55.8ms inference, 0.4ms postprocess per image at shape (1, 3, 480, 640)\n",
      "\n",
      "0: 480x640 1 person, 2 chairs, 2 tvs, 1 laptop, 1 clock, 52.5ms\n",
      "Speed: 1.0ms preprocess, 52.5ms inference, 0.5ms postprocess per image at shape (1, 3, 480, 640)\n",
      "\n",
      "0: 480x640 1 person, 3 chairs, 1 tv, 1 laptop, 1 clock, 52.4ms\n"
     ]
    },
    {
     "name": "stdout",
     "output_type": "stream",
     "text": [
      "Confidence ---> 0.83\n",
      "Confidence ---> 0.85\n",
      "Confidence ---> 0.81\n"
     ]
    },
    {
     "name": "stderr",
     "output_type": "stream",
     "text": [
      "Speed: 1.0ms preprocess, 52.4ms inference, 0.5ms postprocess per image at shape (1, 3, 480, 640)\n",
      "\n",
      "0: 480x640 1 person, 4 chairs, 1 tv, 1 laptop, 1 cell phone, 1 clock, 54.3ms\n",
      "Speed: 0.8ms preprocess, 54.3ms inference, 0.4ms postprocess per image at shape (1, 3, 480, 640)\n",
      "\n",
      "0: 480x640 1 person, 2 chairs, 1 tv, 1 laptop, 1 cell phone, 1 clock, 52.2ms\n",
      "Speed: 1.1ms preprocess, 52.2ms inference, 0.4ms postprocess per image at shape (1, 3, 480, 640)\n",
      "\n",
      "0: 480x640 1 person, 3 chairs, 1 tv, 1 laptop, 1 clock, 51.3ms\n",
      "Speed: 1.0ms preprocess, 51.3ms inference, 0.4ms postprocess per image at shape (1, 3, 480, 640)\n"
     ]
    },
    {
     "name": "stdout",
     "output_type": "stream",
     "text": [
      "Confidence ---> 0.82\n",
      "Confidence ---> 0.81\n",
      "Confidence ---> 0.81\n"
     ]
    },
    {
     "name": "stderr",
     "output_type": "stream",
     "text": [
      "\n",
      "0: 480x640 1 person, 3 chairs, 1 laptop, 1 clock, 66.2ms\n",
      "Speed: 1.0ms preprocess, 66.2ms inference, 0.4ms postprocess per image at shape (1, 3, 480, 640)\n",
      "\n",
      "0: 480x640 1 person, 2 chairs, 1 laptop, 1 clock, 53.4ms\n",
      "Speed: 1.2ms preprocess, 53.4ms inference, 0.4ms postprocess per image at shape (1, 3, 480, 640)\n",
      "\n"
     ]
    },
    {
     "name": "stdout",
     "output_type": "stream",
     "text": [
      "Confidence ---> 0.84\n",
      "Confidence ---> 0.83\n"
     ]
    },
    {
     "name": "stderr",
     "output_type": "stream",
     "text": [
      "0: 480x640 1 person, 3 chairs, 1 laptop, 1 clock, 75.6ms\n",
      "Speed: 0.9ms preprocess, 75.6ms inference, 0.4ms postprocess per image at shape (1, 3, 480, 640)\n",
      "\n",
      "0: 480x640 1 person, 4 chairs, 1 tv, 1 laptop, 1 clock, 54.2ms\n",
      "Speed: 0.9ms preprocess, 54.2ms inference, 0.4ms postprocess per image at shape (1, 3, 480, 640)\n",
      "\n",
      "0: 480x640 1 person, 3 chairs, 1 tv, 1 laptop, 1 clock, 51.9ms\n",
      "Speed: 1.0ms preprocess, 51.9ms inference, 0.4ms postprocess per image at shape (1, 3, 480, 640)\n",
      "\n"
     ]
    },
    {
     "name": "stdout",
     "output_type": "stream",
     "text": [
      "Confidence ---> 0.84\n",
      "Confidence ---> 0.86\n",
      "Confidence ---> 0.87\n"
     ]
    },
    {
     "name": "stderr",
     "output_type": "stream",
     "text": [
      "0: 480x640 1 person, 3 chairs, 1 laptop, 1 clock, 54.8ms\n",
      "Speed: 0.9ms preprocess, 54.8ms inference, 0.4ms postprocess per image at shape (1, 3, 480, 640)\n",
      "\n",
      "0: 480x640 1 person, 3 chairs, 1 clock, 54.0ms\n",
      "Speed: 0.8ms preprocess, 54.0ms inference, 0.4ms postprocess per image at shape (1, 3, 480, 640)\n",
      "\n",
      "0: 480x640 1 person, 4 chairs, 1 tv, 1 laptop, 1 clock, 52.1ms\n",
      "Speed: 1.0ms preprocess, 52.1ms inference, 0.5ms postprocess per image at shape (1, 3, 480, 640)\n"
     ]
    },
    {
     "name": "stdout",
     "output_type": "stream",
     "text": [
      "Confidence ---> 0.84\n",
      "Confidence ---> 0.81\n",
      "Confidence ---> 0.85\n"
     ]
    },
    {
     "name": "stderr",
     "output_type": "stream",
     "text": [
      "\n",
      "0: 480x640 1 person, 3 chairs, 1 tv, 1 laptop, 1 clock, 56.2ms\n",
      "Speed: 1.0ms preprocess, 56.2ms inference, 0.5ms postprocess per image at shape (1, 3, 480, 640)\n",
      "\n",
      "0: 480x640 1 person, 3 chairs, 1 tv, 1 laptop, 1 clock, 52.6ms\n",
      "Speed: 1.1ms preprocess, 52.6ms inference, 0.5ms postprocess per image at shape (1, 3, 480, 640)\n",
      "\n",
      "0: 480x640 1 person, 3 chairs, 1 laptop, 1 clock, 52.1ms\n",
      "Speed: 1.1ms preprocess, 52.1ms inference, 0.5ms postprocess per image at shape (1, 3, 480, 640)\n"
     ]
    },
    {
     "name": "stdout",
     "output_type": "stream",
     "text": [
      "Confidence ---> 0.82\n",
      "Confidence ---> 0.78\n",
      "Confidence ---> 0.83\n"
     ]
    },
    {
     "name": "stderr",
     "output_type": "stream",
     "text": [
      "\n",
      "0: 480x640 1 person, 3 chairs, 1 clock, 56.0ms\n",
      "Speed: 0.8ms preprocess, 56.0ms inference, 0.5ms postprocess per image at shape (1, 3, 480, 640)\n",
      "\n",
      "0: 480x640 1 person, 3 chairs, 1 clock, 53.3ms\n",
      "Speed: 1.2ms preprocess, 53.3ms inference, 0.6ms postprocess per image at shape (1, 3, 480, 640)\n",
      "\n",
      "0: 480x640 1 person, 3 chairs, 1 clock, 52.8ms\n",
      "Speed: 0.9ms preprocess, 52.8ms inference, 0.5ms postprocess per image at shape (1, 3, 480, 640)\n"
     ]
    },
    {
     "name": "stdout",
     "output_type": "stream",
     "text": [
      "Confidence ---> 0.85\n",
      "Confidence ---> 0.84\n",
      "Confidence ---> 0.85\n"
     ]
    },
    {
     "name": "stderr",
     "output_type": "stream",
     "text": [
      "\n",
      "0: 480x640 1 person, 2 chairs, 1 clock, 56.0ms\n",
      "Speed: 1.1ms preprocess, 56.0ms inference, 0.4ms postprocess per image at shape (1, 3, 480, 640)\n",
      "\n",
      "0: 480x640 1 person, 4 chairs, 1 laptop, 1 clock, 53.4ms\n",
      "Speed: 0.9ms preprocess, 53.4ms inference, 0.5ms postprocess per image at shape (1, 3, 480, 640)\n",
      "\n",
      "0: 480x640 1 person, 1 bowl, 2 chairs, 1 laptop, 53.2ms\n",
      "Speed: 0.8ms preprocess, 53.2ms inference, 0.4ms postprocess per image at shape (1, 3, 480, 640)\n"
     ]
    },
    {
     "name": "stdout",
     "output_type": "stream",
     "text": [
      "Confidence ---> 0.85\n",
      "Confidence ---> 0.84\n",
      "Confidence ---> 0.83\n"
     ]
    },
    {
     "name": "stderr",
     "output_type": "stream",
     "text": [
      "\n",
      "0: 480x640 1 person, 3 chairs, 1 laptop, 55.3ms\n",
      "Speed: 1.1ms preprocess, 55.3ms inference, 0.4ms postprocess per image at shape (1, 3, 480, 640)\n",
      "\n",
      "0: 480x640 1 person, 2 chairs, 1 laptop, 1 clock, 52.6ms\n",
      "Speed: 0.9ms preprocess, 52.6ms inference, 0.5ms postprocess per image at shape (1, 3, 480, 640)\n",
      "\n",
      "0: 480x640 1 person, 1 chair, 2 tvs, 1 laptop, 52.3ms\n",
      "Speed: 1.1ms preprocess, 52.3ms inference, 0.5ms postprocess per image at shape (1, 3, 480, 640)\n"
     ]
    },
    {
     "name": "stdout",
     "output_type": "stream",
     "text": [
      "Confidence ---> 0.81\n",
      "Confidence ---> 0.76\n",
      "Confidence ---> 0.81\n"
     ]
    },
    {
     "name": "stderr",
     "output_type": "stream",
     "text": [
      "\n",
      "0: 480x640 1 person, 1 chair, 2 tvs, 1 laptop, 55.9ms\n",
      "Speed: 0.9ms preprocess, 55.9ms inference, 0.4ms postprocess per image at shape (1, 3, 480, 640)\n",
      "\n",
      "0: 480x640 1 person, 2 chairs, 2 tvs, 1 laptop, 54.1ms\n",
      "Speed: 0.9ms preprocess, 54.1ms inference, 0.5ms postprocess per image at shape (1, 3, 480, 640)\n",
      "\n",
      "0: 480x640 1 person, 2 chairs, 2 tvs, 1 laptop, 52.0ms\n",
      "Speed: 0.8ms preprocess, 52.0ms inference, 0.5ms postprocess per image at shape (1, 3, 480, 640)\n"
     ]
    },
    {
     "name": "stdout",
     "output_type": "stream",
     "text": [
      "Confidence ---> 0.82\n",
      "Confidence ---> 0.82\n",
      "Confidence ---> 0.8\n"
     ]
    },
    {
     "name": "stderr",
     "output_type": "stream",
     "text": [
      "\n",
      "0: 480x640 1 person, 1 chair, 1 tv, 1 laptop, 56.1ms\n",
      "Speed: 0.8ms preprocess, 56.1ms inference, 0.5ms postprocess per image at shape (1, 3, 480, 640)\n",
      "\n",
      "0: 480x640 1 person, 1 sports ball, 2 chairs, 1 tv, 1 laptop, 52.5ms\n",
      "Speed: 1.1ms preprocess, 52.5ms inference, 0.4ms postprocess per image at shape (1, 3, 480, 640)\n",
      "\n",
      "0: 480x640 1 person, 1 chair, 1 tv, 1 laptop, 53.2ms\n",
      "Speed: 1.0ms preprocess, 53.2ms inference, 0.4ms postprocess per image at shape (1, 3, 480, 640)\n"
     ]
    },
    {
     "name": "stdout",
     "output_type": "stream",
     "text": [
      "Confidence ---> 0.82\n",
      "Confidence ---> 0.83\n",
      "Confidence ---> 0.8\n"
     ]
    },
    {
     "name": "stderr",
     "output_type": "stream",
     "text": [
      "\n",
      "0: 480x640 1 person, 1 bowl, 2 chairs, 1 tv, 1 laptop, 70.9ms\n",
      "Speed: 1.0ms preprocess, 70.9ms inference, 0.8ms postprocess per image at shape (1, 3, 480, 640)\n",
      "\n",
      "0: 480x640 1 person, 2 chairs, 1 tv, 1 laptop, 52.2ms\n",
      "Speed: 1.2ms preprocess, 52.2ms inference, 0.4ms postprocess per image at shape (1, 3, 480, 640)\n",
      "\n",
      "0: 480x640 1 person, 2 chairs, 1 tv, 1 laptop, 52.9ms\n",
      "Speed: 0.9ms preprocess, 52.9ms inference, 0.4ms postprocess per image at shape (1, 3, 480, 640)\n"
     ]
    },
    {
     "name": "stdout",
     "output_type": "stream",
     "text": [
      "Confidence ---> 0.7\n",
      "Confidence ---> 0.75\n",
      "Confidence ---> 0.78\n"
     ]
    },
    {
     "name": "stderr",
     "output_type": "stream",
     "text": [
      "\n",
      "0: 480x640 1 person, 2 chairs, 2 tvs, 1 laptop, 54.1ms\n",
      "Speed: 1.2ms preprocess, 54.1ms inference, 0.6ms postprocess per image at shape (1, 3, 480, 640)\n",
      "\n",
      "0: 480x640 1 person, 2 chairs, 1 tv, 1 laptop, 52.8ms\n",
      "Speed: 1.0ms preprocess, 52.8ms inference, 0.4ms postprocess per image at shape (1, 3, 480, 640)\n",
      "\n",
      "0: 480x640 1 person, 3 chairs, 1 tv, 1 laptop, 53.1ms\n",
      "Speed: 1.2ms preprocess, 53.1ms inference, 0.4ms postprocess per image at shape (1, 3, 480, 640)\n"
     ]
    },
    {
     "name": "stdout",
     "output_type": "stream",
     "text": [
      "Confidence ---> 0.82\n",
      "Confidence ---> 0.81\n",
      "Confidence ---> 0.8\n"
     ]
    },
    {
     "name": "stderr",
     "output_type": "stream",
     "text": [
      "\n",
      "0: 480x640 1 person, 2 chairs, 1 tv, 1 laptop, 1 cell phone, 55.1ms\n",
      "Speed: 1.1ms preprocess, 55.1ms inference, 0.4ms postprocess per image at shape (1, 3, 480, 640)\n",
      "\n",
      "0: 480x640 1 person, 2 chairs, 1 tv, 1 laptop, 1 cell phone, 1 clock, 52.8ms\n",
      "Speed: 1.0ms preprocess, 52.8ms inference, 0.5ms postprocess per image at shape (1, 3, 480, 640)\n",
      "\n",
      "0: 480x640 1 person, 2 chairs, 1 tv, 1 laptop, 1 cell phone, 1 clock, 52.7ms\n",
      "Speed: 1.0ms preprocess, 52.7ms inference, 0.4ms postprocess per image at shape (1, 3, 480, 640)\n"
     ]
    },
    {
     "name": "stdout",
     "output_type": "stream",
     "text": [
      "Confidence ---> 0.84\n",
      "Confidence ---> 0.85\n",
      "Confidence ---> 0.85\n"
     ]
    },
    {
     "name": "stderr",
     "output_type": "stream",
     "text": [
      "\n",
      "0: 480x640 1 person, 1 bowl, 2 chairs, 2 tvs, 1 laptop, 1 clock, 55.5ms\n",
      "Speed: 0.8ms preprocess, 55.5ms inference, 0.4ms postprocess per image at shape (1, 3, 480, 640)\n",
      "\n",
      "0: 480x640 1 person, 3 chairs, 2 tvs, 1 laptop, 1 clock, 51.5ms\n",
      "Speed: 1.0ms preprocess, 51.5ms inference, 0.4ms postprocess per image at shape (1, 3, 480, 640)\n",
      "\n"
     ]
    },
    {
     "name": "stdout",
     "output_type": "stream",
     "text": [
      "Confidence ---> 0.82\n",
      "Confidence ---> 0.83\n",
      "Confidence ---> 0.86\n"
     ]
    },
    {
     "name": "stderr",
     "output_type": "stream",
     "text": [
      "0: 480x640 1 person, 3 chairs, 2 tvs, 1 laptop, 1 clock, 52.9ms\n",
      "Speed: 1.0ms preprocess, 52.9ms inference, 0.4ms postprocess per image at shape (1, 3, 480, 640)\n",
      "\n",
      "0: 480x640 1 person, 2 chairs, 2 tvs, 1 laptop, 1 clock, 53.5ms\n",
      "Speed: 0.8ms preprocess, 53.5ms inference, 0.4ms postprocess per image at shape (1, 3, 480, 640)\n",
      "\n",
      "0: 480x640 1 person, 2 chairs, 1 tv, 1 laptop, 51.6ms\n",
      "Speed: 1.0ms preprocess, 51.6ms inference, 0.5ms postprocess per image at shape (1, 3, 480, 640)\n",
      "\n",
      "0: 480x640 1 person, 2 chairs, 1 tv, 1 laptop, 1 clock, 52.9ms\n",
      "Speed: 1.1ms preprocess, 52.9ms inference, 0.5ms postprocess per image at shape (1, 3, 480, 640)\n"
     ]
    },
    {
     "name": "stdout",
     "output_type": "stream",
     "text": [
      "Confidence ---> 0.91\n",
      "Confidence ---> 0.91\n",
      "Confidence ---> 0.89\n"
     ]
    },
    {
     "name": "stderr",
     "output_type": "stream",
     "text": [
      "\n",
      "0: 480x640 1 person, 2 chairs, 2 tvs, 1 laptop, 1 clock, 56.1ms\n",
      "Speed: 1.3ms preprocess, 56.1ms inference, 0.4ms postprocess per image at shape (1, 3, 480, 640)\n",
      "\n",
      "0: 480x640 1 person, 3 chairs, 2 tvs, 1 laptop, 1 clock, 51.5ms\n",
      "Speed: 0.8ms preprocess, 51.5ms inference, 0.4ms postprocess per image at shape (1, 3, 480, 640)\n",
      "\n",
      "0: 480x640 1 person, 2 chairs, 2 tvs, 1 laptop, 1 clock, 53.2ms\n",
      "Speed: 1.0ms preprocess, 53.2ms inference, 0.5ms postprocess per image at shape (1, 3, 480, 640)\n"
     ]
    },
    {
     "name": "stdout",
     "output_type": "stream",
     "text": [
      "Confidence ---> 0.91\n",
      "Confidence ---> 0.9\n",
      "Confidence ---> 0.91\n"
     ]
    },
    {
     "name": "stderr",
     "output_type": "stream",
     "text": [
      "\n",
      "0: 480x640 1 person, 1 bowl, 2 chairs, 2 tvs, 1 laptop, 54.8ms\n",
      "Speed: 0.8ms preprocess, 54.8ms inference, 0.5ms postprocess per image at shape (1, 3, 480, 640)\n",
      "\n",
      "0: 480x640 1 person, 1 chair, 2 tvs, 1 laptop, 52.8ms\n",
      "Speed: 0.9ms preprocess, 52.8ms inference, 0.4ms postprocess per image at shape (1, 3, 480, 640)\n",
      "\n",
      "0: 480x640 1 person, 1 chair, 1 tv, 1 laptop, 52.3ms\n",
      "Speed: 0.9ms preprocess, 52.3ms inference, 0.4ms postprocess per image at shape (1, 3, 480, 640)\n"
     ]
    },
    {
     "name": "stdout",
     "output_type": "stream",
     "text": [
      "Confidence ---> 0.83\n",
      "Confidence ---> 0.79\n",
      "Confidence ---> 0.83\n"
     ]
    },
    {
     "name": "stderr",
     "output_type": "stream",
     "text": [
      "\n",
      "0: 480x640 1 person, 1 bowl, 3 chairs, 2 tvs, 1 laptop, 55.8ms\n",
      "Speed: 0.9ms preprocess, 55.8ms inference, 0.5ms postprocess per image at shape (1, 3, 480, 640)\n",
      "\n",
      "0: 480x640 1 person, 1 bowl, 3 chairs, 1 tv, 1 laptop, 52.4ms\n",
      "Speed: 1.1ms preprocess, 52.4ms inference, 0.5ms postprocess per image at shape (1, 3, 480, 640)\n",
      "\n",
      "0: 480x640 1 person, 1 bowl, 1 chair, 1 tv, 1 laptop, 52.7ms\n",
      "Speed: 0.9ms preprocess, 52.7ms inference, 0.4ms postprocess per image at shape (1, 3, 480, 640)\n"
     ]
    },
    {
     "name": "stdout",
     "output_type": "stream",
     "text": [
      "Confidence ---> 0.87\n",
      "Confidence ---> 0.85\n",
      "Confidence ---> 0.81\n"
     ]
    },
    {
     "name": "stderr",
     "output_type": "stream",
     "text": [
      "\n",
      "0: 480x640 1 person, 2 chairs, 1 tv, 1 laptop, 57.4ms\n",
      "Speed: 0.9ms preprocess, 57.4ms inference, 0.5ms postprocess per image at shape (1, 3, 480, 640)\n",
      "\n",
      "0: 480x640 1 person, 2 chairs, 2 tvs, 53.0ms\n",
      "Speed: 0.9ms preprocess, 53.0ms inference, 0.4ms postprocess per image at shape (1, 3, 480, 640)\n",
      "\n",
      "0: 480x640 1 person, 1 bowl, 2 chairs, 1 tv, 1 laptop, 1 clock, 53.1ms\n",
      "Speed: 1.3ms preprocess, 53.1ms inference, 0.5ms postprocess per image at shape (1, 3, 480, 640)\n"
     ]
    },
    {
     "name": "stdout",
     "output_type": "stream",
     "text": [
      "Confidence ---> 0.81\n",
      "Confidence ---> 0.66\n",
      "Confidence ---> 0.62\n"
     ]
    },
    {
     "name": "stderr",
     "output_type": "stream",
     "text": [
      "\n",
      "0: 480x640 1 person, 1 bowl, 1 chair, 1 tv, 1 laptop, 1 clock, 79.4ms\n",
      "Speed: 1.1ms preprocess, 79.4ms inference, 0.5ms postprocess per image at shape (1, 3, 480, 640)\n",
      "\n",
      "0: 480x640 1 person, 1 bowl, 2 chairs, 2 tvs, 1 laptop, 1 clock, 53.0ms\n",
      "Speed: 1.0ms preprocess, 53.0ms inference, 0.4ms postprocess per image at shape (1, 3, 480, 640)\n",
      "\n",
      "0: 480x640 1 person, 2 chairs, 2 tvs, 1 clock, 52.8ms\n",
      "Speed: 1.1ms preprocess, 52.8ms inference, 0.5ms postprocess per image at shape (1, 3, 480, 640)\n"
     ]
    },
    {
     "name": "stdout",
     "output_type": "stream",
     "text": [
      "Confidence ---> 0.74\n",
      "Confidence ---> 0.67\n",
      "Confidence ---> 0.74\n"
     ]
    },
    {
     "name": "stderr",
     "output_type": "stream",
     "text": [
      "\n",
      "0: 480x640 1 person, 2 chairs, 2 tvs, 2 laptops, 1 clock, 56.9ms\n",
      "Speed: 1.1ms preprocess, 56.9ms inference, 0.5ms postprocess per image at shape (1, 3, 480, 640)\n",
      "\n",
      "0: 480x640 1 person, 1 bowl, 3 chairs, 2 tvs, 2 laptops, 1 clock, 52.1ms\n",
      "Speed: 1.1ms preprocess, 52.1ms inference, 0.5ms postprocess per image at shape (1, 3, 480, 640)\n",
      "\n",
      "0: 480x640 1 person, 1 bowl, 3 chairs, 1 tv, 1 laptop, 1 clock, 51.8ms\n",
      "Speed: 1.0ms preprocess, 51.8ms inference, 0.6ms postprocess per image at shape (1, 3, 480, 640)\n"
     ]
    },
    {
     "name": "stdout",
     "output_type": "stream",
     "text": [
      "Confidence ---> 0.71\n",
      "Confidence ---> 0.81\n",
      "Confidence ---> 0.81\n"
     ]
    },
    {
     "name": "stderr",
     "output_type": "stream",
     "text": [
      "\n",
      "0: 480x640 1 person, 2 chairs, 2 tvs, 2 laptops, 1 clock, 55.2ms\n",
      "Speed: 1.0ms preprocess, 55.2ms inference, 0.4ms postprocess per image at shape (1, 3, 480, 640)\n",
      "\n",
      "0: 480x640 1 person, 2 chairs, 2 tvs, 2 laptops, 1 clock, 52.8ms\n",
      "Speed: 1.1ms preprocess, 52.8ms inference, 0.5ms postprocess per image at shape (1, 3, 480, 640)\n",
      "\n",
      "0: 480x640 1 person, 1 bowl, 1 chair, 1 tv, 3 laptops, 1 clock, 51.6ms\n",
      "Speed: 0.9ms preprocess, 51.6ms inference, 0.4ms postprocess per image at shape (1, 3, 480, 640)\n"
     ]
    },
    {
     "name": "stdout",
     "output_type": "stream",
     "text": [
      "Confidence ---> 0.8\n",
      "Confidence ---> 0.82\n",
      "Confidence ---> 0.75\n"
     ]
    },
    {
     "name": "stderr",
     "output_type": "stream",
     "text": [
      "\n",
      "0: 480x640 1 person, 1 bowl, 1 chair, 1 tv, 3 laptops, 1 clock, 55.2ms\n",
      "Speed: 0.9ms preprocess, 55.2ms inference, 0.6ms postprocess per image at shape (1, 3, 480, 640)\n",
      "\n",
      "0: 480x640 1 person, 1 chair, 1 tv, 2 laptops, 1 clock, 52.4ms\n",
      "Speed: 0.8ms preprocess, 52.4ms inference, 0.5ms postprocess per image at shape (1, 3, 480, 640)\n",
      "\n",
      "0: 480x640 1 person, 2 chairs, 2 tvs, 1 laptop, 1 clock, 53.4ms\n",
      "Speed: 0.8ms preprocess, 53.4ms inference, 0.5ms postprocess per image at shape (1, 3, 480, 640)\n"
     ]
    },
    {
     "name": "stdout",
     "output_type": "stream",
     "text": [
      "Confidence ---> 0.75\n",
      "Confidence ---> 0.65\n",
      "Confidence ---> 0.82\n"
     ]
    },
    {
     "name": "stderr",
     "output_type": "stream",
     "text": [
      "\n",
      "0: 480x640 1 person, 2 chairs, 1 tv, 1 laptop, 1 clock, 55.7ms\n",
      "Speed: 1.0ms preprocess, 55.7ms inference, 0.5ms postprocess per image at shape (1, 3, 480, 640)\n",
      "\n",
      "0: 480x640 1 person, 1 bowl, 1 chair, 2 tvs, 1 laptop, 1 clock, 54.3ms\n",
      "Speed: 1.0ms preprocess, 54.3ms inference, 0.5ms postprocess per image at shape (1, 3, 480, 640)\n",
      "\n",
      "0: 480x640 1 person, 1 bowl, 2 chairs, 1 tv, 1 laptop, 1 clock, 55.2ms\n",
      "Speed: 0.9ms preprocess, 55.2ms inference, 0.5ms postprocess per image at shape (1, 3, 480, 640)\n"
     ]
    },
    {
     "name": "stdout",
     "output_type": "stream",
     "text": [
      "Confidence ---> 0.74\n",
      "Confidence ---> 0.75\n",
      "Confidence ---> 0.75\n"
     ]
    },
    {
     "name": "stderr",
     "output_type": "stream",
     "text": [
      "\n",
      "0: 480x640 2 persons, 1 chair, 1 tv, 2 laptops, 1 clock, 57.3ms\n",
      "Speed: 0.9ms preprocess, 57.3ms inference, 0.5ms postprocess per image at shape (1, 3, 480, 640)\n",
      "\n",
      "0: 480x640 1 person, 1 bowl, 2 chairs, 2 tvs, 2 laptops, 1 clock, 52.2ms\n",
      "Speed: 0.9ms preprocess, 52.2ms inference, 0.5ms postprocess per image at shape (1, 3, 480, 640)\n",
      "\n",
      "0: 480x640 1 person, 1 bowl, 2 chairs, 2 tvs, 2 laptops, 1 clock, 53.9ms\n",
      "Speed: 0.8ms preprocess, 53.9ms inference, 0.5ms postprocess per image at shape (1, 3, 480, 640)\n"
     ]
    },
    {
     "name": "stdout",
     "output_type": "stream",
     "text": [
      "Confidence ---> 0.74\n",
      "Confidence ---> 0.27\n",
      "Confidence ---> 0.66\n",
      "Confidence ---> 0.71\n"
     ]
    },
    {
     "name": "stderr",
     "output_type": "stream",
     "text": [
      "\n",
      "0: 480x640 1 person, 1 bowl, 1 chair, 1 tv, 2 laptops, 1 clock, 58.4ms\n",
      "Speed: 1.0ms preprocess, 58.4ms inference, 0.4ms postprocess per image at shape (1, 3, 480, 640)\n",
      "\n",
      "0: 480x640 1 person, 1 bowl, 2 chairs, 1 tv, 2 laptops, 1 clock, 53.1ms\n",
      "Speed: 1.0ms preprocess, 53.1ms inference, 0.6ms postprocess per image at shape (1, 3, 480, 640)\n",
      "\n",
      "0: 480x640 1 person, 2 chairs, 2 tvs, 1 laptop, 1 clock, 53.1ms\n",
      "Speed: 0.8ms preprocess, 53.1ms inference, 0.5ms postprocess per image at shape (1, 3, 480, 640)\n"
     ]
    },
    {
     "name": "stdout",
     "output_type": "stream",
     "text": [
      "Confidence ---> 0.69\n",
      "Confidence ---> 0.7\n",
      "Confidence ---> 0.66\n"
     ]
    },
    {
     "name": "stderr",
     "output_type": "stream",
     "text": [
      "\n",
      "0: 480x640 2 persons, 1 bowl, 3 chairs, 2 tvs, 2 laptops, 1 clock, 60.3ms\n",
      "Speed: 1.0ms preprocess, 60.3ms inference, 0.6ms postprocess per image at shape (1, 3, 480, 640)\n",
      "\n",
      "0: 480x640 2 persons, 1 bowl, 2 chairs, 2 tvs, 2 laptops, 1 clock, 53.9ms\n",
      "Speed: 1.5ms preprocess, 53.9ms inference, 0.4ms postprocess per image at shape (1, 3, 480, 640)\n",
      "\n",
      "0: 480x640 2 persons, 2 chairs, 2 tvs, 2 laptops, 1 clock, 52.7ms\n",
      "Speed: 0.8ms preprocess, 52.7ms inference, 0.5ms postprocess per image at shape (1, 3, 480, 640)\n"
     ]
    },
    {
     "name": "stdout",
     "output_type": "stream",
     "text": [
      "Confidence ---> 0.72\n",
      "Confidence ---> 0.26\n",
      "Confidence ---> 0.7\n",
      "Confidence ---> 0.26\n",
      "Confidence ---> 0.7\n",
      "Confidence ---> 0.26\n"
     ]
    },
    {
     "name": "stderr",
     "output_type": "stream",
     "text": [
      "\n",
      "0: 480x640 1 person, 2 chairs, 2 tvs, 2 laptops, 1 clock, 57.6ms\n",
      "Speed: 0.9ms preprocess, 57.6ms inference, 0.4ms postprocess per image at shape (1, 3, 480, 640)\n",
      "\n",
      "0: 480x640 1 person, 2 chairs, 2 tvs, 2 laptops, 1 clock, 54.9ms\n",
      "Speed: 0.8ms preprocess, 54.9ms inference, 0.5ms postprocess per image at shape (1, 3, 480, 640)\n",
      "\n",
      "0: 480x640 1 person, 2 chairs, 2 tvs, 2 laptops, 1 clock, 54.3ms\n",
      "Speed: 0.8ms preprocess, 54.3ms inference, 0.5ms postprocess per image at shape (1, 3, 480, 640)\n"
     ]
    },
    {
     "name": "stdout",
     "output_type": "stream",
     "text": [
      "Confidence ---> 0.66\n",
      "Confidence ---> 0.68\n",
      "Confidence ---> 0.59\n"
     ]
    },
    {
     "name": "stderr",
     "output_type": "stream",
     "text": [
      "\n",
      "0: 480x640 1 person, 1 bowl, 2 chairs, 2 tvs, 2 laptops, 1 clock, 63.0ms\n",
      "Speed: 1.4ms preprocess, 63.0ms inference, 0.5ms postprocess per image at shape (1, 3, 480, 640)\n",
      "\n",
      "0: 480x640 1 person, 1 bowl, 2 chairs, 1 tv, 2 laptops, 1 clock, 72.0ms\n",
      "Speed: 0.8ms preprocess, 72.0ms inference, 0.6ms postprocess per image at shape (1, 3, 480, 640)\n",
      "\n",
      "0: 480x640 1 person, 2 chairs, 1 tv, 2 laptops, 1 clock, 53.4ms\n",
      "Speed: 0.8ms preprocess, 53.4ms inference, 0.6ms postprocess per image at shape (1, 3, 480, 640)\n"
     ]
    },
    {
     "name": "stdout",
     "output_type": "stream",
     "text": [
      "Confidence ---> 0.64\n",
      "Confidence ---> 0.62\n",
      "Confidence ---> 0.61\n"
     ]
    },
    {
     "name": "stderr",
     "output_type": "stream",
     "text": [
      "\n",
      "0: 480x640 1 person, 1 bowl, 2 chairs, 2 tvs, 2 laptops, 1 clock, 57.4ms\n",
      "Speed: 0.9ms preprocess, 57.4ms inference, 0.5ms postprocess per image at shape (1, 3, 480, 640)\n",
      "\n",
      "0: 480x640 1 person, 1 bowl, 2 chairs, 1 tv, 2 laptops, 1 clock, 53.0ms\n",
      "Speed: 1.0ms preprocess, 53.0ms inference, 0.4ms postprocess per image at shape (1, 3, 480, 640)\n",
      "\n",
      "0: 480x640 1 person, 1 bowl, 2 chairs, 2 tvs, 2 laptops, 1 clock, 51.8ms\n",
      "Speed: 0.8ms preprocess, 51.8ms inference, 0.4ms postprocess per image at shape (1, 3, 480, 640)\n"
     ]
    },
    {
     "name": "stdout",
     "output_type": "stream",
     "text": [
      "Confidence ---> 0.61\n",
      "Confidence ---> 0.58\n",
      "Confidence ---> 0.68\n"
     ]
    },
    {
     "name": "stderr",
     "output_type": "stream",
     "text": [
      "\n",
      "0: 480x640 1 person, 2 chairs, 2 tvs, 2 laptops, 1 clock, 56.8ms\n",
      "Speed: 1.0ms preprocess, 56.8ms inference, 0.5ms postprocess per image at shape (1, 3, 480, 640)\n",
      "\n",
      "0: 480x640 1 person, 1 bowl, 2 chairs, 1 tv, 2 laptops, 1 clock, 51.9ms\n",
      "Speed: 0.9ms preprocess, 51.9ms inference, 0.5ms postprocess per image at shape (1, 3, 480, 640)\n",
      "\n",
      "0: 480x640 1 person, 1 bowl, 2 chairs, 1 tv, 1 laptop, 1 clock, 53.2ms\n",
      "Speed: 1.2ms preprocess, 53.2ms inference, 0.5ms postprocess per image at shape (1, 3, 480, 640)\n"
     ]
    },
    {
     "name": "stdout",
     "output_type": "stream",
     "text": [
      "Confidence ---> 0.6\n",
      "Confidence ---> 0.67\n",
      "Confidence ---> 0.68\n"
     ]
    },
    {
     "name": "stderr",
     "output_type": "stream",
     "text": [
      "\n",
      "0: 480x640 1 person, 1 bowl, 2 chairs, 1 tv, 2 laptops, 1 clock, 55.4ms\n",
      "Speed: 1.1ms preprocess, 55.4ms inference, 0.5ms postprocess per image at shape (1, 3, 480, 640)\n",
      "\n",
      "0: 480x640 1 person, 2 chairs, 2 tvs, 2 laptops, 1 clock, 51.9ms\n",
      "Speed: 1.0ms preprocess, 51.9ms inference, 0.4ms postprocess per image at shape (1, 3, 480, 640)\n",
      "\n"
     ]
    },
    {
     "name": "stdout",
     "output_type": "stream",
     "text": [
      "Confidence ---> 0.71\n",
      "Confidence ---> 0.67\n"
     ]
    },
    {
     "name": "stderr",
     "output_type": "stream",
     "text": [
      "0: 480x640 1 person, 1 bowl, 2 chairs, 2 tvs, 2 laptops, 1 clock, 54.2ms\n",
      "Speed: 0.9ms preprocess, 54.2ms inference, 0.4ms postprocess per image at shape (1, 3, 480, 640)\n",
      "\n",
      "0: 480x640 1 person, 2 chairs, 2 tvs, 2 laptops, 1 clock, 52.0ms\n",
      "Speed: 1.2ms preprocess, 52.0ms inference, 0.4ms postprocess per image at shape (1, 3, 480, 640)\n",
      "\n",
      "0: 480x640 1 person, 1 bowl, 2 chairs, 2 tvs, 2 laptops, 1 clock, 52.1ms\n",
      "Speed: 1.1ms preprocess, 52.1ms inference, 0.4ms postprocess per image at shape (1, 3, 480, 640)\n"
     ]
    },
    {
     "name": "stdout",
     "output_type": "stream",
     "text": [
      "Confidence ---> 0.66\n",
      "Confidence ---> 0.66\n",
      "Confidence ---> 0.68\n"
     ]
    },
    {
     "name": "stderr",
     "output_type": "stream",
     "text": [
      "\n",
      "0: 480x640 1 person, 1 bowl, 2 chairs, 1 tv, 2 laptops, 1 clock, 56.2ms\n",
      "Speed: 1.0ms preprocess, 56.2ms inference, 0.5ms postprocess per image at shape (1, 3, 480, 640)\n",
      "\n",
      "0: 480x640 1 person, 2 chairs, 1 tv, 2 laptops, 1 clock, 51.5ms\n",
      "Speed: 0.8ms preprocess, 51.5ms inference, 0.5ms postprocess per image at shape (1, 3, 480, 640)\n",
      "\n",
      "0: 480x640 1 person, 2 chairs, 2 tvs, 2 laptops, 1 clock, 53.8ms\n",
      "Speed: 0.8ms preprocess, 53.8ms inference, 0.4ms postprocess per image at shape (1, 3, 480, 640)\n"
     ]
    },
    {
     "name": "stdout",
     "output_type": "stream",
     "text": [
      "Confidence ---> 0.68\n",
      "Confidence ---> 0.69\n",
      "Confidence ---> 0.67\n"
     ]
    },
    {
     "name": "stderr",
     "output_type": "stream",
     "text": [
      "\n",
      "0: 480x640 1 person, 1 bowl, 2 chairs, 1 tv, 2 laptops, 1 clock, 55.3ms\n",
      "Speed: 1.1ms preprocess, 55.3ms inference, 0.4ms postprocess per image at shape (1, 3, 480, 640)\n",
      "\n",
      "0: 480x640 1 person, 1 bowl, 3 chairs, 2 tvs, 2 laptops, 1 clock, 52.6ms\n",
      "Speed: 0.9ms preprocess, 52.6ms inference, 0.4ms postprocess per image at shape (1, 3, 480, 640)\n",
      "\n",
      "0: 480x640 1 person, 1 chair, 2 tvs, 2 laptops, 1 clock, 52.0ms\n",
      "Speed: 1.1ms preprocess, 52.0ms inference, 0.4ms postprocess per image at shape (1, 3, 480, 640)\n",
      "\n"
     ]
    },
    {
     "name": "stdout",
     "output_type": "stream",
     "text": [
      "Confidence ---> 0.74\n",
      "Confidence ---> 0.67\n",
      "Confidence ---> 0.7\n"
     ]
    },
    {
     "name": "stderr",
     "output_type": "stream",
     "text": [
      "0: 480x640 1 person, 2 chairs, 2 tvs, 2 laptops, 1 clock, 56.2ms\n",
      "Speed: 1.2ms preprocess, 56.2ms inference, 0.4ms postprocess per image at shape (1, 3, 480, 640)\n",
      "\n",
      "0: 480x640 1 person, 2 chairs, 2 tvs, 2 laptops, 1 clock, 52.2ms\n",
      "Speed: 0.8ms preprocess, 52.2ms inference, 0.4ms postprocess per image at shape (1, 3, 480, 640)\n",
      "\n"
     ]
    },
    {
     "name": "stdout",
     "output_type": "stream",
     "text": [
      "Confidence ---> 0.63\n",
      "Confidence ---> 0.64\n"
     ]
    },
    {
     "name": "stderr",
     "output_type": "stream",
     "text": [
      "0: 480x640 1 person, 1 bowl, 1 chair, 1 tv, 2 laptops, 1 clock, 64.3ms\n",
      "Speed: 2.5ms preprocess, 64.3ms inference, 0.5ms postprocess per image at shape (1, 3, 480, 640)\n",
      "\n",
      "0: 480x640 1 person, 1 bowl, 1 chair, 1 tv, 2 laptops, 1 clock, 54.7ms\n",
      "Speed: 1.1ms preprocess, 54.7ms inference, 0.4ms postprocess per image at shape (1, 3, 480, 640)\n",
      "\n",
      "0: 480x640 1 person, 1 bowl, 2 chairs, 1 tv, 2 laptops, 1 clock, 50.5ms\n",
      "Speed: 0.9ms preprocess, 50.5ms inference, 0.4ms postprocess per image at shape (1, 3, 480, 640)\n",
      "\n"
     ]
    },
    {
     "name": "stdout",
     "output_type": "stream",
     "text": [
      "Confidence ---> 0.65\n",
      "Confidence ---> 0.69\n",
      "Confidence ---> 0.69\n"
     ]
    },
    {
     "name": "stderr",
     "output_type": "stream",
     "text": [
      "0: 480x640 1 person, 1 chair, 1 tv, 2 laptops, 1 clock, 58.5ms\n",
      "Speed: 1.2ms preprocess, 58.5ms inference, 0.5ms postprocess per image at shape (1, 3, 480, 640)\n",
      "\n",
      "0: 480x640 1 person, 2 chairs, 1 tv, 1 laptop, 1 clock, 55.4ms\n",
      "Speed: 0.8ms preprocess, 55.4ms inference, 0.5ms postprocess per image at shape (1, 3, 480, 640)\n",
      "\n",
      "0: 480x640 1 person, 1 bowl, 1 chair, 1 tv, 2 laptops, 1 clock, 52.0ms\n",
      "Speed: 0.8ms preprocess, 52.0ms inference, 0.5ms postprocess per image at shape (1, 3, 480, 640)\n"
     ]
    },
    {
     "name": "stdout",
     "output_type": "stream",
     "text": [
      "Confidence ---> 0.73\n",
      "Confidence ---> 0.67\n",
      "Confidence ---> 0.69\n"
     ]
    },
    {
     "name": "stderr",
     "output_type": "stream",
     "text": [
      "\n",
      "0: 480x640 1 person, 1 bowl, 2 chairs, 1 tv, 2 laptops, 1 clock, 55.2ms\n",
      "Speed: 0.8ms preprocess, 55.2ms inference, 0.5ms postprocess per image at shape (1, 3, 480, 640)\n",
      "\n",
      "0: 480x640 1 person, 3 chairs, 1 tv, 2 laptops, 1 clock, 52.6ms\n",
      "Speed: 1.0ms preprocess, 52.6ms inference, 0.5ms postprocess per image at shape (1, 3, 480, 640)\n",
      "\n"
     ]
    },
    {
     "name": "stdout",
     "output_type": "stream",
     "text": [
      "Confidence ---> 0.66\n",
      "Confidence ---> 0.61\n"
     ]
    },
    {
     "name": "stderr",
     "output_type": "stream",
     "text": [
      "0: 480x640 1 person, 3 chairs, 1 tv, 2 laptops, 1 clock, 53.6ms\n",
      "Speed: 0.8ms preprocess, 53.6ms inference, 0.7ms postprocess per image at shape (1, 3, 480, 640)\n",
      "\n",
      "0: 480x640 1 person, 2 chairs, 1 tv, 2 laptops, 1 clock, 54.5ms\n",
      "Speed: 1.0ms preprocess, 54.5ms inference, 0.6ms postprocess per image at shape (1, 3, 480, 640)\n",
      "\n",
      "0: 480x640 1 person, 1 bowl, 3 chairs, 2 tvs, 2 laptops, 1 clock, 52.9ms\n",
      "Speed: 1.0ms preprocess, 52.9ms inference, 0.5ms postprocess per image at shape (1, 3, 480, 640)\n"
     ]
    },
    {
     "name": "stdout",
     "output_type": "stream",
     "text": [
      "Confidence ---> 0.67\n",
      "Confidence ---> 0.71\n",
      "Confidence ---> 0.66\n"
     ]
    },
    {
     "name": "stderr",
     "output_type": "stream",
     "text": [
      "\n",
      "0: 480x640 1 person, 1 bowl, 1 chair, 1 tv, 2 laptops, 1 clock, 59.2ms\n",
      "Speed: 1.1ms preprocess, 59.2ms inference, 0.6ms postprocess per image at shape (1, 3, 480, 640)\n",
      "\n",
      "0: 480x640 2 persons, 1 chair, 1 tv, 2 laptops, 1 clock, 57.1ms\n",
      "Speed: 0.9ms preprocess, 57.1ms inference, 0.5ms postprocess per image at shape (1, 3, 480, 640)\n",
      "\n",
      "0: 480x640 1 person, 2 chairs, 2 tvs, 2 laptops, 1 clock, 56.5ms\n",
      "Speed: 0.7ms preprocess, 56.5ms inference, 0.5ms postprocess per image at shape (1, 3, 480, 640)\n"
     ]
    },
    {
     "name": "stdout",
     "output_type": "stream",
     "text": [
      "Confidence ---> 0.71\n",
      "Confidence ---> 0.69\n",
      "Confidence ---> 0.26\n",
      "Confidence ---> 0.66\n"
     ]
    },
    {
     "name": "stderr",
     "output_type": "stream",
     "text": [
      "\n",
      "0: 480x640 1 person, 2 chairs, 1 tv, 1 clock, 63.1ms\n",
      "Speed: 1.1ms preprocess, 63.1ms inference, 0.5ms postprocess per image at shape (1, 3, 480, 640)\n",
      "\n",
      "0: 480x640 1 person, 1 bowl, 2 chairs, 1 tv, 1 laptop, 1 clock, 57.7ms\n",
      "Speed: 0.9ms preprocess, 57.7ms inference, 0.6ms postprocess per image at shape (1, 3, 480, 640)\n",
      "\n",
      "0: 480x640 1 person, 1 bowl, 2 chairs, 1 tv, 1 laptop, 1 clock, 55.0ms\n",
      "Speed: 0.9ms preprocess, 55.0ms inference, 0.4ms postprocess per image at shape (1, 3, 480, 640)\n"
     ]
    },
    {
     "name": "stdout",
     "output_type": "stream",
     "text": [
      "Confidence ---> 0.71\n",
      "Confidence ---> 0.65\n",
      "Confidence ---> 0.67\n"
     ]
    },
    {
     "name": "stderr",
     "output_type": "stream",
     "text": [
      "\n",
      "0: 480x640 1 person, 2 chairs, 1 tv, 2 laptops, 1 clock, 63.5ms\n",
      "Speed: 0.8ms preprocess, 63.5ms inference, 0.5ms postprocess per image at shape (1, 3, 480, 640)\n",
      "\n",
      "0: 480x640 1 person, 1 chair, 1 tv, 1 laptop, 1 clock, 54.4ms\n",
      "Speed: 1.1ms preprocess, 54.4ms inference, 0.4ms postprocess per image at shape (1, 3, 480, 640)\n",
      "\n",
      "0: 480x640 1 person, 2 chairs, 1 tv, 2 laptops, 1 clock, 55.9ms\n",
      "Speed: 0.8ms preprocess, 55.9ms inference, 0.5ms postprocess per image at shape (1, 3, 480, 640)\n"
     ]
    },
    {
     "name": "stdout",
     "output_type": "stream",
     "text": [
      "Confidence ---> 0.6\n",
      "Confidence ---> 0.69\n",
      "Confidence ---> 0.62\n"
     ]
    },
    {
     "name": "stderr",
     "output_type": "stream",
     "text": [
      "\n",
      "0: 480x640 1 person, 2 chairs, 2 tvs, 1 laptop, 1 clock, 57.2ms\n",
      "Speed: 1.1ms preprocess, 57.2ms inference, 0.4ms postprocess per image at shape (1, 3, 480, 640)\n",
      "\n",
      "0: 480x640 1 person, 1 bowl, 2 chairs, 2 tvs, 1 laptop, 1 clock, 76.7ms\n",
      "Speed: 1.0ms preprocess, 76.7ms inference, 0.6ms postprocess per image at shape (1, 3, 480, 640)\n",
      "\n"
     ]
    },
    {
     "name": "stdout",
     "output_type": "stream",
     "text": [
      "Confidence ---> 0.63\n",
      "Confidence ---> 0.68\n",
      "Confidence ---> 0.64\n"
     ]
    },
    {
     "name": "stderr",
     "output_type": "stream",
     "text": [
      "0: 480x640 1 person, 1 bowl, 2 chairs, 1 tv, 2 laptops, 1 clock, 58.1ms\n",
      "Speed: 0.9ms preprocess, 58.1ms inference, 0.5ms postprocess per image at shape (1, 3, 480, 640)\n",
      "\n",
      "0: 480x640 1 person, 1 chair, 2 tvs, 2 laptops, 1 clock, 57.5ms\n",
      "Speed: 0.9ms preprocess, 57.5ms inference, 0.5ms postprocess per image at shape (1, 3, 480, 640)\n",
      "\n",
      "0: 480x640 1 person, 2 chairs, 2 tvs, 1 clock, 56.5ms\n",
      "Speed: 1.2ms preprocess, 56.5ms inference, 0.5ms postprocess per image at shape (1, 3, 480, 640)\n",
      "\n",
      "0: 480x640 1 person, 1 chair, 1 tv, 1 laptop, 1 clock, 54.2ms\n",
      "Speed: 0.9ms preprocess, 54.2ms inference, 0.5ms postprocess per image at shape (1, 3, 480, 640)\n"
     ]
    },
    {
     "name": "stdout",
     "output_type": "stream",
     "text": [
      "Confidence ---> 0.64\n",
      "Confidence ---> 0.63\n",
      "Confidence ---> 0.68\n"
     ]
    },
    {
     "name": "stderr",
     "output_type": "stream",
     "text": [
      "\n",
      "0: 480x640 1 person, 1 bowl, 1 chair, 2 tvs, 2 laptops, 1 clock, 60.6ms\n",
      "Speed: 0.9ms preprocess, 60.6ms inference, 0.6ms postprocess per image at shape (1, 3, 480, 640)\n",
      "\n",
      "0: 480x640 1 person, 1 chair, 1 tv, 1 laptop, 1 clock, 55.5ms\n",
      "Speed: 0.8ms preprocess, 55.5ms inference, 0.5ms postprocess per image at shape (1, 3, 480, 640)\n",
      "\n",
      "0: 480x640 1 person, 1 chair, 1 tv, 2 laptops, 1 clock, 55.5ms\n",
      "Speed: 0.9ms preprocess, 55.5ms inference, 0.4ms postprocess per image at shape (1, 3, 480, 640)\n"
     ]
    },
    {
     "name": "stdout",
     "output_type": "stream",
     "text": [
      "Confidence ---> 0.66\n",
      "Confidence ---> 0.57\n",
      "Confidence ---> 0.66\n"
     ]
    },
    {
     "name": "stderr",
     "output_type": "stream",
     "text": [
      "\n",
      "0: 480x640 1 person, 1 bowl, 2 chairs, 1 tv, 1 laptop, 1 clock, 58.1ms\n",
      "Speed: 1.2ms preprocess, 58.1ms inference, 0.5ms postprocess per image at shape (1, 3, 480, 640)\n",
      "\n",
      "0: 480x640 1 person, 1 bowl, 1 chair, 2 tvs, 1 laptop, 1 clock, 56.7ms\n",
      "Speed: 1.0ms preprocess, 56.7ms inference, 0.6ms postprocess per image at shape (1, 3, 480, 640)\n",
      "\n",
      "0: 480x640 1 person, 1 bowl, 1 chair, 1 tv, 2 laptops, 1 clock, 55.6ms\n",
      "Speed: 1.1ms preprocess, 55.6ms inference, 0.6ms postprocess per image at shape (1, 3, 480, 640)\n"
     ]
    },
    {
     "name": "stdout",
     "output_type": "stream",
     "text": [
      "Confidence ---> 0.61\n",
      "Confidence ---> 0.65\n",
      "Confidence ---> 0.63\n"
     ]
    },
    {
     "name": "stderr",
     "output_type": "stream",
     "text": [
      "\n",
      "0: 480x640 1 person, 2 chairs, 2 tvs, 2 laptops, 1 clock, 55.0ms\n",
      "Speed: 1.1ms preprocess, 55.0ms inference, 0.5ms postprocess per image at shape (1, 3, 480, 640)\n",
      "\n",
      "0: 480x640 1 person, 2 chairs, 2 tvs, 2 laptops, 1 clock, 53.2ms\n",
      "Speed: 0.8ms preprocess, 53.2ms inference, 0.5ms postprocess per image at shape (1, 3, 480, 640)\n",
      "\n"
     ]
    },
    {
     "name": "stdout",
     "output_type": "stream",
     "text": [
      "Confidence ---> 0.64\n",
      "Confidence ---> 0.65\n"
     ]
    },
    {
     "name": "stderr",
     "output_type": "stream",
     "text": [
      "0: 480x640 1 person, 1 bowl, 3 chairs, 1 tv, 2 laptops, 1 clock, 56.0ms\n",
      "Speed: 0.8ms preprocess, 56.0ms inference, 0.6ms postprocess per image at shape (1, 3, 480, 640)\n",
      "\n",
      "0: 480x640 1 person, 1 bowl, 2 chairs, 1 tv, 1 laptop, 1 clock, 56.3ms\n",
      "Speed: 1.3ms preprocess, 56.3ms inference, 0.9ms postprocess per image at shape (1, 3, 480, 640)\n",
      "\n",
      "0: 480x640 1 person, 3 chairs, 1 tv, 2 laptops, 1 clock, 52.6ms\n",
      "Speed: 0.8ms preprocess, 52.6ms inference, 0.4ms postprocess per image at shape (1, 3, 480, 640)\n"
     ]
    },
    {
     "name": "stdout",
     "output_type": "stream",
     "text": [
      "Confidence ---> 0.68\n",
      "Confidence ---> 0.63\n",
      "Confidence ---> 0.63\n"
     ]
    },
    {
     "name": "stderr",
     "output_type": "stream",
     "text": [
      "\n",
      "0: 480x640 1 person, 2 chairs, 1 tv, 1 laptop, 1 clock, 54.8ms\n",
      "Speed: 1.1ms preprocess, 54.8ms inference, 0.6ms postprocess per image at shape (1, 3, 480, 640)\n",
      "\n",
      "0: 480x640 1 person, 2 chairs, 2 tvs, 2 laptops, 1 clock, 55.0ms\n",
      "Speed: 1.0ms preprocess, 55.0ms inference, 0.5ms postprocess per image at shape (1, 3, 480, 640)\n",
      "\n"
     ]
    },
    {
     "name": "stdout",
     "output_type": "stream",
     "text": [
      "Confidence ---> 0.63\n",
      "Confidence ---> 0.64\n"
     ]
    },
    {
     "name": "stderr",
     "output_type": "stream",
     "text": [
      "0: 480x640 1 person, 1 bowl, 2 chairs, 1 tv, 2 laptops, 1 clock, 59.1ms\n",
      "Speed: 0.8ms preprocess, 59.1ms inference, 0.6ms postprocess per image at shape (1, 3, 480, 640)\n",
      "\n",
      "0: 480x640 1 person, 1 bowl, 1 chair, 2 tvs, 1 laptop, 1 clock, 55.4ms\n",
      "Speed: 1.0ms preprocess, 55.4ms inference, 0.5ms postprocess per image at shape (1, 3, 480, 640)\n",
      "\n",
      "0: 480x640 1 person, 2 chairs, 2 tvs, 1 laptop, 1 clock, 53.6ms\n",
      "Speed: 0.9ms preprocess, 53.6ms inference, 0.5ms postprocess per image at shape (1, 3, 480, 640)\n"
     ]
    },
    {
     "name": "stdout",
     "output_type": "stream",
     "text": [
      "Confidence ---> 0.65\n",
      "Confidence ---> 0.64\n",
      "Confidence ---> 0.68\n"
     ]
    },
    {
     "name": "stderr",
     "output_type": "stream",
     "text": [
      "\n",
      "0: 480x640 1 person, 2 chairs, 2 tvs, 2 laptops, 1 clock, 82.1ms\n",
      "Speed: 1.1ms preprocess, 82.1ms inference, 0.5ms postprocess per image at shape (1, 3, 480, 640)\n",
      "\n",
      "0: 480x640 1 person, 1 bowl, 1 chair, 1 tv, 1 laptop, 1 clock, 53.0ms\n",
      "Speed: 1.0ms preprocess, 53.0ms inference, 0.4ms postprocess per image at shape (1, 3, 480, 640)\n",
      "\n"
     ]
    },
    {
     "name": "stdout",
     "output_type": "stream",
     "text": [
      "Confidence ---> 0.65\n",
      "Confidence ---> 0.65\n"
     ]
    },
    {
     "name": "stderr",
     "output_type": "stream",
     "text": [
      "0: 480x640 1 person, 1 bowl, 1 chair, 1 tv, 1 laptop, 1 clock, 51.5ms\n",
      "Speed: 0.8ms preprocess, 51.5ms inference, 0.5ms postprocess per image at shape (1, 3, 480, 640)\n",
      "\n",
      "0: 480x640 1 person, 2 chairs, 2 tvs, 2 laptops, 1 clock, 54.3ms\n",
      "Speed: 1.1ms preprocess, 54.3ms inference, 0.4ms postprocess per image at shape (1, 3, 480, 640)\n",
      "\n"
     ]
    },
    {
     "name": "stdout",
     "output_type": "stream",
     "text": [
      "Confidence ---> 0.69\n",
      "Confidence ---> 0.66\n"
     ]
    },
    {
     "name": "stderr",
     "output_type": "stream",
     "text": [
      "0: 480x640 1 person, 2 chairs, 2 tvs, 2 laptops, 1 clock, 51.5ms\n",
      "Speed: 1.0ms preprocess, 51.5ms inference, 0.8ms postprocess per image at shape (1, 3, 480, 640)\n",
      "\n",
      "0: 480x640 1 person, 1 bowl, 2 chairs, 2 tvs, 1 laptop, 1 clock, 52.5ms\n",
      "Speed: 0.9ms preprocess, 52.5ms inference, 0.5ms postprocess per image at shape (1, 3, 480, 640)\n",
      "\n"
     ]
    },
    {
     "name": "stdout",
     "output_type": "stream",
     "text": [
      "Confidence ---> 0.61\n",
      "Confidence ---> 0.65\n"
     ]
    },
    {
     "name": "stderr",
     "output_type": "stream",
     "text": [
      "0: 480x640 1 person, 1 bowl, 1 chair, 2 tvs, 1 laptop, 1 clock, 63.6ms\n",
      "Speed: 1.0ms preprocess, 63.6ms inference, 0.5ms postprocess per image at shape (1, 3, 480, 640)\n",
      "\n",
      "0: 480x640 1 person, 2 chairs, 2 tvs, 1 laptop, 1 clock, 61.3ms\n",
      "Speed: 1.2ms preprocess, 61.3ms inference, 0.7ms postprocess per image at shape (1, 3, 480, 640)\n",
      "\n",
      "0: 480x640 1 person, 2 chairs, 2 tvs, 1 laptop, 1 clock, 52.5ms\n",
      "Speed: 1.1ms preprocess, 52.5ms inference, 0.4ms postprocess per image at shape (1, 3, 480, 640)\n"
     ]
    },
    {
     "name": "stdout",
     "output_type": "stream",
     "text": [
      "Confidence ---> 0.67\n",
      "Confidence ---> 0.67\n",
      "Confidence ---> 0.69\n"
     ]
    },
    {
     "name": "stderr",
     "output_type": "stream",
     "text": [
      "\n",
      "0: 480x640 1 person, 2 chairs, 2 tvs, 1 laptop, 1 clock, 56.2ms\n",
      "Speed: 1.0ms preprocess, 56.2ms inference, 0.5ms postprocess per image at shape (1, 3, 480, 640)\n",
      "\n",
      "0: 480x640 1 person, 2 chairs, 1 tv, 2 laptops, 1 clock, 53.2ms\n",
      "Speed: 1.0ms preprocess, 53.2ms inference, 0.5ms postprocess per image at shape (1, 3, 480, 640)\n",
      "\n",
      "0: 480x640 1 person, 1 bowl, 2 chairs, 1 tv, 1 clock, 52.9ms\n",
      "Speed: 0.9ms preprocess, 52.9ms inference, 0.5ms postprocess per image at shape (1, 3, 480, 640)\n"
     ]
    },
    {
     "name": "stdout",
     "output_type": "stream",
     "text": [
      "Confidence ---> 0.68\n",
      "Confidence ---> 0.69\n",
      "Confidence ---> 0.66\n"
     ]
    },
    {
     "name": "stderr",
     "output_type": "stream",
     "text": [
      "\n",
      "0: 480x640 1 person, 2 chairs, 1 tv, 1 clock, 56.8ms\n",
      "Speed: 1.0ms preprocess, 56.8ms inference, 0.4ms postprocess per image at shape (1, 3, 480, 640)\n",
      "\n",
      "0: 480x640 1 person, 2 chairs, 1 tv, 2 laptops, 1 clock, 54.9ms\n",
      "Speed: 0.8ms preprocess, 54.9ms inference, 0.4ms postprocess per image at shape (1, 3, 480, 640)\n",
      "\n"
     ]
    },
    {
     "name": "stdout",
     "output_type": "stream",
     "text": [
      "Confidence ---> 0.63\n",
      "Confidence ---> 0.62\n"
     ]
    },
    {
     "name": "stderr",
     "output_type": "stream",
     "text": [
      "0: 480x640 1 person, 1 bowl, 2 chairs, 2 tvs, 2 laptops, 1 clock, 59.6ms\n",
      "Speed: 1.2ms preprocess, 59.6ms inference, 0.6ms postprocess per image at shape (1, 3, 480, 640)\n",
      "\n",
      "0: 480x640 1 person, 1 bowl, 1 chair, 1 tv, 1 laptop, 1 clock, 52.1ms\n",
      "Speed: 1.1ms preprocess, 52.1ms inference, 0.4ms postprocess per image at shape (1, 3, 480, 640)\n",
      "\n",
      "0: 480x640 1 person, 1 bowl, 1 chair, 1 tv, 2 laptops, 1 clock, 53.9ms\n",
      "Speed: 0.9ms preprocess, 53.9ms inference, 0.4ms postprocess per image at shape (1, 3, 480, 640)\n"
     ]
    },
    {
     "name": "stdout",
     "output_type": "stream",
     "text": [
      "Confidence ---> 0.64\n",
      "Confidence ---> 0.64\n",
      "Confidence ---> 0.69\n"
     ]
    },
    {
     "name": "stderr",
     "output_type": "stream",
     "text": [
      "\n",
      "0: 480x640 1 person, 2 chairs, 2 tvs, 2 laptops, 1 clock, 55.8ms\n",
      "Speed: 1.0ms preprocess, 55.8ms inference, 0.7ms postprocess per image at shape (1, 3, 480, 640)\n",
      "\n",
      "0: 480x640 1 person, 1 chair, 1 tv, 2 laptops, 1 clock, 54.1ms\n",
      "Speed: 0.8ms preprocess, 54.1ms inference, 0.4ms postprocess per image at shape (1, 3, 480, 640)\n",
      "\n",
      "0: 480x640 1 person, 1 bowl, 1 chair, 2 tvs, 1 laptop, 1 clock, 51.5ms\n",
      "Speed: 0.8ms preprocess, 51.5ms inference, 0.4ms postprocess per image at shape (1, 3, 480, 640)\n"
     ]
    },
    {
     "name": "stdout",
     "output_type": "stream",
     "text": [
      "Confidence ---> 0.63\n",
      "Confidence ---> 0.64\n",
      "Confidence ---> 0.68\n"
     ]
    },
    {
     "name": "stderr",
     "output_type": "stream",
     "text": [
      "\n",
      "0: 480x640 1 person, 1 bowl, 3 chairs, 1 tv, 1 laptop, 1 clock, 80.8ms\n",
      "Speed: 1.0ms preprocess, 80.8ms inference, 0.4ms postprocess per image at shape (1, 3, 480, 640)\n",
      "\n",
      "0: 480x640 1 person, 1 bowl, 2 chairs, 2 tvs, 2 laptops, 1 clock, 54.6ms\n",
      "Speed: 0.8ms preprocess, 54.6ms inference, 0.5ms postprocess per image at shape (1, 3, 480, 640)\n",
      "\n",
      "0: 480x640 1 person, 1 chair, 2 tvs, 2 laptops, 1 clock, 55.4ms\n",
      "Speed: 0.9ms preprocess, 55.4ms inference, 0.5ms postprocess per image at shape (1, 3, 480, 640)\n"
     ]
    },
    {
     "name": "stdout",
     "output_type": "stream",
     "text": [
      "Confidence ---> 0.66\n",
      "Confidence ---> 0.66\n",
      "Confidence ---> 0.69\n"
     ]
    },
    {
     "name": "stderr",
     "output_type": "stream",
     "text": [
      "\n"
     ]
    },
    {
     "ename": "KeyboardInterrupt",
     "evalue": "",
     "output_type": "error",
     "traceback": [
      "\u001b[0;31m---------------------------------------------------------------------------\u001b[0m",
      "\u001b[0;31mKeyboardInterrupt\u001b[0m                         Traceback (most recent call last)",
      "\u001b[1;32m/Users/being/Desktop/[github] workspace/open_URIs/webcam-yolo_v2.ipynb 셀 4\u001b[0m line \u001b[0;36m4\n\u001b[1;32m     <a href='vscode-notebook-cell:/Users/being/Desktop/%5Bgithub%5D%20workspace/open_URIs/webcam-yolo_v2.ipynb#W5sZmlsZQ%3D%3D?line=37'>38</a>\u001b[0m current_time \u001b[39m=\u001b[39m time\u001b[39m.\u001b[39mtime()\n\u001b[1;32m     <a href='vscode-notebook-cell:/Users/being/Desktop/%5Bgithub%5D%20workspace/open_URIs/webcam-yolo_v2.ipynb#W5sZmlsZQ%3D%3D?line=39'>40</a>\u001b[0m \u001b[39m# coordinates\u001b[39;00m\n\u001b[0;32m---> <a href='vscode-notebook-cell:/Users/being/Desktop/%5Bgithub%5D%20workspace/open_URIs/webcam-yolo_v2.ipynb#W5sZmlsZQ%3D%3D?line=40'>41</a>\u001b[0m \u001b[39mfor\u001b[39;00m r \u001b[39min\u001b[39;00m results:\n\u001b[1;32m     <a href='vscode-notebook-cell:/Users/being/Desktop/%5Bgithub%5D%20workspace/open_URIs/webcam-yolo_v2.ipynb#W5sZmlsZQ%3D%3D?line=41'>42</a>\u001b[0m     boxes \u001b[39m=\u001b[39m r\u001b[39m.\u001b[39mboxes\n\u001b[1;32m     <a href='vscode-notebook-cell:/Users/being/Desktop/%5Bgithub%5D%20workspace/open_URIs/webcam-yolo_v2.ipynb#W5sZmlsZQ%3D%3D?line=43'>44</a>\u001b[0m     \u001b[39mfor\u001b[39;00m box \u001b[39min\u001b[39;00m boxes:\n\u001b[1;32m     <a href='vscode-notebook-cell:/Users/being/Desktop/%5Bgithub%5D%20workspace/open_URIs/webcam-yolo_v2.ipynb#W5sZmlsZQ%3D%3D?line=44'>45</a>\u001b[0m         \u001b[39m# class name\u001b[39;00m\n",
      "File \u001b[0;32m~/Library/Python/3.9/lib/python/site-packages/torch/utils/_contextlib.py:35\u001b[0m, in \u001b[0;36m_wrap_generator.<locals>.generator_context\u001b[0;34m(*args, **kwargs)\u001b[0m\n\u001b[1;32m     32\u001b[0m \u001b[39mtry\u001b[39;00m:\n\u001b[1;32m     33\u001b[0m     \u001b[39m# Issuing `None` to a generator fires it up\u001b[39;00m\n\u001b[1;32m     34\u001b[0m     \u001b[39mwith\u001b[39;00m ctx_factory():\n\u001b[0;32m---> 35\u001b[0m         response \u001b[39m=\u001b[39m gen\u001b[39m.\u001b[39;49msend(\u001b[39mNone\u001b[39;49;00m)\n\u001b[1;32m     37\u001b[0m     \u001b[39mwhile\u001b[39;00m \u001b[39mTrue\u001b[39;00m:\n\u001b[1;32m     38\u001b[0m         \u001b[39mtry\u001b[39;00m:\n\u001b[1;32m     39\u001b[0m             \u001b[39m# Forward the response to our caller and get its next request\u001b[39;00m\n",
      "File \u001b[0;32m~/Library/Python/3.9/lib/python/site-packages/ultralytics/engine/predictor.py:255\u001b[0m, in \u001b[0;36mBasePredictor.stream_inference\u001b[0;34m(self, source, model, *args, **kwargs)\u001b[0m\n\u001b[1;32m    253\u001b[0m \u001b[39m# Preprocess\u001b[39;00m\n\u001b[1;32m    254\u001b[0m \u001b[39mwith\u001b[39;00m profilers[\u001b[39m0\u001b[39m]:\n\u001b[0;32m--> 255\u001b[0m     im \u001b[39m=\u001b[39m \u001b[39mself\u001b[39;49m\u001b[39m.\u001b[39;49mpreprocess(im0s)\n\u001b[1;32m    257\u001b[0m \u001b[39m# Inference\u001b[39;00m\n\u001b[1;32m    258\u001b[0m \u001b[39mwith\u001b[39;00m profilers[\u001b[39m1\u001b[39m]:\n",
      "File \u001b[0;32m~/Library/Python/3.9/lib/python/site-packages/ultralytics/engine/predictor.py:120\u001b[0m, in \u001b[0;36mBasePredictor.preprocess\u001b[0;34m(self, im)\u001b[0m\n\u001b[1;32m    118\u001b[0m not_tensor \u001b[39m=\u001b[39m \u001b[39mnot\u001b[39;00m \u001b[39misinstance\u001b[39m(im, torch\u001b[39m.\u001b[39mTensor)\n\u001b[1;32m    119\u001b[0m \u001b[39mif\u001b[39;00m not_tensor:\n\u001b[0;32m--> 120\u001b[0m     im \u001b[39m=\u001b[39m np\u001b[39m.\u001b[39mstack(\u001b[39mself\u001b[39;49m\u001b[39m.\u001b[39;49mpre_transform(im))\n\u001b[1;32m    121\u001b[0m     im \u001b[39m=\u001b[39m im[\u001b[39m.\u001b[39m\u001b[39m.\u001b[39m\u001b[39m.\u001b[39m, ::\u001b[39m-\u001b[39m\u001b[39m1\u001b[39m]\u001b[39m.\u001b[39mtranspose((\u001b[39m0\u001b[39m, \u001b[39m3\u001b[39m, \u001b[39m1\u001b[39m, \u001b[39m2\u001b[39m))  \u001b[39m# BGR to RGB, BHWC to BCHW, (n, 3, h, w)\u001b[39;00m\n\u001b[1;32m    122\u001b[0m     im \u001b[39m=\u001b[39m np\u001b[39m.\u001b[39mascontiguousarray(im)  \u001b[39m# contiguous\u001b[39;00m\n",
      "File \u001b[0;32m~/Library/Python/3.9/lib/python/site-packages/ultralytics/engine/predictor.py:149\u001b[0m, in \u001b[0;36mBasePredictor.pre_transform\u001b[0;34m(self, im)\u001b[0m\n\u001b[1;32m    147\u001b[0m same_shapes \u001b[39m=\u001b[39m \u001b[39mall\u001b[39m(x\u001b[39m.\u001b[39mshape \u001b[39m==\u001b[39m im[\u001b[39m0\u001b[39m]\u001b[39m.\u001b[39mshape \u001b[39mfor\u001b[39;00m x \u001b[39min\u001b[39;00m im)\n\u001b[1;32m    148\u001b[0m letterbox \u001b[39m=\u001b[39m LetterBox(\u001b[39mself\u001b[39m\u001b[39m.\u001b[39mimgsz, auto\u001b[39m=\u001b[39msame_shapes \u001b[39mand\u001b[39;00m \u001b[39mself\u001b[39m\u001b[39m.\u001b[39mmodel\u001b[39m.\u001b[39mpt, stride\u001b[39m=\u001b[39m\u001b[39mself\u001b[39m\u001b[39m.\u001b[39mmodel\u001b[39m.\u001b[39mstride)\n\u001b[0;32m--> 149\u001b[0m \u001b[39mreturn\u001b[39;00m [letterbox(image\u001b[39m=\u001b[39mx) \u001b[39mfor\u001b[39;00m x \u001b[39min\u001b[39;00m im]\n",
      "File \u001b[0;32m~/Library/Python/3.9/lib/python/site-packages/ultralytics/engine/predictor.py:149\u001b[0m, in \u001b[0;36m<listcomp>\u001b[0;34m(.0)\u001b[0m\n\u001b[1;32m    147\u001b[0m same_shapes \u001b[39m=\u001b[39m \u001b[39mall\u001b[39m(x\u001b[39m.\u001b[39mshape \u001b[39m==\u001b[39m im[\u001b[39m0\u001b[39m]\u001b[39m.\u001b[39mshape \u001b[39mfor\u001b[39;00m x \u001b[39min\u001b[39;00m im)\n\u001b[1;32m    148\u001b[0m letterbox \u001b[39m=\u001b[39m LetterBox(\u001b[39mself\u001b[39m\u001b[39m.\u001b[39mimgsz, auto\u001b[39m=\u001b[39msame_shapes \u001b[39mand\u001b[39;00m \u001b[39mself\u001b[39m\u001b[39m.\u001b[39mmodel\u001b[39m.\u001b[39mpt, stride\u001b[39m=\u001b[39m\u001b[39mself\u001b[39m\u001b[39m.\u001b[39mmodel\u001b[39m.\u001b[39mstride)\n\u001b[0;32m--> 149\u001b[0m \u001b[39mreturn\u001b[39;00m [letterbox(image\u001b[39m=\u001b[39;49mx) \u001b[39mfor\u001b[39;00m x \u001b[39min\u001b[39;00m im]\n",
      "File \u001b[0;32m~/Library/Python/3.9/lib/python/site-packages/ultralytics/data/augment.py:691\u001b[0m, in \u001b[0;36mLetterBox.__call__\u001b[0;34m(self, labels, image)\u001b[0m\n\u001b[1;32m    689\u001b[0m top, bottom \u001b[39m=\u001b[39m \u001b[39mint\u001b[39m(\u001b[39mround\u001b[39m(dh \u001b[39m-\u001b[39m \u001b[39m0.1\u001b[39m)) \u001b[39mif\u001b[39;00m \u001b[39mself\u001b[39m\u001b[39m.\u001b[39mcenter \u001b[39melse\u001b[39;00m \u001b[39m0\u001b[39m, \u001b[39mint\u001b[39m(\u001b[39mround\u001b[39m(dh \u001b[39m+\u001b[39m \u001b[39m0.1\u001b[39m))\n\u001b[1;32m    690\u001b[0m left, right \u001b[39m=\u001b[39m \u001b[39mint\u001b[39m(\u001b[39mround\u001b[39m(dw \u001b[39m-\u001b[39m \u001b[39m0.1\u001b[39m)) \u001b[39mif\u001b[39;00m \u001b[39mself\u001b[39m\u001b[39m.\u001b[39mcenter \u001b[39melse\u001b[39;00m \u001b[39m0\u001b[39m, \u001b[39mint\u001b[39m(\u001b[39mround\u001b[39m(dw \u001b[39m+\u001b[39m \u001b[39m0.1\u001b[39m))\n\u001b[0;32m--> 691\u001b[0m img \u001b[39m=\u001b[39m cv2\u001b[39m.\u001b[39;49mcopyMakeBorder(img, top, bottom, left, right, cv2\u001b[39m.\u001b[39;49mBORDER_CONSTANT,\n\u001b[1;32m    692\u001b[0m                          value\u001b[39m=\u001b[39;49m(\u001b[39m114\u001b[39;49m, \u001b[39m114\u001b[39;49m, \u001b[39m114\u001b[39;49m))  \u001b[39m# add border\u001b[39;00m\n\u001b[1;32m    693\u001b[0m \u001b[39mif\u001b[39;00m labels\u001b[39m.\u001b[39mget(\u001b[39m'\u001b[39m\u001b[39mratio_pad\u001b[39m\u001b[39m'\u001b[39m):\n\u001b[1;32m    694\u001b[0m     labels[\u001b[39m'\u001b[39m\u001b[39mratio_pad\u001b[39m\u001b[39m'\u001b[39m] \u001b[39m=\u001b[39m (labels[\u001b[39m'\u001b[39m\u001b[39mratio_pad\u001b[39m\u001b[39m'\u001b[39m], (left, top))  \u001b[39m# for evaluation\u001b[39;00m\n",
      "\u001b[0;31mKeyboardInterrupt\u001b[0m: "
     ]
    },
    {
     "ename": "",
     "evalue": "",
     "output_type": "error",
     "traceback": [
      "\u001b[1;31m현재 셀 또는 이전 셀에서 코드를 실행하는 동안 Kernel이 충돌했습니다. 셀의 코드를 검토하여 오류의 가능한 원인을 식별하세요. 자세한 내용을 보려면 <a href='https://aka.ms/vscodeJupyterKernelCrash'> 여기 </a> 를 클릭하세요. 자세한 내용은 Jupyter <a href='command:jupyter.viewOutput'>로그</a>를 참조하세요."
     ]
    }
   ],
   "source": [
    "from ultralytics import YOLO\n",
    "import cv2\n",
    "import math \n",
    "import time\n",
    "\n",
    "# start webcam\n",
    "cap = cv2.VideoCapture(0)\n",
    "cap.set(3, 640)\n",
    "cap.set(4, 480)\n",
    "\n",
    "# model\n",
    "model = YOLO(\"yolo-Weights/yolov8n.pt\")\n",
    "\n",
    "# object classes\n",
    "classNames = [\"person\", \"bicycle\", \"car\", \"motorbike\", \"aeroplane\", \"bus\", \"train\", \"truck\", \"boat\",\n",
    "              \"traffic light\", \"fire hydrant\", \"stop sign\", \"parking meter\", \"bench\", \"bird\", \"cat\",\n",
    "              \"dog\", \"horse\", \"sheep\", \"cow\", \"elephant\", \"bear\", \"zebra\", \"giraffe\", \"backpack\", \"umbrella\",\n",
    "              \"handbag\", \"tie\", \"suitcase\", \"frisbee\", \"skis\", \"snowboard\", \"sports ball\", \"kite\", \"baseball bat\",\n",
    "              \"baseball glove\", \"skateboard\", \"surfboard\", \"tennis racket\", \"bottle\", \"wine glass\", \"cup\",\n",
    "              \"fork\", \"knife\", \"spoon\", \"bowl\", \"banana\", \"apple\", \"sandwich\", \"orange\", \"broccoli\",\n",
    "              \"carrot\", \"hot dog\", \"pizza\", \"donut\", \"cake\", \"chair\", \"sofa\", \"pottedplant\", \"bed\",\n",
    "              \"diningtable\", \"toilet\", \"tvmonitor\", \"laptop\", \"mouse\", \"remote\", \"keyboard\", \"cell phone\",\n",
    "              \"microwave\", \"oven\", \"toaster\", \"sink\", \"refrigerator\", \"book\", \"clock\", \"vase\", \"scissors\",\n",
    "              \"teddy bear\", \"hair drier\", \"toothbrush\"\n",
    "              ]\n",
    "\n",
    "# person 클래스의 인덱스를 찾습니다.\n",
    "person_index = classNames.index('person')\n",
    "\n",
    "# 중심점의 히스토리를 저장할 리스트\n",
    "center_points_history = []\n",
    "\n",
    "while True:\n",
    "    success, img = cap.read()\n",
    "    results = model(img, stream=True)\n",
    "\n",
    "    # 현재 시간\n",
    "    current_time = time.time()\n",
    "\n",
    "    # coordinates\n",
    "    for r in results:\n",
    "        boxes = r.boxes\n",
    "\n",
    "        for box in boxes:\n",
    "            # class name\n",
    "            cls = int(box.cls[0])\n",
    "\n",
    "            if cls == person_index:  # person 클래스만 확인\n",
    "                # bounding box\n",
    "                x1, y1, x2, y2 = box.xyxy[0]\n",
    "                x1, y1, x2, y2 = int(x1), int(y1), int(x2), int(y2)\n",
    "\n",
    "                # 중심점 계산\n",
    "                center_x = int((x1 + x2) / 2)\n",
    "                center_y = int((y1 + y2) / 2)\n",
    "\n",
    "                # 중심점의 좌표와 현재 시간을 히스토리에 추가\n",
    "                center_points_history.append(((center_x, center_y), current_time))\n",
    "\n",
    "                # 바운딩 박스 그리기\n",
    "                cv2.rectangle(img, (x1, y1), (x2, y2), (255, 0, 255), 3)\n",
    "\n",
    "                # confidence\n",
    "                confidence = math.ceil((box.conf[0]*100))/100\n",
    "                print(\"Confidence --->\", confidence)\n",
    "\n",
    "                # object details\n",
    "                org = [x1, y1]\n",
    "                font = cv2.FONT_HERSHEY_SIMPLEX\n",
    "                fontScale = 1\n",
    "                color = (255, 0, 0)\n",
    "                thickness = 2\n",
    "\n",
    "                cv2.putText(img, str(classNames[cls]), org, font, fontScale, color, thickness)\n",
    "\n",
    "    # 0.3초 이전의 중심점들을 히스토리에서 제거\n",
    "    center_points_history = [(point, timestamp) for point, timestamp in center_points_history if current_time - timestamp <= 0.3]\n",
    "\n",
    "    # 중심점들을 이미지에 그리기\n",
    "    for idx, ((center_x, center_y), _) in enumerate(center_points_history):\n",
    "        # 가장 최근의 점만 붉은색으로 그리기\n",
    "        if idx == len(center_points_history) - 1:\n",
    "            cv2.circle(img, (center_x, center_y), 3, (0, 0, 255), -1)  # RGB로 (0, 0, 255)는 붉은색입니다.\n",
    "        else:\n",
    "            cv2.circle(img, (center_x, center_y), 3, (0, 255, 0), -1)\n",
    "\n",
    "    cv2.imshow('Webcam', img)\n",
    "    if cv2.waitKey(1) == ord('q'):\n",
    "        break\n",
    "\n",
    "cap.release()\n",
    "cv2.destroyAllWindows()\n"
   ]
  },
  {
   "cell_type": "code",
   "execution_count": null,
   "metadata": {},
   "outputs": [],
   "source": []
  }
 ],
 "metadata": {
  "kernelspec": {
   "display_name": "Python 3",
   "language": "python",
   "name": "python3"
  },
  "language_info": {
   "codemirror_mode": {
    "name": "ipython",
    "version": 3
   },
   "file_extension": ".py",
   "mimetype": "text/x-python",
   "name": "python",
   "nbconvert_exporter": "python",
   "pygments_lexer": "ipython3",
   "version": "3.9.6"
  }
 },
 "nbformat": 4,
 "nbformat_minor": 2
}
