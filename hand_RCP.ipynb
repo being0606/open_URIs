{
 "cells": [
  {
   "cell_type": "code",
   "execution_count": 1,
   "metadata": {},
   "outputs": [],
   "source": [
    "# !pip3 install open3d\n",
    "# !pip3 install mediapipe"
   ]
  },
  {
   "cell_type": "code",
   "execution_count": 1,
   "metadata": {},
   "outputs": [],
   "source": [
    "import cv2, os\n",
    "import math, random\n",
    "import argparse\n",
    "from utils_display import DisplayHand\n",
    "from utils_mediapipe import MediaPipeHand\n",
    "from utils_joint_angle import WristArmRom, GestureRecognition"
   ]
  },
  {
   "cell_type": "code",
   "execution_count": 3,
   "metadata": {},
   "outputs": [],
   "source": [
    "lxd = 1\n",
    "def camera_a():\n",
    "    global lxd\n",
    "    global camera\n",
    "    if lxd == 1:\n",
    "        camera = cv2.VideoCapture(0)\n",
    "        lxd = 2\n",
    "        return camera\n",
    "    else:\n",
    "        return camera\n",
    "\n",
    "def get_frame(camera):\n",
    "    ret, frame = camera.read()\n",
    "    #frame = frame[60:480,60:580]\n",
    "    return frame"
   ]
  },
  {
   "cell_type": "code",
   "execution_count": null,
   "metadata": {},
   "outputs": [],
   "source": [
    "pipe = MediaPipeHand(static_image_mode=False, max_num_hands=2)\n",
    "disp = DisplayHand(max_num_hands=2)\n",
    "\n",
    "\n",
    "gest = GestureRecognition(mode='eval')\n",
    "counter = 0\n",
    "while True:\n",
    "    img_NEW = get_frame(camera_a())\n",
    "    img = cv2.flip(img_NEW, 1)\n",
    "    img.flags.writeable = False\n",
    "    param = pipe.forward(img)\n",
    "    for p in param:\n",
    "        if p['class'] is not None:\n",
    "            p['gesture'] = gest.eval(p['angle'])\n",
    "    img.flags.writeable = True\n",
    "    img_NEW = disp.draw_game_rps(img.copy(), param)\n",
    "    cv2.imshow('Result', img_NEW)\n",
    "    key = cv2.waitKey(1)\n",
    "    if cv2.waitKey(1) == ord('q'):\n",
    "        cv2.destroyAllWindows()\n",
    "        break"
   ]
  },
  {
   "cell_type": "code",
   "execution_count": null,
   "metadata": {},
   "outputs": [],
   "source": []
  }
 ],
 "metadata": {
  "kernelspec": {
   "display_name": "Python 3",
   "language": "python",
   "name": "python3"
  },
  "language_info": {
   "codemirror_mode": {
    "name": "ipython",
    "version": 3
   },
   "file_extension": ".py",
   "mimetype": "text/x-python",
   "name": "python",
   "nbconvert_exporter": "python",
   "pygments_lexer": "ipython3",
   "version": "3.9.6"
  }
 },
 "nbformat": 4,
 "nbformat_minor": 2
}
