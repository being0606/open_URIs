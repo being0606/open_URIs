{
 "cells": [
  {
   "cell_type": "code",
   "execution_count": 2,
   "metadata": {},
   "outputs": [],
   "source": [
    "# !pip3 install open3d\n",
    "# !pip3 install mediapipe"
   ]
  },
  {
   "cell_type": "code",
   "execution_count": 3,
   "metadata": {},
   "outputs": [],
   "source": [
    "import cv2, os\n",
    "import math, random\n",
    "import argparse\n",
    "from utils_display import DisplayHand\n",
    "from utils_mediapipe import MediaPipeHand\n",
    "from utils_joint_angle import WristArmRom, GestureRecognition"
   ]
  },
  {
   "cell_type": "code",
   "execution_count": null,
   "metadata": {},
   "outputs": [],
   "source": [
    "lxd = 1\n",
    "def camera_a():\n",
    "    global lxd\n",
    "    global camera\n",
    "    if lxd == 1:\n",
    "        camera = cv2.VideoCapture(0)\n",
    "        lxd = 2\n",
    "        return camera\n",
    "    else:\n",
    "        return camera\n",
    "\n",
    "def get_frame(camera):\n",
    "    ret, frame = camera.read()\n",
    "    #frame = frame[60:480,60:580]\n",
    "    return frame"
   ]
  },
  {
   "cell_type": "code",
   "execution_count": null,
   "metadata": {},
   "outputs": [
    {
     "ename": "NameError",
     "evalue": "name 'MediaPipeHand' is not defined",
     "output_type": "error",
     "traceback": [
      "\u001b[0;31m---------------------------------------------------------------------------\u001b[0m",
      "\u001b[0;31mNameError\u001b[0m                                 Traceback (most recent call last)",
      "\u001b[1;32m/Users/being/Desktop/[github] workspace/open_URIs/hand_RCP.ipynb 셀 4\u001b[0m line \u001b[0;36m7\n\u001b[1;32m      <a href='vscode-notebook-cell:/Users/being/Desktop/%5Bgithub%5D%20workspace/open_URIs/hand_RCP.ipynb#W0sZmlsZQ%3D%3D?line=0'>1</a>\u001b[0m \u001b[39m# parser = argparse.ArgumentParser()\u001b[39;00m\n\u001b[1;32m      <a href='vscode-notebook-cell:/Users/being/Desktop/%5Bgithub%5D%20workspace/open_URIs/hand_RCP.ipynb#W0sZmlsZQ%3D%3D?line=1'>2</a>\u001b[0m \u001b[39m# parser.add_argument('-s', '--side', default='right')\u001b[39;00m\n\u001b[1;32m      <a href='vscode-notebook-cell:/Users/being/Desktop/%5Bgithub%5D%20workspace/open_URIs/hand_RCP.ipynb#W0sZmlsZQ%3D%3D?line=2'>3</a>\u001b[0m \u001b[39m# parser.add_argument('-m', '--mode', default=2, help='Select mode: 0: Wrist flex/ext, 1:Wrist radial/ulnar dev, 2:Forearm pronation/supination')\u001b[39;00m\n\u001b[1;32m      <a href='vscode-notebook-cell:/Users/being/Desktop/%5Bgithub%5D%20workspace/open_URIs/hand_RCP.ipynb#W0sZmlsZQ%3D%3D?line=3'>4</a>\u001b[0m \u001b[39m# args = parser.parse_args()\u001b[39;00m\n\u001b[1;32m      <a href='vscode-notebook-cell:/Users/being/Desktop/%5Bgithub%5D%20workspace/open_URIs/hand_RCP.ipynb#W0sZmlsZQ%3D%3D?line=4'>5</a>\u001b[0m \u001b[39m# mode = int(args.mode)\u001b[39;00m\n\u001b[1;32m      <a href='vscode-notebook-cell:/Users/being/Desktop/%5Bgithub%5D%20workspace/open_URIs/hand_RCP.ipynb#W0sZmlsZQ%3D%3D?line=5'>6</a>\u001b[0m \u001b[39m# side = args.side\u001b[39;00m\n\u001b[0;32m----> <a href='vscode-notebook-cell:/Users/being/Desktop/%5Bgithub%5D%20workspace/open_URIs/hand_RCP.ipynb#W0sZmlsZQ%3D%3D?line=6'>7</a>\u001b[0m pipe \u001b[39m=\u001b[39m MediaPipeHand(static_image_mode\u001b[39m=\u001b[39m\u001b[39mFalse\u001b[39;00m, max_num_hands\u001b[39m=\u001b[39m\u001b[39m2\u001b[39m)\n\u001b[1;32m      <a href='vscode-notebook-cell:/Users/being/Desktop/%5Bgithub%5D%20workspace/open_URIs/hand_RCP.ipynb#W0sZmlsZQ%3D%3D?line=7'>8</a>\u001b[0m disp \u001b[39m=\u001b[39m DisplayHand(max_num_hands\u001b[39m=\u001b[39m\u001b[39m2\u001b[39m)\n\u001b[1;32m      <a href='vscode-notebook-cell:/Users/being/Desktop/%5Bgithub%5D%20workspace/open_URIs/hand_RCP.ipynb#W0sZmlsZQ%3D%3D?line=8'>9</a>\u001b[0m \u001b[39m# rom = WristArmRom(mode, side)\u001b[39;00m\n",
      "\u001b[0;31mNameError\u001b[0m: name 'MediaPipeHand' is not defined"
     ]
    }
   ],
   "source": [
    "# parser = argparse.ArgumentParser()\n",
    "# parser.add_argument('-s', '--side', default='right')\n",
    "# parser.add_argument('-m', '--mode', default=2, help='Select mode: 0: Wrist flex/ext, 1:Wrist radial/ulnar dev, 2:Forearm pronation/supination')\n",
    "# args = parser.parse_args()\n",
    "# mode = int(args.mode)\n",
    "# side = args.side\n",
    "pipe = MediaPipeHand(static_image_mode=False, max_num_hands=2)\n",
    "disp = DisplayHand(max_num_hands=2)\n",
    "# rom = WristArmRom(mode, side)\n",
    "\n",
    "\n",
    "gest = GestureRecognition(mode='eval')\n",
    "counter = 0\n",
    "while True:\n",
    "    img_NEW = get_frame(camera_a())\n",
    "    img = cv2.flip(img_NEW, 1)\n",
    "    img.flags.writeable = False\n",
    "    param = pipe.forward(img)\n",
    "    for p in param:\n",
    "        if p['class'] is not None:\n",
    "            p['gesture'] = gest.eval(p['angle'])\n",
    "    img.flags.writeable = True\n",
    "    img_NEW = disp.draw_game_rps(img.copy(), param)\n",
    "    cv2.imshow('Result', img_NEW)\n",
    "    key = cv2.waitKey(1)\n",
    "    if cv2.waitKey(1) == ord('q'):\n",
    "        cv2.destroyAllWindows()\n",
    "        break"
   ]
  },
  {
   "cell_type": "code",
   "execution_count": null,
   "metadata": {},
   "outputs": [],
   "source": []
  }
 ],
 "metadata": {
  "kernelspec": {
   "display_name": "Python 3",
   "language": "python",
   "name": "python3"
  },
  "language_info": {
   "codemirror_mode": {
    "name": "ipython",
    "version": 3
   },
   "file_extension": ".py",
   "mimetype": "text/x-python",
   "name": "python",
   "nbconvert_exporter": "python",
   "pygments_lexer": "ipython3",
   "version": "3.9.6"
  }
 },
 "nbformat": 4,
 "nbformat_minor": 2
}
