{
 "cells": [
  {
   "cell_type": "code",
   "execution_count": 23,
   "metadata": {},
   "outputs": [
    {
     "name": "stdout",
     "output_type": "stream",
     "text": [
      "zsh:1: command not found: python\n",
      "Requirement already satisfied: jupyter in /opt/homebrew/lib/python3.10/site-packages (1.0.0)\n",
      "Requirement already satisfied: notebook in /opt/homebrew/lib/python3.10/site-packages (6.4.12)\n",
      "Requirement already satisfied: qtconsole in /opt/homebrew/lib/python3.10/site-packages (from jupyter) (5.4.4)\n",
      "Requirement already satisfied: jupyter-console in /opt/homebrew/lib/python3.10/site-packages (from jupyter) (6.6.3)\n",
      "Requirement already satisfied: nbconvert in /opt/homebrew/lib/python3.10/site-packages (from jupyter) (7.0.0)\n",
      "Requirement already satisfied: ipykernel in /opt/homebrew/lib/python3.10/site-packages (from jupyter) (6.15.1)\n",
      "Requirement already satisfied: ipywidgets in /opt/homebrew/lib/python3.10/site-packages (from jupyter) (8.0.6)\n",
      "Requirement already satisfied: jinja2 in /opt/homebrew/lib/python3.10/site-packages (from notebook) (3.1.2)\n",
      "Requirement already satisfied: tornado>=6.1 in /opt/homebrew/lib/python3.10/site-packages (from notebook) (6.2)\n",
      "Requirement already satisfied: pyzmq>=17 in /opt/homebrew/lib/python3.10/site-packages (from notebook) (23.2.1)\n",
      "Requirement already satisfied: argon2-cffi in /opt/homebrew/lib/python3.10/site-packages (from notebook) (21.3.0)\n",
      "Requirement already satisfied: traitlets>=4.2.1 in /opt/homebrew/lib/python3.10/site-packages (from notebook) (5.12.0)\n",
      "Requirement already satisfied: jupyter-core>=4.6.1 in /opt/homebrew/lib/python3.10/site-packages (from notebook) (5.4.0)\n",
      "Requirement already satisfied: jupyter-client>=5.3.4 in /opt/homebrew/lib/python3.10/site-packages (from notebook) (7.3.4)\n",
      "Requirement already satisfied: ipython-genutils in /opt/homebrew/lib/python3.10/site-packages (from notebook) (0.2.0)\n",
      "Requirement already satisfied: nbformat in /opt/homebrew/lib/python3.10/site-packages (from notebook) (5.6.0)\n",
      "Requirement already satisfied: nest-asyncio>=1.5 in /opt/homebrew/lib/python3.10/site-packages (from notebook) (1.5.5)\n",
      "Requirement already satisfied: Send2Trash>=1.8.0 in /opt/homebrew/lib/python3.10/site-packages (from notebook) (1.8.0)\n",
      "Requirement already satisfied: terminado>=0.8.3 in /opt/homebrew/lib/python3.10/site-packages (from notebook) (0.15.0)\n",
      "Requirement already satisfied: prometheus-client in /opt/homebrew/lib/python3.10/site-packages (from notebook) (0.14.1)\n",
      "Requirement already satisfied: entrypoints in /opt/homebrew/lib/python3.10/site-packages (from jupyter-client>=5.3.4->notebook) (0.4)\n",
      "Requirement already satisfied: python-dateutil>=2.8.2 in /opt/homebrew/lib/python3.10/site-packages (from jupyter-client>=5.3.4->notebook) (2.8.2)\n",
      "Requirement already satisfied: platformdirs>=2.5 in /opt/homebrew/lib/python3.10/site-packages (from jupyter-core>=4.6.1->notebook) (3.0.0)\n",
      "Requirement already satisfied: beautifulsoup4 in /opt/homebrew/lib/python3.10/site-packages (from nbconvert->jupyter) (4.11.1)\n",
      "Requirement already satisfied: bleach in /opt/homebrew/lib/python3.10/site-packages (from nbconvert->jupyter) (5.0.1)\n",
      "Requirement already satisfied: defusedxml in /opt/homebrew/lib/python3.10/site-packages (from nbconvert->jupyter) (0.7.1)\n",
      "Requirement already satisfied: jupyterlab-pygments in /opt/homebrew/lib/python3.10/site-packages (from nbconvert->jupyter) (0.2.2)\n",
      "Requirement already satisfied: lxml in /opt/homebrew/lib/python3.10/site-packages (from nbconvert->jupyter) (4.9.1)\n",
      "Requirement already satisfied: markupsafe>=2.0 in /opt/homebrew/lib/python3.10/site-packages (from nbconvert->jupyter) (2.1.3)\n",
      "Requirement already satisfied: mistune<3,>=2.0.3 in /opt/homebrew/lib/python3.10/site-packages (from nbconvert->jupyter) (2.0.4)\n",
      "Requirement already satisfied: nbclient>=0.5.0 in /opt/homebrew/lib/python3.10/site-packages (from nbconvert->jupyter) (0.6.8)\n",
      "Requirement already satisfied: packaging in /opt/homebrew/lib/python3.10/site-packages (from nbconvert->jupyter) (21.3)\n",
      "Requirement already satisfied: pandocfilters>=1.4.1 in /opt/homebrew/lib/python3.10/site-packages (from nbconvert->jupyter) (1.5.0)\n",
      "Requirement already satisfied: pygments>=2.4.1 in /opt/homebrew/lib/python3.10/site-packages (from nbconvert->jupyter) (2.13.0)\n",
      "Requirement already satisfied: tinycss2 in /opt/homebrew/lib/python3.10/site-packages (from nbconvert->jupyter) (1.1.1)\n",
      "Requirement already satisfied: fastjsonschema in /opt/homebrew/lib/python3.10/site-packages (from nbformat->notebook) (2.16.2)\n",
      "Requirement already satisfied: jsonschema>=2.6 in /opt/homebrew/lib/python3.10/site-packages (from nbformat->notebook) (4.16.0)\n",
      "Requirement already satisfied: ptyprocess in /opt/homebrew/lib/python3.10/site-packages (from terminado>=0.8.3->notebook) (0.7.0)\n",
      "Requirement already satisfied: argon2-cffi-bindings in /opt/homebrew/lib/python3.10/site-packages (from argon2-cffi->notebook) (21.2.0)\n",
      "Requirement already satisfied: appnope in /opt/homebrew/lib/python3.10/site-packages (from ipykernel->jupyter) (0.1.3)\n",
      "Requirement already satisfied: debugpy>=1.0 in /opt/homebrew/lib/python3.10/site-packages (from ipykernel->jupyter) (1.6.3)\n",
      "Requirement already satisfied: ipython>=7.23.1 in /opt/homebrew/lib/python3.10/site-packages (from ipykernel->jupyter) (8.4.0)\n",
      "Requirement already satisfied: matplotlib-inline>=0.1 in /opt/homebrew/lib/python3.10/site-packages (from ipykernel->jupyter) (0.1.6)\n",
      "Requirement already satisfied: psutil in /opt/homebrew/lib/python3.10/site-packages (from ipykernel->jupyter) (5.9.6)\n",
      "Requirement already satisfied: widgetsnbextension~=4.0.7 in /opt/homebrew/lib/python3.10/site-packages (from ipywidgets->jupyter) (4.0.7)\n",
      "Requirement already satisfied: jupyterlab-widgets~=3.0.7 in /opt/homebrew/lib/python3.10/site-packages (from ipywidgets->jupyter) (3.0.7)\n",
      "Requirement already satisfied: prompt-toolkit>=3.0.30 in /opt/homebrew/lib/python3.10/site-packages (from jupyter-console->jupyter) (3.0.30)\n",
      "Requirement already satisfied: qtpy>=2.4.0 in /opt/homebrew/lib/python3.10/site-packages (from qtconsole->jupyter) (2.4.1)\n",
      "Requirement already satisfied: backcall in /opt/homebrew/lib/python3.10/site-packages (from ipython>=7.23.1->ipykernel->jupyter) (0.2.0)\n",
      "Requirement already satisfied: decorator in /opt/homebrew/lib/python3.10/site-packages (from ipython>=7.23.1->ipykernel->jupyter) (5.1.1)\n",
      "Requirement already satisfied: jedi>=0.16 in /opt/homebrew/lib/python3.10/site-packages (from ipython>=7.23.1->ipykernel->jupyter) (0.18.1)\n",
      "Requirement already satisfied: pickleshare in /opt/homebrew/lib/python3.10/site-packages (from ipython>=7.23.1->ipykernel->jupyter) (0.7.5)\n",
      "Requirement already satisfied: setuptools>=18.5 in /opt/homebrew/lib/python3.10/site-packages (from ipython>=7.23.1->ipykernel->jupyter) (68.2.2)\n",
      "Requirement already satisfied: stack-data in /opt/homebrew/lib/python3.10/site-packages (from ipython>=7.23.1->ipykernel->jupyter) (0.4.0)\n",
      "Requirement already satisfied: pexpect>4.3 in /opt/homebrew/lib/python3.10/site-packages (from ipython>=7.23.1->ipykernel->jupyter) (4.8.0)\n",
      "Requirement already satisfied: attrs>=17.4.0 in /opt/homebrew/lib/python3.10/site-packages (from jsonschema>=2.6->nbformat->notebook) (22.1.0)\n",
      "Requirement already satisfied: pyrsistent!=0.17.0,!=0.17.1,!=0.17.2,>=0.14.0 in /opt/homebrew/lib/python3.10/site-packages (from jsonschema>=2.6->nbformat->notebook) (0.18.1)\n",
      "Requirement already satisfied: wcwidth in /opt/homebrew/lib/python3.10/site-packages (from prompt-toolkit>=3.0.30->jupyter-console->jupyter) (0.2.5)\n",
      "Requirement already satisfied: six>=1.5 in /opt/homebrew/lib/python3.10/site-packages (from python-dateutil>=2.8.2->jupyter-client>=5.3.4->notebook) (1.16.0)\n",
      "Requirement already satisfied: cffi>=1.0.1 in /opt/homebrew/lib/python3.10/site-packages (from argon2-cffi-bindings->argon2-cffi->notebook) (1.15.1)\n",
      "Requirement already satisfied: soupsieve>1.2 in /opt/homebrew/lib/python3.10/site-packages (from beautifulsoup4->nbconvert->jupyter) (2.3.2.post1)\n",
      "Requirement already satisfied: webencodings in /opt/homebrew/lib/python3.10/site-packages (from bleach->nbconvert->jupyter) (0.5.1)\n",
      "Requirement already satisfied: pyparsing!=3.0.5,>=2.0.2 in /opt/homebrew/lib/python3.10/site-packages (from packaging->nbconvert->jupyter) (3.0.9)\n",
      "Requirement already satisfied: pycparser in /opt/homebrew/lib/python3.10/site-packages (from cffi>=1.0.1->argon2-cffi-bindings->argon2-cffi->notebook) (2.21)\n",
      "Requirement already satisfied: parso<0.9.0,>=0.8.0 in /opt/homebrew/lib/python3.10/site-packages (from jedi>=0.16->ipython>=7.23.1->ipykernel->jupyter) (0.8.3)\n",
      "Requirement already satisfied: executing in /opt/homebrew/lib/python3.10/site-packages (from stack-data->ipython>=7.23.1->ipykernel->jupyter) (0.10.0)\n",
      "Requirement already satisfied: asttokens in /opt/homebrew/lib/python3.10/site-packages (from stack-data->ipython>=7.23.1->ipykernel->jupyter) (2.0.8)\n",
      "Requirement already satisfied: pure-eval in /opt/homebrew/lib/python3.10/site-packages (from stack-data->ipython>=7.23.1->ipykernel->jupyter) (0.2.2)\n",
      "zsh:1: command not found: python\n",
      "Collecting opencv-python==4.6.0.66\n",
      "  Downloading opencv_python-4.6.0.66-cp37-abi3-macosx_11_0_arm64.whl (30.0 MB)\n",
      "\u001b[2K     \u001b[90m━━━━━━━━━━━━━━━━━━━━━━━━━━━━━━━━━━━━━━━\u001b[0m \u001b[32m30.0/30.0 MB\u001b[0m \u001b[31m635.1 kB/s\u001b[0m eta \u001b[36m0:00:00\u001b[0m00:01\u001b[0m00:02\u001b[0m\n",
      "\u001b[?25hRequirement already satisfied: numpy>=1.21.2 in /opt/homebrew/lib/python3.10/site-packages (from opencv-python==4.6.0.66) (1.26.1)\n",
      "Installing collected packages: opencv-python\n",
      "  Attempting uninstall: opencv-python\n",
      "    Found existing installation: opencv-python 4.8.1.78\n",
      "    Uninstalling opencv-python-4.8.1.78:\n",
      "      Successfully uninstalled opencv-python-4.8.1.78\n",
      "Successfully installed opencv-python-4.6.0.66\n",
      "Collecting opencv-contrib-python==4.6.0.66\n",
      "  Downloading opencv_contrib_python-4.6.0.66-cp37-abi3-macosx_11_0_arm64.whl (38.9 MB)\n",
      "\u001b[2K     \u001b[90m━━━━━━━━━━━━━━━━━━━━━━━━━━━━━━━━━━━━━━━\u001b[0m \u001b[32m38.9/38.9 MB\u001b[0m \u001b[31m856.3 kB/s\u001b[0m eta \u001b[36m0:00:00\u001b[0m00:01\u001b[0m00:02\u001b[0m\n",
      "\u001b[?25hRequirement already satisfied: numpy>=1.21.2 in /opt/homebrew/lib/python3.10/site-packages (from opencv-contrib-python==4.6.0.66) (1.26.1)\n",
      "Installing collected packages: opencv-contrib-python\n",
      "Successfully installed opencv-contrib-python-4.6.0.66\n"
     ]
    }
   ],
   "source": [
    "!python -m pip install --upgrade pip\n",
    "!pip install jupyter notebook\n",
    "!python -m ipykernel install --user --name yolov8\n",
    "!pip install opencv-python==4.6.0.66\n",
    "!pip install opencv-contrib-python==4.6.0.66\n"
   ]
  },
  {
   "cell_type": "code",
   "execution_count": null,
   "metadata": {},
   "outputs": [],
   "source": [
    "import datetime\n",
    "import cv2\n",
    "from ultralytics import YOLO"
   ]
  },
  {
   "cell_type": "code",
   "execution_count": null,
   "metadata": {},
   "outputs": [],
   "source": [
    "CONFIDENCE_THRESHOLD = 0.6\n",
    "GREEN = (0, 255, 0)\n",
    "WHITE = (255, 255, 255)"
   ]
  },
  {
   "cell_type": "code",
   "execution_count": null,
   "metadata": {},
   "outputs": [],
   "source": [
    "coco128 = open('./yolov8_pretrained/coco128.txt', 'r')\n",
    "data = coco128.read()\n",
    "class_list = data.split('\\n')\n",
    "coco128.close()"
   ]
  },
  {
   "cell_type": "code",
   "execution_count": null,
   "metadata": {},
   "outputs": [],
   "source": [
    "model = YOLO('./yolov8_pretrained/yolov8n.pt')"
   ]
  }
 ],
 "metadata": {
  "kernelspec": {
   "display_name": "Python 3",
   "language": "python",
   "name": "python3"
  },
  "language_info": {
   "codemirror_mode": {
    "name": "ipython",
    "version": 3
   },
   "file_extension": ".py",
   "mimetype": "text/x-python",
   "name": "python",
   "nbconvert_exporter": "python",
   "pygments_lexer": "ipython3",
   "version": "3.9.6"
  },
  "orig_nbformat": 4
 },
 "nbformat": 4,
 "nbformat_minor": 2
}
